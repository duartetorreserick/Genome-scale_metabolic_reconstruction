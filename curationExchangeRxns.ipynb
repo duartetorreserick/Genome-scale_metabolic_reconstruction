{
 "cells": [
  {
   "cell_type": "code",
   "execution_count": 1,
   "id": "e7e9bf81",
   "metadata": {},
   "outputs": [],
   "source": [
    "import cobra\n",
    "from cobra.io import load_model\n",
    "from pathlib import Path\n",
    "from cobra.io import load_json_model, save_json_model, load_matlab_model, save_matlab_model, read_sbml_model, write_sbml_model\n",
    "import logging\n",
    "import pandas as pd\n",
    "from cobra import Model, Reaction, Metabolite\n",
    "from cobra.io import write_sbml_model, validate_sbml_model"
   ]
  },
  {
   "cell_type": "code",
   "execution_count": 2,
   "id": "8ec6d6ec",
   "metadata": {},
   "outputs": [
    {
     "name": "stdout",
     "output_type": "stream",
     "text": [
      "C:\\Users\\duart\\OneDrive\\Documentos\\UNIANDES\\PHASEOLUS LUNATUS\\MODELS\\OTHER_SPECIES\\Phaseolus vulgaris\n"
     ]
    },
    {
     "name": "stderr",
     "output_type": "stream",
     "text": [
      "No objective in listOfObjectives\n",
      "No objective coefficients in model. Unclear what should be optimized\n"
     ]
    }
   ],
   "source": [
    "%cd C:\\Users\\duart\\OneDrive\\Documentos\\UNIANDES\\PHASEOLUS LUNATUS\\MODELS\\OTHER_SPECIES\\Phaseolus vulgaris\n",
    "pvulModel=read_sbml_model('pvulModel_CheckError.xml')"
   ]
  },
  {
   "cell_type": "code",
   "execution_count": 3,
   "id": "670a8b7c",
   "metadata": {},
   "outputs": [],
   "source": [
    "submodel=Model()\n",
    "submodel.add_reaction(pvulModel.reactions.get_by_id('RXN-16463'))"
   ]
  },
  {
   "cell_type": "markdown",
   "id": "24b5e2e3",
   "metadata": {},
   "source": [
    "# SE CREA UN SUBMODELO DE PRUEBA"
   ]
  },
  {
   "cell_type": "code",
   "execution_count": 4,
   "id": "90aca2af",
   "metadata": {},
   "outputs": [
    {
     "ename": "IndentationError",
     "evalue": "expected an indented block (598450908.py, line 3)",
     "output_type": "error",
     "traceback": [
      "\u001b[1;36m  File \u001b[1;32m\"C:\\Users\\duart\\AppData\\Local\\Temp\\ipykernel_5128\\598450908.py\"\u001b[1;36m, line \u001b[1;32m3\u001b[0m\n\u001b[1;33m    #submodel.add_boundary(submodel.metabolites.get_by_id(i.id), type=\"sink\")\u001b[0m\n\u001b[1;37m                                                                             ^\u001b[0m\n\u001b[1;31mIndentationError\u001b[0m\u001b[1;31m:\u001b[0m expected an indented block\n"
     ]
    }
   ],
   "source": [
    "for i in submodel.metabolites:\n",
    "    #submodel.add_boundary(submodel.metabolites.get_by_id(i.id), type=\"demand\")\n",
    "    #submodel.add_boundary(submodel.metabolites.get_by_id(i.id), type=\"sink\")\n"
   ]
  },
  {
   "cell_type": "code",
   "execution_count": 5,
   "id": "ea0e68ff",
   "metadata": {},
   "outputs": [
    {
     "data": {
      "text/plain": [
       "[<Reaction RXN-16463 at 0x1f7a483c070>]"
      ]
     },
     "execution_count": 5,
     "metadata": {},
     "output_type": "execute_result"
    }
   ],
   "source": [
    "submodel.reactions"
   ]
  },
  {
   "cell_type": "code",
   "execution_count": 6,
   "id": "8e7f792c",
   "metadata": {},
   "outputs": [
    {
     "data": {
      "text/plain": [
       "[<Metabolite ACP[c] at 0x1f7a3dc4610>,\n",
       " <Metabolite ATP[c] at 0x1f7a3dc4220>,\n",
       " <Metabolite CPD-17686[c] at 0x1f7a3ef49d0>,\n",
       " <Metabolite _5-hexenoyl-ACPs[c] at 0x1f7a3d9ef10>,\n",
       " <Metabolite AMP[c] at 0x1f7a3dc4e80>,\n",
       " <Metabolite PPI[c] at 0x1f7a41ac490>]"
      ]
     },
     "execution_count": 6,
     "metadata": {},
     "output_type": "execute_result"
    }
   ],
   "source": [
    "submodel.metabolites"
   ]
  },
  {
   "cell_type": "markdown",
   "id": "c470d0e0",
   "metadata": {},
   "source": [
    "## SE REVISA QUE ESTE BLOQUEADA LA RXN\n"
   ]
  },
  {
   "cell_type": "code",
   "execution_count": 7,
   "id": "02254a25",
   "metadata": {},
   "outputs": [
    {
     "data": {
      "text/plain": [
       "['RXN-16463']"
      ]
     },
     "execution_count": 7,
     "metadata": {},
     "output_type": "execute_result"
    }
   ],
   "source": [
    "blockedrxns=cobra.flux_analysis.find_blocked_reactions(submodel)\n",
    "blockedrxns"
   ]
  },
  {
   "cell_type": "markdown",
   "id": "929732a0",
   "metadata": {},
   "source": [
    "## SE AGREGAN METABOLITOS EXTRACELULARES"
   ]
  },
  {
   "cell_type": "code",
   "execution_count": 8,
   "id": "840ee0cd",
   "metadata": {},
   "outputs": [],
   "source": [
    "#def compartment_metabolite(modelo):\n",
    "mets=list(submodel.metabolites)\n",
    "for i in mets:\n",
    "    met=submodel.metabolites.get_by_id(i.id)\n",
    "    dup=met.copy()\n",
    "    dup.id=dup.id.replace('[c]',\"[e]\")\n",
    "    dup.compartment='e'\n",
    "    submodel.add_metabolites([dup])\n",
    "        "
   ]
  },
  {
   "cell_type": "code",
   "execution_count": 9,
   "id": "4d377fd5",
   "metadata": {},
   "outputs": [
    {
     "data": {
      "text/plain": [
       "[<Metabolite ACP[c] at 0x1f7a3dc4610>,\n",
       " <Metabolite ATP[c] at 0x1f7a3dc4220>,\n",
       " <Metabolite CPD-17686[c] at 0x1f7a3ef49d0>,\n",
       " <Metabolite _5-hexenoyl-ACPs[c] at 0x1f7a3d9ef10>,\n",
       " <Metabolite AMP[c] at 0x1f7a3dc4e80>,\n",
       " <Metabolite PPI[c] at 0x1f7a41ac490>,\n",
       " <Metabolite ACP[e] at 0x1f7a4865190>,\n",
       " <Metabolite ATP[e] at 0x1f7a4856b20>,\n",
       " <Metabolite CPD-17686[e] at 0x1f7a48652b0>,\n",
       " <Metabolite _5-hexenoyl-ACPs[e] at 0x1f78a6c7ca0>,\n",
       " <Metabolite AMP[e] at 0x1f7a485eb80>,\n",
       " <Metabolite PPI[e] at 0x1f7a485e490>]"
      ]
     },
     "execution_count": 9,
     "metadata": {},
     "output_type": "execute_result"
    }
   ],
   "source": [
    "submodel.metabolites"
   ]
  },
  {
   "cell_type": "markdown",
   "id": "4689fd64",
   "metadata": {},
   "source": [
    "## SE AGREGAN RXN EXCHANGE PARA LOS e METS"
   ]
  },
  {
   "cell_type": "code",
   "execution_count": 10,
   "id": "f60ae2d6",
   "metadata": {},
   "outputs": [],
   "source": [
    "for i in submodel.metabolites:\n",
    "    if i.compartment == 'e':\n",
    "        submodel.add_boundary(i, type=\"exchange\")"
   ]
  },
  {
   "cell_type": "code",
   "execution_count": 11,
   "id": "70f04a7e",
   "metadata": {},
   "outputs": [
    {
     "data": {
      "text/plain": [
       "['RXN-16463',\n",
       " 'EX_ACP[e]',\n",
       " 'EX_ATP[e]',\n",
       " 'EX_CPD-17686[e]',\n",
       " 'EX__5-hexenoyl-ACPs[e]',\n",
       " 'EX_AMP[e]',\n",
       " 'EX_PPI[e]']"
      ]
     },
     "execution_count": 11,
     "metadata": {},
     "output_type": "execute_result"
    }
   ],
   "source": [
    "blockedrxns=cobra.flux_analysis.find_blocked_reactions(submodel)\n",
    "blockedrxns"
   ]
  },
  {
   "cell_type": "code",
   "execution_count": 56,
   "id": "4e2ecc7d",
   "metadata": {},
   "outputs": [
    {
     "data": {
      "text/plain": [
       "[<Metabolite ACP[e] at 0x2bf69078640>]"
      ]
     },
     "execution_count": 56,
     "metadata": {},
     "output_type": "execute_result"
    }
   ],
   "source": [
    "#r=list(submodel.reactions.get_by_id('EX_ACP[e]').metabolites)\n",
    "#r"
   ]
  },
  {
   "cell_type": "markdown",
   "id": "cfc0c358",
   "metadata": {},
   "source": [
    "## SE CREAN LAS RXNS DE TRANSPORTE"
   ]
  },
  {
   "cell_type": "code",
   "execution_count": 12,
   "id": "865f6f0b",
   "metadata": {},
   "outputs": [],
   "source": [
    "def create_transportrxns(rxnEx):\n",
    "    transport_rxn = Reaction(\"Trans_\"+rxnEx.id)\n",
    "    transport_rxn.name = \"Transporte\"+rxnEx.name\n",
    "    met=list(rxnEx.metabolites)\n",
    "    transport_rxn.add_metabolites({\n",
    "        submodel.metabolites.get_by_id(met[0].id): -1,  # glucose (extracellular) on the left side of the reaction\n",
    "        submodel.metabolites.get_by_id(met[0].id[:-3]+\"[c]\"): 1    # glucose (cytoplasmic) on the right side of the reaction\n",
    "    })\n",
    "\n",
    "    # Set the lower and upper bounds of the transport reaction\n",
    "    transport_rxn.lower_bound = -1000\n",
    "    transport_rxn.upper_bound = 1000\n",
    "\n",
    "    # Add the transport reaction to the model\n",
    "    reactionstoAdd.append(transport_rxn)"
   ]
  },
  {
   "cell_type": "code",
   "execution_count": 13,
   "id": "b6cf88ac",
   "metadata": {},
   "outputs": [
    {
     "name": "stdout",
     "output_type": "stream",
     "text": [
      "EX_ACP[e]: ACP[e] <=> \n",
      "EX_ATP[e]: ATP[e] <=> \n",
      "EX_CPD-17686[e]: CPD-17686[e] <=> \n",
      "EX__5-hexenoyl-ACPs[e]: _5-hexenoyl-ACPs[e] <=> \n",
      "EX_AMP[e]: AMP[e] <=> \n",
      "EX_PPI[e]: PPI[e] <=> \n"
     ]
    }
   ],
   "source": [
    "reactionstoAdd=[]\n",
    "for i in submodel.reactions:\n",
    "    if i.id[-3:]=='[e]':\n",
    "        print(i)\n",
    "        reaction=create_transportrxns(i)\n",
    "        \n",
    "        \n",
    "        \n",
    "        "
   ]
  },
  {
   "cell_type": "markdown",
   "id": "170b2469",
   "metadata": {},
   "source": [
    "## SE AGREGAN LA RXNS DE TRANSPORTE AL SUBMODEL\n"
   ]
  },
  {
   "cell_type": "code",
   "execution_count": 14,
   "id": "b2b91938",
   "metadata": {},
   "outputs": [],
   "source": [
    "submodel.add_reactions(reactionstoAdd)"
   ]
  },
  {
   "cell_type": "code",
   "execution_count": 15,
   "id": "5c27a5b2",
   "metadata": {},
   "outputs": [
    {
     "data": {
      "text/html": [
       "\n",
       "        <table>\n",
       "            <tr>\n",
       "                <td><strong>Reaction identifier</strong></td><td>Trans_EX_ACP[e]</td>\n",
       "            </tr><tr>\n",
       "                <td><strong>Name</strong></td><td>Transportea soluble [acyl-carrier protein] exchange</td>\n",
       "            </tr><tr>\n",
       "                <td><strong>Memory address</strong></td>\n",
       "                <td>0x1f7a48c0d90</td>\n",
       "            </tr><tr>\n",
       "                <td><strong>Stoichiometry</strong></td>\n",
       "                <td>\n",
       "                    <p style='text-align:right'>ACP[e] <=> ACP[c]</p>\n",
       "                    <p style='text-align:right'>a soluble [acyl-carrier protein] <=> a soluble [acyl-carrier protein]</p>\n",
       "                </td>\n",
       "            </tr><tr>\n",
       "                <td><strong>GPR</strong></td><td></td>\n",
       "            </tr><tr>\n",
       "                <td><strong>Lower bound</strong></td><td>-1000</td>\n",
       "            </tr><tr>\n",
       "                <td><strong>Upper bound</strong></td><td>1000</td>\n",
       "            </tr>\n",
       "        </table>\n",
       "        "
      ],
      "text/plain": [
       "<Reaction Trans_EX_ACP[e] at 0x1f7a48c0d90>"
      ]
     },
     "execution_count": 15,
     "metadata": {},
     "output_type": "execute_result"
    }
   ],
   "source": [
    "trans=submodel.reactions.get_by_id('Trans_EX_ACP[e]')\n",
    "trans"
   ]
  },
  {
   "cell_type": "code",
   "execution_count": 16,
   "id": "0ff505da",
   "metadata": {},
   "outputs": [
    {
     "name": "stdout",
     "output_type": "stream",
     "text": [
      "RXN-16463: ACP[c] + ATP[c] + CPD-17686[c] <=> AMP[c] + PPI[c] + _5-hexenoyl-ACPs[c]\n",
      "EX_ACP[e]: ACP[e] <=> \n",
      "EX_ATP[e]: ATP[e] <=> \n",
      "EX_CPD-17686[e]: CPD-17686[e] <=> \n",
      "EX__5-hexenoyl-ACPs[e]: _5-hexenoyl-ACPs[e] <=> \n",
      "EX_AMP[e]: AMP[e] <=> \n",
      "EX_PPI[e]: PPI[e] <=> \n",
      "Trans_EX_ACP[e]: ACP[e] <=> ACP[c]\n",
      "Trans_EX_ATP[e]: ATP[e] <=> ATP[c]\n",
      "Trans_EX_CPD-17686[e]: CPD-17686[e] <=> CPD-17686[c]\n",
      "Trans_EX__5-hexenoyl-ACPs[e]: _5-hexenoyl-ACPs[e] <=> _5-hexenoyl-ACPs[c]\n",
      "Trans_EX_AMP[e]: AMP[e] <=> AMP[c]\n",
      "Trans_EX_PPI[e]: PPI[e] <=> PPI[c]\n"
     ]
    }
   ],
   "source": [
    "for i in submodel.reactions:\n",
    "    print(i)"
   ]
  },
  {
   "cell_type": "code",
   "execution_count": 17,
   "id": "c0162cb6",
   "metadata": {},
   "outputs": [
    {
     "data": {
      "text/html": [
       "<h3>Objective</h3><p>1.0 RXN-16463 = 1000.0</p><h4>Uptake</h4><table border=\"1\" class=\"dataframe\">\n",
       "  <thead>\n",
       "    <tr style=\"text-align: right;\">\n",
       "      <th>Metabolite</th>\n",
       "      <th>Reaction</th>\n",
       "      <th>Flux</th>\n",
       "      <th>C-Number</th>\n",
       "      <th>C-Flux</th>\n",
       "    </tr>\n",
       "  </thead>\n",
       "  <tbody>\n",
       "    <tr>\n",
       "      <td>ACP[e]</td>\n",
       "      <td>EX_ACP[e]</td>\n",
       "      <td>1000</td>\n",
       "      <td>0</td>\n",
       "      <td>0.00%</td>\n",
       "    </tr>\n",
       "    <tr>\n",
       "      <td>ATP[e]</td>\n",
       "      <td>EX_ATP[e]</td>\n",
       "      <td>1000</td>\n",
       "      <td>10</td>\n",
       "      <td>62.50%</td>\n",
       "    </tr>\n",
       "    <tr>\n",
       "      <td>CPD-17686[e]</td>\n",
       "      <td>EX_CPD-17686[e]</td>\n",
       "      <td>1000</td>\n",
       "      <td>6</td>\n",
       "      <td>37.50%</td>\n",
       "    </tr>\n",
       "  </tbody>\n",
       "</table><h4>Secretion</h4><table border=\"1\" class=\"dataframe\">\n",
       "  <thead>\n",
       "    <tr style=\"text-align: right;\">\n",
       "      <th>Metabolite</th>\n",
       "      <th>Reaction</th>\n",
       "      <th>Flux</th>\n",
       "      <th>C-Number</th>\n",
       "      <th>C-Flux</th>\n",
       "    </tr>\n",
       "  </thead>\n",
       "  <tbody>\n",
       "    <tr>\n",
       "      <td>AMP[e]</td>\n",
       "      <td>EX_AMP[e]</td>\n",
       "      <td>-1000</td>\n",
       "      <td>10</td>\n",
       "      <td>62.50%</td>\n",
       "    </tr>\n",
       "    <tr>\n",
       "      <td>PPI[e]</td>\n",
       "      <td>EX_PPI[e]</td>\n",
       "      <td>-1000</td>\n",
       "      <td>0</td>\n",
       "      <td>0.00%</td>\n",
       "    </tr>\n",
       "    <tr>\n",
       "      <td>_5-hexenoyl-ACPs[e]</td>\n",
       "      <td>EX__5-hexenoyl-ACPs[e]</td>\n",
       "      <td>-1000</td>\n",
       "      <td>6</td>\n",
       "      <td>37.50%</td>\n",
       "    </tr>\n",
       "  </tbody>\n",
       "</table>"
      ],
      "text/plain": [
       "<cobra.summary.model_summary.ModelSummary at 0x1f7a486bee0>"
      ]
     },
     "execution_count": 17,
     "metadata": {},
     "output_type": "execute_result"
    }
   ],
   "source": [
    "submodel.objective=\"RXN-16463\"\n",
    "sol=submodel.optimize().objective_value\n",
    "submodel.summary()"
   ]
  },
  {
   "cell_type": "code",
   "execution_count": 117,
   "id": "1ae49900",
   "metadata": {},
   "outputs": [
    {
     "name": "stdout",
     "output_type": "stream",
     "text": [
      "<bound method Model.summary of <Model None at 0x2bf6a865fa0>>\n"
     ]
    }
   ],
   "source": []
  },
  {
   "cell_type": "code",
   "execution_count": null,
   "id": "7bdab102",
   "metadata": {},
   "outputs": [],
   "source": []
  },
  {
   "cell_type": "code",
   "execution_count": null,
   "id": "cb627f2d",
   "metadata": {},
   "outputs": [],
   "source": []
  },
  {
   "cell_type": "code",
   "execution_count": null,
   "id": "aab6f441",
   "metadata": {},
   "outputs": [],
   "source": []
  }
 ],
 "metadata": {
  "kernelspec": {
   "display_name": "Python 3 (ipykernel)",
   "language": "python",
   "name": "python3"
  },
  "language_info": {
   "codemirror_mode": {
    "name": "ipython",
    "version": 3
   },
   "file_extension": ".py",
   "mimetype": "text/x-python",
   "name": "python",
   "nbconvert_exporter": "python",
   "pygments_lexer": "ipython3",
   "version": "3.9.16"
  }
 },
 "nbformat": 4,
 "nbformat_minor": 5
}
