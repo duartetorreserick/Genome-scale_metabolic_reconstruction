{
 "cells": [
  {
   "cell_type": "code",
   "execution_count": 6,
   "id": "ec5b4184",
   "metadata": {},
   "outputs": [],
   "source": [
    "with open(r\"C:\\Users\\duart\\OneDrive\\Documentos\\UNIANDES\\PHASEOLUS LUNATUS\\MODELS\\OTHER_SPECIES\\Phaseolus vulgaris\\Model_Pvulgaris.sbml\") as M:\n",
    "    sbml = M.readlines()"
   ]
  },
  {
   "cell_type": "code",
   "execution_count": 3,
   "id": "da445c73",
   "metadata": {},
   "outputs": [
    {
     "name": "stdout",
     "output_type": "stream",
     "text": [
      " El volumen de la unidad C no tiene etiqueta.\n",
      " El n£mero de serie del volumen es: 5CDF-4E22\n",
      "\n",
      " Directorio de C:\\Users\\duart\\OneDrive\\Documentos\\UNIANDES\\PHASEOLUS LUNATUS\\MODELS\\PATHWAY TOOLS\\phaseolusVulgaris\n",
      "\n",
      "03/02/2023  05:33 p.ÿm.    <DIR>          .\n",
      "03/02/2023  05:33 p.ÿm.    <DIR>          ..\n",
      "03/02/2023  05:27 p.ÿm.    <DIR>          .ipynb_checkpoints\n",
      "17/01/2023  04:33 p.ÿm.               765 CobraBabel.ipynb\n",
      "17/01/2023  02:49 p.ÿm.           934.692 CobraPy_P.vulgaris.ipynb\n",
      "03/02/2023  05:33 p.ÿm.             1.843 GetDirectionality.ipynb\n",
      "05/12/2022  04:42 p.ÿm.        16.030.812 Model_Pvulgaris.sbml\n",
      "03/02/2023  05:28 p.ÿm.         1.767.585 replaceMets_fromGlycine_toPvulgaris.ipynb\n",
      "03/02/2023  05:26 p.ÿm.         1.759.237 replaceMets_fromGlycine_toPvulgaris-Copy1.ipynb\n",
      "25/01/2023  10:39 a.ÿm.             8.486 SBMLformat.ipynb\n",
      "               7 archivos     20.503.420 bytes\n",
      "               3 dirs  837.745.827.840 bytes libres\n"
     ]
    }
   ],
   "source": [
    "%ls"
   ]
  }
 ],
 "metadata": {
  "kernelspec": {
   "display_name": "Python 3 (ipykernel)",
   "language": "python",
   "name": "python3"
  },
  "language_info": {
   "codemirror_mode": {
    "name": "ipython",
    "version": 3
   },
   "file_extension": ".py",
   "mimetype": "text/x-python",
   "name": "python",
   "nbconvert_exporter": "python",
   "pygments_lexer": "ipython3",
   "version": "3.9.13"
  }
 },
 "nbformat": 4,
 "nbformat_minor": 5
}
