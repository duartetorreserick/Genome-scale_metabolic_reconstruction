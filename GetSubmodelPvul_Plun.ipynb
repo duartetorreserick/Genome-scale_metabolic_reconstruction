{
 "cells": [
  {
   "cell_type": "code",
   "execution_count": 48,
   "id": "44eef86b",
   "metadata": {},
   "outputs": [],
   "source": [
    "import cobra\n",
    "from cobra.io import load_model\n",
    "from pathlib import Path\n",
    "from cobra.io import load_json_model, save_json_model, load_matlab_model, save_matlab_model, read_sbml_model, write_sbml_model\n",
    "import logging\n",
    "import pandas as pd\n",
    "from cobra import Model, Reaction, Metabolite\n"
   ]
  },
  {
   "cell_type": "code",
   "execution_count": 54,
   "id": "607c59ae",
   "metadata": {},
   "outputs": [
    {
     "name": "stdout",
     "output_type": "stream",
     "text": [
      "C:\\Users\\duart\\OneDrive\\Documentos\\UNIANDES\\PHASEOLUS LUNATUS\\MODELS\\OTHER_SPECIES\\Phaseolus vulgaris\n"
     ]
    },
    {
     "name": "stderr",
     "output_type": "stream",
     "text": [
      "No objective in listOfObjectives\n",
      "No objective coefficients in model. Unclear what should be optimized\n"
     ]
    }
   ],
   "source": [
    "%cd C:\\Users\\duart\\OneDrive\\Documentos\\UNIANDES\\PHASEOLUS LUNATUS\\MODELS\\OTHER_SPECIES\\Phaseolus vulgaris\n",
    "modelPvul = read_sbml_model(\"Pvul_NoCompartments.xml\")\n",
    "#%ls\n",
    "for i in modelPvul.reactions:\n",
    "    if i.id[0] == \"_\":\n",
    "        newID=i.id[1:]\n",
    "        modelPvul.reactions.get_by_id(i.id).id=newID\n",
    "\n"
   ]
  },
  {
   "cell_type": "code",
   "execution_count": 25,
   "id": "c626dbe6",
   "metadata": {},
   "outputs": [],
   "source": [
    "pvulrxns=[]\n",
    "for i in modelPvul.reactions:\n",
    "    pvulrxns.append(i.id)\n"
   ]
  },
  {
   "cell_type": "code",
   "execution_count": 29,
   "id": "4c2d7972",
   "metadata": {},
   "outputs": [
    {
     "data": {
      "text/plain": [
       "3157"
      ]
     },
     "execution_count": 29,
     "metadata": {},
     "output_type": "execute_result"
    }
   ],
   "source": [
    "len(pvulrxns)"
   ]
  },
  {
   "cell_type": "code",
   "execution_count": 80,
   "id": "700854d0",
   "metadata": {},
   "outputs": [
    {
     "name": "stdout",
     "output_type": "stream",
     "text": [
      "C:\\Users\\duart\\OneDrive\\Documentos\\UNIANDES\\PHASEOLUS LUNATUS\\DATABASES\\analysisJorge\n"
     ]
    }
   ],
   "source": [
    "%cd C:\\Users\\duart\\OneDrive\\Documentos\\UNIANDES\\PHASEOLUS LUNATUS\\DATABASES\\analysisJorge\n",
    "\n",
    "plunrxns=pd.read_table(\"RxnsHomologus.txt\")\n",
    "rxnsPlun=plunrxns.iloc[:,0]\n",
    "setrxnPlun=set({})\n",
    "for i in rxnsPlun:\n",
    "    setrxnPlun.add(i)\n",
    "    "
   ]
  },
  {
   "cell_type": "code",
   "execution_count": 81,
   "id": "d3b13093",
   "metadata": {},
   "outputs": [
    {
     "data": {
      "text/plain": [
       "1396"
      ]
     },
     "execution_count": 81,
     "metadata": {},
     "output_type": "execute_result"
    }
   ],
   "source": [
    "len(setrxnPlun)"
   ]
  },
  {
   "cell_type": "code",
   "execution_count": 82,
   "id": "6fb90717",
   "metadata": {},
   "outputs": [],
   "source": [
    "modelPlun=Model()\n",
    "notaggreaged=set({})\n",
    "for i in setrxnPlun:\n",
    "    try:\n",
    "        r=modelPvul.reactions.get_by_id(i)\n",
    "        modelPlun.add_reaction(r)\n",
    "    except:\n",
    "        notaggreaged.add(i)\n"
   ]
  },
  {
   "cell_type": "code",
   "execution_count": 83,
   "id": "25e55ea3",
   "metadata": {},
   "outputs": [
    {
     "data": {
      "text/html": [
       "\n",
       "        <table>\n",
       "            <tr>\n",
       "                <td><strong>Name</strong></td>\n",
       "                <td>None</td>\n",
       "            </tr><tr>\n",
       "                <td><strong>Memory address</strong></td>\n",
       "                <td>0x026b7466c190</td>\n",
       "            </tr><tr>\n",
       "                <td><strong>Number of metabolites</strong></td>\n",
       "                <td>1464</td>\n",
       "            </tr><tr>\n",
       "                <td><strong>Number of reactions</strong></td>\n",
       "                <td>1215</td>\n",
       "            </tr><tr>\n",
       "                <td><strong>Number of groups</strong></td>\n",
       "                <td>0</td>\n",
       "            </tr><tr>\n",
       "                <td><strong>Objective expression</strong></td>\n",
       "                <td>0</td>\n",
       "            </tr><tr>\n",
       "                <td><strong>Compartments</strong></td>\n",
       "                <td>c</td>\n",
       "            </tr>\n",
       "          </table>"
      ],
      "text/plain": [
       "<Model None at 0x26b7466c190>"
      ]
     },
     "execution_count": 83,
     "metadata": {},
     "output_type": "execute_result"
    }
   ],
   "source": [
    "modelPlun"
   ]
  },
  {
   "cell_type": "code",
   "execution_count": 84,
   "id": "f9db816d",
   "metadata": {},
   "outputs": [
    {
     "data": {
      "text/plain": [
       "181"
      ]
     },
     "execution_count": 84,
     "metadata": {},
     "output_type": "execute_result"
    }
   ],
   "source": [
    "len(notaggreaged)"
   ]
  },
  {
   "cell_type": "code",
   "execution_count": 85,
   "id": "1f90c6d5",
   "metadata": {},
   "outputs": [],
   "source": [
    "write_sbml_model(modelPlun,\"PlunModel_Pvulhomology.sbml\")\n"
   ]
  }
 ],
 "metadata": {
  "kernelspec": {
   "display_name": "Python 3 (ipykernel)",
   "language": "python",
   "name": "python3"
  },
  "language_info": {
   "codemirror_mode": {
    "name": "ipython",
    "version": 3
   },
   "file_extension": ".py",
   "mimetype": "text/x-python",
   "name": "python",
   "nbconvert_exporter": "python",
   "pygments_lexer": "ipython3",
   "version": "3.9.16"
  }
 },
 "nbformat": 4,
 "nbformat_minor": 5
}
