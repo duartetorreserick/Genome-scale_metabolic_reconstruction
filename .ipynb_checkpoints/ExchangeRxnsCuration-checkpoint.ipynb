{
 "cells": [
  {
   "cell_type": "code",
   "execution_count": 1,
   "id": "63c8e612",
   "metadata": {},
   "outputs": [],
   "source": [
    "import cobra\n",
    "from cobra.io import load_model\n",
    "from pathlib import Path\n",
    "from cobra.io import load_json_model, save_json_model, load_matlab_model, save_matlab_model, read_sbml_model, write_sbml_model\n",
    "import logging\n",
    "import pandas as pd\n",
    "from cobra import Model, Reaction, Metabolite\n",
    "from cobra.io import write_sbml_model, validate_sbml_model"
   ]
  },
  {
   "cell_type": "code",
   "execution_count": 31,
   "id": "4ea58ef1",
   "metadata": {},
   "outputs": [
    {
     "name": "stdout",
     "output_type": "stream",
     "text": [
      "C:\\Users\\duart\\OneDrive\\Documentos\\UNIANDES\\PHASEOLUS LUNATUS\\MODELS\\OTHER_SPECIES\\Phaseolus vulgaris\n"
     ]
    },
    {
     "name": "stderr",
     "output_type": "stream",
     "text": [
      "No objective in listOfObjectives\n",
      "No objective coefficients in model. Unclear what should be optimized\n"
     ]
    }
   ],
   "source": [
    "%cd C:\\Users\\duart\\OneDrive\\Documentos\\UNIANDES\\PHASEOLUS LUNATUS\\MODELS\\OTHER_SPECIES\\Phaseolus vulgaris\n",
    "pvulModel=read_sbml_model('pvulModel_CheckError.xml')"
   ]
  },
  {
   "cell_type": "code",
   "execution_count": 32,
   "id": "72c9c591",
   "metadata": {},
   "outputs": [],
   "source": [
    "blockedrxns=cobra.flux_analysis.find_blocked_reactions(pvulModel)\n"
   ]
  },
  {
   "cell_type": "code",
   "execution_count": 33,
   "id": "20836372",
   "metadata": {},
   "outputs": [
    {
     "data": {
      "text/plain": [
       "2257"
      ]
     },
     "execution_count": 33,
     "metadata": {},
     "output_type": "execute_result"
    }
   ],
   "source": [
    "len(blockedrxns)\n"
   ]
  },
  {
   "cell_type": "code",
   "execution_count": 17,
   "id": "11407990",
   "metadata": {},
   "outputs": [
    {
     "data": {
      "text/html": [
       "\n",
       "        <table>\n",
       "            <tr>\n",
       "                <td><strong>Metabolite identifier</strong></td><td>CPD-17686[c]</td>\n",
       "            </tr><tr>\n",
       "                <td><strong>Name</strong></td><td>5-hexenoate</td>\n",
       "            </tr><tr>\n",
       "                <td><strong>Memory address</strong></td>\n",
       "                <td>0x21f9ffab9a0</td>\n",
       "            </tr><tr>\n",
       "                <td><strong>Formula</strong></td><td>C6H9O2</td>\n",
       "            </tr><tr>\n",
       "                <td><strong>Compartment</strong></td><td>c</td>\n",
       "            </tr><tr>\n",
       "                <td><strong>In 1 reaction(s)</strong></td><td>\n",
       "                    RXN-16463\n",
       "                    </td>\n",
       "            </tr>\n",
       "        </table>"
      ],
      "text/plain": [
       "<Metabolite CPD-17686[c] at 0x21f9ffab9a0>"
      ]
     },
     "execution_count": 17,
     "metadata": {},
     "output_type": "execute_result"
    }
   ],
   "source": [
    "pvulModel.metabolites.get_by_id('CPD-17686[c]')"
   ]
  },
  {
   "cell_type": "code",
   "execution_count": 36,
   "id": "edd987ad",
   "metadata": {},
   "outputs": [
    {
     "data": {
      "text/html": [
       "\n",
       "        <table>\n",
       "            <tr>\n",
       "                <td><strong>Reaction identifier</strong></td><td>DM_CPD-17686[c]</td>\n",
       "            </tr><tr>\n",
       "                <td><strong>Name</strong></td><td>5-hexenoate demand</td>\n",
       "            </tr><tr>\n",
       "                <td><strong>Memory address</strong></td>\n",
       "                <td>0x21fa5f3f0a0</td>\n",
       "            </tr><tr>\n",
       "                <td><strong>Stoichiometry</strong></td>\n",
       "                <td>\n",
       "                    <p style='text-align:right'>CPD-17686[c] --></p>\n",
       "                    <p style='text-align:right'>5-hexenoate --></p>\n",
       "                </td>\n",
       "            </tr><tr>\n",
       "                <td><strong>GPR</strong></td><td></td>\n",
       "            </tr><tr>\n",
       "                <td><strong>Lower bound</strong></td><td>0</td>\n",
       "            </tr><tr>\n",
       "                <td><strong>Upper bound</strong></td><td>1000.0</td>\n",
       "            </tr>\n",
       "        </table>\n",
       "        "
      ],
      "text/plain": [
       "<Reaction DM_CPD-17686[c] at 0x21fa5f3f0a0>"
      ]
     },
     "execution_count": 36,
     "metadata": {},
     "output_type": "execute_result"
    }
   ],
   "source": [
    "pvulModel.add_boundary(pvulModel.metabolites.get_by_id(\"CPD-17686[c]\"), type=\"demand\")\n"
   ]
  },
  {
   "cell_type": "code",
   "execution_count": 37,
   "id": "c91f3937",
   "metadata": {},
   "outputs": [
    {
     "data": {
      "text/plain": [
       "2257"
      ]
     },
     "execution_count": 37,
     "metadata": {},
     "output_type": "execute_result"
    }
   ],
   "source": [
    "blockedrxns=cobra.flux_analysis.find_blocked_reactions(pvulModel)\n",
    "len(blockedrxns)"
   ]
  },
  {
   "cell_type": "code",
   "execution_count": 106,
   "id": "b9f6ecc5",
   "metadata": {},
   "outputs": [],
   "source": [
    "submodel=Model()\n",
    "submodel.add_reaction(pvulModel.reactions.get_by_id('RXN-16463'))"
   ]
  },
  {
   "cell_type": "code",
   "execution_count": 107,
   "id": "6fe2f41e",
   "metadata": {},
   "outputs": [],
   "source": [
    "for i in submodel.metabolites:\n",
    "    #submodel.add_boundary(submodel.metabolites.get_by_id(i.id), type=\"demand\")\n",
    "    submodel.add_boundary(submodel.metabolites.get_by_id(i.id), type=\"sink\")\n"
   ]
  },
  {
   "cell_type": "code",
   "execution_count": 108,
   "id": "aa745fad",
   "metadata": {},
   "outputs": [
    {
     "data": {
      "text/plain": [
       "[<Reaction RXN-16463 at 0x21fa56f32b0>,\n",
       " <Reaction SK_ACP[c] at 0x21fa73f2ca0>,\n",
       " <Reaction SK_ATP[c] at 0x21fa73f2cd0>,\n",
       " <Reaction SK_CPD-17686[c] at 0x21fa7230f70>,\n",
       " <Reaction SK__5-hexenoyl-ACPs[c] at 0x21fa747ea90>,\n",
       " <Reaction SK_AMP[c] at 0x21fa747ed60>,\n",
       " <Reaction SK_PPI[c] at 0x21fa747efa0>]"
      ]
     },
     "execution_count": 108,
     "metadata": {},
     "output_type": "execute_result"
    }
   ],
   "source": [
    "submodel.reactions"
   ]
  },
  {
   "cell_type": "code",
   "execution_count": null,
   "id": "75b89268",
   "metadata": {},
   "outputs": [],
   "source": []
  },
  {
   "cell_type": "code",
   "execution_count": 109,
   "id": "2d51aa70",
   "metadata": {},
   "outputs": [
    {
     "data": {
      "text/plain": [
       "[]"
      ]
     },
     "execution_count": 109,
     "metadata": {},
     "output_type": "execute_result"
    }
   ],
   "source": [
    "blockedrxns=cobra.flux_analysis.find_blocked_reactions(submodel)\n",
    "blockedrxns"
   ]
  },
  {
   "cell_type": "code",
   "execution_count": 112,
   "id": "1030f51d",
   "metadata": {},
   "outputs": [
    {
     "data": {
      "text/plain": [
       "0.0"
      ]
     },
     "execution_count": 112,
     "metadata": {},
     "output_type": "execute_result"
    }
   ],
   "source": [
    "solution = submodel.optimize()\n",
    "solution.objective_value"
   ]
  },
  {
   "cell_type": "code",
   "execution_count": 93,
   "id": "256feffa",
   "metadata": {},
   "outputs": [
    {
     "data": {
      "text/html": [
       "\n",
       "        <table>\n",
       "            <tr>\n",
       "                <td><strong>Reaction identifier</strong></td><td>SK_ATP[c]</td>\n",
       "            </tr><tr>\n",
       "                <td><strong>Name</strong></td><td>ATP sink</td>\n",
       "            </tr><tr>\n",
       "                <td><strong>Memory address</strong></td>\n",
       "                <td>0x21fa704bbe0</td>\n",
       "            </tr><tr>\n",
       "                <td><strong>Stoichiometry</strong></td>\n",
       "                <td>\n",
       "                    <p style='text-align:right'>ATP[c] <=></p>\n",
       "                    <p style='text-align:right'>ATP <=></p>\n",
       "                </td>\n",
       "            </tr><tr>\n",
       "                <td><strong>GPR</strong></td><td></td>\n",
       "            </tr><tr>\n",
       "                <td><strong>Lower bound</strong></td><td>-1000.0</td>\n",
       "            </tr><tr>\n",
       "                <td><strong>Upper bound</strong></td><td>1000.0</td>\n",
       "            </tr>\n",
       "        </table>\n",
       "        "
      ],
      "text/plain": [
       "<Reaction SK_ATP[c] at 0x21fa704bbe0>"
      ]
     },
     "execution_count": 93,
     "metadata": {},
     "output_type": "execute_result"
    }
   ],
   "source": [
    "submodel.reactions.get_by_id('SK_ATP[c]')"
   ]
  },
  {
   "cell_type": "code",
   "execution_count": 103,
   "id": "558476bf",
   "metadata": {},
   "outputs": [],
   "source": [
    "submodel1=Model()\n",
    "submodel1.add_reaction(pvulModel.reactions.get_by_id('RXN-16463'))\n",
    "for i in submodel1.metabolites:\n",
    "    i.compartment='e'"
   ]
  },
  {
   "cell_type": "code",
   "execution_count": 104,
   "id": "d771e851",
   "metadata": {},
   "outputs": [
    {
     "data": {
      "text/plain": [
       "['RXN-16463']"
      ]
     },
     "execution_count": 104,
     "metadata": {},
     "output_type": "execute_result"
    }
   ],
   "source": [
    "blockedrxns=cobra.flux_analysis.find_blocked_reactions(submodel1)\n",
    "blockedrxns"
   ]
  },
  {
   "cell_type": "code",
   "execution_count": 105,
   "id": "6d9d77a0",
   "metadata": {},
   "outputs": [
    {
     "ename": "SyntaxError",
     "evalue": "invalid syntax (3270574410.py, line 2)",
     "output_type": "error",
     "traceback": [
      "\u001b[1;36m  File \u001b[1;32m\"C:\\Users\\duart\\AppData\\Local\\Temp\\ipykernel_1432\\3270574410.py\"\u001b[1;36m, line \u001b[1;32m2\u001b[0m\n\u001b[1;33m    submodel.add_metabolites(for i in submodel.metabolites:\u001b[0m\n\u001b[1;37m                             ^\u001b[0m\n\u001b[1;31mSyntaxError\u001b[0m\u001b[1;31m:\u001b[0m invalid syntax\n"
     ]
    }
   ],
   "source": [
    "for i in submodel1.metabolites:"
   ]
  }
 ],
 "metadata": {
  "kernelspec": {
   "display_name": "Python 3 (ipykernel)",
   "language": "python",
   "name": "python3"
  },
  "language_info": {
   "codemirror_mode": {
    "name": "ipython",
    "version": 3
   },
   "file_extension": ".py",
   "mimetype": "text/x-python",
   "name": "python",
   "nbconvert_exporter": "python",
   "pygments_lexer": "ipython3",
   "version": "3.9.16"
  }
 },
 "nbformat": 4,
 "nbformat_minor": 5
}
