{
 "cells": [
  {
   "cell_type": "code",
   "execution_count": 3,
   "metadata": {},
   "outputs": [],
   "source": [
    "import cobra\n",
    "from cobra.io import load_model\n",
    "from pathlib import Path\n",
    "from cobra.io import load_json_model, save_json_model, load_matlab_model, save_matlab_model, read_sbml_model, write_sbml_model\n",
    "import logging\n",
    "import pandas as pd\n",
    "from cobra import Model, Reaction, Metabolite\n",
    "from cobra.io import write_sbml_model, validate_sbml_model"
   ]
  },
  {
   "attachments": {},
   "cell_type": "markdown",
   "metadata": {},
   "source": [
    "#### LEER MEDICAGO MODEL"
   ]
  },
  {
   "cell_type": "code",
   "execution_count": 4,
   "metadata": {},
   "outputs": [
    {
     "name": "stdout",
     "output_type": "stream",
     "text": [
      "C:\\Users\\duart\\OneDrive\\Documentos\\UNIANDES\\PHASEOLUS LUNATUS\\MODELS\\OTHER_SPECIES\\Medicago truncatula\n"
     ]
    }
   ],
   "source": [
    "%cd C:\\Users\\duart\\OneDrive\\Documentos\\UNIANDES\\PHASEOLUS LUNATUS\\MODELS\\OTHER_SPECIES\\Medicago truncatula\n",
    "medModel=read_sbml_model(\"MedicagoTruncatula_Cobra_model.xml\")\n"
   ]
  },
  {
   "cell_type": "code",
   "execution_count": 8,
   "metadata": {},
   "outputs": [
    {
     "data": {
      "text/html": [
       "<strong><em>Optimal</em> solution with objective value 0.000</strong><br><div>\n",
       "<style scoped>\n",
       "    .dataframe tbody tr th:only-of-type {\n",
       "        vertical-align: middle;\n",
       "    }\n",
       "\n",
       "    .dataframe tbody tr th {\n",
       "        vertical-align: top;\n",
       "    }\n",
       "\n",
       "    .dataframe thead th {\n",
       "        text-align: right;\n",
       "    }\n",
       "</style>\n",
       "<table border=\"1\" class=\"dataframe\">\n",
       "  <thead>\n",
       "    <tr style=\"text-align: right;\">\n",
       "      <th></th>\n",
       "      <th>fluxes</th>\n",
       "      <th>reduced_costs</th>\n",
       "    </tr>\n",
       "  </thead>\n",
       "  <tbody>\n",
       "    <tr>\n",
       "      <th>TEC_AMMONIUM</th>\n",
       "      <td>0.000000e+00</td>\n",
       "      <td>0.0</td>\n",
       "    </tr>\n",
       "    <tr>\n",
       "      <th>TEC_CARBON-DIOXIDE</th>\n",
       "      <td>0.000000e+00</td>\n",
       "      <td>0.0</td>\n",
       "    </tr>\n",
       "    <tr>\n",
       "      <th>TEC_CO+2</th>\n",
       "      <td>0.000000e+00</td>\n",
       "      <td>0.0</td>\n",
       "    </tr>\n",
       "    <tr>\n",
       "      <th>TEC_CPD-3</th>\n",
       "      <td>0.000000e+00</td>\n",
       "      <td>0.0</td>\n",
       "    </tr>\n",
       "    <tr>\n",
       "      <th>TEC_FE+2</th>\n",
       "      <td>0.000000e+00</td>\n",
       "      <td>0.0</td>\n",
       "    </tr>\n",
       "    <tr>\n",
       "      <th>...</th>\n",
       "      <td>...</td>\n",
       "      <td>...</td>\n",
       "    </tr>\n",
       "    <tr>\n",
       "      <th>URATE-OXIDASE-RXN_X</th>\n",
       "      <td>0.000000e+00</td>\n",
       "      <td>0.0</td>\n",
       "    </tr>\n",
       "    <tr>\n",
       "      <th>DEHOG</th>\n",
       "      <td>-1.000000e+03</td>\n",
       "      <td>0.0</td>\n",
       "    </tr>\n",
       "    <tr>\n",
       "      <th>BiomassShoot</th>\n",
       "      <td>0.000000e+00</td>\n",
       "      <td>2.0</td>\n",
       "    </tr>\n",
       "    <tr>\n",
       "      <th>BiomassRoot</th>\n",
       "      <td>5.032460e-16</td>\n",
       "      <td>0.0</td>\n",
       "    </tr>\n",
       "    <tr>\n",
       "      <th>BiomassWithOutStarch</th>\n",
       "      <td>0.000000e+00</td>\n",
       "      <td>0.0</td>\n",
       "    </tr>\n",
       "  </tbody>\n",
       "</table>\n",
       "<p>2909 rows × 2 columns</p>\n",
       "</div>"
      ],
      "text/plain": [
       "<Solution 0.000 at 0x1629e4dcdc0>"
      ]
     },
     "execution_count": 8,
     "metadata": {},
     "output_type": "execute_result"
    }
   ],
   "source": [
    "\n",
    "medModel.objective=\"BiomassShoot\"\n",
    "solution=medModel.optimize()\n",
    "solution"
   ]
  },
  {
   "cell_type": "code",
   "execution_count": 9,
   "metadata": {},
   "outputs": [
    {
     "name": "stdout",
     "output_type": "stream",
     "text": [
      "BiomassWithOutStarch:   1226.94420253165 ASN[C] + 3.11908860759494 ATP[C] + 64.4638987341772 BETA-D-FRUCTOSE[C] + 1276.87098734177 CELLULOSE[G] + 3.69883544303797 CHLOROPHYLL-A[H] + 2.04536708860759 CHLOROPHYLL-B[H] + 10.7046075949367 CIT[C] + 303.191696202532 CONIFERYL-ALCOHOL[C] + 28.6394936708861 COUMARYL-ALCOHOL[C] + 23.4783797468354 CPD-8046[C] + 0.64539746835443 CPD1F-114[H] + 3.11908860759494 CTP[C] + 123.521721518987 Charged-ALA-tRNAs[C] + 31.5128101265823 Charged-ARG-tRNAs[C] + 69.4923544303797 Charged-ASN-tRNAs[C] + 69.5044050632911 Charged-ASP-tRNAs[C] + 28.0813164556962 Charged-CYS-tRNAs[C] + 60.9379240506329 Charged-GLN-tRNAs[C] + 60.9479493670886 Charged-GLT-tRNAs[C] + 154.282835443038 Charged-GLY-tRNAs[C] + 30.4581265822785 Charged-HIS-tRNAs[C] + 4.93812658227848 Charged-ILE-tRNAs[C] + 49.1159493670886 Charged-LEU-tRNAs[C] + 68.0082025316456 Charged-LYS-tRNAs[C] + 22.8016202531646 Charged-MET-tRNAs[C] + 53.5664810126582 Charged-PHE-tRNAs[C] + 37.0576202531646 Charged-PRO-tRNAs[C] + 64.9324556962025 Charged-SER-tRNAs[C] + 69.6700759493671 Charged-THR-tRNAs[C] + 45.7348860759494 Charged-TRP-tRNAs[C] + 54.2630886075949 Charged-TYR-tRNAs[C] + 41.8617721518987 Charged-VAL-tRNAs[C] + 7.77589873417721 DATP[C] + 4.76587341772152 DCTP[C] + 4.76587341772152 DGTP[C] + 65.7704303797468 GDP-L-GALACTOSE[C] + 211.940455696203 GDP-MANNOSE[G] + 52.0532658227848 GLC[C] + 99.2666329113924 GLT[C] + 14.8972151898734 GLY[C] + 3.11908860759494 GTP[C] + 25.5542278481013 GUANOSINE_DIPHOSPHATE_FUCOSE[G] + 3.10116455696202 ILE[C] + 3.78643037974684 L-ASPARTATE[C] + 77.0630886075949 LINOLEIC_ACID[C] + 52.7910886075949 LINOLENIC_ACID[C] + 19.0084050632911 MAL[C] + 24.348253164557 MYO-INOSITOL[C] + 22.0688607594937 OLEATE-CPD[C] + 26.3255696202532 PALMITATE[C] + 8.90987341772152 PHE[C] + 3.34359493670886 PRO[C] + 10.7474430379747 SER[C] + 39.3188860759494 SINAPYL-ALCOHOL[C] + 12.6223797468354 STEARIC_ACID[C] + 92.8765569620253 SUCROSE[C] + 12.0470886075949 SUC[C] + 5.30592405063291 THR[C] + 7.77589873417721 TTP[C] + 247.300759493671 UDP-D-GALACTURONATE[C] + 692.354329113924 UDP-D-XYLOSE[G] + 133.768810126582 UDP-L-ARABINOSE[C] + 19.2184303797468 UDP-L-RHAMNOSE[C] + 3.11908860759494 UTP[C] + 10.7018734177215 VAL[C] + 1644.30764556962 WATER[C] + 929.849113924051 WATER[G] + 6.63949367088608 _5-OXOPROLINE[C] --> 123.521721518987 ALA-tRNAs[C] + 31.5128101265823 ARG-tRNAs[C] + 69.4923544303797 ASN-tRNAs[C] + 69.5044050632911 ASP-tRNAs[C] + 28.0813164556962 CYS-tRNAs[C] + 65.7704303797468 GDP[C] + 237.494683544304 GDP[G] + 60.9379240506329 GLN-tRNAs[C] + 60.9479493670886 GLT-tRNAs[C] + 154.282835443038 GLY-tRNAs[C] + 30.4581265822785 HIS-tRNAs[C] + 4.93812658227848 ILE-tRNAs[C] + 49.1159493670886 LEU-tRNAs[C] + 68.0082025316456 LYS-tRNAs[C] + 22.8016202531646 MET-tRNAs[C] + 53.5664810126582 PHE-tRNAs[C] + 37.5596962025316 PPI[C] + 37.0576202531646 PRO-tRNAs[C] + 896.166784810126 PROTON[C] + 929.849113924051 PROTON[G] + 64.9324556962025 SER-tRNAs[C] + 69.6700759493671 THR-tRNAs[C] + 45.7348860759494 TRP-tRNAs[C] + 54.2630886075949 TYR-tRNAs[C] + 400.287898734177 UDP[C] + 692.354329113924 UDP[G] + 41.8617721518987 VAL-tRNAs[C]\n",
      "ASPARTATE--TRNA-LIGASE-RXN_C:   ASP-tRNAs[C] + ATP[C] + L-ASPARTATE[C] --> AMP[C] + Charged-ASP-tRNAs[C] + PPI[C]\n",
      "L-ASPARTATECons_tx:   Charged-ASP-tRNAs[C] + WATER[C] --> ASP-tRNAs[C] + PROTON[C]\n",
      "BiomassRoot:   625.6119 ASN[C] + 1.8997 ATP[C] + 143.9407 BETA-D-FRUCTOSE[C] + 1492.1566 CELLULOSE[G] + 18.0875 CIT[C] + 354.311 CONIFERYL-ALCOHOL[C] + 33.4682 COUMARYL-ALCOHOL[C] + 8.415 CPD-8046[C] + 1.8997 CTP[C] + 59.0524 Charged-ALA-tRNAs[C] + 11.3225 Charged-ARG-tRNAs[C] + 38.5358 Charged-ASN-tRNAs[C] + 38.5425 Charged-ASP-tRNAs[C] + 12.298 Charged-CYS-tRNAs[C] + 31.0603 Charged-GLN-tRNAs[C] + 31.0654 Charged-GLT-tRNAs[C] + 87.1016 Charged-GLY-tRNAs[C] + 11.6441 Charged-HIS-tRNAs[C] + 2.6695 Charged-ILE-tRNAs[C] + 26.9312 Charged-LEU-tRNAs[C] + 33.2223 Charged-LYS-tRNAs[C] + 9.9858 Charged-MET-tRNAs[C] + 26.2827 Charged-PHE-tRNAs[C] + 14.8459 Charged-PRO-tRNAs[C] + 38.2022 Charged-SER-tRNAs[C] + 27.8314 Charged-THR-tRNAs[C] + 21.8596 Charged-TRP-tRNAs[C] + 25.316 Charged-TYR-tRNAs[C] + 18.2784 Charged-VAL-tRNAs[C] + 10.2585 DATP[C] + 6.2875 DCTP[C] + 6.2875 DGTP[C] + 76.8596 GDP-L-GALACTOSE[C] + 247.6745 GDP-MANNOSE[G] + 217.7397 GLC[C] + 133.2976 GLT[C] + 29.5985 GLY[C] + 1.8997 GTP[C] + 29.8628 GUANOSINE_DIPHOSPHATE_FUCOSE[G] + 4.0564 ILE[C] + 5.6998 L-ASPARTATE[C] + 34.3359 LINOLEIC_ACID[C] + 23.5214 LINOLENIC_ACID[C] + 47.3207 MAL[C] + 31.7446 MYO-INOSITOL[C] + 9.8329 OLEATE-CPD[C] + 17.0153 PALMITATE[C] + 1.608 PHE[C] + 3.818 PRO[C] + 45.9482 SINAPYL-ALCOHOL[C] + 14.3211 STEARIC_ACID[C] + 186.339 SUCROSE[C] + 29.0157 SUC[C] + 8.0531 THR[C] + 10.2585 TTP[C] + 288.9966 UDP-D-GALACTURONATE[C] + 809.0881 UDP-D-XYLOSE[G] + 208.6809 UDP-L-ARABINOSE[C] + 22.4587 UDP-L-RHAMNOSE[C] + 1.8997 UTP[C] + 14.0853 VAL[C] + 1203.7344 WATER[C] + 1086.6254 WATER[G] + 4.6071 _5-OXOPROLINE[C] --> 59.0524 ALA-tRNAs[C] + 11.3225 ARG-tRNAs[C] + 38.5358 ASN-tRNAs[C] + 38.5425 ASP-tRNAs[C] + 12.298 CYS-tRNAs[C] + 76.8596 GDP[C] + 277.5373 GDP[G] + 31.0603 GLN-tRNAs[C] + 31.0654 GLT-tRNAs[C] + 87.1016 GLY-tRNAs[C] + 11.6441 HIS-tRNAs[C] + 2.6695 ILE-tRNAs[C] + 26.9312 LEU-tRNAs[C] + 33.2223 LYS-tRNAs[C] + 9.9858 MET-tRNAs[C] + 26.2827 PHE-tRNAs[C] + 40.691 PPI[C] + 14.8459 PRO-tRNAs[C] + 358.7274 PROTON[C] + 1086.6254 PROTON[G] + 38.2022 SER-tRNAs[C] + 27.8314 THR-tRNAs[C] + 21.8596 TRP-tRNAs[C] + 25.316 TYR-tRNAs[C] + 520.1363 UDP[C] + 809.0881 UDP[G] + 18.2784 VAL-tRNAs[C]\n",
      "BiomassShoot:   1059.91415352 ASN[C] + 2.69447148 ATP[C] + 55.68810588 BETA-D-FRUCTOSE[C] + 1103.04415548 CELLULOSE[G] + 3.19529448 CHLOROPHYLL-A[H] + 1.76692104 CHLOROPHYLL-B[H] + 9.24733584 CIT[C] + 261.91669464 CONIFERYL-ALCOHOL[C] + 24.7406562 COUMARYL-ALCOHOL[C] + 20.28215052 CPD-8046[C] + 0.557536284 CPD1F-114[H] + 2.69447148 CTP[C] + 106.70609196 Charged-ALA-tRNAs[C] + 27.22281372 Charged-ARG-tRNAs[C] + 60.03201276 Charged-ASN-tRNAs[C] + 60.04242288 Charged-ASP-tRNAs[C] + 24.25846644 Charged-CYS-tRNAs[C] + 52.64213976 Charged-GLN-tRNAs[C] + 52.65080028 Charged-GLT-tRNAs[C] + 133.27954164 Charged-GLY-tRNAs[C] + 26.31170952 Charged-HIS-tRNAs[C] + 4.26587472 Charged-ILE-tRNAs[C] + 42.4295496 Charged-LEU-tRNAs[C] + 58.74990588 Charged-LYS-tRNAs[C] + 19.69752168 Charged-MET-tRNAs[C] + 46.27420812 Charged-PHE-tRNAs[C] + 32.01278112 Charged-PRO-tRNAs[C] + 56.09287584 Charged-SER-tRNAs[C] + 60.18554016 Charged-THR-tRNAs[C] + 39.50876736 Charged-TRP-tRNAs[C] + 46.87598304 Charged-TYR-tRNAs[C] + 36.1629198 Charged-VAL-tRNAs[C] + 6.71732676 DATP[C] + 4.11707124 DCTP[C] + 4.11707124 DGTP[C] + 56.81677284 GDP-L-GALACTOSE[C] + 183.08794176 GDP-MANNOSE[G] + 44.96699448 GLC[C] + 85.75296984 GLT[C] + 12.8691828 GLY[C] + 2.69447148 GTP[C] + 22.07540304 GUANOSINE_DIPHOSPHATE_FUCOSE[G] + 2.67898752 ILE[C] + 3.27096468 L-ASPARTATE[C] + 66.57210504 LINOLEIC_ACID[C] + 45.60437376 LINOLENIC_ACID[C] + 16.42069584 MAL[C] + 21.03360372 MYO-INOSITOL[C] + 19.0645164 OLEATE-CPD[C] + 22.7417382 PALMITATE[C] + 7.6969278 PHE[C] + 2.88841464 PRO[C] + 9.28433988 SER[C] + 33.96620952 SINAPYL-ALCOHOL[C] + 10.90403208 STEARIC_ACID[C] + 80.23280688 SUCROSE[C] + 10.4070582 SUC[C] + 755.545088412 Starch[H] + 4.58360208 THR[C] + 6.71732676 TTP[C] + 213.6344706 UDP-D-GALACTURONATE[C] + 598.10067252 UDP-D-XYLOSE[G] + 115.55819316 UDP-L-ARABINOSE[C] + 16.60212936 UDP-L-RHAMNOSE[C] + 2.69447148 UTP[C] + 9.24497388 VAL[C] + 1420.45982424 WATER[C] + 803.2641048 WATER[G] + 5.7356262 _5-OXOPROLINE[C] --> 106.70609196 ALA-tRNAs[C] + 27.22281372 ARG-tRNAs[C] + 60.03201276 ASN-tRNAs[C] + 60.04242288 ASP-tRNAs[C] + 24.25846644 CYS-tRNAs[C] + 56.81677284 GDP[C] + 205.1633448 GDP[G] + 52.64213976 GLN-tRNAs[C] + 52.65080028 GLT-tRNAs[C] + 133.27954164 GLY-tRNAs[C] + 26.31170952 HIS-tRNAs[C] + 4.26587472 ILE-tRNAs[C] + 42.4295496 LEU-tRNAs[C] + 58.74990588 LYS-tRNAs[C] + 19.69752168 MET-tRNAs[C] + 46.27420812 PHE-tRNAs[C] + 32.44650696 PPI[C] + 32.01278112 PRO-tRNAs[C] + 774.167119559999 PROTON[C] + 803.2641048 PROTON[G] + 56.09287584 SER-tRNAs[C] + 60.18554016 THR-tRNAs[C] + 39.50876736 TRP-tRNAs[C] + 46.87598304 TYR-tRNAs[C] + 345.79470564 UDP[C] + 598.10067252 UDP[G] + 36.1629198 VAL-tRNAs[C]\n"
     ]
    }
   ],
   "source": [
    "for i in medModel.metabolites.get_by_id(\"ASP-tRNAs[C]\").reactions:\n",
    "    print(i.id+\":   \" +i.reaction)"
   ]
  },
  {
   "attachments": {},
   "cell_type": "markdown",
   "metadata": {},
   "source": [
    "#### LEER PVUL MODEL"
   ]
  },
  {
   "cell_type": "code",
   "execution_count": 3,
   "metadata": {},
   "outputs": [
    {
     "name": "stdout",
     "output_type": "stream",
     "text": [
      "C:\\Users\\duart\\OneDrive\\Documentos\\UNIANDES\\PHASEOLUS LUNATUS\\MODELS\\OTHER_SPECIES\\Phaseolus vulgaris\n"
     ]
    },
    {
     "name": "stderr",
     "output_type": "stream",
     "text": [
      "No objective in listOfObjectives\n",
      "No objective coefficients in model. Unclear what should be optimized\n"
     ]
    }
   ],
   "source": [
    "%cd C:\\Users\\duart\\OneDrive\\Documentos\\UNIANDES\\PHASEOLUS LUNATUS\\MODELS\\OTHER_SPECIES\\Phaseolus vulgaris\n",
    "pvulModel=read_sbml_model('submodel.xml')"
   ]
  },
  {
   "attachments": {},
   "cell_type": "markdown",
   "metadata": {},
   "source": [
    "#### METABOLITOS ASOCIADOS A LAS RXNS DE BIOMASA EN MEDICAGO"
   ]
  },
  {
   "cell_type": "code",
   "execution_count": 6,
   "metadata": {},
   "outputs": [
    {
     "name": "stdout",
     "output_type": "stream",
     "text": [
      "96\n",
      "91\n"
     ]
    }
   ],
   "source": [
    "print(len(medModel.reactions.get_by_id(\"BiomassShoot\").metabolites))\n",
    "print(len(medModel.reactions.get_by_id(\"BiomassRoot\").metabolites))"
   ]
  },
  {
   "attachments": {},
   "cell_type": "markdown",
   "metadata": {},
   "source": [
    "#### CREAR DATAFRAME DE LOS METS CON SUS CONCENTRACIONES PARA MABAS RXNS DE BIOMASA"
   ]
  },
  {
   "cell_type": "code",
   "execution_count": null,
   "metadata": {},
   "outputs": [],
   "source": [
    "import pandas as pd\n",
    "df=pd.DataFrame()\n",
    "df2=pd.DataFrame()\n",
    "for i in medModel.reactions.get_by_id(\"BiomassShoot\").metabolites:\n",
    "    df=df.append({'Biomass Shoot metabolite':i.id.replace(\"[C]\",\"[c]\"),'coefficient Shoot':medModel.reactions.get_by_id(\"BiomassShoot\").metabolites[i]},ignore_index=True)\n",
    "for j in medModel.reactions.get_by_id(\"BiomassRoot\").metabolites:\n",
    "    coeff = medModel.reactions.get_by_id(\"BiomassRoot\").metabolites[j]\n",
    "    if coeff is None:\n",
    "        print(f\"No coefficient found for {j.id}\")\n",
    "    df2=df2.append({'Biomass Root metabolite':j.id.replace(\"[C]\",\"[c]\"),'coefficient Root':medModel.reactions.get_by_id(\"BiomassRoot\").metabolites[j]},ignore_index=True)\n",
    "Dataframe=pd.concat([df,df2],axis=1)"
   ]
  },
  {
   "cell_type": "code",
   "execution_count": 8,
   "metadata": {},
   "outputs": [],
   "source": [
    "Dataframe.to_csv('BiomassMetabolites.csv',index=False)"
   ]
  },
  {
   "attachments": {},
   "cell_type": "markdown",
   "metadata": {},
   "source": [
    "#### SACAR METS UNICOSS PARA CADA BIOMASS RXNS"
   ]
  },
  {
   "cell_type": "code",
   "execution_count": 9,
   "metadata": {},
   "outputs": [
    {
     "name": "stdout",
     "output_type": "stream",
     "text": [
      "{'CHLOROPHYLL-A[H]', 'Starch[H]', 'SER[c]', 'CHLOROPHYLL-B[H]', 'CPD1F-114[H]'}\n",
      "{nan}\n"
     ]
    }
   ],
   "source": [
    "uniqueShoot=set(Dataframe['Biomass Shoot metabolite'].unique()) - set(Dataframe['Biomass Root metabolite'].unique())\n",
    "uniqueRoot=set(Dataframe['Biomass Root metabolite'].unique()) - set(Dataframe['Biomass Shoot metabolite'].unique())\n",
    "print(uniqueShoot)\n",
    "print(uniqueRoot)"
   ]
  },
  {
   "cell_type": "code",
   "execution_count": 10,
   "metadata": {},
   "outputs": [
    {
     "data": {
      "text/plain": [
       "96"
      ]
     },
     "execution_count": 10,
     "metadata": {},
     "output_type": "execute_result"
    }
   ],
   "source": [
    "medMetsBiomas=[]\n",
    "for i in medModel.reactions.get_by_id(\"BiomassShoot\").metabolites:\n",
    "      r=medModel.metabolites.get_by_id(i.id)\n",
    "      medMetsBiomas.append(r.id.replace(\"[C]\",\"[c]\"))\n",
    "len(medMetsBiomas)"
   ]
  },
  {
   "attachments": {},
   "cell_type": "markdown",
   "metadata": {},
   "source": [
    "#### METS  DE RXNSS DE BIOMASA DE SHOOT DE MEDICAGO QUE SE ENCUENTRAN EN RXNS DE PVULMODEL"
   ]
  },
  {
   "cell_type": "code",
   "execution_count": null,
   "metadata": {},
   "outputs": [],
   "source": [
    "containsMeds=[pvulMet for medMet in medMetsBiomas for pvulMet in pvulModel.metabolites if medMet in pvulMet.id]\n",
    "print(len(containsMeds))\n",
    "containsMeds\n",
    "dfmetsShootBiomassMedicagoInPvulModel=pd.DataFrame()\n",
    "for i in containsMeds:\n",
    "    dfmetsShootBiomassMedicagoInPvulModel=dfmetsShootBiomassMedicagoInPvulModel.append({'Metabolite':i.id},ignore_index=True)\n",
    "dfmetsShootBiomassMedicagoInPvulModel"
   ]
  },
  {
   "cell_type": "code",
   "execution_count": 12,
   "metadata": {},
   "outputs": [
    {
     "data": {
      "text/plain": [
       "45"
      ]
     },
     "execution_count": 12,
     "metadata": {},
     "output_type": "execute_result"
    }
   ],
   "source": [
    "len(dfmetsShootBiomassMedicagoInPvulModel)"
   ]
  },
  {
   "cell_type": "code",
   "execution_count": 13,
   "metadata": {},
   "outputs": [
    {
     "data": {
      "text/plain": [
       "60"
      ]
     },
     "execution_count": 13,
     "metadata": {},
     "output_type": "execute_result"
    }
   ],
   "source": [
    "differenceShoot=set(Dataframe['Biomass Shoot metabolite']) - set(dfmetsShootBiomassMedicagoInPvulModel['Metabolite'])\n",
    "len(differenceShoot)"
   ]
  },
  {
   "attachments": {},
   "cell_type": "markdown",
   "metadata": {},
   "source": [
    "#### CREAR RXN DE BIOMASA"
   ]
  },
  {
   "cell_type": "code",
   "execution_count": 164,
   "metadata": {},
   "outputs": [
    {
     "data": {
      "text/plain": [
       "'1059.91415352 ASN[c] + 2.69447148 ATP[c] + 55.68810588 BETA-D-FRUCTOSE[c] + 9.24733584 CIT[c] + 2.69447148 CTP[c] + 4.11707124 DCTP[c] + 56.81677284 GDP-L-GALACTOSE[c] + 44.96699448 GLC[c] + 2.69447148 GLN[c] + 85.75296984 GLT[c] + 12.8691828 GLY[c] + 2.69447148 GTP[c] + 2.67898752 ILE[c] + 3.27096468 L-ASPARTATE[c] + 66.57210504 LINOLEIC_ACID[c] + 16.42069584 MAL[c] + 21.03360372 MYO-INOSITOL[c] + 19.0645164 OLEATE-CPD[c] + 22.7417382 PALMITATE[c] + 7.6969278 PHE[c] + 2.88841464 PRO[c] + 9.28433988 SER[c] + 10.90403208 STEARIC_ACID[c] + 80.23280688 SUCROSE[c] + 10.4070582 SUC[c] + 4.58360208 THR[c] + 6.71732676 TTP[c] + 2.69447148 UTP[c] + 9.24497388 VAL[c] + 1420.45982424 WATER[c] + 5.7356262 _5-OXOPROLINE[c] --> 56.81677284 GDP[c] + 32.44650696 PPI[c] + 774.167119559999 PROTON[c] + 345.79470564 UDP[c]'"
      ]
     },
     "execution_count": 164,
     "metadata": {},
     "output_type": "execute_result"
    }
   ],
   "source": [
    "# rxnBiomass=Reaction('Biomass')\n",
    "# rxnBiomass.name='Biomass'\n",
    "# rxnBiomass.add_metabolites({\n",
    "#     pvulModel.metabolites.get_by_id('PHE[c]'): -7.6969278,\n",
    "#     pvulModel.metabolites.get_by_id('ATP[c]'): -2.69447148,\n",
    "#     #pvulModel.metabolites.get_by_id('DATP[c]'): -6.71732676,\n",
    "#     pvulModel.metabolites.get_by_id('VAL[c]'): -9.24497388,\n",
    "#     pvulModel.metabolites.get_by_id('WATER[c]'): -1420.45982424,\n",
    "#     pvulModel.metabolites.get_by_id('BETA-D-FRUCTOSE[c]'): -55.68810588,\n",
    "#     #pvulModel.metabolites.get_by_id('DCTP[c]'): -4.11707124,\n",
    "#     pvulModel.metabolites.get_by_id('SUC[c]'): -10.4070582,\n",
    "#     pvulModel.metabolites.get_by_id('GLC[c]'): -44.96699448,\n",
    "#     pvulModel.metabolites.get_by_id('GLT[c]'): -85.75296984,\n",
    "#     pvulModel.metabolites.get_by_id('STEARIC_ACID[c]'): -10.90403208,\n",
    "#     pvulModel.metabolites.get_by_id('L-ASPARTATE[c]'): -3.27096468,\n",
    "#     pvulModel.metabolites.get_by_id('ASN[c]'): -1059.91415352,\n",
    "#     pvulModel.metabolites.get_by_id('MYO-INOSITOL[c]'): -21.03360372,\n",
    "#     pvulModel.metabolites.get_by_id('CIT[c]'): -9.24733584,\n",
    "#     pvulModel.metabolites.get_by_id('GTP[c]'): -2.69447148,\n",
    "#     pvulModel.metabolites.get_by_id('MAL[c]'): -16.42069584,\n",
    "#     pvulModel.metabolites.get_by_id('CTP[c]'): -2.69447148,\n",
    "#     pvulModel.metabolites.get_by_id('DCTP[c]'): -4.11707124,\n",
    "#     pvulModel.metabolites.get_by_id('SER[c]'): -9.28433988,\n",
    "#     pvulModel.metabolites.get_by_id('GLY[c]'): -12.8691828,\n",
    "#     pvulModel.metabolites.get_by_id('LINOLEIC_ACID[c]'): -66.57210504,\n",
    "#     pvulModel.metabolites.get_by_id('OLEATE-CPD[c]'): -19.0645164,\n",
    "#     pvulModel.metabolites.get_by_id('PALMITATE[c]'): -22.7417382,\n",
    "#     pvulModel.metabolites.get_by_id('PRO[c]'): -2.88841464,\n",
    "#     #pvulModel.metabolites.get_by_id('UTP[c]'): -2.69447148,\n",
    "#     pvulModel.metabolites.get_by_id('SUCROSE[c]'): -80.23280688,\n",
    "#     #pvulModel.metabolites.get_by_id('TTP[c]'): -6.71732676,\n",
    "#     pvulModel.metabolites.get_by_id('GDP-L-GALACTOSE[c]'): -56.81677284,\n",
    "#     pvulModel.metabolites.get_by_id('THR[c]'): -4.58360208,\n",
    "#     pvulModel.metabolites.get_by_id('ILE[c]'): -2.67898752,\n",
    "#     #pvulModel.metabolites.get_by_id('DATP[c]'): -6.71732676,\n",
    "#     pvulModel.metabolites.get_by_id('_5-OXOPROLINE[c]'): -5.7356262,\n",
    "#     pvulModel.metabolites.get_by_id('GLN[c]'): -2.69447148,\n",
    "#     pvulModel.metabolites.get_by_id('PROTON[c]'): 774.167119559999,\n",
    "#     pvulModel.metabolites.get_by_id('PPI[c]'): 32.44650696,\n",
    "#     pvulModel.metabolites.get_by_id('GDP[c]'): 56.81677284,\n",
    "#     #pvulModel.metabolites.get_by_id('UDP[c]'): 345.79470564,\n",
    "# })\n",
    "# rxnBiomass.reaction\n",
    "\n",
    "\n"
   ]
  },
  {
   "cell_type": "code",
   "execution_count": 6,
   "metadata": {},
   "outputs": [
    {
     "data": {
      "text/html": [
       "<h3>Objective</h3><p>1.0 Biomass = 0.47959138499584847</p><h4>Uptake</h4><table border=\"1\" class=\"dataframe\">\n",
       "  <thead>\n",
       "    <tr style=\"text-align: right;\">\n",
       "      <th>Metabolite</th>\n",
       "      <th>Reaction</th>\n",
       "      <th>Flux</th>\n",
       "      <th>C-Number</th>\n",
       "      <th>C-Flux</th>\n",
       "    </tr>\n",
       "  </thead>\n",
       "  <tbody>\n",
       "    <tr>\n",
       "      <td>ASN[e]</td>\n",
       "      <td>EX_ASN[e]</td>\n",
       "      <td>508.3</td>\n",
       "      <td>4</td>\n",
       "      <td>6.32%</td>\n",
       "    </tr>\n",
       "    <tr>\n",
       "      <td>BETA-D-FRUCTOSE[e]</td>\n",
       "      <td>EX_BETA-D-FRUCTOSE[e]</td>\n",
       "      <td>5.142</td>\n",
       "      <td>6</td>\n",
       "      <td>0.10%</td>\n",
       "    </tr>\n",
       "    <tr>\n",
       "      <td>CIT[e]</td>\n",
       "      <td>EX_CIT[e]</td>\n",
       "      <td>366</td>\n",
       "      <td>6</td>\n",
       "      <td>6.82%</td>\n",
       "    </tr>\n",
       "    <tr>\n",
       "      <td>GLN[e]</td>\n",
       "      <td>EX_GLN[e]</td>\n",
       "      <td>1000</td>\n",
       "      <td>5</td>\n",
       "      <td>15.54%</td>\n",
       "    </tr>\n",
       "    <tr>\n",
       "      <td>GLY[e]</td>\n",
       "      <td>EX_GLY[e]</td>\n",
       "      <td>428.8</td>\n",
       "      <td>2</td>\n",
       "      <td>2.67%</td>\n",
       "    </tr>\n",
       "    <tr>\n",
       "      <td>ILE[e]</td>\n",
       "      <td>EX_ILE[e]</td>\n",
       "      <td>1.285</td>\n",
       "      <td>6</td>\n",
       "      <td>0.02%</td>\n",
       "    </tr>\n",
       "    <tr>\n",
       "      <td>L-ASPARTATE[e]</td>\n",
       "      <td>EX_L-ASPARTATE[e]</td>\n",
       "      <td>1.569</td>\n",
       "      <td>4</td>\n",
       "      <td>0.02%</td>\n",
       "    </tr>\n",
       "    <tr>\n",
       "      <td>LINOLEIC_ACID[e]</td>\n",
       "      <td>EX_LINOLEIC_ACID[e]</td>\n",
       "      <td>31.93</td>\n",
       "      <td>18</td>\n",
       "      <td>1.79%</td>\n",
       "    </tr>\n",
       "    <tr>\n",
       "      <td>LYS[e]</td>\n",
       "      <td>EX_LYS[e]</td>\n",
       "      <td>308.9</td>\n",
       "      <td>6</td>\n",
       "      <td>5.76%</td>\n",
       "    </tr>\n",
       "    <tr>\n",
       "      <td>MAL[e]</td>\n",
       "      <td>EX_MAL[e]</td>\n",
       "      <td>1000</td>\n",
       "      <td>4</td>\n",
       "      <td>12.43%</td>\n",
       "    </tr>\n",
       "    <tr>\n",
       "      <td>MET[e]</td>\n",
       "      <td>EX_MET[e]</td>\n",
       "      <td>671.4</td>\n",
       "      <td>5</td>\n",
       "      <td>10.43%</td>\n",
       "    </tr>\n",
       "    <tr>\n",
       "      <td>MYO-INOSITOL[e]</td>\n",
       "      <td>EX_MYO-INOSITOL[e]</td>\n",
       "      <td>10.09</td>\n",
       "      <td>6</td>\n",
       "      <td>0.19%</td>\n",
       "    </tr>\n",
       "    <tr>\n",
       "      <td>NITRATE[e]</td>\n",
       "      <td>EX_NITRATE[e]</td>\n",
       "      <td>860.7</td>\n",
       "      <td>0</td>\n",
       "      <td>0.00%</td>\n",
       "    </tr>\n",
       "    <tr>\n",
       "      <td>OLEATE-CPD[e]</td>\n",
       "      <td>EX_OLEATE-CPD[e]</td>\n",
       "      <td>9.143</td>\n",
       "      <td>18</td>\n",
       "      <td>0.51%</td>\n",
       "    </tr>\n",
       "    <tr>\n",
       "      <td>OXYGEN-MOLECULE[e]</td>\n",
       "      <td>EX_OXYGEN-MOLECULE[e]</td>\n",
       "      <td>836</td>\n",
       "      <td>0</td>\n",
       "      <td>0.00%</td>\n",
       "    </tr>\n",
       "    <tr>\n",
       "      <td>PALMITATE[e]</td>\n",
       "      <td>EX_PALMITATE[e]</td>\n",
       "      <td>10.91</td>\n",
       "      <td>16</td>\n",
       "      <td>0.54%</td>\n",
       "    </tr>\n",
       "    <tr>\n",
       "      <td>PHE[e]</td>\n",
       "      <td>EX_PHE[e]</td>\n",
       "      <td>3.691</td>\n",
       "      <td>9</td>\n",
       "      <td>0.10%</td>\n",
       "    </tr>\n",
       "    <tr>\n",
       "      <td>PRO[e]</td>\n",
       "      <td>EX_PRO[e]</td>\n",
       "      <td>1.385</td>\n",
       "      <td>5</td>\n",
       "      <td>0.02%</td>\n",
       "    </tr>\n",
       "    <tr>\n",
       "      <td>PYRIDOXAL_PHOSPHATE[e]</td>\n",
       "      <td>EX_PYRIDOXAL_PHOSPHATE[e]</td>\n",
       "      <td>1000</td>\n",
       "      <td>8</td>\n",
       "      <td>24.86%</td>\n",
       "    </tr>\n",
       "    <tr>\n",
       "      <td>SER[e]</td>\n",
       "      <td>EX_SER[e]</td>\n",
       "      <td>1000</td>\n",
       "      <td>3</td>\n",
       "      <td>9.32%</td>\n",
       "    </tr>\n",
       "    <tr>\n",
       "      <td>STEARIC_ACID[e]</td>\n",
       "      <td>EX_STEARIC_ACID[e]</td>\n",
       "      <td>5.229</td>\n",
       "      <td>18</td>\n",
       "      <td>0.29%</td>\n",
       "    </tr>\n",
       "    <tr>\n",
       "      <td>SUCROSE[e]</td>\n",
       "      <td>EX_SUCROSE[e]</td>\n",
       "      <td>60.04</td>\n",
       "      <td>12</td>\n",
       "      <td>2.24%</td>\n",
       "    </tr>\n",
       "    <tr>\n",
       "      <td>THR[e]</td>\n",
       "      <td>EX_THR[e]</td>\n",
       "      <td>2.198</td>\n",
       "      <td>4</td>\n",
       "      <td>0.03%</td>\n",
       "    </tr>\n",
       "  </tbody>\n",
       "</table><h4>Secretion</h4><table border=\"1\" class=\"dataframe\">\n",
       "  <thead>\n",
       "    <tr style=\"text-align: right;\">\n",
       "      <th>Metabolite</th>\n",
       "      <th>Reaction</th>\n",
       "      <th>Flux</th>\n",
       "      <th>C-Number</th>\n",
       "      <th>C-Flux</th>\n",
       "    </tr>\n",
       "  </thead>\n",
       "  <tbody>\n",
       "    <tr>\n",
       "      <td>ADENOSYL-HOMO-CYS[e]</td>\n",
       "      <td>EX_ADENOSYL-HOMO-CYS[e]</td>\n",
       "      <td>-671.4</td>\n",
       "      <td>14</td>\n",
       "      <td>36.56%</td>\n",
       "    </tr>\n",
       "    <tr>\n",
       "      <td>ASCORBATE[e]</td>\n",
       "      <td>EX_ASCORBATE[e]</td>\n",
       "      <td>-190.1</td>\n",
       "      <td>6</td>\n",
       "      <td>4.44%</td>\n",
       "    </tr>\n",
       "    <tr>\n",
       "      <td>CARBON-DIOXIDE[e]</td>\n",
       "      <td>EX_CARBON-DIOXIDE[e]</td>\n",
       "      <td>-1000</td>\n",
       "      <td>1</td>\n",
       "      <td>3.89%</td>\n",
       "    </tr>\n",
       "    <tr>\n",
       "      <td>GLT[e]</td>\n",
       "      <td>EX_GLT[e]</td>\n",
       "      <td>-620.3</td>\n",
       "      <td>5</td>\n",
       "      <td>12.06%</td>\n",
       "    </tr>\n",
       "    <tr>\n",
       "      <td>HCO3[e]</td>\n",
       "      <td>EX_HCO3[e]</td>\n",
       "      <td>-1000</td>\n",
       "      <td>1</td>\n",
       "      <td>3.89%</td>\n",
       "    </tr>\n",
       "    <tr>\n",
       "      <td>L-ALPHA-ALANINE[e]</td>\n",
       "      <td>EX_L-ALPHA-ALANINE[e]</td>\n",
       "      <td>-1000</td>\n",
       "      <td>3</td>\n",
       "      <td>11.67%</td>\n",
       "    </tr>\n",
       "    <tr>\n",
       "      <td>OXALACETIC_ACID[e]</td>\n",
       "      <td>EX_OXALACETIC_ACID[e]</td>\n",
       "      <td>-536.7</td>\n",
       "      <td>4</td>\n",
       "      <td>8.35%</td>\n",
       "    </tr>\n",
       "    <tr>\n",
       "      <td>PROTON[e]</td>\n",
       "      <td>EX_PROTON[e]</td>\n",
       "      <td>-1000</td>\n",
       "      <td>0</td>\n",
       "      <td>0.00%</td>\n",
       "    </tr>\n",
       "    <tr>\n",
       "      <td>Pi[e]</td>\n",
       "      <td>EX_Pi[e]</td>\n",
       "      <td>-351.9</td>\n",
       "      <td>0</td>\n",
       "      <td>0.00%</td>\n",
       "    </tr>\n",
       "    <tr>\n",
       "      <td>SUC[e]</td>\n",
       "      <td>EX_SUC[e]</td>\n",
       "      <td>-1000</td>\n",
       "      <td>4</td>\n",
       "      <td>15.56%</td>\n",
       "    </tr>\n",
       "    <tr>\n",
       "      <td>VAL[e]</td>\n",
       "      <td>EX_VAL[e]</td>\n",
       "      <td>-184</td>\n",
       "      <td>5</td>\n",
       "      <td>3.58%</td>\n",
       "    </tr>\n",
       "    <tr>\n",
       "      <td>WATER[e]</td>\n",
       "      <td>EX_WATER[e]</td>\n",
       "      <td>-443.7</td>\n",
       "      <td>0</td>\n",
       "      <td>0.00%</td>\n",
       "    </tr>\n",
       "  </tbody>\n",
       "</table>"
      ],
      "text/plain": [
       "<cobra.summary.model_summary.ModelSummary at 0x2274bee58d0>"
      ]
     },
     "execution_count": 6,
     "metadata": {},
     "output_type": "execute_result"
    }
   ],
   "source": [
    "#Revissar los flujos de entrada y salida para optimizar biomasa\n",
    "pvulModel.summary()"
   ]
  },
  {
   "cell_type": "code",
   "execution_count": null,
   "metadata": {},
   "outputs": [],
   "source": [
    "#ELiminar rxn \n",
    "removerxn=pvulModel.reactions.get_by_id(\"imaginary2\")\n",
    "pvulModel.remove_reactions([removerxn])"
   ]
  },
  {
   "cell_type": "code",
   "execution_count": 4,
   "metadata": {},
   "outputs": [],
   "source": [
    "#Creacion de rxn de biomasa\n",
    "imaginary=Reaction('Biomass')\n",
    "imaginary.name='Biomass'\n",
    "imaginary.add_metabolites({\n",
    "    pvulModel.metabolites.get_by_id('PHE[c]'): -7.6969278,\n",
    "    pvulModel.metabolites.get_by_id('ATP[c]'): -2.69447148,\n",
    "    pvulModel.metabolites.get_by_id('VAL[c]'): -9.24497388,\n",
    "    pvulModel.metabolites.get_by_id('WATER[c]'): -1420.45982424,\n",
    "    pvulModel.metabolites.get_by_id('BETA-D-FRUCTOSE[c]'): -55.68810588,\n",
    "    pvulModel.metabolites.get_by_id('SUC[c]'): -10.4070582,\n",
    "    pvulModel.metabolites.get_by_id('GLC[c]'): -44.96699448,\n",
    "    pvulModel.metabolites.get_by_id('GLT[c]'): -85.75296984,\n",
    "    pvulModel.metabolites.get_by_id('STEARIC_ACID[c]'): -10.90403208,\n",
    "    pvulModel.metabolites.get_by_id('L-ASPARTATE[c]'): -3.27096468,\n",
    "    pvulModel.metabolites.get_by_id('ASN[c]'): -1059.91415352,\n",
    "    pvulModel.metabolites.get_by_id('MYO-INOSITOL[c]'): -21.03360372,\n",
    "    pvulModel.metabolites.get_by_id('CPD-406[c]'): -1400,\n",
    "    pvulModel.metabolites.get_by_id('CIT[c]'): -9.24733584,\n",
    "    pvulModel.metabolites.get_by_id('GTP[c]'): -2.69447148,\n",
    "    pvulModel.metabolites.get_by_id('MAL[c]'): -16.42069584,\n",
    "    pvulModel.metabolites.get_by_id('SER[c]'): -9.28433988,\n",
    "    pvulModel.metabolites.get_by_id('GLY[c]'): -12.8691828,\n",
    "    pvulModel.metabolites.get_by_id('LINOLEIC_ACID[c]'): -66.57210504,\n",
    "    pvulModel.metabolites.get_by_id('OLEATE-CPD[c]'): -19.0645164,\n",
    "    pvulModel.metabolites.get_by_id('PALMITATE[c]'): -22.7417382,\n",
    "    pvulModel.metabolites.get_by_id('PRO[c]'): -2.88841464,\n",
    "    pvulModel.metabolites.get_by_id('SUCROSE[c]'): -80.23280688,\n",
    "    pvulModel.metabolites.get_by_id('GDP-L-GALACTOSE[c]'): -56.81677284,\n",
    "    pvulModel.metabolites.get_by_id('THR[c]'): -4.58360208,\n",
    "    pvulModel.metabolites.get_by_id('ILE[c]'): -2.67898752,\n",
    "    pvulModel.metabolites.get_by_id('_5-OXOPROLINE[c]'): -5.7356262,\n",
    "    pvulModel.metabolites.get_by_id('GLN[c]'): -2.69447148,\n",
    "    pvulModel.metabolites.get_by_id('PROTON[c]'): 774.167119559999,\n",
    "    pvulModel.metabolites.get_by_id('PPI[c]'): 32.44650696,\n",
    "    pvulModel.metabolites.get_by_id('GDP[c]'): 56.81677284,\n",
    "})\n",
    "pvulModel.add_reactions([imaginary])"
   ]
  },
  {
   "cell_type": "code",
   "execution_count": 5,
   "metadata": {},
   "outputs": [],
   "source": [
    "# settear biomasa como funcion obj\n",
    "pvulModel.objective=\"Biomass\""
   ]
  },
  {
   "cell_type": "code",
   "execution_count": null,
   "metadata": {},
   "outputs": [
    {
     "data": {
      "text/plain": [
       "['Biomass']"
      ]
     },
     "execution_count": 75,
     "metadata": {},
     "output_type": "execute_result"
    }
   ],
   "source": [
    "#chequear rxn bloqueadas\n",
    "cobra.flux_analysis.find_blocked_reactions(pvulModel)"
   ]
  },
  {
   "cell_type": "code",
   "execution_count": 7,
   "metadata": {},
   "outputs": [],
   "source": [
    "write_sbml_model(pvulModel, 'pvulModelBiomass.xml')"
   ]
  }
 ],
 "metadata": {
  "kernelspec": {
   "display_name": "CobraPy",
   "language": "python",
   "name": "python3"
  },
  "language_info": {
   "codemirror_mode": {
    "name": "ipython",
    "version": 3
   },
   "file_extension": ".py",
   "mimetype": "text/x-python",
   "name": "python",
   "nbconvert_exporter": "python",
   "pygments_lexer": "ipython3",
   "version": "3.10.9"
  },
  "orig_nbformat": 4
 },
 "nbformat": 4,
 "nbformat_minor": 2
}
