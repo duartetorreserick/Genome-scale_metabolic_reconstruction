{
 "cells": [
  {
   "cell_type": "code",
   "execution_count": 1,
   "id": "b47ae9c9",
   "metadata": {},
   "outputs": [
    {
     "name": "stdout",
     "output_type": "stream",
     "text": [
      "C:\\Users\\duart\\OneDrive\\Documentos\\UNIANDES\\PHASEOLUS LUNATUS\\GENOMIC\\Gene Cluster\\Homology\n"
     ]
    }
   ],
   "source": [
    "%cd C:\\Users\\duart\\OneDrive\\Documentos\\UNIANDES\\PHASEOLUS LUNATUS\\GENOMIC\\Gene Cluster\\Homology"
   ]
  },
  {
   "cell_type": "code",
   "execution_count": 10,
   "id": "0e20ff06",
   "metadata": {},
   "outputs": [],
   "source": [
    "def create_cluster(file):\n",
    "    ClusterAAV2={}\n",
    "    with open(file,'r') as file:\n",
    "        for line in file:\n",
    "            key=line.strip()\n",
    "            value=next(file).split()\n",
    "            ClusterAAV2[key]=value\n",
    "        SetAA=set({})\n",
    "    for lists in ClusterAAV2.values():\n",
    "        for element in lists:\n",
    "            SetAA.add(element)\n",
    "    return SetAA\n",
    "        "
   ]
  },
  {
   "cell_type": "code",
   "execution_count": 33,
   "id": "c79d2a19",
   "metadata": {},
   "outputs": [],
   "source": [
    "\n"
   ]
  },
  {
   "cell_type": "code",
   "execution_count": 27,
   "id": "5b605b96",
   "metadata": {},
   "outputs": [
    {
     "data": {
      "text/plain": [
       "['Phvul.006G002300.v2.1',\n",
       " 'Phvul.006G078800.v2.1',\n",
       " 'Phvul.006G078900.v2.1',\n",
       " 'Phvul.006G079100.v2.1',\n",
       " 'Phvul.006G079200.v2.1',\n",
       " 'Phvul.010G076800.v2.1',\n",
       " 'Pl06G0000006800.v1',\n",
       " 'Pl06G0000007700.v1',\n",
       " 'Pl06G0000190800.v1',\n",
       " 'Pl06G0000191200.v1',\n",
       " 'Pl06G0000191400.v1',\n",
       " 'Pl06G0000191700.v1',\n",
       " 'Pl06G0000192100.v1',\n",
       " 'Pl06G0000192200.v1',\n",
       " 'Pl10G0000255200.v1',\n",
       " 'Pl10G0000258800.v1',\n",
       " 'Pl10G0000258900.v1']"
      ]
     },
     "execution_count": 27,
     "metadata": {},
     "output_type": "execute_result"
    }
   ],
   "source": [
    "SetAA=create_cluster('ClusterAA-OximeV2.txt')\n",
    "sorted(list(SetAA))"
   ]
  },
  {
   "cell_type": "code",
   "execution_count": 28,
   "id": "10d2b125",
   "metadata": {},
   "outputs": [
    {
     "data": {
      "text/plain": [
       "['Phvul.008G155000.v2.1',\n",
       " 'Phvul.010G010900.v2.1',\n",
       " 'Phvul.010G011000.v2.1',\n",
       " 'Phvul.010G076700.v2.1',\n",
       " 'Phvul.010G077000.v2.1',\n",
       " 'Phvul.010G079100.v2.1',\n",
       " 'Pl08G0000254200.v1',\n",
       " 'Pl10G0000064900.v1',\n",
       " 'Pl10G0000065400.v1',\n",
       " 'Pl10G0000065500.v1',\n",
       " 'Pl10G0000253500.v1',\n",
       " 'Pl10G0000256600.v1',\n",
       " 'Pl10G0000257300.v1',\n",
       " 'Pl10G0000260500.v1',\n",
       " 'Pl10G0000261100.v1']"
      ]
     },
     "execution_count": 28,
     "metadata": {},
     "output_type": "execute_result"
    }
   ],
   "source": [
    "setOxime=create_cluster('ClusterOxime-NitrileV2.txt')\n",
    "sorted(list(setOxime))\n"
   ]
  },
  {
   "cell_type": "code",
   "execution_count": 29,
   "id": "c96d8687",
   "metadata": {},
   "outputs": [
    {
     "data": {
      "text/plain": [
       "['Phvul.006G017400.v2.1',\n",
       " 'Phvul.006G017500.v2.1',\n",
       " 'Phvul.006G017600.v2.1',\n",
       " 'Phvul.008G174700.v2.1',\n",
       " 'Phvul.008G175300.v2.1',\n",
       " 'Phvul.008G175500.v2.1',\n",
       " 'Phvul.008G175600.v2.1',\n",
       " 'Phvul.011G158500.v2.1',\n",
       " 'Pl06G0000087000.v1',\n",
       " 'Pl06G0000088100.v1',\n",
       " 'Pl06G0000090100.v1',\n",
       " 'Pl06G0000093600.v1',\n",
       " 'Pl06G0000099600.v1',\n",
       " 'Pl08G0000304500.v1',\n",
       " 'Pl08G0000305700.v1',\n",
       " 'Pl08G0000305800.v1',\n",
       " 'Pl08G0000305900.v1']"
      ]
     },
     "execution_count": 29,
     "metadata": {},
     "output_type": "execute_result"
    }
   ],
   "source": [
    "setCyanogenic=create_cluster('ClusterNitrile-CyanoV2.txt')\n",
    "sorted(list(setCyanogenic))"
   ]
  }
 ],
 "metadata": {
  "kernelspec": {
   "display_name": "Python 3 (ipykernel)",
   "language": "python",
   "name": "python3"
  },
  "language_info": {
   "codemirror_mode": {
    "name": "ipython",
    "version": 3
   },
   "file_extension": ".py",
   "mimetype": "text/x-python",
   "name": "python",
   "nbconvert_exporter": "python",
   "pygments_lexer": "ipython3",
   "version": "3.9.16"
  }
 },
 "nbformat": 4,
 "nbformat_minor": 5
}
