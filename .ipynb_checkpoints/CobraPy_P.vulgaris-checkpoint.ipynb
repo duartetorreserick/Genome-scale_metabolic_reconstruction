{
 "cells": [
  {
   "cell_type": "code",
   "execution_count": 1,
   "id": "b9e74a28",
   "metadata": {},
   "outputs": [],
   "source": [
    "import cobra\n",
    "from cobra.io import load_model\n",
    "from pathlib import Path\n",
    "from cobra.io import load_json_model, save_json_model, load_matlab_model, save_matlab_model, read_sbml_model, write_sbml_model\n",
    "import logging"
   ]
  },
  {
   "cell_type": "code",
   "execution_count": null,
   "id": "6fd943fb",
   "metadata": {},
   "outputs": [],
   "source": []
  },
  {
   "cell_type": "code",
   "execution_count": 3,
   "id": "b7fec072",
   "metadata": {},
   "outputs": [
    {
     "ename": "OSError",
     "evalue": "The file with 'Pvulgaris.sbml' does not exist, or is not an SBML string. Provide the path to an existing SBML file or a valid SBML string representation:\n",
     "output_type": "error",
     "traceback": [
      "\u001b[1;31m---------------------------------------------------------------------------\u001b[0m",
      "\u001b[1;31mOSError\u001b[0m                                   Traceback (most recent call last)",
      "\u001b[1;32m~\\AppData\\Local\\Temp\\ipykernel_12028\\923331548.py\u001b[0m in \u001b[0;36m<module>\u001b[1;34m\u001b[0m\n\u001b[1;32m----> 1\u001b[1;33m \u001b[0mmodel\u001b[0m \u001b[1;33m=\u001b[0m \u001b[0mread_sbml_model\u001b[0m\u001b[1;33m(\u001b[0m\u001b[0mstr\u001b[0m\u001b[1;33m(\u001b[0m\u001b[1;34m\"Pvulgaris.sbml\"\u001b[0m\u001b[1;33m)\u001b[0m\u001b[1;33m)\u001b[0m\u001b[1;33m\u001b[0m\u001b[1;33m\u001b[0m\u001b[0m\n\u001b[0m",
      "\u001b[1;32m~\\Anaconda\\lib\\site-packages\\cobra\\io\\sbml.py\u001b[0m in \u001b[0;36mread_sbml_model\u001b[1;34m(filename, number, f_replace, **kwargs)\u001b[0m\n\u001b[0;32m    458\u001b[0m         \u001b[1;32mreturn\u001b[0m \u001b[0m_sbml_to_model\u001b[0m\u001b[1;33m(\u001b[0m\u001b[0mdoc\u001b[0m\u001b[1;33m,\u001b[0m \u001b[0mnumber\u001b[0m\u001b[1;33m=\u001b[0m\u001b[0mnumber\u001b[0m\u001b[1;33m,\u001b[0m \u001b[0mf_replace\u001b[0m\u001b[1;33m=\u001b[0m\u001b[0mf_replace\u001b[0m\u001b[1;33m,\u001b[0m \u001b[1;33m**\u001b[0m\u001b[0mkwargs\u001b[0m\u001b[1;33m)\u001b[0m\u001b[1;33m\u001b[0m\u001b[1;33m\u001b[0m\u001b[0m\n\u001b[0;32m    459\u001b[0m     \u001b[1;32mexcept\u001b[0m \u001b[0mIOError\u001b[0m \u001b[1;32mas\u001b[0m \u001b[0me\u001b[0m\u001b[1;33m:\u001b[0m\u001b[1;33m\u001b[0m\u001b[1;33m\u001b[0m\u001b[0m\n\u001b[1;32m--> 460\u001b[1;33m         \u001b[1;32mraise\u001b[0m \u001b[0me\u001b[0m\u001b[1;33m\u001b[0m\u001b[1;33m\u001b[0m\u001b[0m\n\u001b[0m\u001b[0;32m    461\u001b[0m \u001b[1;33m\u001b[0m\u001b[0m\n\u001b[0;32m    462\u001b[0m     \u001b[1;32mexcept\u001b[0m \u001b[0mException\u001b[0m \u001b[1;32mas\u001b[0m \u001b[0moriginal_error\u001b[0m\u001b[1;33m:\u001b[0m\u001b[1;33m\u001b[0m\u001b[1;33m\u001b[0m\u001b[0m\n",
      "\u001b[1;32m~\\Anaconda\\lib\\site-packages\\cobra\\io\\sbml.py\u001b[0m in \u001b[0;36mread_sbml_model\u001b[1;34m(filename, number, f_replace, **kwargs)\u001b[0m\n\u001b[0;32m    455\u001b[0m     \"\"\"\n\u001b[0;32m    456\u001b[0m     \u001b[1;32mtry\u001b[0m\u001b[1;33m:\u001b[0m\u001b[1;33m\u001b[0m\u001b[1;33m\u001b[0m\u001b[0m\n\u001b[1;32m--> 457\u001b[1;33m         \u001b[0mdoc\u001b[0m \u001b[1;33m=\u001b[0m \u001b[0m_get_doc_from_filename\u001b[0m\u001b[1;33m(\u001b[0m\u001b[0mfilename\u001b[0m\u001b[1;33m)\u001b[0m\u001b[1;33m\u001b[0m\u001b[1;33m\u001b[0m\u001b[0m\n\u001b[0m\u001b[0;32m    458\u001b[0m         \u001b[1;32mreturn\u001b[0m \u001b[0m_sbml_to_model\u001b[0m\u001b[1;33m(\u001b[0m\u001b[0mdoc\u001b[0m\u001b[1;33m,\u001b[0m \u001b[0mnumber\u001b[0m\u001b[1;33m=\u001b[0m\u001b[0mnumber\u001b[0m\u001b[1;33m,\u001b[0m \u001b[0mf_replace\u001b[0m\u001b[1;33m=\u001b[0m\u001b[0mf_replace\u001b[0m\u001b[1;33m,\u001b[0m \u001b[1;33m**\u001b[0m\u001b[0mkwargs\u001b[0m\u001b[1;33m)\u001b[0m\u001b[1;33m\u001b[0m\u001b[1;33m\u001b[0m\u001b[0m\n\u001b[0;32m    459\u001b[0m     \u001b[1;32mexcept\u001b[0m \u001b[0mIOError\u001b[0m \u001b[1;32mas\u001b[0m \u001b[0me\u001b[0m\u001b[1;33m:\u001b[0m\u001b[1;33m\u001b[0m\u001b[1;33m\u001b[0m\u001b[0m\n",
      "\u001b[1;32m~\\Anaconda\\lib\\site-packages\\cobra\\io\\sbml.py\u001b[0m in \u001b[0;36m_get_doc_from_filename\u001b[1;34m(filename)\u001b[0m\n\u001b[0;32m    503\u001b[0m             \u001b[1;31m# string representation\u001b[0m\u001b[1;33m\u001b[0m\u001b[1;33m\u001b[0m\u001b[0m\n\u001b[0;32m    504\u001b[0m             \u001b[1;32mif\u001b[0m \u001b[1;34m\"<sbml\"\u001b[0m \u001b[1;32mnot\u001b[0m \u001b[1;32min\u001b[0m \u001b[0mfilename\u001b[0m\u001b[1;33m:\u001b[0m\u001b[1;33m\u001b[0m\u001b[1;33m\u001b[0m\u001b[0m\n\u001b[1;32m--> 505\u001b[1;33m                 raise IOError(\n\u001b[0m\u001b[0;32m    506\u001b[0m                     \u001b[1;34mf\"The file with '{filename}' does not exist, \"\u001b[0m\u001b[1;33m\u001b[0m\u001b[1;33m\u001b[0m\u001b[0m\n\u001b[0;32m    507\u001b[0m                     \u001b[1;34mf\"or is not an SBML string. Provide the path to \"\u001b[0m\u001b[1;33m\u001b[0m\u001b[1;33m\u001b[0m\u001b[0m\n",
      "\u001b[1;31mOSError\u001b[0m: The file with 'Pvulgaris.sbml' does not exist, or is not an SBML string. Provide the path to an existing SBML file or a valid SBML string representation:\n"
     ]
    }
   ],
   "source": [
    "model = read_sbml_model(str(\"Pvulgaris.sbml\"))\n"
   ]
  },
  {
   "cell_type": "code",
   "execution_count": null,
   "id": "5a83f8b9",
   "metadata": {},
   "outputs": [],
   "source": [
    "model"
   ]
  },
  {
   "cell_type": "code",
   "execution_count": null,
   "id": "4ce8321d",
   "metadata": {},
   "outputs": [],
   "source": [
    "cinco=model.reactions[4]\n",
    "cinco"
   ]
  },
  {
   "cell_type": "code",
   "execution_count": null,
   "id": "01bd0b6b",
   "metadata": {},
   "outputs": [],
   "source": [
    "print(cinco.reaction)"
   ]
  },
  {
   "cell_type": "code",
   "execution_count": null,
   "id": "a8b0ed7d",
   "metadata": {},
   "outputs": [],
   "source": [
    "model.metabolites.get_by_id(\"MALONYL-ACP_c\")"
   ]
  },
  {
   "cell_type": "code",
   "execution_count": null,
   "id": "d373485c",
   "metadata": {},
   "outputs": [],
   "source": [
    "long=len(model.reactions)\n",
    "count=0\n",
    "unbalancedRxns=[]\n",
    "for i in range(long):\n",
    "    r=model.reactions[i]\n",
    "    mass=r.check_mass_balance()\n",
    "    if mass != {} :\n",
    "        #print(mass)\n",
    "        print(model.reactions[i].id)\n",
    "        count+=1\n",
    "        unbalancedRxns.append(model.reactions[i].id)\n",
    "#print(count)"
   ]
  },
  {
   "cell_type": "code",
   "execution_count": null,
   "id": "1de34d92",
   "metadata": {},
   "outputs": [],
   "source": [
    "reac=model.reactions.get_by_id(\"_2.3.1.179-RXN\")\n",
    "reac"
   ]
  },
  {
   "cell_type": "code",
   "execution_count": null,
   "id": "f2584955",
   "metadata": {
    "scrolled": true
   },
   "outputs": [],
   "source": [
    "for metabolite, coefficient in reac._metabolites.items():\n",
    "    print(metabolite.elements)"
   ]
  },
  {
   "cell_type": "code",
   "execution_count": null,
   "id": "fe446376",
   "metadata": {},
   "outputs": [],
   "source": [
    "reac"
   ]
  },
  {
   "cell_type": "code",
   "execution_count": null,
   "id": "57a3f886",
   "metadata": {},
   "outputs": [],
   "source": [
    "model.metabolites.get_by_id(\"Fe2-siderophores_c\").elements.items()"
   ]
  },
  {
   "cell_type": "code",
   "execution_count": null,
   "id": "de8738d5",
   "metadata": {},
   "outputs": [],
   "source": [
    "reac2=model.reactions.get_by_id(\"RXN-18232\")"
   ]
  },
  {
   "cell_type": "code",
   "execution_count": null,
   "id": "d104fee5",
   "metadata": {},
   "outputs": [],
   "source": [
    "reac2"
   ]
  },
  {
   "cell_type": "code",
   "execution_count": null,
   "id": "3c0b5b7e",
   "metadata": {},
   "outputs": [],
   "source": [
    "for metabolite, coefficient in reac2._metabolites.items():\n",
    "    print(metabolite.elements)"
   ]
  },
  {
   "cell_type": "code",
   "execution_count": null,
   "id": "e140d2b5",
   "metadata": {},
   "outputs": [],
   "source": [
    "reac2.check_mass_balance()"
   ]
  },
  {
   "cell_type": "markdown",
   "id": "0f90601a",
   "metadata": {},
   "source": [
    "# Obtener las reacciones desbalanceadas de P. vulgaris en G. max"
   ]
  },
  {
   "cell_type": "code",
   "execution_count": null,
   "id": "13d258be",
   "metadata": {},
   "outputs": [],
   "source": [
    "modelGm.reactions[2]"
   ]
  },
  {
   "cell_type": "code",
   "execution_count": null,
   "id": "c9474152",
   "metadata": {},
   "outputs": [],
   "source": [
    "unbalancedRxns[10]"
   ]
  },
  {
   "cell_type": "code",
   "execution_count": null,
   "id": "d69ae499",
   "metadata": {},
   "outputs": [],
   "source": [
    "notFound=[]\n",
    "found=[]\n",
    "for i in unbalancedRxns:\n",
    "    if modelGm.reactions.has_id(i+\"_c\"):\n",
    "        rxn=modelGm.reactions.get_by_id(i+\"_c\")\n",
    "        found.append(rxn)\n",
    "    else:\n",
    "        notFound.append(i)\n",
    "print(len(notFound))\n",
    "\n",
    "\n",
    "    \n",
    "    \n",
    "    "
   ]
  },
  {
   "cell_type": "code",
   "execution_count": null,
   "id": "7f3c9a27",
   "metadata": {},
   "outputs": [],
   "source": [
    "reac._metabolites."
   ]
  }
 ],
 "metadata": {
  "kernelspec": {
   "display_name": "Python 3 (ipykernel)",
   "language": "python",
   "name": "python3"
  },
  "language_info": {
   "codemirror_mode": {
    "name": "ipython",
    "version": 3
   },
   "file_extension": ".py",
   "mimetype": "text/x-python",
   "name": "python",
   "nbconvert_exporter": "python",
   "pygments_lexer": "ipython3",
   "version": "3.9.13"
  }
 },
 "nbformat": 4,
 "nbformat_minor": 5
}
