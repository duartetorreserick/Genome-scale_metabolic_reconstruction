{
 "cells": [
  {
   "cell_type": "code",
   "execution_count": 7,
   "id": "6674c218",
   "metadata": {},
   "outputs": [],
   "source": [
    "with open(r\"C:\\Users\\duart\\OneDrive\\Documentos\\UNIANDES\\PHASEOLUS LUNATUS\\MODELS\\OTHER_SPECIES\\Phaseolus vulgaris\\Model_Pvulgaris.sbml\") as M:\n",
    "    sbml = M.readlines()"
   ]
  },
  {
   "cell_type": "code",
   "execution_count": 21,
   "id": "5bc4b4d7",
   "metadata": {},
   "outputs": [],
   "source": [
    "from libsbml import *\n",
    "reader = SBMLReader()"
   ]
  },
  {
   "cell_type": "code",
   "execution_count": 22,
   "id": "ebcf7a6b",
   "metadata": {},
   "outputs": [],
   "source": [
    "document = reader.readSBML(\"Model_Pvulgaris.sbml\")"
   ]
  },
  {
   "cell_type": "code",
   "execution_count": 42,
   "id": "63eec3b1",
   "metadata": {},
   "outputs": [
    {
     "data": {
      "text/plain": [
       "'C:\\\\Users\\\\duart\\\\OneDrive\\\\Documentos\\\\UNIANDES\\\\PHASEOLUS LUNATUS\\\\MODELS\\\\PATHWAY TOOLS\\\\phaseolusVulgaris'"
      ]
     },
     "execution_count": 42,
     "metadata": {},
     "output_type": "execute_result"
    }
   ],
   "source": [
    "%pwd"
   ]
  },
  {
   "cell_type": "code",
   "execution_count": 41,
   "id": "f5e0918c",
   "metadata": {},
   "outputs": [],
   "source": [
    "\n",
    "import json\n",
    "dic={}\n",
    "model = document.getModel()\n",
    "for i in model.reactions:\n",
    "    dic[i.name]=i.reversible\n",
    "with open('rxns_directionality.txt', 'w') as convert_file:\n",
    "     convert_file.write(json.dumps(dic))"
   ]
  },
  {
   "cell_type": "code",
   "execution_count": null,
   "id": "209843e7",
   "metadata": {},
   "outputs": [],
   "source": []
  }
 ],
 "metadata": {
  "kernelspec": {
   "display_name": "Python 3 (ipykernel)",
   "language": "python",
   "name": "python3"
  },
  "language_info": {
   "codemirror_mode": {
    "name": "ipython",
    "version": 3
   },
   "file_extension": ".py",
   "mimetype": "text/x-python",
   "name": "python",
   "nbconvert_exporter": "python",
   "pygments_lexer": "ipython3",
   "version": "3.9.13"
  }
 },
 "nbformat": 4,
 "nbformat_minor": 5
}
