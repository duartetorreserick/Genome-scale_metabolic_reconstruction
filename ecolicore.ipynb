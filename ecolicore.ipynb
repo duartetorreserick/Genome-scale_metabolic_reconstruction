{
 "cells": [
  {
   "cell_type": "code",
   "execution_count": 11,
   "metadata": {},
   "outputs": [
    {
     "ename": "ImportError",
     "evalue": "cannot import name 'OptKnock' from 'cobra.flux_analysis' (c:\\Users\\duart\\Anaconda\\envs\\CobraPy\\lib\\site-packages\\cobra\\flux_analysis\\__init__.py)",
     "output_type": "error",
     "traceback": [
      "\u001b[1;31m---------------------------------------------------------------------------\u001b[0m",
      "\u001b[1;31mImportError\u001b[0m                               Traceback (most recent call last)",
      "Cell \u001b[1;32mIn[11], line 9\u001b[0m\n\u001b[0;32m      7\u001b[0m \u001b[39mfrom\u001b[39;00m \u001b[39mcobra\u001b[39;00m \u001b[39mimport\u001b[39;00m Model, Reaction, Metabolite\n\u001b[0;32m      8\u001b[0m \u001b[39mfrom\u001b[39;00m \u001b[39mcobra\u001b[39;00m\u001b[39m.\u001b[39;00m\u001b[39mio\u001b[39;00m \u001b[39mimport\u001b[39;00m write_sbml_model, validate_sbml_model\n\u001b[1;32m----> 9\u001b[0m \u001b[39mfrom\u001b[39;00m \u001b[39mcobra\u001b[39;00m\u001b[39m.\u001b[39;00m\u001b[39mflux_analysis\u001b[39;00m \u001b[39mimport\u001b[39;00m OptKnock\n",
      "\u001b[1;31mImportError\u001b[0m: cannot import name 'OptKnock' from 'cobra.flux_analysis' (c:\\Users\\duart\\Anaconda\\envs\\CobraPy\\lib\\site-packages\\cobra\\flux_analysis\\__init__.py)"
     ]
    }
   ],
   "source": [
    "import cobra\n",
    "from cobra.io import load_model\n",
    "from pathlib import Path\n",
    "from cobra.io import load_json_model, save_json_model, load_matlab_model, save_matlab_model, read_sbml_model, write_sbml_model\n",
    "import logging\n",
    "import pandas as pd\n",
    "from cobra import Model, Reaction, Metabolite\n",
    "from cobra.io import write_sbml_model, validate_sbml_model\n",
    "from cobra.flux_analysis import OptKnock\n"
   ]
  },
  {
   "cell_type": "code",
   "execution_count": 16,
   "metadata": {},
   "outputs": [
    {
     "name": "stdout",
     "output_type": "stream",
     "text": [
      "C:\\Users\\duart\\OneDrive\\Documentos\\UNIANDES\n"
     ]
    }
   ],
   "source": [
    "%cd C:\\Users\\duart\\OneDrive\\Documentos\\UNIANDES\n",
    "ecoli=read_sbml_model('e_coli_core.xml')"
   ]
  },
  {
   "cell_type": "code",
   "execution_count": 38,
   "metadata": {},
   "outputs": [
    {
     "data": {
      "text/plain": [
       "[<Metabolite glc__D_e at 0x25e2a591630>,\n",
       " <Metabolite gln__L_c at 0x25e2a591660>,\n",
       " <Metabolite gln__L_e at 0x25e2a591540>,\n",
       " <Metabolite glu__L_c at 0x25e2a591450>,\n",
       " <Metabolite glu__L_e at 0x25e2a591390>,\n",
       " <Metabolite glx_c at 0x25e2a5913f0>,\n",
       " <Metabolite h2o_c at 0x25e2a591510>,\n",
       " <Metabolite h2o_e at 0x25e2a591420>,\n",
       " <Metabolite h_c at 0x25e2a591360>,\n",
       " <Metabolite h_e at 0x25e2a591330>,\n",
       " <Metabolite icit_c at 0x25e2a591300>,\n",
       " <Metabolite lac__D_c at 0x25e2a5912d0>,\n",
       " <Metabolite lac__D_e at 0x25e2a5912a0>,\n",
       " <Metabolite mal__L_c at 0x25e2a591270>,\n",
       " <Metabolite mal__L_e at 0x25e2a591240>,\n",
       " <Metabolite nad_c at 0x25e2a591210>,\n",
       " <Metabolite nadh_c at 0x25e2a5911e0>,\n",
       " <Metabolite nadp_c at 0x25e2a5911b0>,\n",
       " <Metabolite nadph_c at 0x25e2a591180>,\n",
       " <Metabolite nh4_c at 0x25e2a591150>,\n",
       " <Metabolite 13dpg_c at 0x25e2a591120>,\n",
       " <Metabolite nh4_e at 0x25e2a5910f0>,\n",
       " <Metabolite o2_c at 0x25e2a5910c0>,\n",
       " <Metabolite 2pg_c at 0x25e2a591090>,\n",
       " <Metabolite o2_e at 0x25e2a591060>,\n",
       " <Metabolite 3pg_c at 0x25e2a591030>,\n",
       " <Metabolite oaa_c at 0x25e2a591000>,\n",
       " <Metabolite pep_c at 0x25e2a590fd0>,\n",
       " <Metabolite 6pgc_c at 0x25e2a590fa0>,\n",
       " <Metabolite pi_c at 0x25e2a590f70>,\n",
       " <Metabolite 6pgl_c at 0x25e2a590f40>,\n",
       " <Metabolite pi_e at 0x25e2a590f10>,\n",
       " <Metabolite ac_c at 0x25e2a590ee0>,\n",
       " <Metabolite pyr_c at 0x25e2a590eb0>,\n",
       " <Metabolite pyr_e at 0x25e2a590e80>,\n",
       " <Metabolite q8_c at 0x25e2a590e50>,\n",
       " <Metabolite q8h2_c at 0x25e2a590e20>,\n",
       " <Metabolite r5p_c at 0x25e2a590df0>,\n",
       " <Metabolite ru5p__D_c at 0x25e2a590dc0>,\n",
       " <Metabolite ac_e at 0x25e2a5914b0>,\n",
       " <Metabolite acald_c at 0x25e2a5913c0>,\n",
       " <Metabolite s7p_c at 0x25e2a5900a0>,\n",
       " <Metabolite acald_e at 0x25e2a591690>,\n",
       " <Metabolite accoa_c at 0x25e2a591600>,\n",
       " <Metabolite succ_c at 0x25e2a590d90>,\n",
       " <Metabolite succ_e at 0x25e2a5914e0>,\n",
       " <Metabolite succoa_c at 0x25e2a591480>,\n",
       " <Metabolite acon_C_c at 0x25e2a58ded0>,\n",
       " <Metabolite xu5p__D_c at 0x25e2a58c310>,\n",
       " <Metabolite actp_c at 0x25e2a58c0a0>,\n",
       " <Metabolite adp_c at 0x25e2a58cf10>,\n",
       " <Metabolite akg_c at 0x25e2a58f4c0>,\n",
       " <Metabolite akg_e at 0x25e2a58ce80>,\n",
       " <Metabolite amp_c at 0x25e2a58cd90>,\n",
       " <Metabolite atp_c at 0x25e2a58cc70>,\n",
       " <Metabolite cit_c at 0x25e2a58ca90>,\n",
       " <Metabolite co2_c at 0x25e2a58c9a0>,\n",
       " <Metabolite co2_e at 0x25e2a58c7c0>,\n",
       " <Metabolite coa_c at 0x25e2a58c6d0>,\n",
       " <Metabolite dhap_c at 0x25e2a58dd20>,\n",
       " <Metabolite e4p_c at 0x25e2a58dcf0>,\n",
       " <Metabolite etoh_c at 0x25e2a58dcc0>,\n",
       " <Metabolite etoh_e at 0x25e2a58dc90>,\n",
       " <Metabolite f6p_c at 0x25e2a58dc60>,\n",
       " <Metabolite fdp_c at 0x25e2a58dc30>,\n",
       " <Metabolite for_c at 0x25e2a58dc00>,\n",
       " <Metabolite for_e at 0x25e2a58dbd0>,\n",
       " <Metabolite fru_e at 0x25e2a58dba0>,\n",
       " <Metabolite fum_c at 0x25e2a58db70>,\n",
       " <Metabolite fum_e at 0x25e2a58db40>,\n",
       " <Metabolite g3p_c at 0x25e2a58db10>,\n",
       " <Metabolite g6p_c at 0x25e2a58dae0>]"
      ]
     },
     "execution_count": 38,
     "metadata": {},
     "output_type": "execute_result"
    }
   ],
   "source": [
    "#ecoli.metabolites.get_by_id('ac_e')\n",
    "ecoli.metabolites"
   ]
  },
  {
   "cell_type": "code",
   "execution_count": 33,
   "metadata": {},
   "outputs": [
    {
     "ename": "KeyError",
     "evalue": "'EX_suc_e'",
     "output_type": "error",
     "traceback": [
      "\u001b[1;31m---------------------------------------------------------------------------\u001b[0m",
      "\u001b[1;31mKeyError\u001b[0m                                  Traceback (most recent call last)",
      "Cell \u001b[1;32mIn[33], line 1\u001b[0m\n\u001b[1;32m----> 1\u001b[0m ecoli\u001b[39m.\u001b[39;49mreactions\u001b[39m.\u001b[39;49mget_by_id(\u001b[39m'\u001b[39;49m\u001b[39mEX_suc_e\u001b[39;49m\u001b[39m'\u001b[39;49m)\n",
      "File \u001b[1;32mc:\\Users\\duart\\Anaconda\\envs\\CobraPy\\lib\\site-packages\\cobra\\core\\dictlist.py:75\u001b[0m, in \u001b[0;36mDictList.get_by_id\u001b[1;34m(self, id)\u001b[0m\n\u001b[0;32m     73\u001b[0m \u001b[39mdef\u001b[39;00m \u001b[39mget_by_id\u001b[39m(\u001b[39mself\u001b[39m, \u001b[39mid\u001b[39m: Union[Object, \u001b[39mstr\u001b[39m]) \u001b[39m-\u001b[39m\u001b[39m>\u001b[39m Object:\n\u001b[0;32m     74\u001b[0m \u001b[39m    \u001b[39m\u001b[39m\"\"\"Return the element with a matching id.\"\"\"\u001b[39;00m\n\u001b[1;32m---> 75\u001b[0m     \u001b[39mreturn\u001b[39;00m \u001b[39mlist\u001b[39m\u001b[39m.\u001b[39m\u001b[39m__getitem__\u001b[39m(\u001b[39mself\u001b[39m, \u001b[39mself\u001b[39;49m\u001b[39m.\u001b[39;49m_dict[\u001b[39mid\u001b[39;49m])\n",
      "\u001b[1;31mKeyError\u001b[0m: 'EX_suc_e'"
     ]
    }
   ],
   "source": [
    "ecoli.reactions.get_by_id('EX_suc_e')"
   ]
  },
  {
   "cell_type": "code",
   "execution_count": 42,
   "metadata": {},
   "outputs": [
    {
     "ename": "KeyError",
     "evalue": "'Ex_suc'",
     "output_type": "error",
     "traceback": [
      "\u001b[1;31m---------------------------------------------------------------------------\u001b[0m",
      "\u001b[1;31mKeyError\u001b[0m                                  Traceback (most recent call last)",
      "Cell \u001b[1;32mIn[42], line 1\u001b[0m\n\u001b[1;32m----> 1\u001b[0m ecoli\u001b[39m.\u001b[39;49mmetabolites\u001b[39m.\u001b[39;49mget_by_id(\u001b[39m'\u001b[39;49m\u001b[39mEx_suc\u001b[39;49m\u001b[39m'\u001b[39;49m)\n",
      "File \u001b[1;32mc:\\Users\\duart\\Anaconda\\envs\\CobraPy\\lib\\site-packages\\cobra\\core\\dictlist.py:75\u001b[0m, in \u001b[0;36mDictList.get_by_id\u001b[1;34m(self, id)\u001b[0m\n\u001b[0;32m     73\u001b[0m \u001b[39mdef\u001b[39;00m \u001b[39mget_by_id\u001b[39m(\u001b[39mself\u001b[39m, \u001b[39mid\u001b[39m: Union[Object, \u001b[39mstr\u001b[39m]) \u001b[39m-\u001b[39m\u001b[39m>\u001b[39m Object:\n\u001b[0;32m     74\u001b[0m \u001b[39m    \u001b[39m\u001b[39m\"\"\"Return the element with a matching id.\"\"\"\u001b[39;00m\n\u001b[1;32m---> 75\u001b[0m     \u001b[39mreturn\u001b[39;00m \u001b[39mlist\u001b[39m\u001b[39m.\u001b[39m\u001b[39m__getitem__\u001b[39m(\u001b[39mself\u001b[39m, \u001b[39mself\u001b[39;49m\u001b[39m.\u001b[39;49m_dict[\u001b[39mid\u001b[39;49m])\n",
      "\u001b[1;31mKeyError\u001b[0m: 'Ex_suc'"
     ]
    }
   ],
   "source": [
    "ecoli.metabolites.get_by_id('Ex_suc')"
   ]
  },
  {
   "cell_type": "code",
   "execution_count": 20,
   "metadata": {},
   "outputs": [],
   "source": [
    "ecoli.objective=\"ACt2r\"\n",
    "#solution=ecoli.optimize().objective_value\n",
    "#solution"
   ]
  },
  {
   "cell_type": "code",
   "execution_count": 21,
   "metadata": {},
   "outputs": [
    {
     "data": {
      "text/html": [
       "<h3>Objective</h3><p>1.0 ACt2r = 0.0</p><h4>Uptake</h4><table border=\"1\" class=\"dataframe\">\n",
       "  <thead>\n",
       "    <tr style=\"text-align: right;\">\n",
       "      <th>Metabolite</th>\n",
       "      <th>Reaction</th>\n",
       "      <th>Flux</th>\n",
       "      <th>C-Number</th>\n",
       "      <th>C-Flux</th>\n",
       "    </tr>\n",
       "  </thead>\n",
       "  <tbody>\n",
       "    <tr>\n",
       "      <td>glc__D_e</td>\n",
       "      <td>EX_glc__D_e</td>\n",
       "      <td>0.4794</td>\n",
       "      <td>6</td>\n",
       "      <td>100.00%</td>\n",
       "    </tr>\n",
       "    <tr>\n",
       "      <td>o2_e</td>\n",
       "      <td>EX_o2_e</td>\n",
       "      <td>2.877</td>\n",
       "      <td>0</td>\n",
       "      <td>0.00%</td>\n",
       "    </tr>\n",
       "  </tbody>\n",
       "</table><h4>Secretion</h4><table border=\"1\" class=\"dataframe\">\n",
       "  <thead>\n",
       "    <tr style=\"text-align: right;\">\n",
       "      <th>Metabolite</th>\n",
       "      <th>Reaction</th>\n",
       "      <th>Flux</th>\n",
       "      <th>C-Number</th>\n",
       "      <th>C-Flux</th>\n",
       "    </tr>\n",
       "  </thead>\n",
       "  <tbody>\n",
       "    <tr>\n",
       "      <td>co2_e</td>\n",
       "      <td>EX_co2_e</td>\n",
       "      <td>-2.877</td>\n",
       "      <td>1</td>\n",
       "      <td>100.00%</td>\n",
       "    </tr>\n",
       "    <tr>\n",
       "      <td>h2o_e</td>\n",
       "      <td>EX_h2o_e</td>\n",
       "      <td>-2.877</td>\n",
       "      <td>0</td>\n",
       "      <td>0.00%</td>\n",
       "    </tr>\n",
       "  </tbody>\n",
       "</table>"
      ],
      "text/plain": [
       "<cobra.summary.model_summary.ModelSummary at 0x25e2ac85540>"
      ]
     },
     "execution_count": 21,
     "metadata": {},
     "output_type": "execute_result"
    }
   ],
   "source": [
    "ecoli.summary()"
   ]
  },
  {
   "cell_type": "code",
   "execution_count": 41,
   "metadata": {},
   "outputs": [
    {
     "data": {
      "text/plain": [
       "[<Reaction PFK at 0x25e2a655c30>,\n",
       " <Reaction PFL at 0x25e2a6c0f70>,\n",
       " <Reaction PGI at 0x25e2a7d2f50>,\n",
       " <Reaction PGK at 0x25e2a7309a0>,\n",
       " <Reaction PGL at 0x25e2a732350>,\n",
       " <Reaction ACALD at 0x25e2a7075b0>,\n",
       " <Reaction AKGt2r at 0x25e2a6f1450>,\n",
       " <Reaction PGM at 0x25e2a776a70>,\n",
       " <Reaction PIt2r at 0x25e2a7754e0>,\n",
       " <Reaction ALCD2x at 0x25e2a7a3be0>,\n",
       " <Reaction ACALDt at 0x25e2a63fb20>,\n",
       " <Reaction ACKr at 0x25e2a621240>,\n",
       " <Reaction PPC at 0x25e2a63ea40>,\n",
       " <Reaction ACONTa at 0x25e2a620af0>,\n",
       " <Reaction ACONTb at 0x25e2ab48610>,\n",
       " <Reaction ATPM at 0x25e2ab486a0>,\n",
       " <Reaction PPCK at 0x25e2a7895a0>,\n",
       " <Reaction ACt2r at 0x25e2a6f1e10>,\n",
       " <Reaction PPS at 0x25e2a6f2ce0>,\n",
       " <Reaction ADK1 at 0x25e2a7a25f0>,\n",
       " <Reaction AKGDH at 0x25e2ab4a5c0>,\n",
       " <Reaction ATPS4r at 0x25e2ab49ed0>,\n",
       " <Reaction PTAr at 0x25e2ab4afb0>,\n",
       " <Reaction PYK at 0x25e2ab4b700>,\n",
       " <Reaction BIOMASS_Ecoli_core_w_GAM at 0x25e2ab4b5e0>,\n",
       " <Reaction PYRt2 at 0x25e2ab4b970>,\n",
       " <Reaction CO2t at 0x25e2ab4b550>,\n",
       " <Reaction RPE at 0x25e2ab4ba90>,\n",
       " <Reaction CS at 0x25e2ab658a0>,\n",
       " <Reaction RPI at 0x25e2ab65ab0>,\n",
       " <Reaction SUCCt2_2 at 0x25e2ab657e0>,\n",
       " <Reaction CYTBD at 0x25e2ab662c0>,\n",
       " <Reaction D_LACt2 at 0x25e2ab658d0>,\n",
       " <Reaction ENO at 0x25e2ab67010>,\n",
       " <Reaction SUCCt3 at 0x25e2ab66d70>,\n",
       " <Reaction ETOHt2r at 0x25e2ab4b1c0>,\n",
       " <Reaction SUCDi at 0x25e2ab66d10>,\n",
       " <Reaction SUCOAS at 0x25e2ab67790>,\n",
       " <Reaction TALA at 0x25e2ab67c40>,\n",
       " <Reaction THD2 at 0x25e2ab94220>,\n",
       " <Reaction TKT1 at 0x25e2ab94a00>,\n",
       " <Reaction TKT2 at 0x25e2ab94e80>,\n",
       " <Reaction TPI at 0x25e2ab95420>,\n",
       " <Reaction EX_ac_e at 0x25e2ab958a0>,\n",
       " <Reaction EX_acald_e at 0x25e2ab67ee0>,\n",
       " <Reaction EX_akg_e at 0x25e2ab67f10>,\n",
       " <Reaction EX_co2_e at 0x25e2ab67d30>,\n",
       " <Reaction EX_etoh_e at 0x25e2ab66e30>,\n",
       " <Reaction EX_for_e at 0x25e2ab95450>,\n",
       " <Reaction EX_fru_e at 0x25e2ab95d20>,\n",
       " <Reaction EX_fum_e at 0x25e2ab95720>,\n",
       " <Reaction EX_glc__D_e at 0x25e2ab95b40>,\n",
       " <Reaction EX_gln__L_e at 0x25e2ab96140>,\n",
       " <Reaction EX_glu__L_e at 0x25e2ab96260>,\n",
       " <Reaction EX_h_e at 0x25e2ab96380>,\n",
       " <Reaction EX_h2o_e at 0x25e2ab964a0>,\n",
       " <Reaction EX_lac__D_e at 0x25e2ab965c0>,\n",
       " <Reaction EX_mal__L_e at 0x25e2ab966e0>,\n",
       " <Reaction EX_nh4_e at 0x25e2ab96800>,\n",
       " <Reaction EX_o2_e at 0x25e2ab96920>,\n",
       " <Reaction EX_pi_e at 0x25e2ab96a40>,\n",
       " <Reaction EX_pyr_e at 0x25e2ab96b60>,\n",
       " <Reaction EX_succ_e at 0x25e2ab96c80>,\n",
       " <Reaction FBA at 0x25e2ab96da0>,\n",
       " <Reaction FBP at 0x25e2ab96ec0>,\n",
       " <Reaction FORt2 at 0x25e2ab978b0>,\n",
       " <Reaction FORt at 0x25e2ab976a0>,\n",
       " <Reaction FRD7 at 0x25e2ab97ee0>,\n",
       " <Reaction FRUpts2 at 0x25e2ab97130>,\n",
       " <Reaction FUM at 0x25e2abc0a30>,\n",
       " <Reaction FUMt2_2 at 0x25e2abc1090>,\n",
       " <Reaction G6PDH2r at 0x25e2abc14b0>,\n",
       " <Reaction GAPD at 0x25e2abc0fd0>,\n",
       " <Reaction GLCpts at 0x25e2abc0a00>,\n",
       " <Reaction GLNS at 0x25e2abc1d80>,\n",
       " <Reaction GLNabc at 0x25e2abc2e00>,\n",
       " <Reaction GLUDy at 0x25e2abc24d0>,\n",
       " <Reaction GLUN at 0x25e2abc3730>,\n",
       " <Reaction GLUSy at 0x25e2abc2710>,\n",
       " <Reaction GLUt2r at 0x25e2abc3940>,\n",
       " <Reaction GND at 0x25e2abc2230>,\n",
       " <Reaction H2Ot at 0x25e2abec190>,\n",
       " <Reaction ICDHyr at 0x25e2abec8e0>,\n",
       " <Reaction ICL at 0x25e2abed000>,\n",
       " <Reaction LDH_D at 0x25e2abec760>,\n",
       " <Reaction MALS at 0x25e2abec220>,\n",
       " <Reaction MALt2_2 at 0x25e2abed390>,\n",
       " <Reaction MDH at 0x25e2abeda80>,\n",
       " <Reaction ME1 at 0x25e2abede40>,\n",
       " <Reaction ME2 at 0x25e2abee020>,\n",
       " <Reaction NADH16 at 0x25e2abee4d0>,\n",
       " <Reaction NADTRHD at 0x25e2abede70>,\n",
       " <Reaction NH4t at 0x25e2abefa60>,\n",
       " <Reaction O2t at 0x25e2abefa30>,\n",
       " <Reaction PDH at 0x25e2abefb80>]"
      ]
     },
     "execution_count": 41,
     "metadata": {},
     "output_type": "execute_result"
    }
   ],
   "source": [
    "ecoli.reactions\n",
    "\n"
   ]
  }
 ],
 "metadata": {
  "kernelspec": {
   "display_name": "CobraPy",
   "language": "python",
   "name": "python3"
  },
  "language_info": {
   "codemirror_mode": {
    "name": "ipython",
    "version": 3
   },
   "file_extension": ".py",
   "mimetype": "text/x-python",
   "name": "python",
   "nbconvert_exporter": "python",
   "pygments_lexer": "ipython3",
   "version": "3.10.9"
  },
  "orig_nbformat": 4
 },
 "nbformat": 4,
 "nbformat_minor": 2
}
