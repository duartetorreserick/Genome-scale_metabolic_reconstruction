{
 "cells": [
  {
   "cell_type": "code",
   "execution_count": 1,
   "metadata": {},
   "outputs": [
    {
     "name": "stdout",
     "output_type": "stream",
     "text": [
      "C:\\Users\\duart\\OneDrive\\Documentos\\UNIANDES\\PHASEOLUS LUNATUS\\MODELS\\OTHER_SPECIES\\Phaseolus vulgaris\n"
     ]
    }
   ],
   "source": [
    "import cobra\n",
    "from cobra.io import load_model\n",
    "from pathlib import Path\n",
    "from cobra.io import load_json_model, save_json_model, load_matlab_model, save_matlab_model, read_sbml_model, write_sbml_model\n",
    "import logging\n",
    "import pandas as pd\n",
    "from cobra import Model, Reaction, Metabolite\n",
    "from cobra.io import write_sbml_model, validate_sbml_model\n",
    "from cobra.flux_analysis import flux_variability_analysis\n",
    "%cd C:\\Users\\duart\\OneDrive\\Documentos\\UNIANDES\\PHASEOLUS LUNATUS\\MODELS\\OTHER_SPECIES\\Phaseolus vulgaris\n",
    "pvulModel=read_sbml_model('pvulModel_lightCT+1.0.xml')"
   ]
  },
  {
   "cell_type": "code",
   "execution_count": 3,
   "metadata": {},
   "outputs": [
    {
     "data": {
      "text/plain": [
       "[<Reaction EX_STEARIC_ACID[e] at 0x18bb800d7b0>,\n",
       " <Reaction EX_HIS[e] at 0x18bb80426e0>,\n",
       " <Reaction EX_GLY[e] at 0x18bb8183490>,\n",
       " <Reaction EX_SUC[e] at 0x18bb8226bf0>,\n",
       " <Reaction EX_LYS[e] at 0x18bb828fa30>,\n",
       " <Reaction EX_PRO[e] at 0x18bb840d060>,\n",
       " <Reaction EX_ASCORBATE[e] at 0x18bb840ecb0>,\n",
       " <Reaction EX_HCO3[e] at 0x18bb840df90>,\n",
       " <Reaction EX_CIT[e] at 0x18bb8449cc0>,\n",
       " <Reaction EX_ILE[e] at 0x18bb8480a60>,\n",
       " <Reaction EX_BETA-D-FRUCTOSE[e] at 0x18bb84b27d0>,\n",
       " <Reaction EX_PHE[e] at 0x18bb8163be0>,\n",
       " <Reaction EX_SULFATE[e] at 0x18bb85e2b00>,\n",
       " <Reaction EX_VAL[e] at 0x18bb86026e0>,\n",
       " <Reaction EX_PYRIDOXAL_PHOSPHATE[e] at 0x18bb86296f0>,\n",
       " <Reaction EX_MAL[e] at 0x18bb8602e60>,\n",
       " <Reaction EX_Pi[e] at 0x18bb862b6d0>,\n",
       " <Reaction EX_LINOLEIC_ACID[e] at 0x18bb864f070>,\n",
       " <Reaction EX_WATER[e] at 0x18bb864f8b0>,\n",
       " <Reaction EX_LEU[e] at 0x18bb8672410>,\n",
       " <Reaction EX_L-ASPARTATE[e] at 0x18bb86b5870>,\n",
       " <Reaction EX_CARBON-DIOXIDE[e] at 0x18bb86b6e60>,\n",
       " <Reaction EX_OXYGEN-MOLECULE[e] at 0x18bb86da200>,\n",
       " <Reaction EX_SER[e] at 0x18bb8730fd0>,\n",
       " <Reaction EX_ASN[e] at 0x18bb87315a0>,\n",
       " <Reaction EX_TYR[e] at 0x18bb876d270>,\n",
       " <Reaction EX_MET[e] at 0x18bb87ad4e0>,\n",
       " <Reaction EX_NITRATE[e] at 0x18bb87afeb0>,\n",
       " <Reaction EX_FAD[e] at 0x18bb87aff70>,\n",
       " <Reaction EX_ADENOSYL-HOMO-CYS[e] at 0x18bb8820040>,\n",
       " <Reaction EX_CHOLINE[e] at 0x18bb8820dc0>,\n",
       " <Reaction EX_GLT[e] at 0x18bb8821360>,\n",
       " <Reaction EX_GLN[e] at 0x18bb8823430>,\n",
       " <Reaction EX_PALMITATE[e] at 0x18bb889b580>,\n",
       " <Reaction EX_GLC[e] at 0x18bb890a2c0>,\n",
       " <Reaction EX_ARG[e] at 0x18bb8970310>,\n",
       " <Reaction EX_OXALACETIC_ACID[e] at 0x18bb893c760>,\n",
       " <Reaction EX_THR[e] at 0x18bb89aace0>,\n",
       " <Reaction EX_CYS[e] at 0x18bb89a9c30>,\n",
       " <Reaction EX_L-ALPHA-ALANINE[e] at 0x18bb89aa8c0>,\n",
       " <Reaction EX_THF[e] at 0x18bb89aacb0>,\n",
       " <Reaction EX_TRP[e] at 0x18bb89e73a0>,\n",
       " <Reaction EX_OLEATE-CPD[e] at 0x18bb8a225f0>,\n",
       " <Reaction EX_PROTON[e] at 0x18bb8a23400>,\n",
       " <Reaction EX_SUCROSE[e] at 0x18bb8a22fb0>,\n",
       " <Reaction EX_MYO-INOSITOL[e] at 0x18bb8acf1f0>,\n",
       " <Reaction demandLight at 0x18bb8b834f0>,\n",
       " <Reaction demandPlastocyanins at 0x18bb8b838b0>,\n",
       " <Reaction sinkPlastocyanins_e at 0x18bb8b83ac0>,\n",
       " <Reaction demandPlastocyaninsReduced_c at 0x18bb8b83d00>,\n",
       " <Reaction sinkPlastocyaninsOxidized_c at 0x18bb8b83d30>,\n",
       " <Reaction sink_linamarin_e at 0x18bb8b83eb0>,\n",
       " <Reaction sink_lotaustralin_e at 0x18bb8b83f70>,\n",
       " <Reaction sink_Jasmonoyl-Isoleucines_e at 0x18bb8b83970>,\n",
       " <Reaction sink_Jasmonoyl-Valines_e at 0x18bb8b80190>,\n",
       " <Reaction SK_Jasmonic-acids at 0x18bb8b811b0>,\n",
       " <Reaction sink_HYDROXY-BUTYRATE_e at 0x18bb8b83880>,\n",
       " <Reaction SK_epi-jasmonoyl-L-isoleucine at 0x18bb8bc8430>,\n",
       " <Reaction sink_CPD-19812_e at 0x18bb8bc84f0>,\n",
       " <Reaction sink_CPD-19813_e at 0x18bb8bc85b0>]"
      ]
     },
     "execution_count": 3,
     "metadata": {},
     "output_type": "execute_result"
    }
   ],
   "source": [
    "pvulModel.boundary"
   ]
  }
 ],
 "metadata": {
  "kernelspec": {
   "display_name": "CobraPy",
   "language": "python",
   "name": "python3"
  },
  "language_info": {
   "codemirror_mode": {
    "name": "ipython",
    "version": 3
   },
   "file_extension": ".py",
   "mimetype": "text/x-python",
   "name": "python",
   "nbconvert_exporter": "python",
   "pygments_lexer": "ipython3",
   "version": "3.10.9"
  },
  "orig_nbformat": 4
 },
 "nbformat": 4,
 "nbformat_minor": 2
}
