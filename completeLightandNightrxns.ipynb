{
 "cells": [
  {
   "cell_type": "code",
   "execution_count": 2,
   "metadata": {},
   "outputs": [
    {
     "name": "stdout",
     "output_type": "stream",
     "text": [
      "C:\\Users\\duart\\OneDrive\\Documentos\\UNIANDES\\PHASEOLUS LUNATUS\\MODELS\\OTHER_SPECIES\\Phaseolus vulgaris\n"
     ]
    }
   ],
   "source": [
    "import cobra\n",
    "from cobra.io import load_model\n",
    "from pathlib import Path\n",
    "from cobra.io import load_json_model, save_json_model, load_matlab_model, save_matlab_model, read_sbml_model, write_sbml_model\n",
    "import logging\n",
    "import pandas as pd\n",
    "from cobra import Model, Reaction, Metabolite\n",
    "from cobra.io import write_sbml_model, validate_sbml_model\n",
    "%cd C:\\Users\\duart\\OneDrive\\Documentos\\UNIANDES\\PHASEOLUS LUNATUS\\MODELS\\OTHER_SPECIES\\Phaseolus vulgaris\n",
    "pvulModel=read_sbml_model('pvulModelAditionalPathsCT.xml')"
   ]
  },
  {
   "attachments": {},
   "cell_type": "markdown",
   "metadata": {},
   "source": [
    "### LIGHT INTEGRATION"
   ]
  },
  {
   "attachments": {},
   "cell_type": "markdown",
   "metadata": {},
   "source": [
    "#### LIGHT"
   ]
  },
  {
   "cell_type": "code",
   "execution_count": 5,
   "metadata": {},
   "outputs": [],
   "source": [
    "Light=Metabolite('Light[c]', formula='', name='Light', compartment='c')\n",
    "pvulModel.add_metabolites([Light])"
   ]
  },
  {
   "cell_type": "code",
   "execution_count": 6,
   "metadata": {},
   "outputs": [
    {
     "data": {
      "text/html": [
       "\n",
       "        <table>\n",
       "            <tr>\n",
       "                <td><strong>Reaction identifier</strong></td><td>demandLight</td>\n",
       "            </tr><tr>\n",
       "                <td><strong>Name</strong></td><td>demandLight</td>\n",
       "            </tr><tr>\n",
       "                <td><strong>Memory address</strong></td>\n",
       "                <td>0x220711d9a50</td>\n",
       "            </tr><tr>\n",
       "                <td><strong>Stoichiometry</strong></td>\n",
       "                <td>\n",
       "                    <p style='text-align:right'>--> Light[c]</p>\n",
       "                    <p style='text-align:right'>--> Light</p>\n",
       "                </td>\n",
       "            </tr><tr>\n",
       "                <td><strong>GPR</strong></td><td></td>\n",
       "            </tr><tr>\n",
       "                <td><strong>Lower bound</strong></td><td>0</td>\n",
       "            </tr><tr>\n",
       "                <td><strong>Upper bound</strong></td><td>1000</td>\n",
       "            </tr>\n",
       "        </table>\n",
       "        "
      ],
      "text/plain": [
       "<Reaction demandLight at 0x220711d9a50>"
      ]
     },
     "execution_count": 6,
     "metadata": {},
     "output_type": "execute_result"
    }
   ],
   "source": [
    "demandLight=Reaction('demandLight')\n",
    "demandLight.name='demandLight'\n",
    "demandLight.lower_bound=0\n",
    "demandLight.upper_bound=1000\n",
    "demandLight.add_metabolites({pvulModel.metabolites.get_by_id(\"Light[c]\"):+1})\n",
    "pvulModel.add_reactions([demandLight])\n",
    "pvulModel.reactions.demandLight"
   ]
  },
  {
   "attachments": {},
   "cell_type": "markdown",
   "metadata": {},
   "source": [
    "#### PSII-RXN"
   ]
  },
  {
   "cell_type": "code",
   "execution_count": 7,
   "metadata": {},
   "outputs": [],
   "source": [
    "PLASTOQUINONE=Metabolite('PLASTOQUINONE[e]', formula='C53H80O2', name='PLASTOQUINONE', compartment='e')\n",
    "pvulModel.add_metabolites([PLASTOQUINONE])\n",
    "PLASTOQUINOL=Metabolite('PLASTOQUINOL-1[e]', formula='C53H82O2', name='PLASTOQUINOL_e', compartment='e')\n",
    "pvulModel.add_metabolites([PLASTOQUINOL])\n"
   ]
  },
  {
   "cell_type": "code",
   "execution_count": 8,
   "metadata": {},
   "outputs": [],
   "source": [
    "PSIIRXN=Reaction('PSII-RXN')\n",
    "PSIIRXN.name='PSII-RXN'\n",
    "PSIIRXN.add_metabolites({\n",
    "    pvulModel.metabolites.get_by_id(\"Light[c]\"): -4,  # glucose (extracellular) on the left side of the reaction\n",
    "    pvulModel.metabolites.get_by_id(\"PLASTOQUINONE[e]\"): -2,  # glucose (intracellular) on the right side of the reaction\n",
    "    pvulModel.metabolites.get_by_id(\"PROTON[c]\"): -4,  # glucose (intracellular) on the right side of the reaction\n",
    "    pvulModel.metabolites.get_by_id(\"WATER[c]\"): -2,  # glucose (intracellular) on the right side of the reaction\n",
    "    pvulModel.metabolites.get_by_id(\"OXYGEN-MOLECULE[c]\"): 1,  # glucose (intracellular) on the right side of the reaction\n",
    "    pvulModel.metabolites.get_by_id(\"PLASTOQUINOL-1[e]\"): 2,  # glucose (intracellular) on the right side of the reaction\n",
    "    pvulModel.metabolites.get_by_id(\"PROTON[e]\"): 4,  # glucose (intracellular) on the right side of the reaction\n",
    "    })\n",
    "PSIIRXN.lower_bound = 0\n",
    "PSIIRXN.upper_bound = 1000\n",
    "PSIIRXN.genetic_reaction_rule = \"Phvul.010G068100 or Phvul.003G132500 or Phvul.009G081400 or Phvul.009G228600 or Phvul.009G008400 or Phvul.009G008400 or Phvul.009G134500 or Phvul.009G188400 or Phvul.009G224400 or Phvul.009G098000 or Phvul.009G011900 or Phvul.005G090800 or Phvul.011G143800 or Phvul.008G014100 or Phvul.008G162200 or Phvul.008G292600 or Phvul.001G039200 or Phvul.001G066100 or Phvul.001G119100 or Phvul.001G119100 or Phvul.001G000400 or Phvul.001G000400 or Phvul.001G000400 or Phvul.001G224100 or Phvul.006G102000 or Phvul.002G236100\"\n",
    "\n",
    "\n",
    "pvulModel.add_reactions([PSIIRXN])"
   ]
  },
  {
   "attachments": {},
   "cell_type": "markdown",
   "metadata": {},
   "source": [
    "#### PLASTOQUINOL--PLASTOCYANIN-REDUCTASE-RXN"
   ]
  },
  {
   "cell_type": "code",
   "execution_count": 13,
   "metadata": {},
   "outputs": [
    {
     "data": {
      "text/html": [
       "\n",
       "        <table>\n",
       "            <tr>\n",
       "                <td><strong>Reaction identifier</strong></td><td>demandPlastocyanins</td>\n",
       "            </tr><tr>\n",
       "                <td><strong>Name</strong></td><td>demandPlastocyanins</td>\n",
       "            </tr><tr>\n",
       "                <td><strong>Memory address</strong></td>\n",
       "                <td>0x220712ad9f0</td>\n",
       "            </tr><tr>\n",
       "                <td><strong>Stoichiometry</strong></td>\n",
       "                <td>\n",
       "                    <p style='text-align:right'>--> Oxidized-Plastocyanins[e]</p>\n",
       "                    <p style='text-align:right'>--> OxiPlastocyanins</p>\n",
       "                </td>\n",
       "            </tr><tr>\n",
       "                <td><strong>GPR</strong></td><td></td>\n",
       "            </tr><tr>\n",
       "                <td><strong>Lower bound</strong></td><td>0</td>\n",
       "            </tr><tr>\n",
       "                <td><strong>Upper bound</strong></td><td>1000</td>\n",
       "            </tr>\n",
       "        </table>\n",
       "        "
      ],
      "text/plain": [
       "<Reaction demandPlastocyanins at 0x220712ad9f0>"
      ]
     },
     "execution_count": 13,
     "metadata": {},
     "output_type": "execute_result"
    }
   ],
   "source": [
    "demandPlastocyanins=Reaction('demandPlastocyanins')\n",
    "demandPlastocyanins.name='demandPlastocyanins'\n",
    "demandPlastocyanins.lower_bound=0\n",
    "demandPlastocyanins.upper_bound=1000\n",
    "demandPlastocyanins.add_metabolites({pvulModel.metabolites.get_by_id(\"Oxidized-Plastocyanins[e]\"):+1})\n",
    "pvulModel.add_reactions([demandPlastocyanins])\n",
    "pvulModel.reactions.demandPlastocyanins"
   ]
  },
  {
   "cell_type": "code",
   "execution_count": 14,
   "metadata": {},
   "outputs": [
    {
     "data": {
      "text/html": [
       "\n",
       "        <table>\n",
       "            <tr>\n",
       "                <td><strong>Reaction identifier</strong></td><td>sinkPlastocyanins_e</td>\n",
       "            </tr><tr>\n",
       "                <td><strong>Name</strong></td><td>sinkPlastocyanins_e</td>\n",
       "            </tr><tr>\n",
       "                <td><strong>Memory address</strong></td>\n",
       "                <td>0x220712addb0</td>\n",
       "            </tr><tr>\n",
       "                <td><strong>Stoichiometry</strong></td>\n",
       "                <td>\n",
       "                    <p style='text-align:right'>Plastocyanin-Reduced[e] --></p>\n",
       "                    <p style='text-align:right'>RedPlastocyanins --></p>\n",
       "                </td>\n",
       "            </tr><tr>\n",
       "                <td><strong>GPR</strong></td><td></td>\n",
       "            </tr><tr>\n",
       "                <td><strong>Lower bound</strong></td><td>0</td>\n",
       "            </tr><tr>\n",
       "                <td><strong>Upper bound</strong></td><td>1000</td>\n",
       "            </tr>\n",
       "        </table>\n",
       "        "
      ],
      "text/plain": [
       "<Reaction sinkPlastocyanins_e at 0x220712addb0>"
      ]
     },
     "execution_count": 14,
     "metadata": {},
     "output_type": "execute_result"
    }
   ],
   "source": [
    "sinkPlastocyanins_e=Reaction('sinkPlastocyanins_e')\n",
    "sinkPlastocyanins_e.name='sinkPlastocyanins_e'\n",
    "sinkPlastocyanins_e.lower_bound=0\n",
    "sinkPlastocyanins_e.upper_bound=1000\n",
    "sinkPlastocyanins_e.add_metabolites({pvulModel.metabolites.get_by_id(\"Plastocyanin-Reduced[e]\"):-1})\n",
    "pvulModel.add_reactions([sinkPlastocyanins_e])\n",
    "pvulModel.reactions.sinkPlastocyanins_e"
   ]
  },
  {
   "cell_type": "code",
   "execution_count": 11,
   "metadata": {},
   "outputs": [],
   "source": [
    "OxiPlastocyanins=Metabolite('Oxidized-Plastocyanins[e]', formula='', name='OxiPlastocyanins', compartment='e')\n",
    "pvulModel.add_metabolites([OxiPlastocyanins])\n",
    "RedPlastocyanins=Metabolite('Plastocyanin-Reduced[e]', formula='', name='RedPlastocyanins', compartment='e')\n",
    "pvulModel.add_metabolites([RedPlastocyanins])\n"
   ]
  },
  {
   "cell_type": "code",
   "execution_count": 12,
   "metadata": {},
   "outputs": [],
   "source": [
    "Plastocyanin=Reaction('PLASTOQUINOL--PLASTOCYANIN-REDUCTASE-RXN')\n",
    "Plastocyanin.name='PLASTOQUINOL--PLASTOCYANIN-REDUCTASE-RXN'\n",
    "Plastocyanin.add_metabolites({\n",
    "    pvulModel.metabolites.get_by_id(\"Oxidized-Plastocyanins[e]\"): -2,  # glucose (extracellular) on the left side of the reaction\n",
    "    pvulModel.metabolites.get_by_id(\"PLASTOQUINOL-1[e]\"): -1,  # glucose (intracellular) on the right side of the reaction\n",
    "    pvulModel.metabolites.get_by_id(\"PROTON[c]\"): -2,  # glucose (intracellular) on the right side of the reaction\n",
    "    pvulModel.metabolites.get_by_id(\"PLASTOQUINONE[e]\"): 1,  # glucose (intracellular) on the right side of the reaction\n",
    "    pvulModel.metabolites.get_by_id(\"PROTON[e]\"): 4,  # glucose (intracellular) on the right side of the reaction\n",
    "    pvulModel.metabolites.get_by_id(\"Plastocyanin-Reduced[e]\"): 2,  # glucose (intracellular) on the right side of the reaction\n",
    "    })\n",
    "Plastocyanin.lower_bound = 0\n",
    "Plastocyanin.upper_bound = 1000\n",
    "Plastocyanin.genetic_reaction_rule = \"Phvul.005G109400 or Phvul.004G081500 orPhvul.001G117600 or Phvul.002G278104\"\n",
    "\n",
    "\n",
    "pvulModel.add_reactions([Plastocyanin])"
   ]
  },
  {
   "cell_type": "code",
   "execution_count": null,
   "metadata": {},
   "outputs": [],
   "source": [
    "pvulModel.reactions.get_by_id('PLASTOQUINOL--PLASTOCYANIN-REDUCTASE-RXN')"
   ]
  },
  {
   "attachments": {},
   "cell_type": "markdown",
   "metadata": {},
   "source": [
    "#### RXN-15479"
   ]
  },
  {
   "cell_type": "code",
   "execution_count": 16,
   "metadata": {},
   "outputs": [
    {
     "data": {
      "text/html": [
       "\n",
       "        <table>\n",
       "            <tr>\n",
       "                <td><strong>Reaction identifier</strong></td><td>demandPlastocyaninsReduced_c</td>\n",
       "            </tr><tr>\n",
       "                <td><strong>Name</strong></td><td>demandPlastocyaninsReduced_c</td>\n",
       "            </tr><tr>\n",
       "                <td><strong>Memory address</strong></td>\n",
       "                <td>0x220712bfbe0</td>\n",
       "            </tr><tr>\n",
       "                <td><strong>Stoichiometry</strong></td>\n",
       "                <td>\n",
       "                    <p style='text-align:right'>--> Plastocyanin-Reduced[c]</p>\n",
       "                    <p style='text-align:right'>--> RedPlastocyanins</p>\n",
       "                </td>\n",
       "            </tr><tr>\n",
       "                <td><strong>GPR</strong></td><td></td>\n",
       "            </tr><tr>\n",
       "                <td><strong>Lower bound</strong></td><td>0</td>\n",
       "            </tr><tr>\n",
       "                <td><strong>Upper bound</strong></td><td>1000</td>\n",
       "            </tr>\n",
       "        </table>\n",
       "        "
      ],
      "text/plain": [
       "<Reaction demandPlastocyaninsReduced_c at 0x220712bfbe0>"
      ]
     },
     "execution_count": 16,
     "metadata": {},
     "output_type": "execute_result"
    }
   ],
   "source": [
    "demandPlastocyaninsReduced_c=Reaction('demandPlastocyaninsReduced_c')\n",
    "demandPlastocyaninsReduced_c.name='demandPlastocyaninsReduced_c'\n",
    "demandPlastocyaninsReduced_c.lower_bound=0\n",
    "demandPlastocyaninsReduced_c.upper_bound=1000\n",
    "demandPlastocyaninsReduced_c.add_metabolites({pvulModel.metabolites.get_by_id(\"Plastocyanin-Reduced[c]\"):+1})\n",
    "pvulModel.add_reactions([demandPlastocyaninsReduced_c])\n",
    "pvulModel.reactions.demandPlastocyaninsReduced_c"
   ]
  },
  {
   "cell_type": "code",
   "execution_count": 17,
   "metadata": {},
   "outputs": [
    {
     "data": {
      "text/html": [
       "\n",
       "        <table>\n",
       "            <tr>\n",
       "                <td><strong>Reaction identifier</strong></td><td>sinkPlastocyaninsOxidized_c</td>\n",
       "            </tr><tr>\n",
       "                <td><strong>Name</strong></td><td>sinkPlastocyaninsOxidized_c</td>\n",
       "            </tr><tr>\n",
       "                <td><strong>Memory address</strong></td>\n",
       "                <td>0x2204757d9f0</td>\n",
       "            </tr><tr>\n",
       "                <td><strong>Stoichiometry</strong></td>\n",
       "                <td>\n",
       "                    <p style='text-align:right'>Oxidized-Plastocyanins[c] --></p>\n",
       "                    <p style='text-align:right'>OxiPlastocyanins --></p>\n",
       "                </td>\n",
       "            </tr><tr>\n",
       "                <td><strong>GPR</strong></td><td></td>\n",
       "            </tr><tr>\n",
       "                <td><strong>Lower bound</strong></td><td>0</td>\n",
       "            </tr><tr>\n",
       "                <td><strong>Upper bound</strong></td><td>1000</td>\n",
       "            </tr>\n",
       "        </table>\n",
       "        "
      ],
      "text/plain": [
       "<Reaction sinkPlastocyaninsOxidized_c at 0x2204757d9f0>"
      ]
     },
     "execution_count": 17,
     "metadata": {},
     "output_type": "execute_result"
    }
   ],
   "source": [
    "sinkPlastocyaninsOxidized_c=Reaction('sinkPlastocyaninsOxidized_c')\n",
    "sinkPlastocyaninsOxidized_c.name='sinkPlastocyaninsOxidized_c'\n",
    "sinkPlastocyaninsOxidized_c.lower_bound=0\n",
    "sinkPlastocyaninsOxidized_c.upper_bound=1000\n",
    "sinkPlastocyaninsOxidized_c.add_metabolites({pvulModel.metabolites.get_by_id(\"Oxidized-Plastocyanins[c]\"):-1})\n",
    "pvulModel.add_reactions([sinkPlastocyaninsOxidized_c])\n",
    "pvulModel.reactions.sinkPlastocyaninsOxidized_c"
   ]
  },
  {
   "cell_type": "code",
   "execution_count": 15,
   "metadata": {},
   "outputs": [],
   "source": [
    "# oxiFerrodoxins=Metabolite('Oxidized-ferrodoxins[c]', formula='', name='oxiFerrodoxins', compartment='c')\n",
    "# pvulModel.add_metabolites([oxiFerrodoxins])\n",
    "# redFerrodoxins=Metabolite('Reduced-ferrodoxins[c]', formula='', name='redFerrodoxins', compartment='c')\n",
    "# pvulModel.add_metabolites([redFerrodoxins])\n",
    "OxiPlastocyanins=Metabolite('Oxidized-Plastocyanins[c]', formula='', name='OxiPlastocyanins', compartment='c')\n",
    "pvulModel.add_metabolites([OxiPlastocyanins])\n",
    "RedPlastocyanins=Metabolite('Plastocyanin-Reduced[c]', formula='', name='RedPlastocyanins', compartment='c')\n",
    "pvulModel.add_metabolites([RedPlastocyanins])"
   ]
  },
  {
   "cell_type": "code",
   "execution_count": 18,
   "metadata": {},
   "outputs": [],
   "source": [
    "ferrodoxins=Reaction('RXN-15479')\n",
    "ferrodoxins.name='RXN-15479'\n",
    "ferrodoxins.add_metabolites({\n",
    "    pvulModel.metabolites.get_by_id(\"Oxidized-ferredoxins[c]\"): -1,  # glucose (extracellular) on the left side of the reaction\n",
    "    pvulModel.metabolites.get_by_id(\"Plastocyanin-Reduced[c]\"): -1,  # glucose (intracellular) on the right side of the reaction\n",
    "    pvulModel.metabolites.get_by_id(\"Light[c]\"): -1,  # glucose (extracellular) on the left side of the reaction\n",
    "    pvulModel.metabolites.get_by_id(\"Reduced-ferredoxins[c]\"): 1,  # glucose (intracellular) on the right side of the reaction\n",
    "    pvulModel.metabolites.get_by_id(\"Oxidized-Plastocyanins[c]\"): 1,  # glucose (intracellular) on the right side of the reaction\n",
    "\n",
    "    })\n",
    "ferrodoxins.lower_bound = 0\n",
    "ferrodoxins.upper_bound = 1000\n",
    "ferrodoxins.genetic_reaction_rule = \"Phvul.010G068700 or Phvul.010G120100 or Phvul.010G068800 or Phvul.009G040300 or Phvul.009G216400 or Phvul.009G258500 or Phvul.005G004000 or Phvul.011G096400 or Phvul.011G128115 or Phvul.L001631 or Phvul.002G140800 or Phvul.002G269400\"\n",
    "\n",
    "\n",
    "pvulModel.add_reactions([ferrodoxins])"
   ]
  },
  {
   "attachments": {},
   "cell_type": "markdown",
   "metadata": {},
   "source": [
    "#### 1.18.1.2-RXN"
   ]
  },
  {
   "cell_type": "code",
   "execution_count": null,
   "metadata": {},
   "outputs": [],
   "source": [
    "# NADP_e=Metabolite('NADP[e]', formula='', name='NADP_e', compartment='e')\n",
    "# pvulModel.add_metabolites([NADP_e])\n",
    "# NADPH_e=Metabolite('NADPH[e]', formula='', name='NADPH_e', compartment='e')\n",
    "# pvulModel.add_metabolites([NADPH_e])"
   ]
  },
  {
   "cell_type": "code",
   "execution_count": 19,
   "metadata": {},
   "outputs": [],
   "source": [
    "ferrodoxins=Reaction('_1.18.1.2-RXN')\n",
    "ferrodoxins.name='_1.18.1.2-RXN'\n",
    "ferrodoxins.add_metabolites({\n",
    "    pvulModel.metabolites.get_by_id(\"NADP[c]\"): -1,  # glucose (intracellular) on the right side of the reaction\n",
    "    pvulModel.metabolites.get_by_id(\"Reduced-ferredoxins[c]\"): -2,  # glucose (extracellular) on the left side of the reaction\n",
    "    pvulModel.metabolites.get_by_id(\"PROTON[c]\"): -1,  # glucose (extracellular) on the left side of the reaction\n",
    "    pvulModel.metabolites.get_by_id(\"NADPH[c]\"): 1,  # glucose (intracellular) on the right side of the reaction\n",
    "    pvulModel.metabolites.get_by_id(\"Oxidized-ferredoxins[c]\"): 2,  # glucose (intracellular) on the right side of the reaction\n",
    "\n",
    "    })\n",
    "ferrodoxins.lower_bound = 0\n",
    "ferrodoxins.upper_bound = 1000\n",
    "ferrodoxins.genetic_reaction_rule = \"Phvul.1.18.1.2\"\n",
    "\n",
    "\n",
    "pvulModel.add_reactions([ferrodoxins])"
   ]
  },
  {
   "attachments": {},
   "cell_type": "markdown",
   "metadata": {},
   "source": [
    "### support"
   ]
  },
  {
   "cell_type": "code",
   "execution_count": 20,
   "metadata": {},
   "outputs": [
    {
     "data": {
      "text/plain": [
       "[]"
      ]
     },
     "execution_count": 20,
     "metadata": {},
     "output_type": "execute_result"
    }
   ],
   "source": [
    "cobra.flux_analysis.find_blocked_reactions(pvulModel)"
   ]
  },
  {
   "cell_type": "code",
   "execution_count": null,
   "metadata": {},
   "outputs": [],
   "source": [
    "input(\"presione enter para continuar\")"
   ]
  },
  {
   "cell_type": "code",
   "execution_count": 21,
   "metadata": {},
   "outputs": [],
   "source": [
    "pvulModel.objective = 'Biomass'"
   ]
  },
  {
   "cell_type": "code",
   "execution_count": 23,
   "metadata": {},
   "outputs": [
    {
     "data": {
      "text/html": [
       "\n",
       "        <table>\n",
       "            <tr>\n",
       "                <td><strong>Reaction identifier</strong></td><td>demandLight</td>\n",
       "            </tr><tr>\n",
       "                <td><strong>Name</strong></td><td>demandLight</td>\n",
       "            </tr><tr>\n",
       "                <td><strong>Memory address</strong></td>\n",
       "                <td>0x220711d9a50</td>\n",
       "            </tr><tr>\n",
       "                <td><strong>Stoichiometry</strong></td>\n",
       "                <td>\n",
       "                    <p style='text-align:right'>--> Light[c]</p>\n",
       "                    <p style='text-align:right'>--> Light</p>\n",
       "                </td>\n",
       "            </tr><tr>\n",
       "                <td><strong>GPR</strong></td><td></td>\n",
       "            </tr><tr>\n",
       "                <td><strong>Lower bound</strong></td><td>0</td>\n",
       "            </tr><tr>\n",
       "                <td><strong>Upper bound</strong></td><td>1000</td>\n",
       "            </tr>\n",
       "        </table>\n",
       "        "
      ],
      "text/plain": [
       "<Reaction demandLight at 0x220711d9a50>"
      ]
     },
     "execution_count": 23,
     "metadata": {},
     "output_type": "execute_result"
    }
   ],
   "source": [
    "pvulModel.reactions.demandLight"
   ]
  },
  {
   "cell_type": "code",
   "execution_count": 22,
   "metadata": {},
   "outputs": [
    {
     "data": {
      "text/html": [
       "<h3>Objective</h3><p>1.0 Biomass = 0.5026775088242027</p><h4>Uptake</h4><table border=\"1\" class=\"dataframe\">\n",
       "  <thead>\n",
       "    <tr style=\"text-align: right;\">\n",
       "      <th>Metabolite</th>\n",
       "      <th>Reaction</th>\n",
       "      <th>Flux</th>\n",
       "      <th>C-Number</th>\n",
       "      <th>C-Flux</th>\n",
       "    </tr>\n",
       "  </thead>\n",
       "  <tbody>\n",
       "    <tr>\n",
       "      <td>ASN[e]</td>\n",
       "      <td>EX_ASN[e]</td>\n",
       "      <td>532.8</td>\n",
       "      <td>4</td>\n",
       "      <td>6.41%</td>\n",
       "    </tr>\n",
       "    <tr>\n",
       "      <td>BETA-D-FRUCTOSE[e]</td>\n",
       "      <td>EX_BETA-D-FRUCTOSE[e]</td>\n",
       "      <td>27.99</td>\n",
       "      <td>6</td>\n",
       "      <td>0.51%</td>\n",
       "    </tr>\n",
       "    <tr>\n",
       "      <td>GLC[e]</td>\n",
       "      <td>EX_GLC[e]</td>\n",
       "      <td>22.6</td>\n",
       "      <td>6</td>\n",
       "      <td>0.41%</td>\n",
       "    </tr>\n",
       "    <tr>\n",
       "      <td>GLN[e]</td>\n",
       "      <td>EX_GLN[e]</td>\n",
       "      <td>1000</td>\n",
       "      <td>5</td>\n",
       "      <td>15.05%</td>\n",
       "    </tr>\n",
       "    <tr>\n",
       "      <td>ILE[e]</td>\n",
       "      <td>EX_ILE[e]</td>\n",
       "      <td>1.347</td>\n",
       "      <td>6</td>\n",
       "      <td>0.02%</td>\n",
       "    </tr>\n",
       "    <tr>\n",
       "      <td>LINOLEIC_ACID[e]</td>\n",
       "      <td>EX_LINOLEIC_ACID[e]</td>\n",
       "      <td>33.46</td>\n",
       "      <td>18</td>\n",
       "      <td>1.81%</td>\n",
       "    </tr>\n",
       "    <tr>\n",
       "      <td>LYS[e]</td>\n",
       "      <td>EX_LYS[e]</td>\n",
       "      <td>934.7</td>\n",
       "      <td>6</td>\n",
       "      <td>16.88%</td>\n",
       "    </tr>\n",
       "    <tr>\n",
       "      <td>MET[e]</td>\n",
       "      <td>EX_MET[e]</td>\n",
       "      <td>703.7</td>\n",
       "      <td>5</td>\n",
       "      <td>10.59%</td>\n",
       "    </tr>\n",
       "    <tr>\n",
       "      <td>MYO-INOSITOL[e]</td>\n",
       "      <td>EX_MYO-INOSITOL[e]</td>\n",
       "      <td>10.57</td>\n",
       "      <td>6</td>\n",
       "      <td>0.19%</td>\n",
       "    </tr>\n",
       "    <tr>\n",
       "      <td>NITRATE[e]</td>\n",
       "      <td>EX_NITRATE[e]</td>\n",
       "      <td>1000</td>\n",
       "      <td>0</td>\n",
       "      <td>0.00%</td>\n",
       "    </tr>\n",
       "    <tr>\n",
       "      <td>OLEATE-CPD[e]</td>\n",
       "      <td>EX_OLEATE-CPD[e]</td>\n",
       "      <td>9.583</td>\n",
       "      <td>18</td>\n",
       "      <td>0.52%</td>\n",
       "    </tr>\n",
       "    <tr>\n",
       "      <td>OXALACETIC_ACID[e]</td>\n",
       "      <td>EX_OXALACETIC_ACID[e]</td>\n",
       "      <td>1000</td>\n",
       "      <td>4</td>\n",
       "      <td>12.04%</td>\n",
       "    </tr>\n",
       "    <tr>\n",
       "      <td>OXYGEN-MOLECULE[e]</td>\n",
       "      <td>EX_OXYGEN-MOLECULE[e]</td>\n",
       "      <td>1000</td>\n",
       "      <td>0</td>\n",
       "      <td>0.00%</td>\n",
       "    </tr>\n",
       "    <tr>\n",
       "      <td>PALMITATE[e]</td>\n",
       "      <td>EX_PALMITATE[e]</td>\n",
       "      <td>11.43</td>\n",
       "      <td>16</td>\n",
       "      <td>0.55%</td>\n",
       "    </tr>\n",
       "    <tr>\n",
       "      <td>PHE[e]</td>\n",
       "      <td>EX_PHE[e]</td>\n",
       "      <td>3.869</td>\n",
       "      <td>9</td>\n",
       "      <td>0.10%</td>\n",
       "    </tr>\n",
       "    <tr>\n",
       "      <td>PRO[e]</td>\n",
       "      <td>EX_PRO[e]</td>\n",
       "      <td>1.452</td>\n",
       "      <td>5</td>\n",
       "      <td>0.02%</td>\n",
       "    </tr>\n",
       "    <tr>\n",
       "      <td>PYRIDOXAL_PHOSPHATE[e]</td>\n",
       "      <td>EX_PYRIDOXAL_PHOSPHATE[e]</td>\n",
       "      <td>1000</td>\n",
       "      <td>8</td>\n",
       "      <td>24.08%</td>\n",
       "    </tr>\n",
       "    <tr>\n",
       "      <td>SER[e]</td>\n",
       "      <td>EX_SER[e]</td>\n",
       "      <td>1000</td>\n",
       "      <td>3</td>\n",
       "      <td>9.03%</td>\n",
       "    </tr>\n",
       "    <tr>\n",
       "      <td>STEARIC_ACID[e]</td>\n",
       "      <td>EX_STEARIC_ACID[e]</td>\n",
       "      <td>5.481</td>\n",
       "      <td>18</td>\n",
       "      <td>0.30%</td>\n",
       "    </tr>\n",
       "    <tr>\n",
       "      <td>SUCROSE[e]</td>\n",
       "      <td>EX_SUCROSE[e]</td>\n",
       "      <td>40.33</td>\n",
       "      <td>12</td>\n",
       "      <td>1.46%</td>\n",
       "    </tr>\n",
       "    <tr>\n",
       "      <td>THR[e]</td>\n",
       "      <td>EX_THR[e]</td>\n",
       "      <td>2.304</td>\n",
       "      <td>4</td>\n",
       "      <td>0.03%</td>\n",
       "    </tr>\n",
       "    <tr>\n",
       "      <td>WATER[e]</td>\n",
       "      <td>EX_WATER[e]</td>\n",
       "      <td>129</td>\n",
       "      <td>0</td>\n",
       "      <td>0.00%</td>\n",
       "    </tr>\n",
       "    <tr>\n",
       "      <td>Light[c]</td>\n",
       "      <td>demandLight</td>\n",
       "      <td>1000</td>\n",
       "      <td>0</td>\n",
       "      <td>0.00%</td>\n",
       "    </tr>\n",
       "    <tr>\n",
       "      <td>Oxidized-Plastocyanins[e]</td>\n",
       "      <td>demandPlastocyanins</td>\n",
       "      <td>46.68</td>\n",
       "      <td>0</td>\n",
       "      <td>0.00%</td>\n",
       "    </tr>\n",
       "    <tr>\n",
       "      <td>Plastocyanin-Reduced[c]</td>\n",
       "      <td>demandPlastocyaninsReduced_c</td>\n",
       "      <td>953.3</td>\n",
       "      <td>0</td>\n",
       "      <td>0.00%</td>\n",
       "    </tr>\n",
       "  </tbody>\n",
       "</table><h4>Secretion</h4><table border=\"1\" class=\"dataframe\">\n",
       "  <thead>\n",
       "    <tr style=\"text-align: right;\">\n",
       "      <th>Metabolite</th>\n",
       "      <th>Reaction</th>\n",
       "      <th>Flux</th>\n",
       "      <th>C-Number</th>\n",
       "      <th>C-Flux</th>\n",
       "    </tr>\n",
       "  </thead>\n",
       "  <tbody>\n",
       "    <tr>\n",
       "      <td>ADENOSYL-HOMO-CYS[e]</td>\n",
       "      <td>EX_ADENOSYL-HOMO-CYS[e]</td>\n",
       "      <td>-703.7</td>\n",
       "      <td>14</td>\n",
       "      <td>37.26%</td>\n",
       "    </tr>\n",
       "    <tr>\n",
       "      <td>CARBON-DIOXIDE[e]</td>\n",
       "      <td>EX_CARBON-DIOXIDE[e]</td>\n",
       "      <td>-1000</td>\n",
       "      <td>1</td>\n",
       "      <td>3.78%</td>\n",
       "    </tr>\n",
       "    <tr>\n",
       "      <td>GLT[e]</td>\n",
       "      <td>EX_GLT[e]</td>\n",
       "      <td>-877.5</td>\n",
       "      <td>5</td>\n",
       "      <td>16.59%</td>\n",
       "    </tr>\n",
       "    <tr>\n",
       "      <td>GLY[e]</td>\n",
       "      <td>EX_GLY[e]</td>\n",
       "      <td>-212.5</td>\n",
       "      <td>2</td>\n",
       "      <td>1.61%</td>\n",
       "    </tr>\n",
       "    <tr>\n",
       "      <td>HCO3[e]</td>\n",
       "      <td>EX_HCO3[e]</td>\n",
       "      <td>-1000</td>\n",
       "      <td>1</td>\n",
       "      <td>3.78%</td>\n",
       "    </tr>\n",
       "    <tr>\n",
       "      <td>L-ALPHA-ALANINE[e]</td>\n",
       "      <td>EX_L-ALPHA-ALANINE[e]</td>\n",
       "      <td>-1000</td>\n",
       "      <td>3</td>\n",
       "      <td>11.35%</td>\n",
       "    </tr>\n",
       "    <tr>\n",
       "      <td>L-ASPARTATE[e]</td>\n",
       "      <td>EX_L-ASPARTATE[e]</td>\n",
       "      <td>-95.21</td>\n",
       "      <td>4</td>\n",
       "      <td>1.44%</td>\n",
       "    </tr>\n",
       "    <tr>\n",
       "      <td>MAL[e]</td>\n",
       "      <td>EX_MAL[e]</td>\n",
       "      <td>-121.5</td>\n",
       "      <td>4</td>\n",
       "      <td>1.84%</td>\n",
       "    </tr>\n",
       "    <tr>\n",
       "      <td>PROTON[e]</td>\n",
       "      <td>EX_PROTON[e]</td>\n",
       "      <td>-1000</td>\n",
       "      <td>0</td>\n",
       "      <td>0.00%</td>\n",
       "    </tr>\n",
       "    <tr>\n",
       "      <td>Pi[e]</td>\n",
       "      <td>EX_Pi[e]</td>\n",
       "      <td>-320.7</td>\n",
       "      <td>0</td>\n",
       "      <td>0.00%</td>\n",
       "    </tr>\n",
       "    <tr>\n",
       "      <td>SUC[e]</td>\n",
       "      <td>EX_SUC[e]</td>\n",
       "      <td>-1000</td>\n",
       "      <td>4</td>\n",
       "      <td>15.13%</td>\n",
       "    </tr>\n",
       "    <tr>\n",
       "      <td>VAL[e]</td>\n",
       "      <td>EX_VAL[e]</td>\n",
       "      <td>-382</td>\n",
       "      <td>5</td>\n",
       "      <td>7.22%</td>\n",
       "    </tr>\n",
       "    <tr>\n",
       "      <td>Oxidized-Plastocyanins[c]</td>\n",
       "      <td>sinkPlastocyaninsOxidized_c</td>\n",
       "      <td>-953.3</td>\n",
       "      <td>0</td>\n",
       "      <td>0.00%</td>\n",
       "    </tr>\n",
       "    <tr>\n",
       "      <td>Plastocyanin-Reduced[e]</td>\n",
       "      <td>sinkPlastocyanins_e</td>\n",
       "      <td>-46.68</td>\n",
       "      <td>0</td>\n",
       "      <td>0.00%</td>\n",
       "    </tr>\n",
       "  </tbody>\n",
       "</table>"
      ],
      "text/plain": [
       "<cobra.summary.model_summary.ModelSummary at 0x220712bfb20>"
      ]
     },
     "execution_count": 22,
     "metadata": {},
     "output_type": "execute_result"
    }
   ],
   "source": [
    "pvulModel.summary()"
   ]
  },
  {
   "cell_type": "code",
   "execution_count": null,
   "metadata": {},
   "outputs": [],
   "source": [
    "for i in pvulModel.metabolites:\n",
    "    if 'PLASTOQUINONE' in i.id:\n",
    "        print(i.id)"
   ]
  },
  {
   "cell_type": "code",
   "execution_count": null,
   "metadata": {},
   "outputs": [],
   "source": [
    "removerxn=pvulModel.reactions.get_by_id(\"RXN-15479\")\n",
    "pvulModel.remove_reactions([removerxn])"
   ]
  },
  {
   "cell_type": "code",
   "execution_count": null,
   "metadata": {},
   "outputs": [],
   "source": [
    "removemts=pvulModel.metabolites.get_by_id(\"Reduced-ferrodoxins[c]\")\n",
    "pvulModel.remove_metabolites([removemts])"
   ]
  },
  {
   "cell_type": "code",
   "execution_count": null,
   "metadata": {},
   "outputs": [
    {
     "data": {
      "text/html": [
       "\n",
       "        <table>\n",
       "            <tr>\n",
       "                <td><strong>Metabolite identifier</strong></td><td>Oxidized-Plastocyanins[c]</td>\n",
       "            </tr><tr>\n",
       "                <td><strong>Name</strong></td><td>OxiPlastocyanins</td>\n",
       "            </tr><tr>\n",
       "                <td><strong>Memory address</strong></td>\n",
       "                <td>0x244d4da4d60</td>\n",
       "            </tr><tr>\n",
       "                <td><strong>Formula</strong></td><td></td>\n",
       "            </tr><tr>\n",
       "                <td><strong>Compartment</strong></td><td>c</td>\n",
       "            </tr><tr>\n",
       "                <td><strong>In 1 reaction(s)</strong></td><td>\n",
       "                    RXN-15479\n",
       "                    </td>\n",
       "            </tr>\n",
       "        </table>"
      ],
      "text/plain": [
       "<Metabolite Oxidized-Plastocyanins[c] at 0x244d4da4d60>"
      ]
     },
     "execution_count": 190,
     "metadata": {},
     "output_type": "execute_result"
    }
   ],
   "source": [
    "pvulModel.metabolites.get_by_id(\"Oxidized-Plastocyanins[c]\")"
   ]
  },
  {
   "cell_type": "code",
   "execution_count": null,
   "metadata": {},
   "outputs": [],
   "source": [
    "write_sbml_model(pvulModel, 'pvulModel_light.xml')"
   ]
  }
 ],
 "metadata": {
  "kernelspec": {
   "display_name": "CobraPy",
   "language": "python",
   "name": "python3"
  },
  "language_info": {
   "codemirror_mode": {
    "name": "ipython",
    "version": 3
   },
   "file_extension": ".py",
   "mimetype": "text/x-python",
   "name": "python",
   "nbconvert_exporter": "python",
   "pygments_lexer": "ipython3",
   "version": "3.10.9"
  },
  "orig_nbformat": 4
 },
 "nbformat": 4,
 "nbformat_minor": 2
}
