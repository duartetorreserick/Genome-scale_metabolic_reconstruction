{
 "cells": [
  {
   "cell_type": "code",
   "execution_count": 5,
   "metadata": {},
   "outputs": [
    {
     "name": "stdout",
     "output_type": "stream",
     "text": [
      "C:\\Users\\duart\\OneDrive\\Documentos\\UNIANDES\\PHASEOLUS LUNATUS\\MODELS\\OTHER_SPECIES\\Phaseolus vulgaris\n"
     ]
    }
   ],
   "source": [
    "import cobra\n",
    "from cobra.io import load_model\n",
    "from pathlib import Path\n",
    "from cobra.io import load_json_model, save_json_model, load_matlab_model, save_matlab_model, read_sbml_model, write_sbml_model\n",
    "import logging\n",
    "import pandas as pd\n",
    "from cobra import Model, Reaction, Metabolite\n",
    "from cobra.io import write_sbml_model, validate_sbml_model\n",
    "from cobra.flux_analysis import flux_variability_analysis\n",
    "\n",
    "%cd C:\\Users\\duart\\OneDrive\\Documentos\\UNIANDES\\PHASEOLUS LUNATUS\\MODELS\\OTHER_SPECIES\\Phaseolus vulgaris\n",
    "pvulModel=read_sbml_model('pvulModel_lightCT+1.0.xml')"
   ]
  },
  {
   "cell_type": "code",
   "execution_count": 337,
   "metadata": {},
   "outputs": [
    {
     "data": {
      "text/html": [
       "<div>\n",
       "<style scoped>\n",
       "    .dataframe tbody tr th:only-of-type {\n",
       "        vertical-align: middle;\n",
       "    }\n",
       "\n",
       "    .dataframe tbody tr th {\n",
       "        vertical-align: top;\n",
       "    }\n",
       "\n",
       "    .dataframe thead th {\n",
       "        text-align: right;\n",
       "    }\n",
       "</style>\n",
       "<table border=\"1\" class=\"dataframe\">\n",
       "  <thead>\n",
       "    <tr style=\"text-align: right;\">\n",
       "      <th></th>\n",
       "      <th>minimum</th>\n",
       "      <th>maximum</th>\n",
       "    </tr>\n",
       "  </thead>\n",
       "  <tbody>\n",
       "    <tr>\n",
       "      <th>RXN-17121</th>\n",
       "      <td>0.000000e+00</td>\n",
       "      <td>1.000000e+03</td>\n",
       "    </tr>\n",
       "    <tr>\n",
       "      <th>PHOSPHOLIPASE-C-RXN</th>\n",
       "      <td>0.000000e+00</td>\n",
       "      <td>9.509711e-11</td>\n",
       "    </tr>\n",
       "    <tr>\n",
       "      <th>EX_STEARIC_ACID[e]</th>\n",
       "      <td>-5.516336e+00</td>\n",
       "      <td>-5.516336e+00</td>\n",
       "    </tr>\n",
       "    <tr>\n",
       "      <th>AIRS-RXN</th>\n",
       "      <td>7.109845e+02</td>\n",
       "      <td>7.109845e+02</td>\n",
       "    </tr>\n",
       "    <tr>\n",
       "      <th>Trans_EX_TYR[e]</th>\n",
       "      <td>-8.300748e-12</td>\n",
       "      <td>0.000000e+00</td>\n",
       "    </tr>\n",
       "    <tr>\n",
       "      <th>...</th>\n",
       "      <td>...</td>\n",
       "      <td>...</td>\n",
       "    </tr>\n",
       "    <tr>\n",
       "      <th>sink_HYDROXY-BUTYRATE_e</th>\n",
       "      <td>0.000000e+00</td>\n",
       "      <td>-6.599957e-12</td>\n",
       "    </tr>\n",
       "    <tr>\n",
       "      <th>SK_epi-jasmonoyl-L-isoleucine</th>\n",
       "      <td>-3.505458e-11</td>\n",
       "      <td>0.000000e+00</td>\n",
       "    </tr>\n",
       "    <tr>\n",
       "      <th>sink_CPD-19812_e</th>\n",
       "      <td>0.000000e+00</td>\n",
       "      <td>9.671852e-13</td>\n",
       "    </tr>\n",
       "    <tr>\n",
       "      <th>sink_CPD-19813_e</th>\n",
       "      <td>-2.824385e-13</td>\n",
       "      <td>-5.373350e-12</td>\n",
       "    </tr>\n",
       "    <tr>\n",
       "      <th>ATPSYN-RXN</th>\n",
       "      <td>1.826637e+02</td>\n",
       "      <td>1.826637e+02</td>\n",
       "    </tr>\n",
       "  </tbody>\n",
       "</table>\n",
       "<p>1097 rows × 2 columns</p>\n",
       "</div>"
      ],
      "text/plain": [
       "                                    minimum       maximum\n",
       "RXN-17121                      0.000000e+00  1.000000e+03\n",
       "PHOSPHOLIPASE-C-RXN            0.000000e+00  9.509711e-11\n",
       "EX_STEARIC_ACID[e]            -5.516336e+00 -5.516336e+00\n",
       "AIRS-RXN                       7.109845e+02  7.109845e+02\n",
       "Trans_EX_TYR[e]               -8.300748e-12  0.000000e+00\n",
       "...                                     ...           ...\n",
       "sink_HYDROXY-BUTYRATE_e        0.000000e+00 -6.599957e-12\n",
       "SK_epi-jasmonoyl-L-isoleucine -3.505458e-11  0.000000e+00\n",
       "sink_CPD-19812_e               0.000000e+00  9.671852e-13\n",
       "sink_CPD-19813_e              -2.824385e-13 -5.373350e-12\n",
       "ATPSYN-RXN                     1.826637e+02  1.826637e+02\n",
       "\n",
       "[1097 rows x 2 columns]"
      ]
     },
     "execution_count": 337,
     "metadata": {},
     "output_type": "execute_result"
    }
   ],
   "source": [
    "pvulModel.objective = 'Biomass'\n",
    "r=cobra.flux_analysis.flux_variability_analysis(pvulModel)\n",
    "r"
   ]
  },
  {
   "attachments": {},
   "cell_type": "markdown",
   "metadata": {},
   "source": [
    "### ANALISIS DE ESCENCIALIDAD LUZ"
   ]
  },
  {
   "cell_type": "code",
   "execution_count": 67,
   "metadata": {},
   "outputs": [],
   "source": [
    "# pvulModel.reactions.get_by_id('Trans_EX_OXYGEN-MOLECULE[e]').lower_bound =-1000\n",
    "# pvulModel.reactions.get_by_id('Trans_EX_OXYGEN-MOLECULE[e]').upper_bound =0\n",
    "# pvulModel.reactions.get_by_id('demandLight').lower_bound =-1000\n",
    "# pvulModel.reactions.get_by_id('demandLight').upper_bound =1000"
   ]
  },
  {
   "cell_type": "code",
   "execution_count": 72,
   "metadata": {},
   "outputs": [
    {
     "data": {
      "text/html": [
       "<h3>Objective</h3><p>1.0 Trans_EX_OXYGEN-MOLECULE[e] = 999.9999999999999</p><h4>Uptake</h4><table border=\"1\" class=\"dataframe\">\n",
       "  <thead>\n",
       "    <tr style=\"text-align: right;\">\n",
       "      <th>Metabolite</th>\n",
       "      <th>Reaction</th>\n",
       "      <th>Flux</th>\n",
       "      <th>C-Number</th>\n",
       "      <th>C-Flux</th>\n",
       "    </tr>\n",
       "  </thead>\n",
       "  <tbody>\n",
       "    <tr>\n",
       "      <td>OXYGEN-MOLECULE[e]</td>\n",
       "      <td>EX_OXYGEN-MOLECULE[e]</td>\n",
       "      <td>1000</td>\n",
       "      <td>0</td>\n",
       "      <td>0.00%</td>\n",
       "    </tr>\n",
       "    <tr>\n",
       "      <td>PYRIDOXAL_PHOSPHATE[e]</td>\n",
       "      <td>EX_PYRIDOXAL_PHOSPHATE[e]</td>\n",
       "      <td>72</td>\n",
       "      <td>8</td>\n",
       "      <td>10.96%</td>\n",
       "    </tr>\n",
       "    <tr>\n",
       "      <td>STEARIC_ACID[e]</td>\n",
       "      <td>EX_STEARIC_ACID[e]</td>\n",
       "      <td>8</td>\n",
       "      <td>18</td>\n",
       "      <td>2.74%</td>\n",
       "    </tr>\n",
       "    <tr>\n",
       "      <td>CPD-11259[c]</td>\n",
       "      <td>SK_epi-jasmonoyl-L-isoleucine</td>\n",
       "      <td>252</td>\n",
       "      <td>18</td>\n",
       "      <td>86.30%</td>\n",
       "    </tr>\n",
       "  </tbody>\n",
       "</table><h4>Secretion</h4><table border=\"1\" class=\"dataframe\">\n",
       "  <thead>\n",
       "    <tr style=\"text-align: right;\">\n",
       "      <th>Metabolite</th>\n",
       "      <th>Reaction</th>\n",
       "      <th>Flux</th>\n",
       "      <th>C-Number</th>\n",
       "      <th>C-Flux</th>\n",
       "    </tr>\n",
       "  </thead>\n",
       "  <tbody>\n",
       "    <tr>\n",
       "      <td>CARBON-DIOXIDE[e]</td>\n",
       "      <td>EX_CARBON-DIOXIDE[e]</td>\n",
       "      <td>-540</td>\n",
       "      <td>1</td>\n",
       "      <td>10.27%</td>\n",
       "    </tr>\n",
       "    <tr>\n",
       "      <td>GLN[e]</td>\n",
       "      <td>EX_GLN[e]</td>\n",
       "      <td>-36</td>\n",
       "      <td>5</td>\n",
       "      <td>3.42%</td>\n",
       "    </tr>\n",
       "    <tr>\n",
       "      <td>PROTON[e]</td>\n",
       "      <td>EX_PROTON[e]</td>\n",
       "      <td>-1000</td>\n",
       "      <td>0</td>\n",
       "      <td>0.00%</td>\n",
       "    </tr>\n",
       "    <tr>\n",
       "      <td>Pi[e]</td>\n",
       "      <td>EX_Pi[e]</td>\n",
       "      <td>-72</td>\n",
       "      <td>0</td>\n",
       "      <td>0.00%</td>\n",
       "    </tr>\n",
       "    <tr>\n",
       "      <td>WATER[e]</td>\n",
       "      <td>EX_WATER[e]</td>\n",
       "      <td>-468</td>\n",
       "      <td>0</td>\n",
       "      <td>0.00%</td>\n",
       "    </tr>\n",
       "    <tr>\n",
       "      <td>CPD-19812[c]</td>\n",
       "      <td>sink_CPD-19812_e</td>\n",
       "      <td>-252</td>\n",
       "      <td>18</td>\n",
       "      <td>86.30%</td>\n",
       "    </tr>\n",
       "  </tbody>\n",
       "</table>"
      ],
      "text/plain": [
       "<cobra.summary.model_summary.ModelSummary at 0x15e5c4ea4d0>"
      ]
     },
     "execution_count": 72,
     "metadata": {},
     "output_type": "execute_result"
    }
   ],
   "source": [
    "pvulModel.objective = 'Trans_EX_OXYGEN-MOLECULE[e]'\n",
    "pvulModel.summary()\n"
   ]
  },
  {
   "cell_type": "code",
   "execution_count": 31,
   "metadata": {},
   "outputs": [
    {
     "data": {
      "text/html": [
       "\n",
       "        <table>\n",
       "            <tr>\n",
       "                <td><strong>Reaction identifier</strong></td><td>EX_OXYGEN-MOLECULE[e]</td>\n",
       "            </tr><tr>\n",
       "                <td><strong>Name</strong></td><td>oxygen exchange</td>\n",
       "            </tr><tr>\n",
       "                <td><strong>Memory address</strong></td>\n",
       "                <td>0x15e59604700</td>\n",
       "            </tr><tr>\n",
       "                <td><strong>Stoichiometry</strong></td>\n",
       "                <td>\n",
       "                    <p style='text-align:right'>OXYGEN-MOLECULE[e] <=></p>\n",
       "                    <p style='text-align:right'>oxygen <=></p>\n",
       "                </td>\n",
       "            </tr><tr>\n",
       "                <td><strong>GPR</strong></td><td></td>\n",
       "            </tr><tr>\n",
       "                <td><strong>Lower bound</strong></td><td>-1000</td>\n",
       "            </tr><tr>\n",
       "                <td><strong>Upper bound</strong></td><td>1000</td>\n",
       "            </tr>\n",
       "        </table>\n",
       "        "
      ],
      "text/plain": [
       "<Reaction EX_OXYGEN-MOLECULE[e] at 0x15e59604700>"
      ]
     },
     "execution_count": 31,
     "metadata": {},
     "output_type": "execute_result"
    }
   ],
   "source": [
    "pvulModel.reactions.get_by_id('EX_OXYGEN-MOLECULE[e]')"
   ]
  },
  {
   "cell_type": "code",
   "execution_count": 16,
   "metadata": {},
   "outputs": [
    {
     "data": {
      "text/html": [
       "\n",
       "        <table>\n",
       "            <tr>\n",
       "                <td><strong>Metabolite identifier</strong></td><td>OXYGEN-MOLECULE[e]</td>\n",
       "            </tr><tr>\n",
       "                <td><strong>Name</strong></td><td>oxygen</td>\n",
       "            </tr><tr>\n",
       "                <td><strong>Memory address</strong></td>\n",
       "                <td>0x15e52c5b5b0</td>\n",
       "            </tr><tr>\n",
       "                <td><strong>Formula</strong></td><td>O2</td>\n",
       "            </tr><tr>\n",
       "                <td><strong>Compartment</strong></td><td>e</td>\n",
       "            </tr><tr>\n",
       "                <td><strong>In 2 reaction(s)</strong></td><td>\n",
       "                    EX_OXYGEN-MOLECULE[e], Trans_EX_OXYGEN-MOLECULE[e]\n",
       "                    </td>\n",
       "            </tr>\n",
       "        </table>"
      ],
      "text/plain": [
       "<Metabolite OXYGEN-MOLECULE[e] at 0x15e52c5b5b0>"
      ]
     },
     "execution_count": 16,
     "metadata": {},
     "output_type": "execute_result"
    }
   ],
   "source": [
    "pvulModel.metabolites.get_by_id('OXYGEN-MOLECULE[e]')"
   ]
  },
  {
   "cell_type": "code",
   "execution_count": 148,
   "metadata": {},
   "outputs": [],
   "source": [
    "pvulModel.objective = 'RXN-9643'\n",
    "# resultado=single_reaction_deletion(pvulModel, pvulModel.reactions)\n",
    "# resultado"
   ]
  },
  {
   "cell_type": "code",
   "execution_count": 149,
   "metadata": {},
   "outputs": [
    {
     "data": {
      "text/html": [
       "<h3>Objective</h3><p>1.0 RXN-9643 = 0.0</p><h4>Uptake</h4><table border=\"1\" class=\"dataframe\">\n",
       "  <thead>\n",
       "    <tr style=\"text-align: right;\">\n",
       "      <th>Metabolite</th>\n",
       "      <th>Reaction</th>\n",
       "      <th>Flux</th>\n",
       "      <th>C-Number</th>\n",
       "      <th>C-Flux</th>\n",
       "    </tr>\n",
       "  </thead>\n",
       "  <tbody>\n",
       "  </tbody>\n",
       "</table><h4>Secretion</h4><table border=\"1\" class=\"dataframe\">\n",
       "  <thead>\n",
       "    <tr style=\"text-align: right;\">\n",
       "      <th>Metabolite</th>\n",
       "      <th>Reaction</th>\n",
       "      <th>Flux</th>\n",
       "      <th>C-Number</th>\n",
       "      <th>C-Flux</th>\n",
       "    </tr>\n",
       "  </thead>\n",
       "  <tbody>\n",
       "  </tbody>\n",
       "</table>"
      ],
      "text/plain": [
       "<cobra.summary.model_summary.ModelSummary at 0x1a1f04ea770>"
      ]
     },
     "execution_count": 149,
     "metadata": {},
     "output_type": "execute_result"
    }
   ],
   "source": [
    "pvulModel.summary()"
   ]
  },
  {
   "cell_type": "code",
   "execution_count": 65,
   "metadata": {},
   "outputs": [],
   "source": [
    "resultadodf=pd.DataFrame(resultado)\n",
    "esenciales=resultadodf[resultadodf['status']==\"infeasible\"]\n",
    "no_esenciales = resultadodf[resultadodf[\"status\"] == \"optimal\"]\n"
   ]
  },
  {
   "cell_type": "code",
   "execution_count": 81,
   "metadata": {},
   "outputs": [],
   "source": [
    "resultado=single_gene_deletion(pvulModel, pvulModel.genes)\n"
   ]
  },
  {
   "cell_type": "code",
   "execution_count": 82,
   "metadata": {},
   "outputs": [
    {
     "data": {
      "text/html": [
       "<div>\n",
       "<style scoped>\n",
       "    .dataframe tbody tr th:only-of-type {\n",
       "        vertical-align: middle;\n",
       "    }\n",
       "\n",
       "    .dataframe tbody tr th {\n",
       "        vertical-align: top;\n",
       "    }\n",
       "\n",
       "    .dataframe thead th {\n",
       "        text-align: right;\n",
       "    }\n",
       "</style>\n",
       "<table border=\"1\" class=\"dataframe\">\n",
       "  <thead>\n",
       "    <tr style=\"text-align: right;\">\n",
       "      <th></th>\n",
       "      <th>ids</th>\n",
       "      <th>growth</th>\n",
       "      <th>status</th>\n",
       "    </tr>\n",
       "  </thead>\n",
       "  <tbody>\n",
       "    <tr>\n",
       "      <th>0</th>\n",
       "      <td>{PHVUL.009G127200}</td>\n",
       "      <td>0.479591</td>\n",
       "      <td>optimal</td>\n",
       "    </tr>\n",
       "    <tr>\n",
       "      <th>1</th>\n",
       "      <td>{PHVUL.007G183400}</td>\n",
       "      <td>0.479591</td>\n",
       "      <td>optimal</td>\n",
       "    </tr>\n",
       "    <tr>\n",
       "      <th>2</th>\n",
       "      <td>{PHVUL.008G080800}</td>\n",
       "      <td>0.479591</td>\n",
       "      <td>optimal</td>\n",
       "    </tr>\n",
       "    <tr>\n",
       "      <th>3</th>\n",
       "      <td>{PHVUL.002G330400}</td>\n",
       "      <td>0.479591</td>\n",
       "      <td>optimal</td>\n",
       "    </tr>\n",
       "    <tr>\n",
       "      <th>4</th>\n",
       "      <td>{PHVUL.002G297900}</td>\n",
       "      <td>0.479591</td>\n",
       "      <td>optimal</td>\n",
       "    </tr>\n",
       "    <tr>\n",
       "      <th>...</th>\n",
       "      <td>...</td>\n",
       "      <td>...</td>\n",
       "      <td>...</td>\n",
       "    </tr>\n",
       "    <tr>\n",
       "      <th>2139</th>\n",
       "      <td>{PHVUL.001G205500}</td>\n",
       "      <td>0.479591</td>\n",
       "      <td>optimal</td>\n",
       "    </tr>\n",
       "    <tr>\n",
       "      <th>2140</th>\n",
       "      <td>{PHVUL.011G187800}</td>\n",
       "      <td>0.479591</td>\n",
       "      <td>optimal</td>\n",
       "    </tr>\n",
       "    <tr>\n",
       "      <th>2141</th>\n",
       "      <td>{PHVUL.004G035000}</td>\n",
       "      <td>0.479591</td>\n",
       "      <td>optimal</td>\n",
       "    </tr>\n",
       "    <tr>\n",
       "      <th>2142</th>\n",
       "      <td>{PHVUL.008G137801}</td>\n",
       "      <td>0.479591</td>\n",
       "      <td>optimal</td>\n",
       "    </tr>\n",
       "    <tr>\n",
       "      <th>2143</th>\n",
       "      <td>{PHVUL.009G002200}</td>\n",
       "      <td>0.479591</td>\n",
       "      <td>optimal</td>\n",
       "    </tr>\n",
       "  </tbody>\n",
       "</table>\n",
       "<p>2144 rows × 3 columns</p>\n",
       "</div>"
      ],
      "text/plain": [
       "                     ids    growth   status\n",
       "0     {PHVUL.009G127200}  0.479591  optimal\n",
       "1     {PHVUL.007G183400}  0.479591  optimal\n",
       "2     {PHVUL.008G080800}  0.479591  optimal\n",
       "3     {PHVUL.002G330400}  0.479591  optimal\n",
       "4     {PHVUL.002G297900}  0.479591  optimal\n",
       "...                  ...       ...      ...\n",
       "2139  {PHVUL.001G205500}  0.479591  optimal\n",
       "2140  {PHVUL.011G187800}  0.479591  optimal\n",
       "2141  {PHVUL.004G035000}  0.479591  optimal\n",
       "2142  {PHVUL.008G137801}  0.479591  optimal\n",
       "2143  {PHVUL.009G002200}  0.479591  optimal\n",
       "\n",
       "[2144 rows x 3 columns]"
      ]
     },
     "execution_count": 82,
     "metadata": {},
     "output_type": "execute_result"
    }
   ],
   "source": [
    "resultado"
   ]
  },
  {
   "attachments": {},
   "cell_type": "markdown",
   "metadata": {},
   "source": [
    "### ANALISIS DE ESCENCIALIDAD DARK"
   ]
  },
  {
   "cell_type": "code",
   "execution_count": 152,
   "metadata": {},
   "outputs": [],
   "source": [
    "pvulModel.reactions.get_by_id('EX_OXYGEN-MOLECULE[e]').lower_bound =-1000\n",
    "pvulModel.reactions.get_by_id('EX_OXYGEN-MOLECULE[e]').upper_bound =0\n",
    "pvulModel.reactions.get_by_id('EX_SUCROSE[e]').lower_bound =-1000\n",
    "pvulModel.reactions.get_by_id('EX_SUCROSE[e]').upper_bound =1000\n",
    "pvulModel.reactions.get_by_id('EX_CARBON-DIOXIDE[e]').lower_bound =0\n",
    "pvulModel.reactions.get_by_id('EX_CARBON-DIOXIDE[e]').upper_bound =1000\n",
    "pvulModel.reactions.get_by_id('demandLight').lower_bound =0\n",
    "pvulModel.reactions.get_by_id('demandLight').upper_bound =0\n",
    "# pvulModel.reactions.get_by_id('EX_WATER[e]').lower_bound =0\n",
    "# pvulModel.reactions.get_by_id('EX_WATER[e]').upper_bound =0\n",
    "# pvulModel.reactions.get_by_id('EX_PROTON[e]').lower_bound =0\n",
    "# pvulModel.reactions.get_by_id('EX_PROTON[e]').upper_bound =0\n",
    "pvulModel.reactions.get_by_id('EX_BETA-D-FRUCTOSE[e]').lower_bound =-1000\n",
    "pvulModel.reactions.get_by_id('EX_BETA-D-FRUCTOSE[e]').upper_bound =1000\n",
    "\n"
   ]
  },
  {
   "cell_type": "code",
   "execution_count": 97,
   "metadata": {},
   "outputs": [],
   "source": [
    "#pvulModel.objective = 'Biomass'\n",
    "resultado2=single_reaction_deletion(pvulModel, pvulModel.reactions)\n"
   ]
  },
  {
   "cell_type": "code",
   "execution_count": 153,
   "metadata": {},
   "outputs": [
    {
     "data": {
      "text/html": [
       "<h3>Objective</h3><p>1.0 sink_lotaustralin_e = 333.33333333333354</p><h4>Uptake</h4><table border=\"1\" class=\"dataframe\">\n",
       "  <thead>\n",
       "    <tr style=\"text-align: right;\">\n",
       "      <th>Metabolite</th>\n",
       "      <th>Reaction</th>\n",
       "      <th>Flux</th>\n",
       "      <th>C-Number</th>\n",
       "      <th>C-Flux</th>\n",
       "    </tr>\n",
       "  </thead>\n",
       "  <tbody>\n",
       "    <tr>\n",
       "      <td>CIT[e]</td>\n",
       "      <td>EX_CIT[e]</td>\n",
       "      <td>17.79</td>\n",
       "      <td>6</td>\n",
       "      <td>1.59%</td>\n",
       "    </tr>\n",
       "    <tr>\n",
       "      <td>ILE[e]</td>\n",
       "      <td>EX_ILE[e]</td>\n",
       "      <td>333.3</td>\n",
       "      <td>6</td>\n",
       "      <td>29.83%</td>\n",
       "    </tr>\n",
       "    <tr>\n",
       "      <td>OXYGEN-MOLECULE[e]</td>\n",
       "      <td>EX_OXYGEN-MOLECULE[e]</td>\n",
       "      <td>1000</td>\n",
       "      <td>0</td>\n",
       "      <td>0.00%</td>\n",
       "    </tr>\n",
       "    <tr>\n",
       "      <td>PYRIDOXAL_PHOSPHATE[e]</td>\n",
       "      <td>EX_PYRIDOXAL_PHOSPHATE[e]</td>\n",
       "      <td>74.73</td>\n",
       "      <td>8</td>\n",
       "      <td>8.92%</td>\n",
       "    </tr>\n",
       "    <tr>\n",
       "      <td>SUCROSE[e]</td>\n",
       "      <td>EX_SUCROSE[e]</td>\n",
       "      <td>333.3</td>\n",
       "      <td>12</td>\n",
       "      <td>59.66%</td>\n",
       "    </tr>\n",
       "  </tbody>\n",
       "</table><h4>Secretion</h4><table border=\"1\" class=\"dataframe\">\n",
       "  <thead>\n",
       "    <tr style=\"text-align: right;\">\n",
       "      <th>Metabolite</th>\n",
       "      <th>Reaction</th>\n",
       "      <th>Flux</th>\n",
       "      <th>C-Number</th>\n",
       "      <th>C-Flux</th>\n",
       "    </tr>\n",
       "  </thead>\n",
       "  <tbody>\n",
       "    <tr>\n",
       "      <td>BETA-D-FRUCTOSE[e]</td>\n",
       "      <td>EX_BETA-D-FRUCTOSE[e]</td>\n",
       "      <td>-333.3</td>\n",
       "      <td>6</td>\n",
       "      <td>29.83%</td>\n",
       "    </tr>\n",
       "    <tr>\n",
       "      <td>CARBON-DIOXIDE[e]</td>\n",
       "      <td>EX_CARBON-DIOXIDE[e]</td>\n",
       "      <td>-831.6</td>\n",
       "      <td>1</td>\n",
       "      <td>12.40%</td>\n",
       "    </tr>\n",
       "    <tr>\n",
       "      <td>GLN[e]</td>\n",
       "      <td>EX_GLN[e]</td>\n",
       "      <td>-17.79</td>\n",
       "      <td>5</td>\n",
       "      <td>1.33%</td>\n",
       "    </tr>\n",
       "    <tr>\n",
       "      <td>PROTON[e]</td>\n",
       "      <td>EX_PROTON[e]</td>\n",
       "      <td>-946.6</td>\n",
       "      <td>0</td>\n",
       "      <td>0.00%</td>\n",
       "    </tr>\n",
       "    <tr>\n",
       "      <td>Pi[e]</td>\n",
       "      <td>EX_Pi[e]</td>\n",
       "      <td>-74.73</td>\n",
       "      <td>0</td>\n",
       "      <td>0.00%</td>\n",
       "    </tr>\n",
       "    <tr>\n",
       "      <td>SER[e]</td>\n",
       "      <td>EX_SER[e]</td>\n",
       "      <td>-39.15</td>\n",
       "      <td>3</td>\n",
       "      <td>1.75%</td>\n",
       "    </tr>\n",
       "    <tr>\n",
       "      <td>WATER[e]</td>\n",
       "      <td>EX_WATER[e]</td>\n",
       "      <td>-106.8</td>\n",
       "      <td>0</td>\n",
       "      <td>0.00%</td>\n",
       "    </tr>\n",
       "    <tr>\n",
       "      <td>lotaustralin[c]</td>\n",
       "      <td>sink_lotaustralin_e</td>\n",
       "      <td>-333.3</td>\n",
       "      <td>11</td>\n",
       "      <td>54.69%</td>\n",
       "    </tr>\n",
       "  </tbody>\n",
       "</table>"
      ],
      "text/plain": [
       "<cobra.summary.model_summary.ModelSummary at 0x1a1f0772da0>"
      ]
     },
     "execution_count": 153,
     "metadata": {},
     "output_type": "execute_result"
    }
   ],
   "source": [
    "pvulModel.summary()"
   ]
  },
  {
   "cell_type": "code",
   "execution_count": 76,
   "metadata": {},
   "outputs": [],
   "source": [
    "resultadodf2=pd.DataFrame(resultado2)\n",
    "esenciales2=resultadodf2[resultadodf2['status']==\"infeasible\"]\n",
    "no_esenciales2 = resultadodf2[resultadodf2[\"status\"] == \"optimal\"]\n"
   ]
  },
  {
   "cell_type": "code",
   "execution_count": 78,
   "metadata": {},
   "outputs": [
    {
     "data": {
      "text/html": [
       "<div>\n",
       "<style scoped>\n",
       "    .dataframe tbody tr th:only-of-type {\n",
       "        vertical-align: middle;\n",
       "    }\n",
       "\n",
       "    .dataframe tbody tr th {\n",
       "        vertical-align: top;\n",
       "    }\n",
       "\n",
       "    .dataframe thead th {\n",
       "        text-align: right;\n",
       "    }\n",
       "</style>\n",
       "<table border=\"1\" class=\"dataframe\">\n",
       "  <thead>\n",
       "    <tr style=\"text-align: right;\">\n",
       "      <th></th>\n",
       "      <th>ids</th>\n",
       "      <th>growth</th>\n",
       "      <th>status</th>\n",
       "    </tr>\n",
       "  </thead>\n",
       "  <tbody>\n",
       "    <tr>\n",
       "      <th>0</th>\n",
       "      <td>{_5.1.2.3-RXN}</td>\n",
       "      <td>0.479591</td>\n",
       "      <td>optimal</td>\n",
       "    </tr>\n",
       "    <tr>\n",
       "      <th>1</th>\n",
       "      <td>{GLUTAMATE-DEHYDROGENASE-RXN}</td>\n",
       "      <td>0.479591</td>\n",
       "      <td>optimal</td>\n",
       "    </tr>\n",
       "    <tr>\n",
       "      <th>2</th>\n",
       "      <td>{_1.5.1.8-RXN}</td>\n",
       "      <td>0.478049</td>\n",
       "      <td>optimal</td>\n",
       "    </tr>\n",
       "    <tr>\n",
       "      <th>3</th>\n",
       "      <td>{RXN-11026-BUTYRYL-COA/OXYGEN-MOLECULE//CROTON...</td>\n",
       "      <td>0.479591</td>\n",
       "      <td>optimal</td>\n",
       "    </tr>\n",
       "    <tr>\n",
       "      <th>4</th>\n",
       "      <td>{RXN-9549}</td>\n",
       "      <td>0.479591</td>\n",
       "      <td>optimal</td>\n",
       "    </tr>\n",
       "    <tr>\n",
       "      <th>...</th>\n",
       "      <td>...</td>\n",
       "      <td>...</td>\n",
       "      <td>...</td>\n",
       "    </tr>\n",
       "    <tr>\n",
       "      <th>1092</th>\n",
       "      <td>{Trans_EX_HCO3[e]}</td>\n",
       "      <td>0.464753</td>\n",
       "      <td>optimal</td>\n",
       "    </tr>\n",
       "    <tr>\n",
       "      <th>1093</th>\n",
       "      <td>{RXN-8773-XYLITOL/NADP//BETA-D-XYLOSE/NADPH/PR...</td>\n",
       "      <td>0.479591</td>\n",
       "      <td>optimal</td>\n",
       "    </tr>\n",
       "    <tr>\n",
       "      <th>1094</th>\n",
       "      <td>{RXN-9657}</td>\n",
       "      <td>0.479591</td>\n",
       "      <td>optimal</td>\n",
       "    </tr>\n",
       "    <tr>\n",
       "      <th>1095</th>\n",
       "      <td>{Trans_EX_ARG[e]}</td>\n",
       "      <td>0.479591</td>\n",
       "      <td>optimal</td>\n",
       "    </tr>\n",
       "    <tr>\n",
       "      <th>1096</th>\n",
       "      <td>{ACETYLORNTRANSAM-RXN}</td>\n",
       "      <td>0.479591</td>\n",
       "      <td>optimal</td>\n",
       "    </tr>\n",
       "  </tbody>\n",
       "</table>\n",
       "<p>1097 rows × 3 columns</p>\n",
       "</div>"
      ],
      "text/plain": [
       "                                                    ids    growth   status\n",
       "0                                        {_5.1.2.3-RXN}  0.479591  optimal\n",
       "1                         {GLUTAMATE-DEHYDROGENASE-RXN}  0.479591  optimal\n",
       "2                                        {_1.5.1.8-RXN}  0.478049  optimal\n",
       "3     {RXN-11026-BUTYRYL-COA/OXYGEN-MOLECULE//CROTON...  0.479591  optimal\n",
       "4                                            {RXN-9549}  0.479591  optimal\n",
       "...                                                 ...       ...      ...\n",
       "1092                                 {Trans_EX_HCO3[e]}  0.464753  optimal\n",
       "1093  {RXN-8773-XYLITOL/NADP//BETA-D-XYLOSE/NADPH/PR...  0.479591  optimal\n",
       "1094                                         {RXN-9657}  0.479591  optimal\n",
       "1095                                  {Trans_EX_ARG[e]}  0.479591  optimal\n",
       "1096                             {ACETYLORNTRANSAM-RXN}  0.479591  optimal\n",
       "\n",
       "[1097 rows x 3 columns]"
      ]
     },
     "execution_count": 78,
     "metadata": {},
     "output_type": "execute_result"
    }
   ],
   "source": [
    "no_esenciales2"
   ]
  },
  {
   "cell_type": "code",
   "execution_count": 79,
   "metadata": {},
   "outputs": [
    {
     "name": "stdout",
     "output_type": "stream",
     "text": [
      "C:\\Users\\duart\\OneDrive\\Documentos\\UNIANDES\\PHASEOLUS LUNATUS\\MODELS\\OTHER_SPECIES\\Phaseolus vulgaris\\SUPPORT\n"
     ]
    }
   ],
   "source": [
    "%cd C:\\Users\\duart\\OneDrive\\Documentos\\UNIANDES\\PHASEOLUS LUNATUS\\MODELS\\OTHER_SPECIES\\Phaseolus vulgaris\\SUPPORT\n",
    "\n",
    "no_esenciales2.to_csv('rxns_no_esenciales2.csv')"
   ]
  },
  {
   "cell_type": "code",
   "execution_count": 122,
   "metadata": {},
   "outputs": [
    {
     "data": {
      "text/plain": [
       "[<Reaction EX_STEARIC_ACID[e] at 0x1a1ef1bde10>,\n",
       " <Reaction EX_HIS[e] at 0x1a1ef1e0190>,\n",
       " <Reaction EX_GLY[e] at 0x1a1ef2b22c0>,\n",
       " <Reaction EX_SUC[e] at 0x1a1ef2f49d0>,\n",
       " <Reaction EX_LYS[e] at 0x1a1ef3375b0>,\n",
       " <Reaction EX_PRO[e] at 0x1a1ef4121a0>,\n",
       " <Reaction EX_ASCORBATE[e] at 0x1a1ef413fd0>,\n",
       " <Reaction EX_HCO3[e] at 0x1a1ef412680>,\n",
       " <Reaction EX_CIT[e] at 0x1a1ef44a080>,\n",
       " <Reaction EX_ILE[e] at 0x1a1ef475d50>,\n",
       " <Reaction EX_BETA-D-FRUCTOSE[e] at 0x1a1ef4a7910>,\n",
       " <Reaction EX_PHE[e] at 0x1a1ed37f340>,\n",
       " <Reaction EX_SULFATE[e] at 0x1a1ee6bb8e0>,\n",
       " <Reaction EX_VAL[e] at 0x1a1ee727d30>,\n",
       " <Reaction EX_PYRIDOXAL_PHOSPHATE[e] at 0x1a1ee256590>,\n",
       " <Reaction EX_MAL[e] at 0x1a1ee256b90>,\n",
       " <Reaction EX_Pi[e] at 0x1a1ee26f520>,\n",
       " <Reaction EX_LINOLEIC_ACID[e] at 0x1a1ee37c7f0>,\n",
       " <Reaction EX_WATER[e] at 0x1a1ee37d8a0>,\n",
       " <Reaction EX_LEU[e] at 0x1a1ee511c30>,\n",
       " <Reaction EX_L-ASPARTATE[e] at 0x1a1ee6e8b50>,\n",
       " <Reaction EX_CARBON-DIOXIDE[e] at 0x1a1ee3ade10>,\n",
       " <Reaction EX_OXYGEN-MOLECULE[e] at 0x1a1ee2c1780>,\n",
       " <Reaction EX_SER[e] at 0x1a1d8ab21d0>,\n",
       " <Reaction EX_ASN[e] at 0x1a1ee488400>,\n",
       " <Reaction EX_TYR[e] at 0x1a1ee844f40>,\n",
       " <Reaction EX_MET[e] at 0x1a1ee14e9b0>,\n",
       " <Reaction EX_NITRATE[e] at 0x1a1ee45c670>,\n",
       " <Reaction EX_FAD[e] at 0x1a1ee45f790>,\n",
       " <Reaction EX_ADENOSYL-HOMO-CYS[e] at 0x1a1ee12c940>,\n",
       " <Reaction EX_CHOLINE[e] at 0x1a1ee12e3b0>,\n",
       " <Reaction EX_GLT[e] at 0x1a1ee12db10>,\n",
       " <Reaction EX_GLN[e] at 0x1a1ee239b70>,\n",
       " <Reaction EX_PALMITATE[e] at 0x1a1ee4e4bb0>,\n",
       " <Reaction EX_GLC[e] at 0x1a1ee64d7e0>,\n",
       " <Reaction EX_ARG[e] at 0x1a1ee0754b0>,\n",
       " <Reaction EX_OXALACETIC_ACID[e] at 0x1a1ee61e770>,\n",
       " <Reaction EX_THR[e] at 0x1a1ee75e9e0>,\n",
       " <Reaction EX_CYS[e] at 0x1a1ee2face0>,\n",
       " <Reaction EX_L-ALPHA-ALANINE[e] at 0x1a1ee2f81f0>,\n",
       " <Reaction EX_THF[e] at 0x1a1ee75e3e0>,\n",
       " <Reaction EX_TRP[e] at 0x1a1ee795690>,\n",
       " <Reaction EX_OLEATE-CPD[e] at 0x1a1ee796140>,\n",
       " <Reaction EX_PROTON[e] at 0x1a1ee4026b0>,\n",
       " <Reaction EX_SUCROSE[e] at 0x1a1ee401fc0>,\n",
       " <Reaction EX_MYO-INOSITOL[e] at 0x1a1edff3df0>,\n",
       " <Reaction demandLight at 0x1a1edc09300>,\n",
       " <Reaction demandPlastocyanins at 0x1a1edc096c0>,\n",
       " <Reaction sinkPlastocyanins_e at 0x1a1edc098d0>,\n",
       " <Reaction demandPlastocyaninsReduced_c at 0x1a1edc09b10>,\n",
       " <Reaction sinkPlastocyaninsOxidized_c at 0x1a1edc09b40>,\n",
       " <Reaction sink_linamarin_e at 0x1a1edc09cc0>,\n",
       " <Reaction sink_lotaustralin_e at 0x1a1edc09ed0>,\n",
       " <Reaction sink_Jasmonoyl-Isoleucines_e at 0x1a1edc09f00>,\n",
       " <Reaction sink_Jasmonoyl-Valines_e at 0x1a1edc09fc0>,\n",
       " <Reaction SK_Jasmonic-acids at 0x1a1edc0a080>,\n",
       " <Reaction sink_HYDROXY-BUTYRATE_e at 0x1a1edc0a140>,\n",
       " <Reaction SK_epi-jasmonoyl-L-isoleucine at 0x1a1edc0a200>,\n",
       " <Reaction sink_CPD-19812_e at 0x1a1edc0a2c0>,\n",
       " <Reaction sink_CPD-19813_e at 0x1a1edc0a380>]"
      ]
     },
     "execution_count": 122,
     "metadata": {},
     "output_type": "execute_result"
    }
   ],
   "source": [
    "pvulModel.boundary"
   ]
  },
  {
   "attachments": {},
   "cell_type": "markdown",
   "metadata": {},
   "source": [
    "### BOUNDARY"
   ]
  },
  {
   "cell_type": "code",
   "execution_count": 41,
   "metadata": {},
   "outputs": [
    {
     "data": {
      "text/plain": [
       "[<Reaction EX_STEARIC_ACID[e] at 0x15e58f29300>,\n",
       " <Reaction EX_HIS[e] at 0x15e58f5e3e0>,\n",
       " <Reaction EX_GLY[e] at 0x15e5909efe0>,\n",
       " <Reaction EX_SUC[e] at 0x15e5913e740>,\n",
       " <Reaction EX_LYS[e] at 0x15e591b3dc0>,\n",
       " <Reaction EX_PRO[e] at 0x15e592f7880>,\n",
       " <Reaction EX_ASCORBATE[e] at 0x15e5932a800>,\n",
       " <Reaction EX_HCO3[e] at 0x15e59329ae0>,\n",
       " <Reaction EX_CIT[e] at 0x15e5935d810>,\n",
       " <Reaction EX_ILE[e] at 0x15e5935ff10>,\n",
       " <Reaction EX_BETA-D-FRUCTOSE[e] at 0x15e593da320>,\n",
       " <Reaction EX_PHE[e] at 0x15e58f82530>,\n",
       " <Reaction EX_SULFATE[e] at 0x15e59509120>,\n",
       " <Reaction EX_VAL[e] at 0x15e5952cd00>,\n",
       " <Reaction EX_PYRIDOXAL_PHOSPHATE[e] at 0x15e5952fcd0>,\n",
       " <Reaction EX_MAL[e] at 0x15e5952f730>,\n",
       " <Reaction EX_Pi[e] at 0x15e59552680>,\n",
       " <Reaction EX_LINOLEIC_ACID[e] at 0x15e59553430>,\n",
       " <Reaction EX_WATER[e] at 0x15e5957b2e0>,\n",
       " <Reaction EX_LEU[e] at 0x15e59598a30>,\n",
       " <Reaction EX_L-ASPARTATE[e] at 0x15e595bbeb0>,\n",
       " <Reaction EX_CARBON-DIOXIDE[e] at 0x15e595e5480>,\n",
       " <Reaction EX_OXYGEN-MOLECULE[e] at 0x15e59604700>,\n",
       " <Reaction EX_SER[e] at 0x15e59607e20>,\n",
       " <Reaction EX_ASN[e] at 0x15e596510f0>,\n",
       " <Reaction EX_TYR[e] at 0x15e59690dc0>,\n",
       " <Reaction EX_MET[e] at 0x15e596d1030>,\n",
       " <Reaction EX_NITRATE[e] at 0x15e596d35b0>,\n",
       " <Reaction EX_FAD[e] at 0x15e596d3ac0>,\n",
       " <Reaction EX_ADENOSYL-HOMO-CYS[e] at 0x15e5970fc40>,\n",
       " <Reaction EX_CHOLINE[e] at 0x15e5973c910>,\n",
       " <Reaction EX_GLT[e] at 0x15e5973ceb0>,\n",
       " <Reaction EX_GLN[e] at 0x15e5973f100>,\n",
       " <Reaction EX_PALMITATE[e] at 0x15e597b70d0>,\n",
       " <Reaction EX_GLC[e] at 0x15e59825e40>,\n",
       " <Reaction EX_ARG[e] at 0x15e59894070>,\n",
       " <Reaction EX_OXALACETIC_ACID[e] at 0x15e5985c580>,\n",
       " <Reaction EX_THR[e] at 0x15e598cb2b0>,\n",
       " <Reaction EX_CYS[e] at 0x15e598cbf70>,\n",
       " <Reaction EX_L-ALPHA-ALANINE[e] at 0x15e598cba60>,\n",
       " <Reaction EX_THF[e] at 0x15e598cb760>,\n",
       " <Reaction EX_TRP[e] at 0x15e5990aef0>,\n",
       " <Reaction EX_OLEATE-CPD[e] at 0x15e5993e140>,\n",
       " <Reaction EX_PROTON[e] at 0x15e5993ef50>,\n",
       " <Reaction EX_SUCROSE[e] at 0x15e5993fe50>,\n",
       " <Reaction EX_MYO-INOSITOL[e] at 0x15e599eed40>,\n",
       " <Reaction demandLight at 0x15e59a9f040>,\n",
       " <Reaction demandPlastocyanins at 0x15e59a9f400>,\n",
       " <Reaction sinkPlastocyanins_e at 0x15e59a9f610>,\n",
       " <Reaction demandPlastocyaninsReduced_c at 0x15e59a9f850>,\n",
       " <Reaction sinkPlastocyaninsOxidized_c at 0x15e59a9f880>,\n",
       " <Reaction sink_linamarin_e at 0x15e59a9fa00>,\n",
       " <Reaction sink_lotaustralin_e at 0x15e59a9fc10>,\n",
       " <Reaction sink_Jasmonoyl-Isoleucines_e at 0x15e59a9fc40>,\n",
       " <Reaction sink_Jasmonoyl-Valines_e at 0x15e59a9fd00>,\n",
       " <Reaction SK_Jasmonic-acids at 0x15e59a9fdc0>,\n",
       " <Reaction sink_HYDROXY-BUTYRATE_e at 0x15e59a9fe80>,\n",
       " <Reaction SK_epi-jasmonoyl-L-isoleucine at 0x15e59a9ff40>,\n",
       " <Reaction sink_CPD-19812_e at 0x15e59a9fc70>,\n",
       " <Reaction sink_CPD-19813_e at 0x15e59a9fbe0>]"
      ]
     },
     "execution_count": 41,
     "metadata": {},
     "output_type": "execute_result"
    }
   ],
   "source": [
    "pvulModel.boundary"
   ]
  },
  {
   "cell_type": "code",
   "execution_count": 75,
   "metadata": {},
   "outputs": [
    {
     "name": "stdout",
     "output_type": "stream",
     "text": [
      "EX_WATER[e]: WATER[e] <=> \n",
      "-1000.0 1000.0\n"
     ]
    }
   ],
   "source": [
    "for i in pvulModel.boundary:\n",
    "    if \"WATER\" in i.id:\n",
    "        print(i)\n",
    "        print(i.lower_bound,i.upper_bound)"
   ]
  },
  {
   "attachments": {},
   "cell_type": "markdown",
   "metadata": {},
   "source": [
    "### TEST DAY"
   ]
  },
  {
   "cell_type": "code",
   "execution_count": 2,
   "metadata": {},
   "outputs": [],
   "source": [
    "pvulModel.reactions.get_by_id('EX_OXYGEN-MOLECULE[e]').lower_bound =-1000\n",
    "pvulModel.reactions.get_by_id('EX_OXYGEN-MOLECULE[e]').upper_bound =0\n",
    "pvulModel.reactions.get_by_id('demandLight').lower_bound =0\n",
    "pvulModel.reactions.get_by_id('demandLight').upper_bound =1000\n",
    "pvulModel.reactions.get_by_id('EX_CARBON-DIOXIDE[e]').lower_bound =0\n",
    "pvulModel.reactions.get_by_id('EX_CARBON-DIOXIDE[e]').upper_bound =1000\n",
    "pvulModel.reactions.get_by_id('EX_SUCROSE[e]').lower_bound =-1000\n",
    "pvulModel.reactions.get_by_id('EX_SUCROSE[e]').upper_bound = 0\n",
    "pvulModel.reactions.get_by_id('EX_BETA-D-FRUCTOSE[e]').lower_bound =-1000\n",
    "pvulModel.reactions.get_by_id('EX_BETA-D-FRUCTOSE[e]').upper_bound =0\n",
    "\n",
    "#pvulModel.summary()"
   ]
  },
  {
   "cell_type": "code",
   "execution_count": 3,
   "metadata": {},
   "outputs": [
    {
     "name": "stdout",
     "output_type": "stream",
     "text": [
      "<Solution 0.506 at 0x17256f02230>\n"
     ]
    }
   ],
   "source": [
    "pvulModel.objective = 'Biomass'\n",
    "solution = pvulModel.optimize()\n",
    "print(solution)\n",
    "# pvulModel.objective = 'sink_lotaustralin_e'\n",
    "# print(pvulModel.optimize())\n",
    "# pvulModel.objective = 'sink_linamarin_e'\n",
    "# print(pvulModel.optimize())\n",
    "\n"
   ]
  },
  {
   "attachments": {},
   "cell_type": "markdown",
   "metadata": {},
   "source": [
    "#### FVA DAY"
   ]
  },
  {
   "cell_type": "code",
   "execution_count": 311,
   "metadata": {},
   "outputs": [],
   "source": [
    "fva_day=flux_variability_analysis(pvulModel)\n",
    "\n"
   ]
  },
  {
   "cell_type": "code",
   "execution_count": 312,
   "metadata": {},
   "outputs": [
    {
     "data": {
      "text/plain": [
       "1097"
      ]
     },
     "execution_count": 312,
     "metadata": {},
     "output_type": "execute_result"
    }
   ],
   "source": [
    "listafva_day={}\n",
    "for index,row in fva_day.iterrows():\n",
    "    value=(row['minimum'],row['maximum'])\n",
    "    listafva_day[index]=value\n",
    "len(listafva_day)"
   ]
  },
  {
   "cell_type": "code",
   "execution_count": 316,
   "metadata": {},
   "outputs": [
    {
     "data": {
      "text/plain": [
       "430"
      ]
     },
     "execution_count": 316,
     "metadata": {},
     "output_type": "execute_result"
    }
   ],
   "source": [
    "listMagnitudes_day ={}\n",
    "for index,values in listafva_day.items():\n",
    "    if values[0] <0 and values[1] >0:\n",
    "        magnitude = abs(values[0])+values[1]\n",
    "        listMagnitudes_day[index]=magnitude\n",
    "    elif values[0] <0 and values[1] <0:\n",
    "        magnitude = abs(values[0])-abs(values[1])\n",
    "        listMagnitudes_day[index]=magnitude\n",
    "    elif values[0] >0 and values[1] >0:\n",
    "        magnitude = values[1]-values[0]\n",
    "        listMagnitudes_day[index]=magnitude\n",
    "\n",
    "len(listMagnitudes_day)"
   ]
  },
  {
   "cell_type": "code",
   "execution_count": 317,
   "metadata": {},
   "outputs": [
    {
     "data": {
      "text/plain": [
       "196"
      ]
     },
     "execution_count": 317,
     "metadata": {},
     "output_type": "execute_result"
    }
   ],
   "source": [
    "critical_day={index:magnitud for index,magnitud in listMagnitudes_day.items() if magnitud <1 and magnitud >-1}\n",
    "len(critical_day)\n"
   ]
  },
  {
   "cell_type": "code",
   "execution_count": 318,
   "metadata": {},
   "outputs": [
    {
     "name": "stdout",
     "output_type": "stream",
     "text": [
      "C:\\Users\\duart\\OneDrive\\Documentos\\UNIANDES\\PHASEOLUS LUNATUS\\MODELS\\OTHER_SPECIES\\Phaseolus vulgaris\\SUPPORT\\FVA\n"
     ]
    }
   ],
   "source": [
    "%cd C:\\Users\\duart\\OneDrive\\Documentos\\UNIANDES\\PHASEOLUS LUNATUS\\MODELS\\OTHER_SPECIES\\Phaseolus vulgaris\\SUPPORT\\FVA\n",
    "df = pd.DataFrame.from_dict(critical_day, orient='index', columns=['value'])\n",
    "df.to_csv('critical_day.csv',decimal=',',sep=';')\n"
   ]
  },
  {
   "attachments": {},
   "cell_type": "markdown",
   "metadata": {},
   "source": [
    "### TEST NIGHT"
   ]
  },
  {
   "cell_type": "code",
   "execution_count": 6,
   "metadata": {},
   "outputs": [],
   "source": [
    "pvulModel.reactions.get_by_id('EX_OXYGEN-MOLECULE[e]').lower_bound =0\n",
    "pvulModel.reactions.get_by_id('EX_OXYGEN-MOLECULE[e]').upper_bound =1000\n",
    "pvulModel.reactions.get_by_id('demandLight').lower_bound =0\n",
    "pvulModel.reactions.get_by_id('demandLight').upper_bound =0\n",
    "pvulModel.reactions.get_by_id('EX_CARBON-DIOXIDE[e]').lower_bound =-1000\n",
    "pvulModel.reactions.get_by_id('EX_CARBON-DIOXIDE[e]').upper_bound =0\n",
    "pvulModel.reactions.get_by_id('EX_SUCROSE[e]').lower_bound =-1000\n",
    "pvulModel.reactions.get_by_id('EX_SUCROSE[e]').upper_bound =1000\n",
    "pvulModel.reactions.get_by_id('EX_BETA-D-FRUCTOSE[e]').lower_bound =-1000\n",
    "pvulModel.reactions.get_by_id('EX_BETA-D-FRUCTOSE[e]').upper_bound =1000\n",
    "\n",
    "\n",
    "#pvulModel.summary()"
   ]
  },
  {
   "cell_type": "code",
   "execution_count": 7,
   "metadata": {},
   "outputs": [
    {
     "name": "stdout",
     "output_type": "stream",
     "text": [
      "<Solution 0.427 at 0x17257937310>\n"
     ]
    }
   ],
   "source": [
    "pvulModel.objective = 'Biomass'\n",
    "solution_night=pvulModel.optimize()\n",
    "print(solution_night)\n",
    "# pvulModel.objective = 'sink_lotaustralin_e'\n",
    "# print(pvulModel.optimize())\n",
    "# pvulModel.objective = 'sink_linamarin_e'\n",
    "# print(pvulModel.optimize())\n",
    "# %cd C:\\Users\\duart\\OneDrive\\Documentos\\UNIANDES\\PHASEOLUS LUNATUS\\MODELS\\OTHER_SPECIES\\Phaseolus vulgaris\\SUPPORT\\FBA\n",
    "# fluxess_biomass_night=solution.fluxes\n",
    "# fluxess_biomass_night.to_csv('fluxess_biomass_night.csv')\n"
   ]
  },
  {
   "cell_type": "code",
   "execution_count": 331,
   "metadata": {},
   "outputs": [],
   "source": [
    "random=flux_variability_analysis(pvulModel)"
   ]
  },
  {
   "cell_type": "code",
   "execution_count": 332,
   "metadata": {},
   "outputs": [
    {
     "data": {
      "text/html": [
       "<div>\n",
       "<style scoped>\n",
       "    .dataframe tbody tr th:only-of-type {\n",
       "        vertical-align: middle;\n",
       "    }\n",
       "\n",
       "    .dataframe tbody tr th {\n",
       "        vertical-align: top;\n",
       "    }\n",
       "\n",
       "    .dataframe thead th {\n",
       "        text-align: right;\n",
       "    }\n",
       "</style>\n",
       "<table border=\"1\" class=\"dataframe\">\n",
       "  <thead>\n",
       "    <tr style=\"text-align: right;\">\n",
       "      <th></th>\n",
       "      <th>minimum</th>\n",
       "      <th>maximum</th>\n",
       "    </tr>\n",
       "  </thead>\n",
       "  <tbody>\n",
       "    <tr>\n",
       "      <th>RXN-17121</th>\n",
       "      <td>0.000000e+00</td>\n",
       "      <td>1000.000000</td>\n",
       "    </tr>\n",
       "    <tr>\n",
       "      <th>PHOSPHOLIPASE-C-RXN</th>\n",
       "      <td>0.000000e+00</td>\n",
       "      <td>1000.000000</td>\n",
       "    </tr>\n",
       "    <tr>\n",
       "      <th>EX_STEARIC_ACID[e]</th>\n",
       "      <td>-1.000000e+03</td>\n",
       "      <td>1000.000000</td>\n",
       "    </tr>\n",
       "    <tr>\n",
       "      <th>AIRS-RXN</th>\n",
       "      <td>-1.070007e-14</td>\n",
       "      <td>644.485379</td>\n",
       "    </tr>\n",
       "    <tr>\n",
       "      <th>Trans_EX_TYR[e]</th>\n",
       "      <td>-1.000000e+03</td>\n",
       "      <td>0.000000</td>\n",
       "    </tr>\n",
       "    <tr>\n",
       "      <th>...</th>\n",
       "      <td>...</td>\n",
       "      <td>...</td>\n",
       "    </tr>\n",
       "    <tr>\n",
       "      <th>sink_HYDROXY-BUTYRATE_e</th>\n",
       "      <td>0.000000e+00</td>\n",
       "      <td>0.000000</td>\n",
       "    </tr>\n",
       "    <tr>\n",
       "      <th>SK_epi-jasmonoyl-L-isoleucine</th>\n",
       "      <td>-1.934090e-13</td>\n",
       "      <td>0.000000</td>\n",
       "    </tr>\n",
       "    <tr>\n",
       "      <th>sink_CPD-19812_e</th>\n",
       "      <td>0.000000e+00</td>\n",
       "      <td>0.000000</td>\n",
       "    </tr>\n",
       "    <tr>\n",
       "      <th>sink_CPD-19813_e</th>\n",
       "      <td>0.000000e+00</td>\n",
       "      <td>0.000000</td>\n",
       "    </tr>\n",
       "    <tr>\n",
       "      <th>ATPSYN-RXN</th>\n",
       "      <td>-4.285714e+02</td>\n",
       "      <td>428.571429</td>\n",
       "    </tr>\n",
       "  </tbody>\n",
       "</table>\n",
       "<p>1097 rows × 2 columns</p>\n",
       "</div>"
      ],
      "text/plain": [
       "                                    minimum      maximum\n",
       "RXN-17121                      0.000000e+00  1000.000000\n",
       "PHOSPHOLIPASE-C-RXN            0.000000e+00  1000.000000\n",
       "EX_STEARIC_ACID[e]            -1.000000e+03  1000.000000\n",
       "AIRS-RXN                      -1.070007e-14   644.485379\n",
       "Trans_EX_TYR[e]               -1.000000e+03     0.000000\n",
       "...                                     ...          ...\n",
       "sink_HYDROXY-BUTYRATE_e        0.000000e+00     0.000000\n",
       "SK_epi-jasmonoyl-L-isoleucine -1.934090e-13     0.000000\n",
       "sink_CPD-19812_e               0.000000e+00     0.000000\n",
       "sink_CPD-19813_e               0.000000e+00     0.000000\n",
       "ATPSYN-RXN                    -4.285714e+02   428.571429\n",
       "\n",
       "[1097 rows x 2 columns]"
      ]
     },
     "execution_count": 332,
     "metadata": {},
     "output_type": "execute_result"
    }
   ],
   "source": [
    "random"
   ]
  },
  {
   "cell_type": "code",
   "execution_count": null,
   "metadata": {},
   "outputs": [],
   "source": [
    "# listO2=[]\n",
    "# for i in pvulModel.metabolites.get_by_id('OXYGEN-MOLECULE[c]').reactions:\n",
    "#     for j in i.metabolites:\n",
    "#         compound =i.metabolites[j]\n",
    "#         if j.id == 'OXYGEN-MOLECULE[c]':\n",
    "#             value=i.metabolites[j]\n",
    "#             if value <0:\n",
    "#                 print(i.id)\n",
    "#                 listO2.append(i.id)\n",
    "#                 print(value)\n",
    "\n",
    "\n",
    "        "
   ]
  },
  {
   "attachments": {},
   "cell_type": "markdown",
   "metadata": {},
   "source": [
    "#### FVA NIGHT"
   ]
  },
  {
   "cell_type": "code",
   "execution_count": 322,
   "metadata": {},
   "outputs": [],
   "source": [
    "fva_night=flux_variability_analysis(pvulModel)\n",
    "\n"
   ]
  },
  {
   "cell_type": "code",
   "execution_count": 323,
   "metadata": {},
   "outputs": [
    {
     "data": {
      "text/plain": [
       "1097"
      ]
     },
     "execution_count": 323,
     "metadata": {},
     "output_type": "execute_result"
    }
   ],
   "source": [
    "listafva_night={}\n",
    "for index,row in fva_night.iterrows():\n",
    "    value=(row['minimum'],row['maximum'])\n",
    "    listafva_night[index]=value\n",
    "len(listafva_night)"
   ]
  },
  {
   "cell_type": "code",
   "execution_count": 324,
   "metadata": {},
   "outputs": [
    {
     "data": {
      "text/plain": [
       "407"
      ]
     },
     "execution_count": 324,
     "metadata": {},
     "output_type": "execute_result"
    }
   ],
   "source": [
    "listMagnitudes_night ={}\n",
    "for index,values in listafva_night.items():\n",
    "    if values[0] <0 and values[1] >0:\n",
    "        magnitude = abs(values[0])+values[1]\n",
    "        listMagnitudes_night[index]=magnitude\n",
    "    elif values[0] <0 and values[1] <0:\n",
    "        magnitude = abs(values[0])-abs(values[1])\n",
    "        listMagnitudes_night[index]=magnitude\n",
    "    elif values[0] >0 and values[1] >0:\n",
    "        magnitude = values[1]-values[0]\n",
    "        listMagnitudes_night[index]=magnitude\n",
    "\n",
    "len(listMagnitudes_night)"
   ]
  },
  {
   "cell_type": "code",
   "execution_count": 325,
   "metadata": {},
   "outputs": [
    {
     "data": {
      "text/plain": [
       "159"
      ]
     },
     "execution_count": 325,
     "metadata": {},
     "output_type": "execute_result"
    }
   ],
   "source": [
    "critical_night={index:magnitud for index,magnitud in listMagnitudes_night.items() if magnitud <1 and magnitud >-1}\n",
    "len(critical_night)\n"
   ]
  },
  {
   "cell_type": "code",
   "execution_count": 326,
   "metadata": {},
   "outputs": [
    {
     "name": "stdout",
     "output_type": "stream",
     "text": [
      "C:\\Users\\duart\\OneDrive\\Documentos\\UNIANDES\\PHASEOLUS LUNATUS\\MODELS\\OTHER_SPECIES\\Phaseolus vulgaris\\SUPPORT\\FVA\n"
     ]
    }
   ],
   "source": [
    "%cd C:\\Users\\duart\\OneDrive\\Documentos\\UNIANDES\\PHASEOLUS LUNATUS\\MODELS\\OTHER_SPECIES\\Phaseolus vulgaris\\SUPPORT\\FVA\n",
    "df = pd.DataFrame.from_dict(critical_night, orient='index', columns=['value'])\n",
    "df.to_csv('critical_night.csv',decimal=',',sep=';')\n"
   ]
  },
  {
   "attachments": {},
   "cell_type": "markdown",
   "metadata": {},
   "source": [
    "### FLUXES ANALYSIS DAY AND NIGHT"
   ]
  },
  {
   "cell_type": "code",
   "execution_count": 4,
   "metadata": {},
   "outputs": [
    {
     "name": "stdout",
     "output_type": "stream",
     "text": [
      "C:\\Users\\duart\\OneDrive\\Documentos\\UNIANDES\\PHASEOLUS LUNATUS\\MODELS\\OTHER_SPECIES\\Phaseolus vulgaris\\SUPPORT\\FBA\n"
     ]
    }
   ],
   "source": [
    "%cd C:\\Users\\duart\\OneDrive\\Documentos\\UNIANDES\\PHASEOLUS LUNATUS\\MODELS\\OTHER_SPECIES\\Phaseolus vulgaris\\SUPPORT\\FBA\n",
    "fluxess_biomass_day=solution.fluxes\n",
    "#fluxess_biomass_day.to_csv('fluxess_biomass_day.csv')"
   ]
  },
  {
   "cell_type": "code",
   "execution_count": 14,
   "metadata": {},
   "outputs": [
    {
     "name": "stdout",
     "output_type": "stream",
     "text": [
      "C:\\Users\\duart\\OneDrive\\Documentos\\UNIANDES\\PHASEOLUS LUNATUS\\MODELS\\OTHER_SPECIES\\Phaseolus vulgaris\\SUPPORT\\FBA\n"
     ]
    }
   ],
   "source": [
    "%cd C:\\Users\\duart\\OneDrive\\Documentos\\UNIANDES\\PHASEOLUS LUNATUS\\MODELS\\OTHER_SPECIES\\Phaseolus vulgaris\\SUPPORT\\FBA\n",
    "fluxess_biomass_day.to_csv('fluxess_biomass_day.csv',decimal=',',sep=';')"
   ]
  },
  {
   "cell_type": "code",
   "execution_count": 8,
   "metadata": {},
   "outputs": [],
   "source": [
    "fluxess_biomass_night=solution_night.fluxes\n"
   ]
  },
  {
   "cell_type": "code",
   "execution_count": 15,
   "metadata": {},
   "outputs": [],
   "source": [
    "fluxess_biomass_night.to_csv('fluxess_biomass_night.csv',decimal=',',sep=';')"
   ]
  },
  {
   "cell_type": "code",
   "execution_count": 9,
   "metadata": {},
   "outputs": [],
   "source": [
    "import pandas as pd"
   ]
  },
  {
   "cell_type": "code",
   "execution_count": 10,
   "metadata": {},
   "outputs": [],
   "source": [
    "fluxes_Day_Night=pd.concat([fluxess_biomass_day,fluxess_biomass_night],axis=1,keys=['Day','Night'])\n",
    "#fluxes_Day_Night=fluxes_Day_Night.rename(columns={'fluxes':'Day','fluxes':'Night'})\n",
    "# fluxes_Day_Night.to_csv('fluxes_Day_Night.csv',decimal=',',sep=';')\n",
    "\n",
    "\n"
   ]
  },
  {
   "cell_type": "code",
   "execution_count": 11,
   "metadata": {},
   "outputs": [
    {
     "data": {
      "text/html": [
       "<div>\n",
       "<style scoped>\n",
       "    .dataframe tbody tr th:only-of-type {\n",
       "        vertical-align: middle;\n",
       "    }\n",
       "\n",
       "    .dataframe tbody tr th {\n",
       "        vertical-align: top;\n",
       "    }\n",
       "\n",
       "    .dataframe thead th {\n",
       "        text-align: right;\n",
       "    }\n",
       "</style>\n",
       "<table border=\"1\" class=\"dataframe\">\n",
       "  <thead>\n",
       "    <tr style=\"text-align: right;\">\n",
       "      <th></th>\n",
       "      <th>Day</th>\n",
       "      <th>Night</th>\n",
       "    </tr>\n",
       "  </thead>\n",
       "  <tbody>\n",
       "    <tr>\n",
       "      <th>RXN-17121</th>\n",
       "      <td>0.000000</td>\n",
       "      <td>0.000000e+00</td>\n",
       "    </tr>\n",
       "    <tr>\n",
       "      <th>PHOSPHOLIPASE-C-RXN</th>\n",
       "      <td>0.000000</td>\n",
       "      <td>0.000000e+00</td>\n",
       "    </tr>\n",
       "    <tr>\n",
       "      <th>EX_STEARIC_ACID[e]</th>\n",
       "      <td>-5.516336</td>\n",
       "      <td>-4.656310e+00</td>\n",
       "    </tr>\n",
       "    <tr>\n",
       "      <th>AIRS-RXN</th>\n",
       "      <td>710.984483</td>\n",
       "      <td>6.001382e+02</td>\n",
       "    </tr>\n",
       "    <tr>\n",
       "      <th>Trans_EX_TYR[e]</th>\n",
       "      <td>0.000000</td>\n",
       "      <td>0.000000e+00</td>\n",
       "    </tr>\n",
       "    <tr>\n",
       "      <th>...</th>\n",
       "      <td>...</td>\n",
       "      <td>...</td>\n",
       "    </tr>\n",
       "    <tr>\n",
       "      <th>sink_HYDROXY-BUTYRATE_e</th>\n",
       "      <td>0.000000</td>\n",
       "      <td>0.000000e+00</td>\n",
       "    </tr>\n",
       "    <tr>\n",
       "      <th>SK_epi-jasmonoyl-L-isoleucine</th>\n",
       "      <td>0.000000</td>\n",
       "      <td>0.000000e+00</td>\n",
       "    </tr>\n",
       "    <tr>\n",
       "      <th>sink_CPD-19812_e</th>\n",
       "      <td>0.000000</td>\n",
       "      <td>0.000000e+00</td>\n",
       "    </tr>\n",
       "    <tr>\n",
       "      <th>sink_CPD-19813_e</th>\n",
       "      <td>0.000000</td>\n",
       "      <td>0.000000e+00</td>\n",
       "    </tr>\n",
       "    <tr>\n",
       "      <th>ATPSYN-RXN</th>\n",
       "      <td>182.663726</td>\n",
       "      <td>2.034118e-12</td>\n",
       "    </tr>\n",
       "  </tbody>\n",
       "</table>\n",
       "<p>1097 rows × 2 columns</p>\n",
       "</div>"
      ],
      "text/plain": [
       "                                      Day         Night\n",
       "RXN-17121                        0.000000  0.000000e+00\n",
       "PHOSPHOLIPASE-C-RXN              0.000000  0.000000e+00\n",
       "EX_STEARIC_ACID[e]              -5.516336 -4.656310e+00\n",
       "AIRS-RXN                       710.984483  6.001382e+02\n",
       "Trans_EX_TYR[e]                  0.000000  0.000000e+00\n",
       "...                                   ...           ...\n",
       "sink_HYDROXY-BUTYRATE_e          0.000000  0.000000e+00\n",
       "SK_epi-jasmonoyl-L-isoleucine    0.000000  0.000000e+00\n",
       "sink_CPD-19812_e                 0.000000  0.000000e+00\n",
       "sink_CPD-19813_e                 0.000000  0.000000e+00\n",
       "ATPSYN-RXN                     182.663726  2.034118e-12\n",
       "\n",
       "[1097 rows x 2 columns]"
      ]
     },
     "execution_count": 11,
     "metadata": {},
     "output_type": "execute_result"
    }
   ],
   "source": [
    "fluxes_Day_Night"
   ]
  },
  {
   "cell_type": "code",
   "execution_count": 12,
   "metadata": {},
   "outputs": [],
   "source": [
    "# fluxes=pd.DataFrame(columns=['Day','Night'])\n",
    "# for index,row in fluxes_Day_Night.iterrows():\n",
    "#     if (row['Day'] != row['Night']) and (row['Day'] == 0) and (row['Night'] == 0):\n",
    "#         if row['Day']-row['Night'] != 0:\n",
    "#             fluxes.loc[index]=[(row['Day']),(row['Night'])]\n",
    "\n",
    "df_filtered=fluxes_Day_Night[fluxes_Day_Night['Day']!=fluxes_Day_Night['Night']]\n",
    "df_filtered=df_filtered[(df_filtered['Day']!=0) & (df_filtered['Night']!=0)]"
   ]
  },
  {
   "cell_type": "code",
   "execution_count": 29,
   "metadata": {},
   "outputs": [
    {
     "data": {
      "text/html": [
       "<div>\n",
       "<style scoped>\n",
       "    .dataframe tbody tr th:only-of-type {\n",
       "        vertical-align: middle;\n",
       "    }\n",
       "\n",
       "    .dataframe tbody tr th {\n",
       "        vertical-align: top;\n",
       "    }\n",
       "\n",
       "    .dataframe thead th {\n",
       "        text-align: right;\n",
       "    }\n",
       "</style>\n",
       "<table border=\"1\" class=\"dataframe\">\n",
       "  <thead>\n",
       "    <tr style=\"text-align: right;\">\n",
       "      <th></th>\n",
       "      <th>Day</th>\n",
       "      <th>Night</th>\n",
       "    </tr>\n",
       "  </thead>\n",
       "  <tbody>\n",
       "    <tr>\n",
       "      <th>EX_STEARIC_ACID[e]</th>\n",
       "      <td>-5.516336</td>\n",
       "      <td>-4.656310e+00</td>\n",
       "    </tr>\n",
       "    <tr>\n",
       "      <th>AIRS-RXN</th>\n",
       "      <td>710.984483</td>\n",
       "      <td>6.001382e+02</td>\n",
       "    </tr>\n",
       "    <tr>\n",
       "      <th>GART-RXN</th>\n",
       "      <td>710.984483</td>\n",
       "      <td>6.001382e+02</td>\n",
       "    </tr>\n",
       "    <tr>\n",
       "      <th>_1.5.1.9-RXN</th>\n",
       "      <td>581.718249</td>\n",
       "      <td>5.057358e+01</td>\n",
       "    </tr>\n",
       "    <tr>\n",
       "      <th>_2-KETO-ADIPATE-DEHYDROG-RXN</th>\n",
       "      <td>581.718249</td>\n",
       "      <td>5.057358e+01</td>\n",
       "    </tr>\n",
       "    <tr>\n",
       "      <th>...</th>\n",
       "      <td>...</td>\n",
       "      <td>...</td>\n",
       "    </tr>\n",
       "    <tr>\n",
       "      <th>EX_MYO-INOSITOL[e]</th>\n",
       "      <td>-10.640873</td>\n",
       "      <td>-8.981905e+00</td>\n",
       "    </tr>\n",
       "    <tr>\n",
       "      <th>AICARSYN-RXN</th>\n",
       "      <td>710.984483</td>\n",
       "      <td>6.001382e+02</td>\n",
       "    </tr>\n",
       "    <tr>\n",
       "      <th>Trans_EX_MYO-INOSITOL[e]</th>\n",
       "      <td>10.640873</td>\n",
       "      <td>8.981905e+00</td>\n",
       "    </tr>\n",
       "    <tr>\n",
       "      <th>Biomass</th>\n",
       "      <td>0.505899</td>\n",
       "      <td>4.270264e-01</td>\n",
       "    </tr>\n",
       "    <tr>\n",
       "      <th>ATPSYN-RXN</th>\n",
       "      <td>182.663726</td>\n",
       "      <td>2.034118e-12</td>\n",
       "    </tr>\n",
       "  </tbody>\n",
       "</table>\n",
       "<p>138 rows × 2 columns</p>\n",
       "</div>"
      ],
      "text/plain": [
       "                                     Day         Night\n",
       "EX_STEARIC_ACID[e]             -5.516336 -4.656310e+00\n",
       "AIRS-RXN                      710.984483  6.001382e+02\n",
       "GART-RXN                      710.984483  6.001382e+02\n",
       "_1.5.1.9-RXN                  581.718249  5.057358e+01\n",
       "_2-KETO-ADIPATE-DEHYDROG-RXN  581.718249  5.057358e+01\n",
       "...                                  ...           ...\n",
       "EX_MYO-INOSITOL[e]            -10.640873 -8.981905e+00\n",
       "AICARSYN-RXN                  710.984483  6.001382e+02\n",
       "Trans_EX_MYO-INOSITOL[e]       10.640873  8.981905e+00\n",
       "Biomass                         0.505899  4.270264e-01\n",
       "ATPSYN-RXN                    182.663726  2.034118e-12\n",
       "\n",
       "[138 rows x 2 columns]"
      ]
     },
     "execution_count": 29,
     "metadata": {},
     "output_type": "execute_result"
    }
   ],
   "source": [
    "df_filtered"
   ]
  },
  {
   "cell_type": "code",
   "execution_count": 30,
   "metadata": {},
   "outputs": [
    {
     "name": "stdout",
     "output_type": "stream",
     "text": [
      "Wilcoxon signed-rank test statistic: 3282.5\n",
      "Wilcoxon signed-rank test p-value: 0.0019187329528676418\n"
     ]
    }
   ],
   "source": [
    "import scipy.stats as stats\n",
    "\n",
    "# Perform Wilcoxon signed-rank test\n",
    "statistic, p_value = stats.wilcoxon(df['Day'], df['Night'])\n",
    "\n",
    "# Print the results\n",
    "print('Wilcoxon signed-rank test statistic:', statistic)\n",
    "print('Wilcoxon signed-rank test p-value:', p_value)"
   ]
  },
  {
   "cell_type": "code",
   "execution_count": 34,
   "metadata": {},
   "outputs": [
    {
     "name": "stdout",
     "output_type": "stream",
     "text": [
      "C:\\Users\\duart\\OneDrive\\Documentos\\UNIANDES\\PHASEOLUS LUNATUS\\MODELS\\OTHER_SPECIES\\Phaseolus vulgaris\\SUPPORT\\FBA\n"
     ]
    },
    {
     "data": {
      "image/png": "[encoded data removed]",
      "text/plain": [
       "<Figure size 600x800 with 2 Axes>"
      ]
     },
     "metadata": {},
     "output_type": "display_data"
    }
   ],
   "source": [
    "import pandas as pd\n",
    "import seaborn as sns\n",
    "import matplotlib.pyplot as plt\n",
    "from matplotlib.colors import LinearSegmentedColormap\n",
    "\n",
    "%cd C:\\Users\\duart\\OneDrive\\Documentos\\UNIANDES\\PHASEOLUS LUNATUS\\MODELS\\OTHER_SPECIES\\Phaseolus vulgaris\\SUPPORT\\FBA\n",
    "\n",
    "# Read the input table into a pandas dataframe\n",
    "df=df_sorted\n",
    "\n",
    "# Define the custom colormap\n",
    "colors = [\"#154AC4\", \"#FFFFFF\",\"#9052EE\",\"#9EA3B0\"]  # Red to Blue\n",
    "n_colors = 256  # Number of colors in the colormap\n",
    "cmap_name = 'my_custom_cmap'\n",
    "# cm = LinearSegmentedColormap.from_list(cmap_name, colors, n_colors)\n",
    "cm=sns.color_palette(\"Spectral\", as_cmap=True)\n",
    "\n",
    "\n",
    "\n",
    "# Create the heatmap\n",
    "#plt.rc('font', size=145)          # controls default text sizes')\n",
    "fig, ax = plt.subplots(figsize=(6,8))\n",
    "# cmap = sns.color_palette(\"RdBu_r\", n_colors=256)\n",
    "sns.set(font_scale=1.2)\n",
    "sns.heatmap(df, cmap=cm, xticklabels=True, yticklabels=False,cbar_kws={'label': 'Values'}, ax=ax)\n",
    "plt.savefig('heatmapFluxesFBA_Biomass.jpg', dpi=300, bbox_inches='tight')\n"
   ]
  },
  {
   "cell_type": "code",
   "execution_count": 55,
   "metadata": {},
   "outputs": [],
   "source": [
    "fluxes_Day_Night.to_csv('fluxes_Day_Night.csv')"
   ]
  },
  {
   "cell_type": "code",
   "execution_count": 108,
   "metadata": {},
   "outputs": [
    {
     "data": {
      "text/html": [
       "\n",
       "        <table>\n",
       "            <tr>\n",
       "                <td><strong>Reaction identifier</strong></td><td>BENZALDEHYDE-DEHYDROGENASE-NAD+-RXN</td>\n",
       "            </tr><tr>\n",
       "                <td><strong>Name</strong></td><td>BENZALDEHYDE-DEHYDROGENASE-NAD+-RXN</td>\n",
       "            </tr><tr>\n",
       "                <td><strong>Memory address</strong></td>\n",
       "                <td>0x1ecea021ae0</td>\n",
       "            </tr><tr>\n",
       "                <td><strong>Stoichiometry</strong></td>\n",
       "                <td>\n",
       "                    <p style='text-align:right'>BENZALDEHYDE[c] + NAD[c] + WATER[c] <=> BENZOATE[c] + NADH[c] + 2.0 PROTON[c]</p>\n",
       "                    <p style='text-align:right'>benzaldehyde + NAD+ + H2O <=> benzoate + NADH + 2.0 H+</p>\n",
       "                </td>\n",
       "            </tr><tr>\n",
       "                <td><strong>GPR</strong></td><td>PHVUL.L009143 or PHVUL.002G275200 or PHVUL.001G072600 or PHVUL.004G018000 or PHVUL.011G059400 or...</td>\n",
       "            </tr><tr>\n",
       "                <td><strong>Lower bound</strong></td><td>-1000.0</td>\n",
       "            </tr><tr>\n",
       "                <td><strong>Upper bound</strong></td><td>1000.0</td>\n",
       "            </tr>\n",
       "        </table>\n",
       "        "
      ],
      "text/plain": [
       "<Reaction BENZALDEHYDE-DEHYDROGENASE-NAD+-RXN at 0x1ecea021ae0>"
      ]
     },
     "execution_count": 108,
     "metadata": {},
     "output_type": "execute_result"
    }
   ],
   "source": [
    "pvulModel.reactions.get_by_id('BENZALDEHYDE-DEHYDROGENASE-NAD+-RXN')"
   ]
  }
 ],
 "metadata": {
  "kernelspec": {
   "display_name": "CobraPy",
   "language": "python",
   "name": "python3"
  },
  "language_info": {
   "codemirror_mode": {
    "name": "ipython",
    "version": 3
   },
   "file_extension": ".py",
   "mimetype": "text/x-python",
   "name": "python",
   "nbconvert_exporter": "python",
   "pygments_lexer": "ipython3",
   "version": "3.10.9"
  },
  "orig_nbformat": 4
 },
 "nbformat": 4,
 "nbformat_minor": 2
}
