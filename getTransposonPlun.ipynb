{
 "cells": [
  {
   "cell_type": "code",
   "execution_count": 3,
   "metadata": {},
   "outputs": [
    {
     "name": "stdout",
     "output_type": "stream",
     "text": [
      "C:\\Users\\duart\\OneDrive\\Documentos\\UNIANDES\\PHASEOLUS LUNATUS\\GENOMIC\\Daniela\n"
     ]
    }
   ],
   "source": [
    "%cd C:\\Users\\duart\\OneDrive\\Documentos\\UNIANDES\\PHASEOLUS LUNATUS\\GENOMIC\\Daniela\n",
    "import pandas as pd\n",
    "\n",
    "filename = \"Transposones_Adyacentes.txt\"\n",
    "dfs = []\n",
    "with open(filename) as file:\n",
    "    lines = file.readlines()\n"
   ]
  },
  {
   "cell_type": "code",
   "execution_count": 35,
   "metadata": {},
   "outputs": [],
   "source": [
    "def getTransposon(gene):\n",
    "    listaTE=[]\n",
    "    for i in range(len(lines)):\n",
    "        if lines[i].startswith('>'):\n",
    "            index = i\n",
    "        else:\n",
    "            if lines[i].__contains__(gene):\n",
    "                TE=lines[index+1].replace(\"\\n\",\"\")\n",
    "                TE=TE.split('\\t')\n",
    "                listaTE.append(TE)\n",
    "    return listaTE\n",
    "    "
   ]
  },
  {
   "cell_type": "code",
   "execution_count": 20,
   "metadata": {},
   "outputs": [],
   "source": [
    "listaTE=[]\n",
    "for i in range(len(lines)):\n",
    "    if lines[i].startswith('chr'):\n",
    "        print(i)\n",
    "        index = i\n",
    "        #print(lines[i])\n",
    "    # else:\n",
    "    #     if lines[i].__contains__(gene):\n",
    "    #         TE=lines[index+1].replace(\"\\n\",\"\")\n",
    "    #         print(TE)\n",
    "    #         TE=TE.split('\\t')\n",
    "    #         print(TE)\n",
    "    #         listaTE.append(TE)\n"
   ]
  },
  {
   "cell_type": "code",
   "execution_count": 5,
   "metadata": {},
   "outputs": [],
   "source": [
    "genestogetTE=[\"Pl06G0000006800.v1\",\n",
    " \"Pl06G0000007700.v1\",\n",
    " \"Pl06G0000087000.v1\",\n",
    " \"Pl06G0000088100.v1\",\n",
    " \"Pl06G0000090100.v1\",\n",
    " \"Pl06G0000093600.v1\",\n",
    " \"Pl06G0000099600.v1\",\n",
    " \"Pl06G0000190800.v1\",\n",
    " \"Pl06G0000191200.v1\",\n",
    " \"Pl06G0000191400.v1\",\n",
    " \"Pl06G0000191700.v1\",\n",
    " \"Pl06G0000192100.v1\",\n",
    " \"Pl06G0000192200.v1\",\n",
    " \"Pl08G0000304500.v1\",\n",
    " \"Pl08G0000305700.v1\",\n",
    " \"Pl10G0000065500.v1\",\n",
    " \"Pl10G0000253500.v1\",\n",
    " \"Pl10G0000255200.v1\",\n",
    " \"Pl10G0000256600.v1\",\n",
    " \"Pl10G0000257300.v1\",\n",
    " \"Pl10G0000258900.v1\",\n",
    " \"Pl10G0000260500.v1\"]"
   ]
  },
  {
   "cell_type": "code",
   "execution_count": null,
   "metadata": {},
   "outputs": [],
   "source": [
    "with open('transposonesCyanogenesis2.0.txt', 'w') as f:\n",
    "    for gen in genestogetTE:\n",
    "        f.write(\"%s\\n\" % gen)\n",
    "        lista=getTransposon(gen)  \n",
    "        for j in lista:\n",
    "            f.write(\"%s\\n\" % j)"
   ]
  },
  {
   "cell_type": "code",
   "execution_count": 42,
   "metadata": {},
   "outputs": [],
   "source": [
    "dic={}\n",
    "for gen in genestogetTE:\n",
    "    lista=getTransposon(gen)\n",
    "    #print(lista)\n",
    "    for j in lista:\n",
    "        if gen in dic:\n",
    "            dic[gen]\n",
    "            dic[gen].append(j)\n",
    "        else:\n",
    "            dic[gen]=j\n"
   ]
  },
  {
   "cell_type": "code",
   "execution_count": 43,
   "metadata": {},
   "outputs": [
    {
     "name": "stdout",
     "output_type": "stream",
     "text": [
      "{}\n"
     ]
    }
   ],
   "source": [
    "print(dic)"
   ]
  },
  {
   "cell_type": "code",
   "execution_count": 33,
   "metadata": {},
   "outputs": [
    {
     "data": {
      "text/plain": [
       "[]"
      ]
     },
     "execution_count": 33,
     "metadata": {},
     "output_type": "execute_result"
    }
   ],
   "source": []
  },
  {
   "cell_type": "code",
   "execution_count": 32,
   "metadata": {},
   "outputs": [
    {
     "name": "stdout",
     "output_type": "stream",
     "text": [
      "['Pl06', '853219', '854939', ['Pl06', '854940', '856920'], ['Pl06', '855435', '857193'], ['Pl06', '857194', '860745'], ['Pl06', '859185', '860965'], ['Pl06', '872287', '873231']]\n",
      "['Pl06', '1017085', '1018039', ['Pl06', '1029314', '1034527']]\n",
      "['Pl06', '13018836', '13025630', ['Pl06', '13042108', '13044288']]\n",
      "['Pl06', '13181081', '13181698', ['Pl06', '13181699', '13187337'], ['Pl06', '13187338', '13189687']]\n",
      "['Pl06', '13564831', '13574258', ['Pl06', '13574277', '13574866'], ['Pl06', '13578031', '13578600'], ['Pl06', '13587766', '13588655'], ['Pl06', '13589126', '13591994'], ['Pl06', '13591980', '13601023']]\n",
      "['Pl06', '14056056', '14058420']\n",
      "['Pl06', '14592588', '14594157', ['Pl06', '14592757', '14595324']]\n",
      "['Pl06', '24255071', '24255910', ['Pl06', '24262672', '24263986']]\n",
      "['Pl06', '24262672', '24263986', ['Pl06', '24267329', '24271672'], ['Pl06', '24272655', '24273759'], ['Pl06', '24279712', '24280761']]\n",
      "['Pl06', '24272655', '24273759', ['Pl06', '24279712', '24280761'], ['Pl06', '24286542', '24287057'], ['Pl06', '24287058', '24288181'], ['Pl06', '24288182', '24289085'], ['Pl06', '24288343', '24289651'], ['Pl06', '24290815', '24291732'], ['Pl06', '24292065', '24292655']]\n",
      "['Pl06', '24302762', '24304018', ['Pl06', '24304016', '24307817'], ['Pl06', '24307260', '24307818'], ['Pl06', '24313392', '24314269'], ['Pl06', '24313490', '24315522'], ['Pl06', '24314252', '24315801'], ['Pl06', '24315511', '24316207'], ['Pl06', '24316208', '24319857'], ['Pl06', '24317739', '24324743']]\n",
      "['Pl06', '24317739', '24324743', ['Pl06', '24327024', '24327648'], ['Pl06', '24328902', '24329461'], ['Pl06', '24330035', '24330771']]\n",
      "['Pl08', '45063224', '45063819', ['Pl08', '45063224', '45063819'], ['Pl08', '45063390', '45064476'], ['Pl08', '45063390', '45064476'], ['Pl08', '45064054', '45064692'], ['Pl08', '45064054', '45064692'], ['Pl08', '45064477', '45065762'], ['Pl08', '45064477', '45065762'], ['Pl08', '45066191', '45067720'], ['Pl08', '45066191', '45067720'], ['Pl08', '45067686', '45068280'], ['Pl08', '45067686', '45068280'], ['Pl08', '45076665', '45077476'], ['Pl08', '45076665', '45077476'], ['Pl08', '45084198', '45085248'], ['Pl08', '45084198', '45085248'], ['Pl08', '45085256', '45087852'], ['Pl08', '45085256', '45087852']]\n",
      "['Pl08', '45160863', '45161549', ['Pl08', '45163305', '45164200'], ['Pl08', '45165896', '45166779'], ['Pl08', '45169734', '45170533'], ['Pl08', '45170516', '45171127']]\n",
      "['Pl10', '7588401', '7589147', ['Pl10', '7593563', '7595134'], ['Pl10', '7600919', '7601547'], ['Pl10', '7608052', '7608657']]\n",
      "['Pl10', '42538112', '42538873', ['Pl10', '42538874', '42539603'], ['Pl10', '42539597', '42541105'], ['Pl10', '42539604', '42540953'], ['Pl10', '42540653', '42541374'], ['Pl10', '42541543', '42542105'], ['Pl10', '42541672', '42543350'], ['Pl10', '42542496', '42543606']]\n",
      "['Pl10', '42956336', '42959990', ['Pl10', '42960916', '42967821']]\n",
      "['Pl10', '43356994', '43359333', ['Pl10', '43356994', '43359333'], ['Pl10', '43356994', '43359333']]\n",
      "{'Pl06G0000006800.v1': 8, 'Pl06G0000007700.v1': 4, 'Pl06G0000087000.v1': 4, 'Pl06G0000088100.v1': 5, 'Pl06G0000090100.v1': 8, 'Pl06G0000093600.v1': 3, 'Pl06G0000099600.v1': 4, 'Pl06G0000190800.v1': 4, 'Pl06G0000191200.v1': 6, 'Pl06G0000191400.v1': 10, 'Pl06G0000191700.v1': 11, 'Pl06G0000192100.v1': 6, 'Pl08G0000304500.v1': 20, 'Pl08G0000305700.v1': 7, 'Pl10G0000065500.v1': 6, 'Pl10G0000253500.v1': 10, 'Pl10G0000256600.v1': 4, 'Pl10G0000258900.v1': 5}\n"
     ]
    }
   ],
   "source": [
    "list_count_dict = {}\n",
    "\n",
    "for key,value in dic.items():\n",
    "    if isinstance(value, list):\n",
    "        print(value)\n",
    "        list_count_dict[key] = len(value)\n",
    "print(list_count_dict)\n"
   ]
  },
  {
   "cell_type": "code",
   "execution_count": 21,
   "metadata": {},
   "outputs": [],
   "source": [
    "import json\n",
    "\n",
    "with open('conteoTEcyanogenesis.txt','w') as f:\n",
    "    for key, value in list_count_dict.items():\n",
    "        f.write(\"%s\\t%s\\n\" % (key,value))"
   ]
  },
  {
   "cell_type": "code",
   "execution_count": 29,
   "metadata": {},
   "outputs": [
    {
     "data": {
      "image/png": "[encoded data removed]",
      "text/plain": [
       "<Figure size 640x480 with 1 Axes>"
      ]
     },
     "metadata": {},
     "output_type": "display_data"
    }
   ],
   "source": [
    "import matplotlib.pyplot as plt\n",
    "import numpy as np\n",
    "from matplotlib.colors import LinearSegmentedColormap\n",
    "\n",
    "# Sample data\n",
    "x = ['A', 'B', 'C', 'D', 'E']\n",
    "y = [10, 5, 7, 8, 12]\n",
    "\n",
    "# Calculate highest and lowest values\n",
    "max_val = max(y)\n",
    "min_val = min(y)\n",
    "\n",
    "# Define a colormap\n",
    "colors = [(1, 0.4, 0.2, 1), (1, 1, 1, 1)] # orange-white-blue colormap\n",
    "cmap = LinearSegmentedColormap.from_list('custom', colors)\n",
    "\n",
    "# Create an array of normalized values between 0 and 1\n",
    "norm = plt.Normalize(min_val, max_val)\n",
    "colors = cmap(norm(y))\n",
    "\n",
    "# Create the bar plot\n",
    "plt.bar(x, y, color=colors)\n",
    "\n",
    "# Show the plot\n",
    "plt.show()\n",
    "\n"
   ]
  }
 ],
 "metadata": {
  "kernelspec": {
   "display_name": "Python 3",
   "language": "python",
   "name": "python3"
  },
  "language_info": {
   "codemirror_mode": {
    "name": "ipython",
    "version": 3
   },
   "file_extension": ".py",
   "mimetype": "text/x-python",
   "name": "python",
   "nbconvert_exporter": "python",
   "pygments_lexer": "ipython3",
   "version": "3.11.0"
  },
  "orig_nbformat": 4,
  "vscode": {
   "interpreter": {
    "hash": "f3375936cbd2194b2202fb8544c567941d19f0875015fb8dd8e206e47456e74c"
   }
  }
 },
 "nbformat": 4,
 "nbformat_minor": 2
}
