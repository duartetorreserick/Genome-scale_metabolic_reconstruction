{
 "cells": [
  {
   "cell_type": "code",
   "execution_count": 1,
   "metadata": {},
   "outputs": [],
   "source": [
    "import cobra\n",
    "from cobra.io import load_model\n",
    "from pathlib import Path\n",
    "from cobra.io import load_json_model, save_json_model, load_matlab_model, save_matlab_model, read_sbml_model, write_sbml_model\n",
    "import logging\n",
    "import pandas as pd\n",
    "from cobra import Model, Reaction, Metabolite\n",
    "from cobra.io import write_sbml_model, validate_sbml_model"
   ]
  },
  {
   "attachments": {},
   "cell_type": "markdown",
   "metadata": {},
   "source": [
    "### CARGAR MODELO CON BIOMASA"
   ]
  },
  {
   "cell_type": "code",
   "execution_count": 2,
   "metadata": {},
   "outputs": [
    {
     "name": "stdout",
     "output_type": "stream",
     "text": [
      "C:\\Users\\duart\\OneDrive\\Documentos\\UNIANDES\\PHASEOLUS LUNATUS\\MODELS\\OTHER_SPECIES\\Phaseolus vulgaris\n"
     ]
    }
   ],
   "source": [
    "%cd C:\\Users\\duart\\OneDrive\\Documentos\\UNIANDES\\PHASEOLUS LUNATUS\\MODELS\\OTHER_SPECIES\\Phaseolus vulgaris\n",
    "pvulModel=read_sbml_model('pvulModelBiomassCT.xml')\n"
   ]
  },
  {
   "cell_type": "code",
   "execution_count": null,
   "metadata": {},
   "outputs": [],
   "source": [
    "pvulModel"
   ]
  },
  {
   "attachments": {},
   "cell_type": "markdown",
   "metadata": {},
   "source": [
    "### CARGAR MODELO AMPLIO"
   ]
  },
  {
   "cell_type": "code",
   "execution_count": 7,
   "metadata": {},
   "outputs": [
    {
     "name": "stdout",
     "output_type": "stream",
     "text": [
      "C:\\Users\\duart\\OneDrive\\Documentos\\UNIANDES\\PHASEOLUS LUNATUS\\MODELS\\OTHER_SPECIES\\Phaseolus vulgaris\n"
     ]
    },
    {
     "name": "stderr",
     "output_type": "stream",
     "text": [
      "No objective in listOfObjectives\n",
      "No objective coefficients in model. Unclear what should be optimized\n"
     ]
    }
   ],
   "source": [
    "%cd C:\\Users\\duart\\OneDrive\\Documentos\\UNIANDES\\PHASEOLUS LUNATUS\\MODELS\\OTHER_SPECIES\\Phaseolus vulgaris\n",
    "extendedPvulModel=read_sbml_model('pvulModel_CheckError.xml')"
   ]
  },
  {
   "attachments": {},
   "cell_type": "markdown",
   "metadata": {},
   "source": [
    "### INTENTO"
   ]
  },
  {
   "cell_type": "code",
   "execution_count": 176,
   "metadata": {},
   "outputs": [],
   "source": [
    "# linamarinsyn=extendedPvulModel.reactions.get_by_id('LINAMARIN-SYNTHASE-RXN')\n",
    "nitrilsyn1=extendedPvulModel.reactions.get_by_id('RXN-5063')\n",
    "# nitrilsyn2=extendedPvulModel.reactions.get_by_id('RXN-5064')\n",
    "# nitrilsyn3=extendedPvulModel.reactions.get_by_id('RXN-5065')\n",
    "# oximesyn1=extendedPvulModel.reactions.get_by_id('RXN-5066')\n",
    "# oximesyn2=extendedPvulModel.reactions.get_by_id('RXN-5081')\n",
    "# oximesyn3=extendedPvulModel.reactions.get_by_id('RXN-5082')\n",
    "# rxnsLinamarin=[linamarinsyn,nitrilsyn1,nitrilsyn2,nitrilsyn3,oximesyn1,oximesyn2,oximesyn3]"
   ]
  },
  {
   "cell_type": "code",
   "execution_count": 148,
   "metadata": {},
   "outputs": [],
   "source": [
    "pvulModel.add_reactions([nitrilsyn1])"
   ]
  },
  {
   "cell_type": "code",
   "execution_count": 149,
   "metadata": {},
   "outputs": [
    {
     "data": {
      "text/html": [
       "\n",
       "        <table>\n",
       "            <tr>\n",
       "                <td><strong>Metabolite identifier</strong></td><td>Red-NADPH-Hemoprotein-Reductases[c]</td>\n",
       "            </tr><tr>\n",
       "                <td><strong>Name</strong></td><td>a reduced [NADPH-hemoprotein reductase]</td>\n",
       "            </tr><tr>\n",
       "                <td><strong>Memory address</strong></td>\n",
       "                <td>0x19486b5b310</td>\n",
       "            </tr><tr>\n",
       "                <td><strong>Formula</strong></td><td>C12H11N4O2X</td>\n",
       "            </tr><tr>\n",
       "                <td><strong>Compartment</strong></td><td>c</td>\n",
       "            </tr><tr>\n",
       "                <td><strong>In 184 reaction(s)</strong></td><td>\n",
       "                    --LIMONENE-6-MONOOXYGENASE-RXN, RXN-11537, RXN-16116, RXN-7876, RXN-11911, RXN-19830, RXN-13501, RXN-4511, RXN-11101, RXN-13502, RXN-12155, RXN-13189, RXN-12139, RXN-7877, RXN-13509, RXN-13493,...\n",
       "                    </td>\n",
       "            </tr>\n",
       "        </table>"
      ],
      "text/plain": [
       "<Metabolite Red-NADPH-Hemoprotein-Reductases[c] at 0x19486b5b310>"
      ]
     },
     "execution_count": 149,
     "metadata": {},
     "output_type": "execute_result"
    }
   ],
   "source": [
    "pvulModel.metabolites.get_by_id('Red-NADPH-Hemoprotein-Reductases[c]')"
   ]
  },
  {
   "cell_type": "code",
   "execution_count": 98,
   "metadata": {},
   "outputs": [
    {
     "data": {
      "text/html": [
       "\n",
       "        <table>\n",
       "            <tr>\n",
       "                <td><strong>Reaction identifier</strong></td><td>EX_CPD-4862[e]</td>\n",
       "            </tr><tr>\n",
       "                <td><strong>Name</strong></td><td>N-hydroxy-L-valine_e exchange</td>\n",
       "            </tr><tr>\n",
       "                <td><strong>Memory address</strong></td>\n",
       "                <td>0x194888de830</td>\n",
       "            </tr><tr>\n",
       "                <td><strong>Stoichiometry</strong></td>\n",
       "                <td>\n",
       "                    <p style='text-align:right'>CPD-4862[e] <=></p>\n",
       "                    <p style='text-align:right'>N-hydroxy-L-valine_e <=></p>\n",
       "                </td>\n",
       "            </tr><tr>\n",
       "                <td><strong>GPR</strong></td><td></td>\n",
       "            </tr><tr>\n",
       "                <td><strong>Lower bound</strong></td><td>-1000.0</td>\n",
       "            </tr><tr>\n",
       "                <td><strong>Upper bound</strong></td><td>1000.0</td>\n",
       "            </tr>\n",
       "        </table>\n",
       "        "
      ],
      "text/plain": [
       "<Reaction EX_CPD-4862[e] at 0x194888de830>"
      ]
     },
     "execution_count": 98,
     "metadata": {},
     "output_type": "execute_result"
    }
   ],
   "source": [
    "CPD_4862_extracelular=Metabolite('CPD-4862[e]', formula='C5H10NO3', name='N-hydroxy-L-valine_e', compartment='e')\n",
    "pvulModel.add_metabolites(CPD_4862_extracelular)\n",
    "\n",
    "pvulModel.add_boundary(pvulModel.metabolites.get_by_id('CPD-4862[e]'), type='exchange')"
   ]
  },
  {
   "cell_type": "code",
   "execution_count": 116,
   "metadata": {},
   "outputs": [],
   "source": [
    "\n",
    "\n",
    "transport_rxn = Reaction(\"Trans_CPD-4862\")\n",
    "transport_rxn.name = \"Transporter for CPD-4862\"\n",
    "transport_rxn.add_metabolites({\n",
    "    pvulModel.metabolites.get_by_id(\"CPD-4862[e]\"): 1,  # glucose (extracellular) on the left side of the reaction\n",
    "    pvulModel.metabolites.get_by_id(\"CPD-4862[c]\"): -1  # glucose (intracellular) on the right side of the reaction\n",
    "    })\n",
    "\n",
    "    # Set the lower and upper bounds of the transport reaction\n",
    "transport_rxn.lower_bound = -1000\n",
    "transport_rxn.upper_bound = 1000\n",
    "pvulModel.add_reactions([transport_rxn])\n"
   ]
  },
  {
   "cell_type": "code",
   "execution_count": 117,
   "metadata": {},
   "outputs": [
    {
     "data": {
      "text/html": [
       "\n",
       "        <table>\n",
       "            <tr>\n",
       "                <td><strong>Reaction identifier</strong></td><td>Trans_CPD-4862</td>\n",
       "            </tr><tr>\n",
       "                <td><strong>Name</strong></td><td>Transporter for CPD-4862</td>\n",
       "            </tr><tr>\n",
       "                <td><strong>Memory address</strong></td>\n",
       "                <td>0x1948af7ca90</td>\n",
       "            </tr><tr>\n",
       "                <td><strong>Stoichiometry</strong></td>\n",
       "                <td>\n",
       "                    <p style='text-align:right'>CPD-4862[c] <=> CPD-4862[e]</p>\n",
       "                    <p style='text-align:right'>N-hydroxy-L-valine <=> N-hydroxy-L-valine_e</p>\n",
       "                </td>\n",
       "            </tr><tr>\n",
       "                <td><strong>GPR</strong></td><td></td>\n",
       "            </tr><tr>\n",
       "                <td><strong>Lower bound</strong></td><td>-1000</td>\n",
       "            </tr><tr>\n",
       "                <td><strong>Upper bound</strong></td><td>1000</td>\n",
       "            </tr>\n",
       "        </table>\n",
       "        "
      ],
      "text/plain": [
       "<Reaction Trans_CPD-4862 at 0x1948af7ca90>"
      ]
     },
     "execution_count": 117,
     "metadata": {},
     "output_type": "execute_result"
    }
   ],
   "source": [
    "pvulModel.reactions.get_by_id(\"Trans_CPD-4862\")"
   ]
  },
  {
   "cell_type": "code",
   "execution_count": 118,
   "metadata": {},
   "outputs": [
    {
     "data": {
      "text/html": [
       "\n",
       "        <table>\n",
       "            <tr>\n",
       "                <td><strong>Reaction identifier</strong></td><td>EX_CPD-4862[e]</td>\n",
       "            </tr><tr>\n",
       "                <td><strong>Name</strong></td><td>N-hydroxy-L-valine_e exchange</td>\n",
       "            </tr><tr>\n",
       "                <td><strong>Memory address</strong></td>\n",
       "                <td>0x194888de830</td>\n",
       "            </tr><tr>\n",
       "                <td><strong>Stoichiometry</strong></td>\n",
       "                <td>\n",
       "                    <p style='text-align:right'>CPD-4862[e] <=></p>\n",
       "                    <p style='text-align:right'>N-hydroxy-L-valine_e <=></p>\n",
       "                </td>\n",
       "            </tr><tr>\n",
       "                <td><strong>GPR</strong></td><td></td>\n",
       "            </tr><tr>\n",
       "                <td><strong>Lower bound</strong></td><td>-1000.0</td>\n",
       "            </tr><tr>\n",
       "                <td><strong>Upper bound</strong></td><td>1000.0</td>\n",
       "            </tr>\n",
       "        </table>\n",
       "        "
      ],
      "text/plain": [
       "<Reaction EX_CPD-4862[e] at 0x194888de830>"
      ]
     },
     "execution_count": 118,
     "metadata": {},
     "output_type": "execute_result"
    }
   ],
   "source": [
    "pvulModel.reactions.get_by_id(\"EX_CPD-4862[e]\")"
   ]
  },
  {
   "cell_type": "code",
   "execution_count": 131,
   "metadata": {},
   "outputs": [
    {
     "data": {
      "text/plain": [
       "['RXN-5063', 'EX_CPD-4862[e]', 'Trans_CPD-4862']"
      ]
     },
     "execution_count": 131,
     "metadata": {},
     "output_type": "execute_result"
    }
   ],
   "source": [
    "cobra.flux_analysis.find_blocked_reactions(pvulModel)"
   ]
  },
  {
   "cell_type": "code",
   "execution_count": 114,
   "metadata": {},
   "outputs": [],
   "source": [
    "removerxn=pvulModel.reactions.get_by_id(\"Trans_CPD-4862\")\n",
    "pvulModel.remove_reactions([removerxn])"
   ]
  },
  {
   "cell_type": "code",
   "execution_count": 44,
   "metadata": {},
   "outputs": [],
   "source": [
    "write_sbml_model(pvulModel, 'cyanogenic.xml')"
   ]
  },
  {
   "attachments": {},
   "cell_type": "markdown",
   "metadata": {},
   "source": [
    "### LINAMARIN"
   ]
  },
  {
   "attachments": {},
   "cell_type": "markdown",
   "metadata": {},
   "source": [
    "#### RXN-5063"
   ]
  },
  {
   "cell_type": "code",
   "execution_count": 3,
   "metadata": {},
   "outputs": [],
   "source": [
    "# reduced=Metabolite('Reduced-NADPH-Hemoprotein-Reductases[c]', formula='XH', name='Reduced-NADPH-Hemoprotein-Reductases[c]', compartment='c')\n",
    "# oxidezed=Metabolite('Oxidized-NADPH-Hemoprotein-Reductases[c]', formula='X', name='Oxidized-NADPH-Hemoprotein-Reductases[c]', compartment='c')\n",
    "CPD4862=Metabolite('CPD-4862[c]', formula='C5H10NO3', name='N-hydroxy-L-valine_c', compartment='c')\n",
    "pvulModel.add_metabolites([CPD4862])"
   ]
  },
  {
   "cell_type": "code",
   "execution_count": 4,
   "metadata": {},
   "outputs": [],
   "source": [
    "RXN5063=Reaction('RXN-5063')\n",
    "RXN5063.name='RXN-5063'\n",
    "RXN5063.add_metabolites({\n",
    "    pvulModel.metabolites.get_by_id(\"VAL[c]\"): -1,  # glucose (extracellular) on the left side of the reaction\n",
    "    pvulModel.metabolites.get_by_id(\"NADPH[c]\"): -1,  # glucose (intracellular) on the right side of the reaction\n",
    "    pvulModel.metabolites.get_by_id(\"OXYGEN-MOLECULE[c]\"): -1,  # glucose (intracellular) on the right side of the reaction\n",
    "    pvulModel.metabolites.get_by_id(\"NADP[c]\"): 1,  # glucose (intracellular) on the right side of the reaction\n",
    "    pvulModel.metabolites.get_by_id(\"CPD-4862[c]\"): 1,  # glucose (intracellular) on the right side of the reaction\n",
    "    pvulModel.metabolites.get_by_id(\"WATER[c]\"): 1,  # glucose (intracellular) on the right side of the reaction\n",
    "    })\n",
    "RXN5063.lower_bound = 0\n",
    "RXN5063.upper_bound = 1000\n",
    "pvulModel.add_reactions([RXN5063])"
   ]
  },
  {
   "attachments": {},
   "cell_type": "markdown",
   "metadata": {},
   "source": [
    "#### RXN-5064"
   ]
  },
  {
   "cell_type": "code",
   "execution_count": 5,
   "metadata": {},
   "outputs": [],
   "source": [
    "CPD4863=Metabolite('CPD-4863[c]', formula='C5H10NO3', name='N,N-dihydroxy-L-valine_c', compartment='c')\n",
    "pvulModel.add_metabolites([CPD4863])"
   ]
  },
  {
   "cell_type": "code",
   "execution_count": 6,
   "metadata": {},
   "outputs": [],
   "source": [
    "RXN5064=Reaction('RXN-5064')\n",
    "RXN5064.name='RXN-5064'\n",
    "RXN5064.add_metabolites({\n",
    "    pvulModel.metabolites.get_by_id(\"CPD-4862[c]\"): -1,  # glucose (extracellular) on the left side of the reaction\n",
    "    pvulModel.metabolites.get_by_id(\"NADPH[c]\"): -1,  # glucose (intracellular) on the right side of the reaction\n",
    "    pvulModel.metabolites.get_by_id(\"OXYGEN-MOLECULE[c]\"): -1,  # glucose (intracellular) on the right side of the reaction\n",
    "    pvulModel.metabolites.get_by_id(\"NADP[c]\"): 1,  # glucose (intracellular) on the right side of the reaction\n",
    "    pvulModel.metabolites.get_by_id(\"CPD-4863[c]\"): 1,  # glucose (intracellular) on the right side of the reaction\n",
    "    pvulModel.metabolites.get_by_id(\"WATER[c]\"): 1,  # glucose (intracellular) on the right side of the reaction\n",
    "    })\n",
    "RXN5064.lower_bound = 0\n",
    "RXN5064.upper_bound = 1000\n",
    "pvulModel.add_reactions([RXN5064])"
   ]
  },
  {
   "attachments": {},
   "cell_type": "markdown",
   "metadata": {},
   "source": [
    "#### RXN-5065"
   ]
  },
  {
   "cell_type": "code",
   "execution_count": 7,
   "metadata": {},
   "outputs": [],
   "source": [
    "methylpropanal=Metabolite('2-METHYLPROPANAL-OXIME[c]', formula='C4H9NO', name='(E)-2-methylpropanal-oxime', compartment='c')\n",
    "pvulModel.add_metabolites([methylpropanal])"
   ]
  },
  {
   "cell_type": "code",
   "execution_count": 8,
   "metadata": {},
   "outputs": [],
   "source": [
    "RXN5065=Reaction('RXN-5065')\n",
    "RXN5065.name='RXN-5065'\n",
    "RXN5065.add_metabolites({\n",
    "    pvulModel.metabolites.get_by_id(\"CPD-4863[c]\"): -1,  # glucose (intracellular) on the right side of the reaction\n",
    "    pvulModel.metabolites.get_by_id(\"PROTON[c]\"): -1,  # glucose (intracellular) on the right side of the reaction\n",
    "    pvulModel.metabolites.get_by_id(\"2-METHYLPROPANAL-OXIME[c]\"): 1,  # glucose (intracellular) on the right side of the reaction\n",
    "    pvulModel.metabolites.get_by_id(\"CARBON-DIOXIDE[c]\"): 1,  # glucose (intracellular) on the right side of the reaction\n",
    "    pvulModel.metabolites.get_by_id(\"WATER[c]\"): 1,  # glucose (intracellular) on the right side of the reaction\n",
    "    \n",
    "    })\n",
    "RXN5065.lower_bound = 0\n",
    "RXN5065.upper_bound = 1000\n",
    "pvulModel.add_reactions([RXN5065])"
   ]
  },
  {
   "attachments": {},
   "cell_type": "markdown",
   "metadata": {},
   "source": [
    "#### RXN-5066"
   ]
  },
  {
   "cell_type": "code",
   "execution_count": 9,
   "metadata": {},
   "outputs": [],
   "source": [
    "Z_methylpropanal=Metabolite('CPD-4861[c]', formula='C4H9NO', name='(Z)-2-methylpropanal-oxime', compartment='c')\n",
    "pvulModel.add_metabolites([Z_methylpropanal])"
   ]
  },
  {
   "cell_type": "code",
   "execution_count": 10,
   "metadata": {},
   "outputs": [],
   "source": [
    "RXN5066=Reaction('RXN-5066')\n",
    "RXN5066.name='RXN-5066'\n",
    "RXN5066.add_metabolites({\n",
    "    pvulModel.metabolites.get_by_id(\"2-METHYLPROPANAL-OXIME[c]\"): -1,  # glucose (intracellular) on the right side of the reaction\n",
    "    pvulModel.metabolites.get_by_id(\"CPD-4861[c]\"): 1,  # glucose (intracellular) on the right side of the reaction\n",
    "    \n",
    "    })\n",
    "RXN5066.lower_bound = 0\n",
    "RXN5066.upper_bound = 1000\n",
    "pvulModel.add_reactions([RXN5066])"
   ]
  },
  {
   "attachments": {},
   "cell_type": "markdown",
   "metadata": {},
   "source": [
    "#### RXN-5081"
   ]
  },
  {
   "cell_type": "code",
   "execution_count": 11,
   "metadata": {},
   "outputs": [],
   "source": [
    "methylpropanetrile=Metabolite('CPD-4864[c]', formula='C4H7N', name='isobutyronitrile', compartment='c')\n",
    "pvulModel.add_metabolites([methylpropanetrile])"
   ]
  },
  {
   "cell_type": "code",
   "execution_count": 12,
   "metadata": {},
   "outputs": [],
   "source": [
    "RXN5081=Reaction('RXN-5081')\n",
    "RXN5081.name='RXN-5081'\n",
    "RXN5081.add_metabolites({\n",
    "    pvulModel.metabolites.get_by_id(\"CPD-4861[c]\"): -1,  # glucose (intracellular) on the right side of the reaction\n",
    "    pvulModel.metabolites.get_by_id(\"CPD-4864[c]\"): 1,  # glucose (intracellular) on the right side of the reaction\n",
    "    pvulModel.metabolites.get_by_id(\"WATER[c]\"): 1,  # glucose (intracellular) on the right side of the reaction\n",
    "\n",
    "    \n",
    "    })\n",
    "RXN5081.lower_bound = 0\n",
    "RXN5081.upper_bound = 1000\n",
    "pvulModel.add_reactions([RXN5081])"
   ]
  },
  {
   "attachments": {},
   "cell_type": "markdown",
   "metadata": {},
   "source": [
    "#### RXN-5082"
   ]
  },
  {
   "cell_type": "code",
   "execution_count": 13,
   "metadata": {},
   "outputs": [],
   "source": [
    "hydorxy_methypropanenitrile=Metabolite('2-HYDROXY-2-METHYLPROPANENITRILE[c]', formula='C4H7NO', name='2-hydroxy-2-methylpropanenitrile', compartment='c')\n",
    "pvulModel.add_metabolites([hydorxy_methypropanenitrile])"
   ]
  },
  {
   "cell_type": "code",
   "execution_count": 14,
   "metadata": {},
   "outputs": [],
   "source": [
    "RXN5082=Reaction('RXN-5082')\n",
    "RXN5082.name='RXN-5082'\n",
    "RXN5082.add_metabolites({\n",
    "    pvulModel.metabolites.get_by_id(\"CPD-4864[c]\"): -1,  # glucose (intracellular) on the right side of the reaction\n",
    "    pvulModel.metabolites.get_by_id(\"NADPH[c]\"): -1,  # glucose (intracellular) on the right side of the reaction\n",
    "    pvulModel.metabolites.get_by_id(\"OXYGEN-MOLECULE[c]\"): -1,  # glucose (intracellular) on the right side of the reaction\n",
    "    pvulModel.metabolites.get_by_id(\"2-HYDROXY-2-METHYLPROPANENITRILE[c]\"): 1,  # glucose (intracellular) on the right side of the reaction\n",
    "    pvulModel.metabolites.get_by_id(\"NADP[c]\"): 1,  # glucose (intracellular) on the right side of the reaction\n",
    "    pvulModel.metabolites.get_by_id(\"WATER[c]\"): 1,  # glucose (intracellular) on the right side of the reaction\n",
    "    \n",
    "    })\n",
    "RXN5082.lower_bound = 0\n",
    "RXN5082.upper_bound = 1000\n",
    "pvulModel.add_reactions([RXN5082])"
   ]
  },
  {
   "attachments": {},
   "cell_type": "markdown",
   "metadata": {},
   "source": [
    "#### LINAMARIN-RXN"
   ]
  },
  {
   "cell_type": "code",
   "execution_count": 15,
   "metadata": {},
   "outputs": [],
   "source": [
    "linamarin=Metabolite('LINAMARIN[c]', formula='C10H17NO6', name='linamarin', compartment='c')\n",
    "pvulModel.add_metabolites([linamarin])"
   ]
  },
  {
   "cell_type": "code",
   "execution_count": 16,
   "metadata": {},
   "outputs": [],
   "source": [
    "linamarinRxn=Reaction('LINAMARIN-RXN')\n",
    "linamarinRxn.name='linamarin-RXN'\n",
    "linamarinRxn.add_metabolites({\n",
    "    pvulModel.metabolites.get_by_id(\"2-HYDROXY-2-METHYLPROPANENITRILE[c]\"): -1,  # glucose (intracellular) on the right side of the reaction\n",
    "    pvulModel.metabolites.get_by_id(\"CPD-12575[c]\"): -1,  # glucose (intracellular) on the right side of the reaction\n",
    "    pvulModel.metabolites.get_by_id(\"LINAMARIN[c]\"): 1,  # glucose (intracellular) on the right side of the reaction\n",
    "    pvulModel.metabolites.get_by_id(\"UDP[c]\"): 1,  # glucose (intracellular) on the right side of the reaction\n",
    "    pvulModel.metabolites.get_by_id(\"PROTON[c]\"): 1,  # glucose (intracellular) on the right side of the reaction\n",
    "    \n",
    "    })\n",
    "linamarinRxn.lower_bound = 0\n",
    "linamarinRxn.upper_bound = 1000\n",
    "pvulModel.add_reactions([linamarinRxn])"
   ]
  },
  {
   "cell_type": "code",
   "execution_count": 17,
   "metadata": {},
   "outputs": [
    {
     "data": {
      "text/html": [
       "\n",
       "        <table>\n",
       "            <tr>\n",
       "                <td><strong>Reaction identifier</strong></td><td>SK_LINAMARIN[c]</td>\n",
       "            </tr><tr>\n",
       "                <td><strong>Name</strong></td><td>linamarin sink</td>\n",
       "            </tr><tr>\n",
       "                <td><strong>Memory address</strong></td>\n",
       "                <td>0x250ac352d10</td>\n",
       "            </tr><tr>\n",
       "                <td><strong>Stoichiometry</strong></td>\n",
       "                <td>\n",
       "                    <p style='text-align:right'>LINAMARIN[c] <=></p>\n",
       "                    <p style='text-align:right'>linamarin <=></p>\n",
       "                </td>\n",
       "            </tr><tr>\n",
       "                <td><strong>GPR</strong></td><td></td>\n",
       "            </tr><tr>\n",
       "                <td><strong>Lower bound</strong></td><td>-1000.0</td>\n",
       "            </tr><tr>\n",
       "                <td><strong>Upper bound</strong></td><td>1000.0</td>\n",
       "            </tr>\n",
       "        </table>\n",
       "        "
      ],
      "text/plain": [
       "<Reaction SK_LINAMARIN[c] at 0x250ac352d10>"
      ]
     },
     "execution_count": 17,
     "metadata": {},
     "output_type": "execute_result"
    }
   ],
   "source": [
    "# pvulModel.add_boundary(pvulModel.metabolites.get_by_id('Reduced-NADPH-Hemoprotein-Reductases[c]'), type='demand')\n",
    "# pvulModel.add_boundary(pvulModel.metabolites.get_by_id('Oxidized-NADPH-Hemoprotein-Reductases[c]'), type='sink')\n",
    "pvulModel.add_boundary(pvulModel.metabolites.get_by_id('LINAMARIN[c]'), type='sink')"
   ]
  },
  {
   "attachments": {},
   "cell_type": "markdown",
   "metadata": {},
   "source": [
    "### LOTAUSTRALIN"
   ]
  },
  {
   "attachments": {},
   "cell_type": "markdown",
   "metadata": {},
   "source": [
    "#### RXN-9636"
   ]
  },
  {
   "cell_type": "code",
   "execution_count": 3,
   "metadata": {},
   "outputs": [],
   "source": [
    "CPD10271=Metabolite('CPD-10271[c]', formula='C6H12NO3', name='N-hydroxy-L-isoleucine', compartment='c')\n",
    "pvulModel.add_metabolites([CPD10271])"
   ]
  },
  {
   "cell_type": "code",
   "execution_count": 4,
   "metadata": {},
   "outputs": [],
   "source": [
    "RXN9636=Reaction('RXN-9636')\n",
    "RXN9636.name='RXN-9636'\n",
    "RXN9636.add_metabolites({\n",
    "    pvulModel.metabolites.get_by_id(\"ILE[c]\"): -1,  # glucose (extracellular) on the left side of the reaction\n",
    "    pvulModel.metabolites.get_by_id(\"NADPH[c]\"): -1,  # glucose (intracellular) on the right side of the reaction\n",
    "    pvulModel.metabolites.get_by_id(\"OXYGEN-MOLECULE[c]\"): -1,  # glucose (intracellular) on the right side of the reaction\n",
    "    pvulModel.metabolites.get_by_id(\"NADP[c]\"): 1,  # glucose (intracellular) on the right side of the reaction\n",
    "    pvulModel.metabolites.get_by_id(\"CPD-10271[c]\"): 1,  # glucose (intracellular) on the right side of the reaction\n",
    "    pvulModel.metabolites.get_by_id(\"WATER[c]\"): 1,  # glucose (intracellular) on the right side of the reaction\n",
    "    })\n",
    "RXN9636.lower_bound = 0\n",
    "RXN9636.upper_bound = 1000\n",
    "pvulModel.add_reactions([RXN9636])"
   ]
  },
  {
   "attachments": {},
   "cell_type": "markdown",
   "metadata": {},
   "source": [
    "#### RXN-9638"
   ]
  },
  {
   "cell_type": "code",
   "execution_count": 5,
   "metadata": {},
   "outputs": [],
   "source": [
    "CPD10272=Metabolite('CPD-10272[c]', formula='C6H12NO4', name='N,N-hydroxy-L-isoleucine', compartment='c')\n",
    "pvulModel.add_metabolites([CPD10272])"
   ]
  },
  {
   "cell_type": "code",
   "execution_count": 6,
   "metadata": {},
   "outputs": [],
   "source": [
    "RXN9638=Reaction('RXN-9638')\n",
    "RXN9638.name='RXN-9638'\n",
    "RXN9638.add_metabolites({\n",
    "    pvulModel.metabolites.get_by_id(\"CPD-10271[c]\"): -1,  # glucose (intracellular) on the right side of the reaction\n",
    "    pvulModel.metabolites.get_by_id(\"NADPH[c]\"): -1,  # glucose (intracellular) on the right side of the reaction\n",
    "    pvulModel.metabolites.get_by_id(\"OXYGEN-MOLECULE[c]\"): -1,  # glucose (intracellular) on the right side of the reaction\n",
    "    pvulModel.metabolites.get_by_id(\"NADP[c]\"): 1,  # glucose (intracellular) on the right side of the reaction\n",
    "    pvulModel.metabolites.get_by_id(\"CPD-10272[c]\"): 1,  # glucose (intracellular) on the right side of the reaction\n",
    "    pvulModel.metabolites.get_by_id(\"WATER[c]\"): 1,  # glucose (intracellular) on the right side of the reaction\n",
    "    })\n",
    "RXN9638.lower_bound = 0\n",
    "RXN9638.upper_bound = 1000\n",
    "pvulModel.add_reactions([RXN9638])"
   ]
  },
  {
   "attachments": {},
   "cell_type": "markdown",
   "metadata": {},
   "source": [
    "#### RXN-9639"
   ]
  },
  {
   "cell_type": "code",
   "execution_count": 7,
   "metadata": {},
   "outputs": [],
   "source": [
    "CPD10273=Metabolite('CPD-10273[c]', formula='C5H11NO', name='(1E,2S)-2-methylbutanal oxime', compartment='c')\n",
    "pvulModel.add_metabolites([CPD10273])"
   ]
  },
  {
   "cell_type": "code",
   "execution_count": 8,
   "metadata": {},
   "outputs": [],
   "source": [
    "RXN9639=Reaction('RXN-9639')\n",
    "RXN9639.name='RXN-9639'\n",
    "RXN9639.add_metabolites({\n",
    "    pvulModel.metabolites.get_by_id(\"CPD-10272[c]\"): -1,  # glucose (intracellular) on the right side of the reaction\n",
    "    pvulModel.metabolites.get_by_id(\"PROTON[c]\"): -1,  # glucose (intracellular) on the right side of the reaction\n",
    "    pvulModel.metabolites.get_by_id(\"CPD-10273[c]\"): 1,  # glucose (intracellular) on the right side of the reaction\n",
    "    pvulModel.metabolites.get_by_id(\"CARBON-DIOXIDE[c]\"): 1,  # glucose (intracellular) on the right side of the reaction\n",
    "    pvulModel.metabolites.get_by_id(\"WATER[c]\"): 1,  # glucose (intracellular) on the right side of the reaction\n",
    "    })\n",
    "RXN9639.lower_bound = 0\n",
    "RXN9639.upper_bound = 1000\n",
    "pvulModel.add_reactions([RXN9639])"
   ]
  },
  {
   "attachments": {},
   "cell_type": "markdown",
   "metadata": {},
   "source": [
    "#### RXN-9640"
   ]
  },
  {
   "cell_type": "code",
   "execution_count": 9,
   "metadata": {},
   "outputs": [],
   "source": [
    "CPD10274=Metabolite('CPD-10274[c]', formula='C5H11NO', name='(1Z,2S)-2-methylbutanal oxime', compartment='c')\n",
    "pvulModel.add_metabolites([CPD10274])"
   ]
  },
  {
   "cell_type": "code",
   "execution_count": 10,
   "metadata": {},
   "outputs": [],
   "source": [
    "RXN9640=Reaction('RXN-9640')\n",
    "RXN9640.name='RXN-9640'\n",
    "RXN9640.add_metabolites({\n",
    "    pvulModel.metabolites.get_by_id(\"CPD-10273[c]\"): -1,  # glucose (intracellular) on the right side of the reaction\n",
    "    pvulModel.metabolites.get_by_id(\"CPD-10274[c]\"): 1,  # glucose (intracellular) on the right side of the reaction\n",
    "    })\n",
    "RXN9640.lower_bound = 0\n",
    "RXN9640.upper_bound = 1000\n",
    "pvulModel.add_reactions([RXN9640])"
   ]
  },
  {
   "attachments": {},
   "cell_type": "markdown",
   "metadata": {},
   "source": [
    "#### RXN-9641"
   ]
  },
  {
   "cell_type": "code",
   "execution_count": null,
   "metadata": {},
   "outputs": [],
   "source": [
    "CPD10275=Metabolite('CPD-10275[c]', formula='C5H9N', name='(2S)-methylbutanenitrile', compartment='c')\n",
    "pvulModel.add_metabolites([CPD10275])"
   ]
  },
  {
   "cell_type": "code",
   "execution_count": null,
   "metadata": {},
   "outputs": [],
   "source": [
    "RXN9641=Reaction('RXN-9640')\n",
    "RXN9641.name='RXN-9640'\n",
    "RXN9641.add_metabolites({\n",
    "    pvulModel.metabolites.get_by_id(\"CPD-10273[c]\"): -1,  # glucose (intracellular) on the right side of the reaction\n",
    "    pvulModel.metabolites.get_by_id(\"CPD-10274[c]\"): 1,  # glucose (intracellular) on the right side of the reaction\n",
    "    })\n",
    "RXN9641.lower_bound = 0\n",
    "RXN9641.upper_bound = 1000\n",
    "pvulModel.add_reactions([RXN9641])"
   ]
  },
  {
   "cell_type": "code",
   "execution_count": 11,
   "metadata": {},
   "outputs": [
    {
     "data": {
      "text/html": [
       "\n",
       "        <table>\n",
       "            <tr>\n",
       "                <td><strong>Reaction identifier</strong></td><td>SK_CPD-10274[c]</td>\n",
       "            </tr><tr>\n",
       "                <td><strong>Name</strong></td><td>(1Z,2S)-2-methylbutanal oxime sink</td>\n",
       "            </tr><tr>\n",
       "                <td><strong>Memory address</strong></td>\n",
       "                <td>0x1e8b5940100</td>\n",
       "            </tr><tr>\n",
       "                <td><strong>Stoichiometry</strong></td>\n",
       "                <td>\n",
       "                    <p style='text-align:right'>CPD-10274[c] <=></p>\n",
       "                    <p style='text-align:right'>(1Z,2S)-2-methylbutanal oxime <=></p>\n",
       "                </td>\n",
       "            </tr><tr>\n",
       "                <td><strong>GPR</strong></td><td></td>\n",
       "            </tr><tr>\n",
       "                <td><strong>Lower bound</strong></td><td>-1000.0</td>\n",
       "            </tr><tr>\n",
       "                <td><strong>Upper bound</strong></td><td>1000.0</td>\n",
       "            </tr>\n",
       "        </table>\n",
       "        "
      ],
      "text/plain": [
       "<Reaction SK_CPD-10274[c] at 0x1e8b5940100>"
      ]
     },
     "execution_count": 11,
     "metadata": {},
     "output_type": "execute_result"
    }
   ],
   "source": [
    "pvulModel.add_boundary(pvulModel.metabolites.get_by_id('CPD-10274[c]'), type='sink')"
   ]
  },
  {
   "cell_type": "code",
   "execution_count": 12,
   "metadata": {},
   "outputs": [
    {
     "data": {
      "text/plain": [
       "[]"
      ]
     },
     "execution_count": 12,
     "metadata": {},
     "output_type": "execute_result"
    }
   ],
   "source": [
    "cobra.flux_analysis.find_blocked_reactions(pvulModel)"
   ]
  },
  {
   "attachments": {},
   "cell_type": "markdown",
   "metadata": {},
   "source": [
    "### CODE-TOOLS"
   ]
  },
  {
   "cell_type": "code",
   "execution_count": 13,
   "metadata": {},
   "outputs": [
    {
     "ename": "KeyError",
     "evalue": "'RXN-5065'",
     "output_type": "error",
     "traceback": [
      "\u001b[1;31m---------------------------------------------------------------------------\u001b[0m",
      "\u001b[1;31mKeyError\u001b[0m                                  Traceback (most recent call last)",
      "Cell \u001b[1;32mIn[13], line 2\u001b[0m\n\u001b[0;32m      1\u001b[0m \u001b[39m#ELiminar rxn \u001b[39;00m\n\u001b[1;32m----> 2\u001b[0m removerxn\u001b[39m=\u001b[39mpvulModel\u001b[39m.\u001b[39;49mreactions\u001b[39m.\u001b[39;49mget_by_id(\u001b[39m\"\u001b[39;49m\u001b[39mRXN-5065\u001b[39;49m\u001b[39m\"\u001b[39;49m)\n\u001b[0;32m      3\u001b[0m pvulModel\u001b[39m.\u001b[39mremove_reactions([removerxn])\n",
      "File \u001b[1;32mc:\\Users\\duart\\Anaconda\\envs\\CobraPy\\lib\\site-packages\\cobra\\core\\dictlist.py:75\u001b[0m, in \u001b[0;36mDictList.get_by_id\u001b[1;34m(self, id)\u001b[0m\n\u001b[0;32m     73\u001b[0m \u001b[39mdef\u001b[39;00m \u001b[39mget_by_id\u001b[39m(\u001b[39mself\u001b[39m, \u001b[39mid\u001b[39m: Union[Object, \u001b[39mstr\u001b[39m]) \u001b[39m-\u001b[39m\u001b[39m>\u001b[39m Object:\n\u001b[0;32m     74\u001b[0m \u001b[39m    \u001b[39m\u001b[39m\"\"\"Return the element with a matching id.\"\"\"\u001b[39;00m\n\u001b[1;32m---> 75\u001b[0m     \u001b[39mreturn\u001b[39;00m \u001b[39mlist\u001b[39m\u001b[39m.\u001b[39m\u001b[39m__getitem__\u001b[39m(\u001b[39mself\u001b[39m, \u001b[39mself\u001b[39;49m\u001b[39m.\u001b[39;49m_dict[\u001b[39mid\u001b[39;49m])\n",
      "\u001b[1;31mKeyError\u001b[0m: 'RXN-5065'"
     ]
    }
   ],
   "source": [
    "#ELiminar rxn \n",
    "removerxn=pvulModel.reactions.get_by_id(\"RXN-5065\")\n",
    "pvulModel.remove_reactions([removerxn])"
   ]
  },
  {
   "cell_type": "code",
   "execution_count": null,
   "metadata": {},
   "outputs": [],
   "source": [
    "pvulModel.objective=\"LINAMARIN-RXN\""
   ]
  },
  {
   "cell_type": "code",
   "execution_count": null,
   "metadata": {},
   "outputs": [],
   "source": [
    "pvulModel.objective=\"Biomass\""
   ]
  },
  {
   "cell_type": "code",
   "execution_count": null,
   "metadata": {},
   "outputs": [
    {
     "data": {
      "text/html": [
       "<h3>Objective</h3><p>1.0 LINAMARIN-RXN = 333.3333333333331</p><h4>Uptake</h4><table border=\"1\" class=\"dataframe\">\n",
       "  <thead>\n",
       "    <tr style=\"text-align: right;\">\n",
       "      <th>Metabolite</th>\n",
       "      <th>Reaction</th>\n",
       "      <th>Flux</th>\n",
       "      <th>C-Number</th>\n",
       "      <th>C-Flux</th>\n",
       "    </tr>\n",
       "  </thead>\n",
       "  <tbody>\n",
       "    <tr>\n",
       "      <td>OXYGEN-MOLECULE[e]</td>\n",
       "      <td>EX_OXYGEN-MOLECULE[e]</td>\n",
       "      <td>1000</td>\n",
       "      <td>0</td>\n",
       "      <td>0.00%</td>\n",
       "    </tr>\n",
       "    <tr>\n",
       "      <td>PYRIDOXAL_PHOSPHATE[e]</td>\n",
       "      <td>EX_PYRIDOXAL_PHOSPHATE[e]</td>\n",
       "      <td>90.91</td>\n",
       "      <td>8</td>\n",
       "      <td>11.37%</td>\n",
       "    </tr>\n",
       "    <tr>\n",
       "      <td>SUCROSE[e]</td>\n",
       "      <td>EX_SUCROSE[e]</td>\n",
       "      <td>333.3</td>\n",
       "      <td>12</td>\n",
       "      <td>62.56%</td>\n",
       "    </tr>\n",
       "    <tr>\n",
       "      <td>VAL[e]</td>\n",
       "      <td>EX_VAL[e]</td>\n",
       "      <td>333.3</td>\n",
       "      <td>5</td>\n",
       "      <td>26.07%</td>\n",
       "    </tr>\n",
       "  </tbody>\n",
       "</table><h4>Secretion</h4><table border=\"1\" class=\"dataframe\">\n",
       "  <thead>\n",
       "    <tr style=\"text-align: right;\">\n",
       "      <th>Metabolite</th>\n",
       "      <th>Reaction</th>\n",
       "      <th>Flux</th>\n",
       "      <th>C-Number</th>\n",
       "      <th>C-Flux</th>\n",
       "    </tr>\n",
       "  </thead>\n",
       "  <tbody>\n",
       "    <tr>\n",
       "      <td>BETA-D-FRUCTOSE[e]</td>\n",
       "      <td>EX_BETA-D-FRUCTOSE[e]</td>\n",
       "      <td>-333.3</td>\n",
       "      <td>6</td>\n",
       "      <td>31.28%</td>\n",
       "    </tr>\n",
       "    <tr>\n",
       "      <td>CARBON-DIOXIDE[e]</td>\n",
       "      <td>EX_CARBON-DIOXIDE[e]</td>\n",
       "      <td>-787.9</td>\n",
       "      <td>1</td>\n",
       "      <td>12.32%</td>\n",
       "    </tr>\n",
       "    <tr>\n",
       "      <td>PROTON[e]</td>\n",
       "      <td>EX_PROTON[e]</td>\n",
       "      <td>-666.7</td>\n",
       "      <td>0</td>\n",
       "      <td>0.00%</td>\n",
       "    </tr>\n",
       "    <tr>\n",
       "      <td>Pi[e]</td>\n",
       "      <td>EX_Pi[e]</td>\n",
       "      <td>-90.91</td>\n",
       "      <td>0</td>\n",
       "      <td>0.00%</td>\n",
       "    </tr>\n",
       "    <tr>\n",
       "      <td>SER[e]</td>\n",
       "      <td>EX_SER[e]</td>\n",
       "      <td>-90.91</td>\n",
       "      <td>3</td>\n",
       "      <td>4.27%</td>\n",
       "    </tr>\n",
       "    <tr>\n",
       "      <td>WATER[e]</td>\n",
       "      <td>EX_WATER[e]</td>\n",
       "      <td>-666.7</td>\n",
       "      <td>0</td>\n",
       "      <td>0.00%</td>\n",
       "    </tr>\n",
       "    <tr>\n",
       "      <td>LINAMARIN[c]</td>\n",
       "      <td>SK_LINAMARIN[c]</td>\n",
       "      <td>-333.3</td>\n",
       "      <td>10</td>\n",
       "      <td>52.13%</td>\n",
       "    </tr>\n",
       "  </tbody>\n",
       "</table>"
      ],
      "text/plain": [
       "<cobra.summary.model_summary.ModelSummary at 0x1cbc9303e50>"
      ]
     },
     "execution_count": 25,
     "metadata": {},
     "output_type": "execute_result"
    }
   ],
   "source": [
    "pvulModel.summary()"
   ]
  },
  {
   "cell_type": "code",
   "execution_count": null,
   "metadata": {},
   "outputs": [
    {
     "data": {
      "text/html": [
       "\n",
       "        <table>\n",
       "            <tr>\n",
       "                <td><strong>Metabolite identifier</strong></td><td>DGDP[c]</td>\n",
       "            </tr><tr>\n",
       "                <td><strong>Name</strong></td><td>dGDP</td>\n",
       "            </tr><tr>\n",
       "                <td><strong>Memory address</strong></td>\n",
       "                <td>0x1cbc62cbaf0</td>\n",
       "            </tr><tr>\n",
       "                <td><strong>Formula</strong></td><td>C10H12N5O10P2</td>\n",
       "            </tr><tr>\n",
       "                <td><strong>Compartment</strong></td><td>c</td>\n",
       "            </tr><tr>\n",
       "                <td><strong>In 7 reaction(s)</strong></td><td>\n",
       "                    RXN-6222-ADP-D-GLUCOSE/Fructofuranose//DGDP/SUCROSE/PROTON.50., RXN-9603-ADP-D-GLUCOSE/GLC//TREHALOSE/DGDP/PROTON.41., RXN-6222-ADP-D-GLUCOSE/BETA-D-FRUCTOSE//DGDP/SUCROSE/PROTON.51., RXN-9603-ADP-...\n",
       "                    </td>\n",
       "            </tr>\n",
       "        </table>"
      ],
      "text/plain": [
       "<Metabolite DGDP[c] at 0x1cbc62cbaf0>"
      ]
     },
     "execution_count": 21,
     "metadata": {},
     "output_type": "execute_result"
    }
   ],
   "source": [
    "pvulModel.metabolites.get_by_id('DGDP[c]')"
   ]
  }
 ],
 "metadata": {
  "kernelspec": {
   "display_name": "CobraPy",
   "language": "python",
   "name": "python3"
  },
  "language_info": {
   "codemirror_mode": {
    "name": "ipython",
    "version": 3
   },
   "file_extension": ".py",
   "mimetype": "text/x-python",
   "name": "python",
   "nbconvert_exporter": "python",
   "pygments_lexer": "ipython3",
   "version": "3.10.9"
  },
  "orig_nbformat": 4,
  "vscode": {
   "interpreter": {
    "hash": "f5a3a864959a3228a32cb94614b9705947504921a72b81de7b881b03bcf79fc7"
   }
  }
 },
 "nbformat": 4,
 "nbformat_minor": 2
}
