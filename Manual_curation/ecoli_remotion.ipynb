{
 "cells": [
  {
   "cell_type": "code",
   "execution_count": 1,
   "id": "739540a7",
   "metadata": {},
   "outputs": [],
   "source": [
    "import cobra\n",
    "from cobra.io import load_model\n",
    "from pathlib import Path\n",
    "from cobra.io import load_json_model, save_json_model, load_matlab_model, save_matlab_model, read_sbml_model, write_sbml_model\n",
    "import logging\n",
    "from cobra import Model, Reaction, Metabolite\n"
   ]
  },
  {
   "cell_type": "code",
   "execution_count": 3,
   "id": "d7c14e00",
   "metadata": {},
   "outputs": [
    {
     "name": "stdout",
     "output_type": "stream",
     "text": [
      "C:\\Users\\duart\\OneDrive\\Documentos\\UNIANDES\\PHASEOLUS LUNATUS\\MODELS\\TEST\\E.coli\n"
     ]
    }
   ],
   "source": [
    "%cd C:\\Users\\duart\\OneDrive\\Documentos\\UNIANDES\\PHASEOLUS LUNATUS\\MODELS\\TEST\\E.coli\n",
    "Ecoli=read_sbml_model('e_coli_core.xml')"
   ]
  },
  {
   "cell_type": "code",
   "execution_count": 9,
   "id": "d897c80f",
   "metadata": {},
   "outputs": [
    {
     "name": "stdout",
     "output_type": "stream",
     "text": [
      "PFK\n",
      "PFL\n",
      "PGI\n",
      "PGK\n",
      "PGL\n",
      "ACALD\n",
      "AKGt2r\n",
      "PGM\n",
      "PIt2r\n",
      "ALCD2x\n",
      "ACALDt\n",
      "ACKr\n",
      "PPC\n",
      "ACONTa\n",
      "ACONTb\n",
      "ATPM\n",
      "PPCK\n",
      "ACt2r\n",
      "PPS\n",
      "ADK1\n",
      "AKGDH\n",
      "ATPS4r\n",
      "PTAr\n",
      "PYK\n",
      "BIOMASS_Ecoli_core_w_GAM\n",
      "PYRt2\n",
      "CO2t\n",
      "RPE\n",
      "CS\n",
      "RPI\n",
      "SUCCt2_2\n",
      "CYTBD\n",
      "D_LACt2\n",
      "ENO\n",
      "SUCCt3\n",
      "ETOHt2r\n",
      "SUCDi\n",
      "SUCOAS\n",
      "TALA\n",
      "THD2\n",
      "TKT1\n",
      "TKT2\n",
      "TPI\n",
      "EX_ac_e\n",
      "EX_acald_e\n",
      "EX_akg_e\n",
      "EX_co2_e\n",
      "EX_etoh_e\n",
      "EX_for_e\n",
      "EX_fru_e\n",
      "EX_fum_e\n",
      "EX_glc__D_e\n",
      "EX_gln__L_e\n",
      "EX_glu__L_e\n",
      "EX_h_e\n",
      "EX_h2o_e\n",
      "EX_lac__D_e\n",
      "EX_mal__L_e\n",
      "EX_nh4_e\n",
      "EX_o2_e\n",
      "EX_pi_e\n",
      "EX_pyr_e\n",
      "EX_succ_e\n",
      "FBA\n",
      "FBP\n",
      "FORt2\n",
      "FORt\n",
      "FRD7\n",
      "FRUpts2\n",
      "FUM\n",
      "FUMt2_2\n",
      "G6PDH2r\n",
      "GAPD\n",
      "GLCpts\n",
      "GLNS\n",
      "GLNabc\n",
      "GLUDy\n",
      "GLUN\n",
      "GLUSy\n",
      "GLUt2r\n",
      "GND\n",
      "H2Ot\n",
      "ICDHyr\n",
      "ICL\n",
      "LDH_D\n",
      "MALS\n",
      "MALt2_2\n",
      "MDH\n",
      "ME1\n",
      "ME2\n",
      "NADH16\n",
      "NADTRHD\n",
      "NH4t\n",
      "O2t\n",
      "PDH\n"
     ]
    }
   ],
   "source": [
    "for i in Ecoli.reactions:\n",
    "    print(i.id)"
   ]
  },
  {
   "cell_type": "code",
   "execution_count": 12,
   "id": "68a3dd49",
   "metadata": {},
   "outputs": [],
   "source": [
    "removerxns=['ACt2r','PPS','ADK1','AKGDH','ATPS4r','ICDHyr','ICL','LDH_D','MALS','MALt2_2']"
   ]
  },
  {
   "cell_type": "code",
   "execution_count": 13,
   "id": "29453d6a",
   "metadata": {},
   "outputs": [],
   "source": [
    "Ecoli.remove_reactions(removerxns)"
   ]
  },
  {
   "cell_type": "code",
   "execution_count": 15,
   "id": "0a99874b",
   "metadata": {},
   "outputs": [],
   "source": [
    "write_sbml_model(Ecoli,'Ecoliremovedrxns')"
   ]
  }
 ],
 "metadata": {
  "kernelspec": {
   "display_name": "Python 3 (ipykernel)",
   "language": "python",
   "name": "python3"
  },
  "language_info": {
   "codemirror_mode": {
    "name": "ipython",
    "version": 3
   },
   "file_extension": ".py",
   "mimetype": "text/x-python",
   "name": "python",
   "nbconvert_exporter": "python",
   "pygments_lexer": "ipython3",
   "version": "3.9.16"
  }
 },
 "nbformat": 4,
 "nbformat_minor": 5
}
