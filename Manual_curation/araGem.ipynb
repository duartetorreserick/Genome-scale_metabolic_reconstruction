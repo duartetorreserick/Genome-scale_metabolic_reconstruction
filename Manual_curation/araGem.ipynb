{
 "cells": [
  {
   "cell_type": "code",
   "execution_count": 1,
   "metadata": {},
   "outputs": [],
   "source": [
    "import cobra\n",
    "from cobra.io import load_model\n",
    "from pathlib import Path\n",
    "from cobra.io import load_json_model, save_json_model, load_matlab_model, save_matlab_model, read_sbml_model, write_sbml_model\n",
    "import logging\n",
    "import pandas as pd\n",
    "from cobra import Model, Reaction, Metabolite\n",
    "from cobra.io import write_sbml_model, validate_sbml_model\n",
    "from cobra.flux_analysis import flux_variability_analysis\n"
   ]
  },
  {
   "cell_type": "code",
   "execution_count": 2,
   "metadata": {},
   "outputs": [],
   "source": [
    "%%capture\n",
    "%cd C:\\Users\\duart\\OneDrive\\Documentos\\UNIANDES\\PHASEOLUS LUNATUS\\MODELS\\OTHER_SPECIES\\Arabidopsis thaliana\\ARAGEM\n",
    "araModel=read_sbml_model('AraGEM.xml')\n"
   ]
  },
  {
   "cell_type": "code",
   "execution_count": 8,
   "metadata": {},
   "outputs": [
    {
     "data": {
      "text/plain": [
       "{'C_c': 'Cytosol',\n",
       " 'C_p': 'Plastid',\n",
       " 'C_m': 'Mitochondrion',\n",
       " 'C_x': 'Peroxisome',\n",
       " 'C_v': 'Vacuole',\n",
       " 'C_biomass': 'Biomass',\n",
       " 'C_ext': 'External',\n",
       " 'C_acc': 'Accumulation'}"
      ]
     },
     "execution_count": 8,
     "metadata": {},
     "output_type": "execute_result"
    }
   ],
   "source": [
    "araModel.compartments"
   ]
  },
  {
   "cell_type": "code",
   "execution_count": 13,
   "metadata": {},
   "outputs": [
    {
     "name": "stdout",
     "output_type": "stream",
     "text": [
      "Ex1: S_CO2_ext_b --> S_CO2_c\n",
      "Ex10: S_L_45_Serine_c --> S_L_45_Serine_ext_b\n",
      "Ex11: S_Hydrogen_32_sulfide_ext_b --> S_Hydrogen_32_sulfide_c\n",
      "Ex12: S_Sulfate_ext_b --> S_Sulfate_c\n",
      "Ex13: S_alpha_45_D_45_Glucose_c --> S_Glucose_ext_b\n",
      "Ex14: S_beta_45_D_45_Fructose_c <=> S_beta_45_D_45_Fructose_ext\n",
      "Ex15: S_Maltose_c --> S_Maltose_ext_b\n",
      "Ex16: S_hv_ext_b --> S_hv_p\n",
      "Ex17: S_Sucrose_c --> S_Sucrose_ext_b\n",
      "Ex18: S_Orthophosphate_ext_b --> S_Orthophosphate_c\n"
     ]
    }
   ],
   "source": [
    "for i in araModel.reactions:\n",
    "    if \"Ex1\" in i.id:\n",
    "        print(i)"
   ]
  },
  {
   "cell_type": "code",
   "execution_count": 14,
   "metadata": {},
   "outputs": [
    {
     "name": "stdout",
     "output_type": "stream",
     "text": [
      "R04952_c: S_Butyryl_45__91_acp_93__c + S_Malonyl_45__91_acyl_45_carrier_32_protein_93__c --> S_3_45_Oxohexanoyl_45__91_acp_93__c + S_Acyl_45_carrier_32_protein_c_b + S_CO2_c S_Butyryl_45__91_acp_93__c + S_Malonyl_45__91_acyl_45_carrier_32_protein_93__c --> S_3_45_Oxohexanoyl_45__91_acp_93__c + S_Acyl_45_carrier_32_protein_c_b + S_CO2_c\n",
      "R07762_c: S_Hexadecanoyl_45__91_acp_93__c + S_Malonyl_45__91_acyl_45_carrier_32_protein_93__c --> S_3_45_Oxostearoyl_45__91_acp_93__c + S_Acyl_45_carrier_32_protein_c_b + S_CO2_c S_Hexadecanoyl_45__91_acp_93__c + S_Malonyl_45__91_acyl_45_carrier_32_protein_93__c --> S_3_45_Oxostearoyl_45__91_acp_93__c + S_Acyl_45_carrier_32_protein_c_b + S_CO2_c\n",
      "R01528_c: S_6_45_Phospho_45_D_45_gluconate_c + S_NADP_43__c --> S_CO2_c + S_D_45_Ribulose_32_5_45_phosphate_c + S_H_43__c + S_NADPH_c S_6_45_Phospho_45_D_45_gluconate_c + S_NADP_43__c --> S_CO2_c + S_D_45_Ribulose_32_5_45_phosphate_c + S_H_43__c + S_NADPH_c\n",
      "R03269_c: S__40_R_41__45_4_39__45_Phosphopantothenoyl_45_L_45_cysteine_c --> S_CO2_c + S_Pantetheine_32_4_39__45_phosphate_c S__40_R_41__45_4_39__45_Phosphopantothenoyl_45_L_45_cysteine_c --> S_CO2_c + S_Pantetheine_32_4_39__45_phosphate_c\n",
      "R00566_c: S_L_45_Arginine_c --> S_Agmatine_c + S_CO2_c S_L_45_Arginine_c --> S_Agmatine_c + S_CO2_c\n",
      "R03367_c: S_3_44_4_45_Dihydroxy_45_trans_45_cinnamate_c <=> S_3_44_4_45_Dihydroxystyrene_c + S_CO2_c S_3_44_4_45_Dihydroxy_45_trans_45_cinnamate_c <=> S_3_44_4_45_Dihydroxystyrene_c + S_CO2_c\n",
      "R03210_c: S_6_45_Carboxyhexanoyl_45_CoA_c + S_L_45_Alanine_c --> S_8_45_Amino_45_7_45_oxononanoate_c + S_CO2_c + S_CoA_c S_6_45_Carboxyhexanoyl_45_CoA_c + S_L_45_Alanine_c --> S_8_45_Amino_45_7_45_oxononanoate_c + S_CO2_c + S_CoA_c\n",
      "R03809_c: S_2_45_Oxoglutarate_c + S_Gibberellin_32_A20_c + S_Oxygen_c --> S_CO2_c + S_Gibberellin_32_A29_c + S_Succinate_c S_2_45_Oxoglutarate_c + S_Gibberellin_32_A20_c + S_Oxygen_c --> S_CO2_c + S_Gibberellin_32_A29_c + S_Succinate_c\n",
      "TCP2: S_CO2_c <=> S_CO2_p S_CO2_c <=> S_CO2_p\n",
      "R00736_c: S_L_45_Tyrosine_c --> S_CO2_c + S_Tyramine_c S_L_45_Tyrosine_c --> S_CO2_c + S_Tyramine_c\n",
      "R01121_c: S_ATP_c + S__40_R_41__45_5_45_Diphosphomevalonate_c --> S_ADP_c + S_CO2_c + S_Isopentenyl_32_diphosphate_c + S_Orthophosphate_c S_ATP_c + S__40_R_41__45_5_45_Diphosphomevalonate_c --> S_ADP_c + S_CO2_c + S_Isopentenyl_32_diphosphate_c + S_Orthophosphate_c\n",
      "R07500_c: S_Homogentisate_c + S_Phytyl_32_diphosphate_c --> S_2_45_Methyl_45_6_45_phytylquinol_c + S_CO2_c + S_Pyrophosphate_c S_Homogentisate_c + S_Phytyl_32_diphosphate_c --> S_2_45_Methyl_45_6_45_phytylquinol_c + S_CO2_c + S_Pyrophosphate_c\n",
      "R04515_c: S_H2O_c + S__40_4R_44_5S_41__45_4_44_5_44_6_45_Trihydroxy_45_2_44_3_45_dioxohexanoate_c <=> S_CO2_c + S_L_45_Xylonate_c S_H2O_c + S__40_4R_44_5S_41__45_4_44_5_44_6_45_Trihydroxy_45_2_44_3_45_dioxohexanoate_c <=> S_CO2_c + S_L_45_Xylonate_c\n",
      "R00219_c: S_2_45_Hydroxyethylenedicarboxylate_c --> S_CO2_c + S_Pyruvate_c S_2_45_Hydroxyethylenedicarboxylate_c --> S_CO2_c + S_Pyruvate_c\n",
      "R01373_c: S_Prephenate_c <=> S_CO2_c + S_H2O_c + S_Phenylpyruvate_c S_Prephenate_c <=> S_CO2_c + S_H2O_c + S_Phenylpyruvate_c\n",
      "R00131_c: S_H2O_c + S_Urea_c --> S_CO2_c + 2.0 S_NH3_c S_H2O_c + S_Urea_c --> S_CO2_c + 2.0 S_NH3_c\n",
      "R00905_c: S_3_45_Ureidopropionate_c + S_H2O_c <=> S_CO2_c + S_NH3_c + S_beta_45_Alanine_c S_3_45_Ureidopropionate_c + S_H2O_c <=> S_CO2_c + S_NH3_c + S_beta_45_Alanine_c\n",
      "R04355_c: S_Acetyl_45__91_acyl_45_carrier_32_protein_93__c + S_Malonyl_45__91_acyl_45_carrier_32_protein_93__c --> S_Acetoacetyl_45__91_acp_93__c + S_Acyl_45_carrier_32_protein_c_b + S_CO2_c S_Acetyl_45__91_acyl_45_carrier_32_protein_93__c + S_Malonyl_45__91_acyl_45_carrier_32_protein_93__c --> S_Acetoacetyl_45__91_acp_93__c + S_Acyl_45_carrier_32_protein_c_b + S_CO2_c\n",
      "R04008_c: S_4_45_Guanidinobutanal_c + S_CO2_c <=> S_2_45_Oxoarginine_c S_4_45_Guanidinobutanal_c + S_CO2_c <=> S_2_45_Oxoarginine_c\n",
      "R04784_c: S_H2O_c + S__40_4R_44_5S_41__45_4_44_5_44_6_45_Trihydroxy_45_2_44_3_45_dioxohexanoate_c <=> S_CO2_c + S_L_45_Lyxonate_c S_H2O_c + S__40_4R_44_5S_41__45_4_44_5_44_6_45_Trihydroxy_45_2_44_3_45_dioxohexanoate_c <=> S_CO2_c + S_L_45_Lyxonate_c\n",
      "R00132N_c: S_CO2_c + S_H2O_c --> S_HCO3_45__c + S_H_43__c S_CO2_c + S_H2O_c --> S_HCO3_45__c + S_H_43__c\n",
      "R05097_c: S_2_45_Oxoglutarate_c + S_Gibberellin_32_A53_c + S_Oxygen_c --> S_CO2_c + S_Gibberellin_32_A44_32_diacid_c + S_Succinate_c S_2_45_Oxoglutarate_c + S_Gibberellin_32_A53_c + S_Oxygen_c --> S_CO2_c + S_Gibberellin_32_A44_32_diacid_c + S_Succinate_c\n",
      "R02080_c: S_3_44_4_45_Dihydroxy_45_L_45_phenylalanine_c --> S_4_45__40_2_45_Aminoethyl_41__45_1_44_2_45_benzenediol_c + S_CO2_c S_3_44_4_45_Dihydroxy_45_L_45_phenylalanine_c --> S_4_45__40_2_45_Aminoethyl_41__45_1_44_2_45_benzenediol_c + S_CO2_c\n",
      "R01373N_c: S_Prephenate_c --> S_CO2_c + S_H2O_c + S_Phenylpyruvate_c S_Prephenate_c --> S_CO2_c + S_H2O_c + S_Phenylpyruvate_c\n",
      "R05617_c: S_1_44_4_45_Dihydroxy_45_2_45_naphthoate_c + S_all_45_trans_45_Octaprenyl_32_diphosphate_c <=> S_2_45_Demethylmenaquinone_c + S_CO2_c + S_Pyrophosphate_c S_1_44_4_45_Dihydroxy_45_2_45_naphthoate_c + S_all_45_trans_45_Octaprenyl_32_diphosphate_c <=> S_2_45_Demethylmenaquinone_c + S_CO2_c + S_Pyrophosphate_c\n",
      "R08228_c: S_H2O_c + S_alpha_45_Fluoro_45_beta_45_ureidopropionic_32_acid_c --> S_CO2_c + S_NH3_c + S_alpha_45_Fluoro_45_beta_45_alanine_c S_H2O_c + S_alpha_45_Fluoro_45_beta_45_ureidopropionic_32_acid_c --> S_CO2_c + S_NH3_c + S_alpha_45_Fluoro_45_beta_45_alanine_c\n",
      "R06858_c: S_1_44_4_45_Dihydroxy_45_2_45_naphthoate_c + S_Phytyl_32_diphosphate_c --> S_2_45_Phytyl_45_1_44_4_45_naphthoquinone_c + S_CO2_c + S_Pyrophosphate_c S_1_44_4_45_Dihydroxy_45_2_45_naphthoate_c + S_Phytyl_32_diphosphate_c --> S_2_45_Phytyl_45_1_44_4_45_naphthoquinone_c + S_CO2_c + S_Pyrophosphate_c\n",
      "R03197_c: S_Uroporphyrinogen_32_III_c --> 4.0 S_CO2_c + S_Coproporphyrinogen_32_III_c S_Uroporphyrinogen_32_III_c --> 4.0 S_CO2_c + S_Coproporphyrinogen_32_III_c\n",
      "R00006_c: 2.0 S_Pyruvate_c --> S_2_45_Acetolactate_c + S_CO2_c 2.0 S_Pyruvate_c --> S_2_45_Acetolactate_c + S_CO2_c\n",
      "R03182_c: S_7_44_8_45_Diaminononanoate_c + S_ATP_c + S_CO2_c --> S_ADP_c + S_Dethiobiotin_c + S_Orthophosphate_c S_7_44_8_45_Diaminononanoate_c + S_ATP_c + S_CO2_c --> S_ADP_c + S_Dethiobiotin_c + S_Orthophosphate_c\n",
      "R04053_c: S_3_45_Phosphonopyruvate_c --> S_CO2_c + S_Phosphonoacetaldehyde_c S_3_45_Phosphonopyruvate_c --> S_CO2_c + S_Phosphonoacetaldehyde_c\n",
      "R04172_c: S_3_45_Hydroxy_45_L_45_kynurenine_c --> S_3_45_Hydroxykynurenamine_c + S_CO2_c S_3_45_Hydroxy_45_L_45_kynurenine_c --> S_3_45_Hydroxykynurenamine_c + S_CO2_c\n",
      "R04276_c: S_2_45_Oxoglutarate_c + S_Oxygen_c + S_cis_45_3_44_4_45_Leucopelargonidin_c --> S_CO2_c + 2.0 S_H2O_c + S_Pelargonidin_c + S_Succinate_c S_2_45_Oxoglutarate_c + S_Oxygen_c + S_cis_45_3_44_4_45_Leucopelargonidin_c --> S_CO2_c + 2.0 S_H2O_c + S_Pelargonidin_c + S_Succinate_c\n",
      "R07988_c: S_Caffeoyl_45_CoA_c + 3.0 S_Malonyl_45_CoA_c --> 3.0 S_CO2_c + 4.0 S_CoA_c + S_Eriodictyol_32_chalcone_c S_Caffeoyl_45_CoA_c + 3.0 S_Malonyl_45_CoA_c --> 3.0 S_CO2_c + 4.0 S_CoA_c + S_Eriodictyol_32_chalcone_c\n",
      "R07601_c: S_4_45_Methyl_45_2_45_oxopentanoate_c + S_Thiamin_32_diphosphate_c --> S_3_45_Methyl_45_1_45_hydroxybutyl_45_ThPP_c + S_CO2_c S_4_45_Methyl_45_2_45_oxopentanoate_c + S_Thiamin_32_diphosphate_c --> S_3_45_Methyl_45_1_45_hydroxybutyl_45_ThPP_c + S_CO2_c\n",
      "R06322_c: S_2_45_Oxoglutarate_c + S_Gibberellin_32_A12_c + S_Oxygen_c --> S_CO2_c + S_Gibberellin_32_A15_32_open_32_lactone_c + S_Succinate_c S_2_45_Oxoglutarate_c + S_Gibberellin_32_A12_c + S_Oxygen_c --> S_CO2_c + S_Gibberellin_32_A15_32_open_32_lactone_c + S_Succinate_c\n",
      "R01252_c: S_2_45_Oxoglutarate_c + S_L_45_Proline_c + S_Oxygen_c --> S_CO2_c + S_Succinate_c + S_trans_45_4_45_Hydroxy_45_L_45_proline_c S_2_45_Oxoglutarate_c + S_L_45_Proline_c + S_Oxygen_c --> S_CO2_c + S_Succinate_c + S_trans_45_4_45_Hydroxy_45_L_45_proline_c\n",
      "R04885_c: S_2_45_Carboxy_45_2_44_3_45_dihydro_45_5_44_6_45_dihydroxyindole_c --> S_5_44_6_45_Dihydroxyindole_c + S_CO2_c S_2_45_Carboxy_45_2_44_3_45_dihydro_45_5_44_6_45_dihydroxyindole_c --> S_5_44_6_45_Dihydroxyindole_c + S_CO2_c\n",
      "R00691_c: S_L_45_Arogenate_c --> S_CO2_c + S_H2O_c + S_L_45_Phenylalanine_c S_L_45_Arogenate_c --> S_CO2_c + S_H2O_c + S_L_45_Phenylalanine_c\n",
      "R00214_c: S_NAD_43__c + S__40_S_41__45_Malate_c --> S_CO2_c + S_NADH_c + S_Pyruvate_c S_NAD_43__c + S__40_S_41__45_Malate_c --> S_CO2_c + S_NADH_c + S_Pyruvate_c\n",
      "R01940_c: S_2_45_Oxoadipate_c + S_Lipoamide_c --> S_CO2_c + S_S_45_Glutaryldihydrolipoamide_c S_2_45_Oxoadipate_c + S_Lipoamide_c --> S_CO2_c + S_S_45_Glutaryldihydrolipoamide_c\n",
      "R05825_c: S_H2O_c + S_Polyneuridine_32_aldehyde_c --> S_16_45_Epivellosimine_c + S_CO2_c + S_Methanol_c S_H2O_c + S_Polyneuridine_32_aldehyde_c --> S_16_45_Epivellosimine_c + S_CO2_c + S_Methanol_c\n",
      "R04957_c: S_Hexanoyl_45__91_acp_93__c + S_Malonyl_45__91_acyl_45_carrier_32_protein_93__c --> S_3_45_Oxooctanoyl_45__91_acp_93__c + S_Acyl_45_carrier_32_protein_c_b + S_CO2_c S_Hexanoyl_45__91_acp_93__c + S_Malonyl_45__91_acyl_45_carrier_32_protein_93__c --> S_3_45_Oxooctanoyl_45__91_acp_93__c + S_Acyl_45_carrier_32_protein_c_b + S_CO2_c\n",
      "R00451_c: S_meso_45_2_44_6_45_Diaminoheptanedioate_c --> S_CO2_c + S_L_45_Lysine_c S_meso_45_2_44_6_45_Diaminoheptanedioate_c --> S_CO2_c + S_L_45_Lysine_c\n",
      "R02466_c: S_3_45_Sulfino_45_L_45_alanine_c --> S_CO2_c + S_Hypotaurine_c S_3_45_Sulfino_45_L_45_alanine_c --> S_CO2_c + S_Hypotaurine_c\n",
      "TCM17: S_CO2_c <=> S_CO2_m S_CO2_c <=> S_CO2_m\n",
      "R02521_c: S_3_45__40_4_45_Hydroxyphenyl_41_pyruvate_c + S_Oxygen_c --> S_CO2_c + S_Homogentisate_c S_3_45__40_4_45_Hydroxyphenyl_41_pyruvate_c + S_Oxygen_c --> S_CO2_c + S_Homogentisate_c\n",
      "R07989_c: S_Feruloyl_45_CoA_c + 3.0 S_Malonyl_45_CoA_c --> 3.0 S_CO2_c + 4.0 S_CoA_c + S_Homoeriodictyol_32_chalcone_c S_Feruloyl_45_CoA_c + 3.0 S_Malonyl_45_CoA_c --> 3.0 S_CO2_c + 4.0 S_CoA_c + S_Homoeriodictyol_32_chalcone_c\n",
      "R04726_c: S_Dodecanoyl_45__91_acyl_45_carrier_32_protein_93__c + S_Malonyl_45__91_acyl_45_carrier_32_protein_93__c --> S_3_45_Oxotetradecanoyl_45__91_acp_93__c + S_Acyl_45_carrier_32_protein_c_b + S_CO2_c S_Dodecanoyl_45__91_acyl_45_carrier_32_protein_93__c + S_Malonyl_45__91_acyl_45_carrier_32_protein_93__c --> S_3_45_Oxotetradecanoyl_45__91_acp_93__c + S_Acyl_45_carrier_32_protein_c_b + S_CO2_c\n",
      "R01613_c: 3.0 S_Malonyl_45_CoA_c + S_p_45_Coumaroyl_45_CoA_c --> 3.0 S_CO2_c + 4.0 S_CoA_c + S_Isosalipurpol_c 3.0 S_Malonyl_45_CoA_c + S_p_45_Coumaroyl_45_CoA_c --> 3.0 S_CO2_c + 4.0 S_CoA_c + S_Isosalipurpol_c\n",
      "R06323_c: S_2_45_Oxoglutarate_c + S_Gibberellin_32_A15_32_open_32_lactone_c + S_Oxygen_c --> S_CO2_c + S_Gibberellin_32_A24_c + S_H2O_c + S_Succinate_c S_2_45_Oxoglutarate_c + S_Gibberellin_32_A15_32_open_32_lactone_c + S_Oxygen_c --> S_CO2_c + S_Gibberellin_32_A24_c + S_H2O_c + S_Succinate_c\n",
      "R02488_c: S_Acceptor_c + S_Glutaryl_45_CoA_c --> S_CO2_c + S_Crotonoyl_45_CoA_c + S_Reduced_32_acceptor_c S_Acceptor_c + S_Glutaryl_45_CoA_c --> S_CO2_c + S_Crotonoyl_45_CoA_c + S_Reduced_32_acceptor_c\n",
      "R01652_c: S__40_2S_41__45_2_45_Isopropyl_45_3_45_oxosuccinate_c --> S_4_45_Methyl_45_2_45_oxopentanoate_c + S_CO2_c S__40_2S_41__45_2_45_Isopropyl_45_3_45_oxosuccinate_c --> S_4_45_Methyl_45_2_45_oxopentanoate_c + S_CO2_c\n",
      "R00014_c: S_Pyruvate_c + S_Thiamin_32_diphosphate_c --> S_2_45__40_alpha_45_Hydroxyethyl_41_thiamine_32_diphosphate_c + S_CO2_c S_Pyruvate_c + S_Thiamin_32_diphosphate_c --> S_2_45__40_alpha_45_Hydroxyethyl_41_thiamine_32_diphosphate_c + S_CO2_c\n",
      "R07603_c: S_Thiamin_32_diphosphate_c + S__40_S_41__45_3_45_Methyl_45_2_45_oxopentanoic_32_acid_c --> S_2_45_Methyl_45_1_45_hydroxybutyl_45_ThPP_c + S_CO2_c S_Thiamin_32_diphosphate_c + S__40_S_41__45_3_45_Methyl_45_2_45_oxopentanoic_32_acid_c --> S_2_45_Methyl_45_1_45_hydroxybutyl_45_ThPP_c + S_CO2_c\n",
      "R03971_c: S_3_45_Cyano_45_L_45_alanine_c + S_Glutamate_c --> S_CO2_c + S_H2O_c + S_gamma_45_Glutamyl_45_beta_45_aminopropiononitrile_c S_3_45_Cyano_45_L_45_alanine_c + S_Glutamate_c --> S_CO2_c + S_H2O_c + S_gamma_45_Glutamyl_45_beta_45_aminopropiononitrile_c\n",
      "R00705_c: S_3_45_Oxopropanoate_c + S_CoA_c + S_NAD_43__c --> S_Acetyl_45_CoA_c + S_CO2_c + S_H_43__c + S_NADH_c S_3_45_Oxopropanoate_c + S_CoA_c + S_NAD_43__c --> S_Acetyl_45_CoA_c + S_CO2_c + S_H_43__c + S_NADH_c\n",
      "Ex1: S_CO2_ext_b --> S_CO2_c S_CO2_ext_b --> S_CO2_c\n",
      "R06895_c: S_Coproporphyrinogen_32_III_c + 2.0 S_S_45_Adenosyl_45_L_45_methionine_c --> 2.0 S_5_39__45_Deoxyadenosine_c + 2.0 S_CO2_c + 2.0 S_L_45_Methionine_c + S_Protoporphyrinogen_32_IX_c S_Coproporphyrinogen_32_III_c + 2.0 S_S_45_Adenosyl_45_L_45_methionine_c --> 2.0 S_5_39__45_Deoxyadenosine_c + 2.0 S_CO2_c + 2.0 S_L_45_Methionine_c + S_Protoporphyrinogen_32_IX_c\n",
      "R02487_c: S_FAD_c + S_Glutaryl_45_CoA_c --> S_CO2_c + S_Crotonoyl_45_CoA_c + S_FADH2_c S_FAD_c + S_Glutaryl_45_CoA_c --> S_CO2_c + S_Crotonoyl_45_CoA_c + S_FADH2_c\n",
      "R04732_c: S_5_45_Amino_45_4_45_imidazole_32_carboxylate_c --> S_5_45_Aminoimidazole_c + S_CO2_c S_5_45_Amino_45_4_45_imidazole_32_carboxylate_c --> S_5_45_Aminoimidazole_c + S_CO2_c\n",
      "R02160_c: S_2_45_Oxoglutarate_c + S_Oxygen_c + S_Taxifolin_c --> S_CO2_c + S_H2O_c + S_Quercetin_c + S_Succinate_c S_2_45_Oxoglutarate_c + S_Oxygen_c + S_Taxifolin_c --> S_CO2_c + S_H2O_c + S_Quercetin_c + S_Succinate_c\n",
      "R04972_c: S_Uroporphyrinogen_32_I_c --> 4.0 S_CO2_c + S_Coproporphyrinogen_32_I_c S_Uroporphyrinogen_32_I_c --> 4.0 S_CO2_c + S_Coproporphyrinogen_32_I_c\n",
      "R03348_c: S_5_45_Phospho_45_alpha_45_D_45_ribose_32_1_45_diphosphate_c + S_Pyridine_45_2_44_3_45_dicarboxylate_c --> S_CO2_c + S_Nicotinate_32_D_45_ribonucleotide_c + S_Pyrophosphate_c S_5_45_Phospho_45_alpha_45_D_45_ribose_32_1_45_diphosphate_c + S_Pyridine_45_2_44_3_45_dicarboxylate_c --> S_CO2_c + S_Nicotinate_32_D_45_ribonucleotide_c + S_Pyrophosphate_c\n",
      "R02952_c: S_4_45_Coumarate_c --> S_4_45_Hydroxystyrene_c + S_CO2_c S_4_45_Coumarate_c --> S_4_45_Hydroxystyrene_c + S_CO2_c\n",
      "R03008_c: S_2_45_Oxoglutarate_c + S_Gibberellin_32_A1_c + S_Oxygen_c --> S_2beta_45_Hydroxygibberellin_32_1_c + S_CO2_c + S_Succinate_c S_2_45_Oxoglutarate_c + S_Gibberellin_32_A1_c + S_Oxygen_c --> S_2beta_45_Hydroxygibberellin_32_1_c + S_CO2_c + S_Succinate_c\n",
      "R05636_c: S_Pyruvate_c + S__40_2R_41__45_2_45_Hydroxy_45_3_45__40_phosphonooxy_41__45_propanal_c --> S_1_45_Deoxy_45_D_45_xylulose_32_5_45_phosphate_c + S_CO2_c S_Pyruvate_c + S__40_2R_41__45_2_45_Hydroxy_45_3_45__40_phosphonooxy_41__45_propanal_c --> S_1_45_Deoxy_45_D_45_xylulose_32_5_45_phosphate_c + S_CO2_c\n",
      "R00261_c: S_L_45_Glutamate_c --> S_4_45_Aminobutanoate_c + S_CO2_c S_L_45_Glutamate_c --> S_4_45_Aminobutanoate_c + S_CO2_c\n",
      "R07993_c: S_2_45_Oxoglutarate_c + S_Oxygen_c + S_Pinocembrin_c --> S_CO2_c + S_Pinobanksin_c + S_Succinate_c S_2_45_Oxoglutarate_c + S_Oxygen_c + S_Pinocembrin_c --> S_CO2_c + S_Pinobanksin_c + S_Succinate_c\n",
      "R06326_c: S_Gibberellin_32_A24_c --> S_CO2_c + S_Gibberellin_32_A9_c S_Gibberellin_32_A24_c --> S_CO2_c + S_Gibberellin_32_A9_c\n",
      "R03126_c: S_2_45_Oxoglutarate_c + S_Dihydrokaempferol_c + S_Oxygen_c --> S_CO2_c + S_H2O_c + S_Kaempferol_c + S_Succinate_c S_2_45_Oxoglutarate_c + S_Dihydrokaempferol_c + S_Oxygen_c --> S_CO2_c + S_H2O_c + S_Kaempferol_c + S_Succinate_c\n",
      "R08082_c: S_2_45_Oxoglutarate_c + S_Oxygen_c + S_Pinobanksin_c --> S_CO2_c + S_Galangin_c + S_H2O_c + S_Succinate_c S_2_45_Oxoglutarate_c + S_Oxygen_c + S_Pinobanksin_c --> S_CO2_c + S_Galangin_c + S_H2O_c + S_Succinate_c\n",
      "R04960_c: S_Malonyl_45__91_acyl_45_carrier_32_protein_93__c + S_Octanoyl_45__91_acp_93__c --> S_3_45_Oxodecanoyl_45__91_acp_93__c + S_Acyl_45_carrier_32_protein_c_b + S_CO2_c S_Malonyl_45__91_acyl_45_carrier_32_protein_93__c + S_Octanoyl_45__91_acp_93__c --> S_3_45_Oxodecanoyl_45__91_acp_93__c + S_Acyl_45_carrier_32_protein_c_b + S_CO2_c\n",
      "R02055_c: S_Phosphatidylserine_c --> S_CO2_c + S_Phosphatidylethanolamine_c S_Phosphatidylserine_c --> S_CO2_c + S_Phosphatidylethanolamine_c\n",
      "R06539_c: S_2_45_Oxoglutarate_c + S_Dihydromyricetin_c + S_Oxygen_c --> S_CO2_c + S_H2O_c + S_Myricetin_c + S_Succinate_c S_2_45_Oxoglutarate_c + S_Dihydromyricetin_c + S_Oxygen_c --> S_CO2_c + S_H2O_c + S_Myricetin_c + S_Succinate_c\n",
      "R07996_c: S_2_45_Oxoglutarate_c + S_Liquiritigenin_c + S_Oxygen_c --> S_CO2_c + S_Garbanzol_c + S_Succinate_c S_2_45_Oxoglutarate_c + S_Liquiritigenin_c + S_Oxygen_c --> S_CO2_c + S_Garbanzol_c + S_Succinate_c\n",
      "R07987_c: S_Cinnamoyl_45_CoA_c + 3.0 S_Malonyl_45_CoA_c --> 3.0 S_CO2_c + 4.0 S_CoA_c + S_Pinocembrin_32_chalcone_c S_Cinnamoyl_45_CoA_c + 3.0 S_Malonyl_45_CoA_c --> 3.0 S_CO2_c + 4.0 S_CoA_c + S_Pinocembrin_32_chalcone_c\n",
      "R04223_c: S_H2O_c + S__40_Z_41__45_5_45_Oxohex_45_2_45_enedioate_c --> S_4_45_Hydroxy_45_2_45_oxopentanoate_c + S_CO2_c S_H2O_c + S__40_Z_41__45_5_45_Oxohex_45_2_45_enedioate_c --> S_4_45_Hydroxy_45_2_45_oxopentanoate_c + S_CO2_c\n",
      "R01728_c: S_NAD_43__c + S_Prephenate_c --> S_3_45__40_4_45_Hydroxyphenyl_41_pyruvate_c + S_CO2_c + S_H_43__c + S_NADH_c S_NAD_43__c + S_Prephenate_c --> S_3_45__40_4_45_Hydroxyphenyl_41_pyruvate_c + S_CO2_c + S_H_43__c + S_NADH_c\n",
      "R06540_c: S_2_45_Oxoglutarate_c + S_Oxygen_c + S_cis_45_3_44_4_45_Leucopelargonidin_c --> S_CO2_c + S_Dihydrokaempferol_c + S_H2O_c + S_Succinate_c S_2_45_Oxoglutarate_c + S_Oxygen_c + S_cis_45_3_44_4_45_Leucopelargonidin_c --> S_CO2_c + S_Dihydrokaempferol_c + S_H2O_c + S_Succinate_c\n",
      "R04225_c: S_3_45_Methyl_45_2_45_oxopentanoate_c + S_Lipoamide_c --> S_CO2_c + S_S_45__40_2_45_Methylbutanoyl_41__45_dihydrolipoamide_c S_3_45_Methyl_45_2_45_oxopentanoate_c + S_Lipoamide_c --> S_CO2_c + S_S_45__40_2_45_Methylbutanoyl_41__45_dihydrolipoamide_c\n",
      "R06605_c: S_5_45_Hydroxy_45_2_45_oxo_45_4_45_ureido_45_2_44_5_45_dihydro_45_1H_45_imidazole_45_5_45_carboxylate_c + S_H_43__c --> S_CO2_c + S__40_R_41(45)45_Allantoin_c S_5_45_Hydroxy_45_2_45_oxo_45_4_45_ureido_45_2_44_5_45_dihydro_45_1H_45_imidazole_45_5_45_carboxylate_c + S_H_43__c --> S_CO2_c + S__40_R_41(45)45_Allantoin_c\n",
      "R00149_c: 2.0 S_ATP_c + S_CO2_c + S_H2O_c + S_NH3_c <=> 2.0 S_ADP_c + S_Carbamoyl_32_phosphate_c + S_Orthophosphate_c 2.0 S_ATP_c + S_CO2_c + S_H2O_c + S_NH3_c <=> 2.0 S_ADP_c + S_Carbamoyl_32_phosphate_c + S_Orthophosphate_c\n",
      "R02444_c: S_2_45_Oxoglutarate_c + S_Naringenin_c + S_Oxygen_c --> S_CO2_c + S_Dihydrokaempferol_c + S_Succinate_c S_2_45_Oxoglutarate_c + S_Naringenin_c + S_Oxygen_c --> S_CO2_c + S_Dihydrokaempferol_c + S_Succinate_c\n",
      "R00994_c: S_2_45_Oxobutanoate_c + S_CO2_c + S_H_43__c + S_NADH_c <=> S_D_45_erythro_45_3_45_Methylmalate_c + S_NAD_43__c S_2_45_Oxobutanoate_c + S_CO2_c + S_H_43__c + S_NADH_c <=> S_D_45_erythro_45_3_45_Methylmalate_c + S_NAD_43__c\n",
      "R01384_c: S_UDP_45_glucuronate_c --> S_CO2_c + S_UDP_45_D_45_xylose_c S_UDP_45_glucuronate_c --> S_CO2_c + S_UDP_45_D_45_xylose_c\n",
      "R04209_c: S_1_45__40_5_45_Phospho_45_D_45_ribosyl_41__45_5_45_amino_45_4_45_imidazolecarboxylate_c <=> S_Aminoimidazole_32_ribotide_c + S_CO2_c S_1_45__40_5_45_Phospho_45_D_45_ribosyl_41__45_5_45_amino_45_4_45_imidazolecarboxylate_c <=> S_Aminoimidazole_32_ribotide_c + S_CO2_c\n",
      "R01682_c: S_L_45_Cysteate_c --> S_CO2_c + S_Taurine_c S_L_45_Cysteate_c --> S_CO2_c + S_Taurine_c\n",
      "R00345_c: S_Orthophosphate_c + S_Oxaloacetate_c <=> S_CO2_c + S_H2O_c + S_Phosphoenolpyruvate_c S_Orthophosphate_c + S_Oxaloacetate_c <=> S_CO2_c + S_H2O_c + S_Phosphoenolpyruvate_c\n",
      "R05036_c: S_2_45_Oxoglutarate_c + S_Leucocyanidin_c + S_Oxygen_c --> S_CO2_c + S_Cyanidin_c + 2.0 S_H2O_c + S_Succinate_c S_2_45_Oxoglutarate_c + S_Leucocyanidin_c + S_Oxygen_c --> S_CO2_c + S_Cyanidin_c + 2.0 S_H2O_c + S_Succinate_c\n",
      "R06336_c: S_2_45_Oxoglutarate_c + S_Gibberellin_32_A9_c + S_Oxygen_c --> S_CO2_c + S_Gibberellin_32_A4_c + S_Succinate_c S_2_45_Oxoglutarate_c + S_Gibberellin_32_A9_c + S_Oxygen_c --> S_CO2_c + S_Gibberellin_32_A4_c + S_Succinate_c\n",
      "R03640_c: S_2_45_Oxoglutarate_c + S_Eriodictyol_c + S_Oxygen_c --> S_CO2_c + S_Succinate_c + S_Taxifolin_c S_2_45_Oxoglutarate_c + S_Eriodictyol_c + S_Oxygen_c --> S_CO2_c + S_Succinate_c + S_Taxifolin_c\n",
      "R01702_c: S_4_45_Methyl_45_2_45_oxopentanoate_c + S_Lipoamide_c --> S_CO2_c + S_S_45__40_3_45_Methylbutanoyl_41__45_dihydrolipoamide_c S_4_45_Methyl_45_2_45_oxopentanoate_c + S_Lipoamide_c --> S_CO2_c + S_S_45__40_3_45_Methylbutanoyl_41__45_dihydrolipoamide_c\n",
      "R06860_c: S_2_45_Oxoglutarate_c + S_Isochorismate_c --> S_2_45_Succinyl_45_6_45_hydroxy_45_2_44_4_45_cyclohexadiene_45_1_45_carboxylate_c + S_CO2_c + S_Pyruvate_c S_2_45_Oxoglutarate_c + S_Isochorismate_c --> S_2_45_Succinyl_45_6_45_hydroxy_45_2_44_4_45_cyclohexadiene_45_1_45_carboxylate_c + S_CO2_c + S_Pyruvate_c\n",
      "R01221_c: S_Glycine_c + S_NAD_43__c + S_Tetrahydrofolate_c <=> S_5_44_10_45_Methylenetetrahydrofolate_c + S_CO2_c + S_H_43__c + S_NADH_c + S_NH3_c S_Glycine_c + S_NAD_43__c + S_Tetrahydrofolate_c <=> S_5_44_10_45_Methylenetetrahydrofolate_c + S_CO2_c + S_H_43__c + S_NADH_c + S_NH3_c\n",
      "R08165_c: S_2_45_Oxoglutarate_c + S_Isochorismate_c --> S_2_45_Succinyl_45_5_45_enolpyruvyl_45_6_45_hydroxy_45_3_45_cyclohexene_45_1_45_carboxylate_c + S_CO2_c S_2_45_Oxoglutarate_c + S_Isochorismate_c --> S_2_45_Succinyl_45_5_45_enolpyruvyl_45_6_45_hydroxy_45_3_45_cyclohexene_45_1_45_carboxylate_c + S_CO2_c\n",
      "R03508_c: S_1_45__40_2_45_Carboxyphenylamino_41__45_1_39__45_deoxy_45_D_45_ribulose_32_5_39__45_phosphate_c --> S_CO2_c + S_H2O_c + S_Indoleglycerol_32_phosphate_c S_1_45__40_2_45_Carboxyphenylamino_41__45_1_39__45_deoxy_45_D_45_ribulose_32_5_39__45_phosphate_c --> S_CO2_c + S_H2O_c + S_Indoleglycerol_32_phosphate_c\n",
      "R02518_c: S_Homogentisate_c + S_NADPH_c + S_Oxygen_c --> S_CO2_c + S_Gentisate_32_aldehyde_c + S_H2O_c + S_H_43__c + S_NADP_43__c S_Homogentisate_c + S_NADPH_c + S_Oxygen_c --> S_CO2_c + S_Gentisate_32_aldehyde_c + S_H2O_c + S_H_43__c + S_NADP_43__c\n",
      "R01701_c: S_3_45_Methyl_45_2_45_oxobutanoic_32_acid_c + S_Lipoamide_c --> S_CO2_c + S_S_45__40_2_45_Methylpropanoyl_41__45_dihydrolipoamide_c S_3_45_Methyl_45_2_45_oxobutanoic_32_acid_c + S_Lipoamide_c --> S_CO2_c + S_S_45__40_2_45_Methylpropanoyl_41__45_dihydrolipoamide_c\n",
      "R00233_c: S_Malonyl_45_CoA_c --> S_Acetyl_45_CoA_c + S_CO2_c S_Malonyl_45_CoA_c --> S_Acetyl_45_CoA_c + S_CO2_c\n",
      "R01281_c: S_L_45_Serine_c + S_Palmitoyl_45_CoA_c --> S_3_45_Dehydrosphinganine_c + S_CO2_c + S_CoA_c S_L_45_Serine_c + S_Palmitoyl_45_CoA_c --> S_3_45_Dehydrosphinganine_c + S_CO2_c + S_CoA_c\n",
      "R03806_c: S_2_45_Oxoglutarate_c + S_Gibberellin_32_A44_32_diacid_c + S_Oxygen_c --> S_CO2_c + S_Gibberellin_32_A19_c + S_H2O_c + S_Succinate_c S_2_45_Oxoglutarate_c + S_Gibberellin_32_A44_32_diacid_c + S_Oxygen_c --> S_CO2_c + S_Gibberellin_32_A19_c + S_H2O_c + S_Succinate_c\n",
      "R04968_c: S_Malonyl_45__91_acyl_45_carrier_32_protein_93__c + S_Tetradecanoyl_45__91_acp_93__c --> S_3_45_Oxohexadecanoyl_45__91_acp_93__c + S_Acyl_45_carrier_32_protein_c_b + S_CO2_c S_Malonyl_45__91_acyl_45_carrier_32_protein_93__c + S_Tetradecanoyl_45__91_acp_93__c --> S_3_45_Oxohexadecanoyl_45__91_acp_93__c + S_Acyl_45_carrier_32_protein_c_b + S_CO2_c\n",
      "R05376_c: S_Bis_40_4_39__45_chlorophenyl_41_acetate_c --> S_Bis_40_4_39__45_chlorophenyl_41_methane_c + S_CO2_c S_Bis_40_4_39__45_chlorophenyl_41_acetate_c --> S_Bis_40_4_39__45_chlorophenyl_41_methane_c + S_CO2_c\n",
      "R06337_c: S_2_45_Oxoglutarate_c + S_Gibberellin_32_A9_c + S_Oxygen_c --> S_CO2_c + S_Gibberellin_32_A51_c + S_Succinate_c S_2_45_Oxoglutarate_c + S_Gibberellin_32_A9_c + S_Oxygen_c --> S_CO2_c + S_Gibberellin_32_A51_c + S_Succinate_c\n",
      "R07981_c: S_1_44_3_44_7_45_Trimethyluric_32_acid_c + 2.0 S_H2O_c + S_Oxygen_c --> S_3_44_6_44_8_45_Trimethylallantoin_c + S_CO2_c + S_H2O2_c S_1_44_3_44_7_45_Trimethyluric_32_acid_c + 2.0 S_H2O_c + S_Oxygen_c --> S_3_44_6_44_8_45_Trimethylallantoin_c + S_CO2_c + S_H2O2_c\n",
      "R07997_c: S_2_45_Oxoglutarate_c + S_Butin_c + S_Oxygen_c --> S_CO2_c + S_Fustin_c + S_Succinate_c S_2_45_Oxoglutarate_c + S_Butin_c + S_Oxygen_c --> S_CO2_c + S_Fustin_c + S_Succinate_c\n",
      "R01372_c: S_Oxygen_c + S_Phenylpyruvate_c --> S_2_45_Hydroxyphenylacetate_c + S_CO2_c S_Oxygen_c + S_Phenylpyruvate_c --> S_2_45_Hydroxyphenylacetate_c + S_CO2_c\n",
      "R01167_c: S_L_45_Histidine_c --> S_1H_45_Imidazole_45_4_45_ethanamine_c + S_CO2_c S_L_45_Histidine_c --> S_1H_45_Imidazole_45_4_45_ethanamine_c + S_CO2_c\n",
      "R00047_c: 2.0 S_6_45_Hydroxynicotinate_c + S_Oxygen_c --> 2.0 S_2_44_5_45_Dihydroxypyridine_c + 2.0 S_CO2_c 2.0 S_6_45_Hydroxynicotinate_c + S_Oxygen_c --> 2.0 S_2_44_5_45_Dihydroxypyridine_c + 2.0 S_CO2_c\n",
      "R00489_c: S_L_45_Aspartate_c --> S_CO2_c + S_beta_45_Alanine_c S_L_45_Aspartate_c --> S_CO2_c + S_beta_45_Alanine_c\n",
      "R03674_c: S_L_45_Dopachrome_c --> S_5_44_6_45_Dihydroxyindole_c + S_CO2_c S_L_45_Dopachrome_c --> S_5_44_6_45_Dihydroxyindole_c + S_CO2_c\n",
      "R05723_c: S_2_45_Oxoglutarate_c + S_Leucocyanidin_c + S_Oxygen_c --> S_CO2_c + S_H2O_c + S_Succinate_c + S_Taxifolin_c S_2_45_Oxoglutarate_c + S_Leucocyanidin_c + S_Oxygen_c --> S_CO2_c + S_H2O_c + S_Succinate_c + S_Taxifolin_c\n",
      "R04963_c: S_Decanoyl_45__91_acp_93__c + S_Malonyl_45__91_acyl_45_carrier_32_protein_93__c --> S_3_45_Oxododecanoyl_45__91_acp_93__c + S_Acyl_45_carrier_32_protein_c_b + S_CO2_c S_Decanoyl_45__91_acp_93__c + S_Malonyl_45__91_acyl_45_carrier_32_protein_93__c --> S_3_45_Oxododecanoyl_45__91_acp_93__c + S_Acyl_45_carrier_32_protein_c_b + S_CO2_c\n",
      "R05039_c: S_2_45_Oxoglutarate_c + S_Oxygen_c + S_Pentahydroxyflavanone_c --> S_CO2_c + S_Dihydromyricetin_c + S_Succinate_c S_2_45_Oxoglutarate_c + S_Oxygen_c + S_Pentahydroxyflavanone_c --> S_CO2_c + S_Dihydromyricetin_c + S_Succinate_c\n",
      "R00965_c: S_Orotidine_32_5_39__45_phosphate_c --> S_CO2_c + S_UMP_c S_Orotidine_32_5_39__45_phosphate_c --> S_CO2_c + S_UMP_c\n",
      "R03220_c: S_Coproporphyrinogen_32_III_c + S_Oxygen_c --> 2.0 S_CO2_c + 2.0 S_H2O_c + S_Protoporphyrinogen_32_IX_c S_Coproporphyrinogen_32_III_c + S_Oxygen_c --> 2.0 S_CO2_c + 2.0 S_H2O_c + S_Protoporphyrinogen_32_IX_c\n",
      "R00178_c: S_S_45_Adenosyl_45_L_45_methionine_c --> S_CO2_c + S_S_45_Adenosylmethioninamine_c S_S_45_Adenosyl_45_L_45_methionine_c --> S_CO2_c + S_S_45_Adenosylmethioninamine_c\n",
      "R05037_c: S_2_45_Oxoglutarate_c + S_Leucodelphinidin_c + S_Oxygen_c --> S_CO2_c + S_Delphinidin_c + 2.0 S_H2O_c + S_Succinate_c S_2_45_Oxoglutarate_c + S_Leucodelphinidin_c + S_Oxygen_c --> S_CO2_c + S_Delphinidin_c + 2.0 S_H2O_c + S_Succinate_c\n",
      "R03341_c: S_3_45__40_4_45_Hydroxyphenyl_41_pyruvate_c --> S_4_45_Hydroxyphenylacetaldehyde_c + S_CO2_c S_3_45__40_4_45_Hydroxyphenyl_41_pyruvate_c --> S_4_45_Hydroxyphenylacetaldehyde_c + S_CO2_c\n",
      "R00935_c: S_CoA_c + S_NAD_43__c + S__40_S_41__45_Methylmalonate_32_semialdehyde_c --> S_CO2_c + S_H_43__c + S_NADH_c + S_Propanoyl_45_CoA_c S_CoA_c + S_NAD_43__c + S__40_S_41__45_Methylmalonate_32_semialdehyde_c --> S_CO2_c + S_H_43__c + S_NADH_c + S_Propanoyl_45_CoA_c\n",
      "R03546_c: S_Cyanate_c + S_HCO3_45__c + S_H_43__c <=> S_CO2_c + S_Carbamate_c S_Cyanate_c + S_HCO3_45__c + S_H_43__c <=> S_CO2_c + S_Carbamate_c\n",
      "R06338_c: S_2_45_Oxoglutarate_c + S_Gibberellin_32_A4_c + S_Oxygen_c --> S_CO2_c + S_Gibberellin_32_A34_c + S_Succinate_c S_2_45_Oxoglutarate_c + S_Gibberellin_32_A4_c + S_Oxygen_c --> S_CO2_c + S_Gibberellin_32_A34_c + S_Succinate_c\n",
      "R03807_c: S_Gibberellin_32_A19_c --> S_CO2_c + S_Gibberellin_32_A20_c S_Gibberellin_32_A19_c --> S_CO2_c + S_Gibberellin_32_A20_c\n",
      "R04666_c: S_3_45_Ureidoisobutyrate_c + S_H2O_c --> S_3_45_Aminoisobutanoate_c + S_CO2_c + S_NH3_c S_3_45_Ureidoisobutyrate_c + S_H2O_c --> S_3_45_Aminoisobutanoate_c + S_CO2_c + S_NH3_c\n",
      "R06925_c: S_2_45_Hydroxyisophthalic_32_acid_c --> S_CO2_c + S_Salicylate_c S_2_45_Hydroxyisophthalic_32_acid_c --> S_CO2_c + S_Salicylate_c\n",
      "R07599_c: S_3_45_Methyl_45_2_45_oxobutanoic_32_acid_c + S_Thiamin_32_diphosphate_c --> S_2_45_Methyl_45_1_45_hydroxypropyl_45_ThPP_c + S_CO2_c S_3_45_Methyl_45_2_45_oxobutanoic_32_acid_c + S_Thiamin_32_diphosphate_c --> S_2_45_Methyl_45_1_45_hydroxypropyl_45_ThPP_c + S_CO2_c\n",
      "R01933_c: S_2_45_Oxoadipate_c + S_CoA_c + S_NAD_43__c --> S_CO2_c + S_Glutaryl_45_CoA_c + S_H_43__c + S_NADH_c S_2_45_Oxoadipate_c + S_CoA_c + S_NAD_43__c --> S_CO2_c + S_Glutaryl_45_CoA_c + S_H_43__c + S_NADH_c\n",
      "R00341_c: S_ATP_c + S_Oxaloacetate_c --> S_ADP_c + S_CO2_c + S_Phosphoenolpyruvate_c S_ATP_c + S_Oxaloacetate_c --> S_ADP_c + S_CO2_c + S_Phosphoenolpyruvate_c\n",
      "EX_S_CO2_ext_b: S_CO2_ext_b <=>  S_CO2_ext_b <=> \n",
      "Ex1: S_CO2_ext_b --> S_CO2_c S_CO2_ext_b --> S_CO2_c\n",
      "R01221_m: S_Glycine_m + S_NAD_43__m + S_Tetrahydrofolate_m --> S_5_44_10_45_Methylenetetrahydrofolate_m + S_CO2_m + S_H_43__m + S_NADH_m + S_NH3_m S_Glycine_m + S_NAD_43__m + S_Tetrahydrofolate_m --> S_5_44_10_45_Methylenetetrahydrofolate_m + S_CO2_m + S_H_43__m + S_NADH_m + S_NH3_m\n",
      "R03425_m: S_Glycine_m + S_Lipoylprotein_m --> S_CO2_m + S_S_45_Aminomethyldihydrolipoylprotein_m S_Glycine_m + S_Lipoylprotein_m --> S_CO2_m + S_S_45_Aminomethyldihydrolipoylprotein_m\n",
      "TCM17: S_CO2_c <=> S_CO2_m S_CO2_c <=> S_CO2_m\n",
      "R01197_m: S_CO2_m + S_Reduced_32_ferredoxin_m + S_Succinyl_45_CoA_m --> S_2_45_Oxoglutarate_m + S_CoA_m + S_Oxidized_32_ferredoxin_m S_CO2_m + S_Reduced_32_ferredoxin_m + S_Succinyl_45_CoA_m --> S_2_45_Oxoglutarate_m + S_CoA_m + S_Oxidized_32_ferredoxin_m\n",
      "R00709_m: S_Isocitrate_m + S_NAD_43__m <=> S_2_45_Oxoglutarate_m + S_CO2_m + S_H_43__m + S_NADH_m S_Isocitrate_m + S_NAD_43__m <=> S_2_45_Oxoglutarate_m + S_CO2_m + S_H_43__m + S_NADH_m\n",
      "R00267_m: S_Isocitrate_m + S_NADP_43__m <=> S_2_45_Oxoglutarate_m + S_CO2_m + S_H_43__m + S_NADPH_m S_Isocitrate_m + S_NADP_43__m <=> S_2_45_Oxoglutarate_m + S_CO2_m + S_H_43__m + S_NADPH_m\n",
      "R00132N_m: S_CO2_m + S_H2O_m --> S_HCO3_45__m + S_H_43__m S_CO2_m + S_H2O_m --> S_HCO3_45__m + S_H_43__m\n",
      "R00209_m: S_CoA_m + S_NAD_43__m + S_Pyruvate_m --> S_Acetyl_45_CoA_m + S_CO2_m + S_NADH_m S_CoA_m + S_NAD_43__m + S_Pyruvate_m --> S_Acetyl_45_CoA_m + S_CO2_m + S_NADH_m\n",
      "R00621_m: S_2_45_Oxoglutarate_m + S_Thiamin_32_diphosphate_m --> S_3_45_Carboxy_45_1_45_hydroxypropyl_45_ThPP_m + S_CO2_m S_2_45_Oxoglutarate_m + S_Thiamin_32_diphosphate_m --> S_3_45_Carboxy_45_1_45_hydroxypropyl_45_ThPP_m + S_CO2_m\n",
      "R04960_p: S_Malonyl_45__91_acyl_45_carrier_32_protein_93__p + S_Octanoyl_45__91_acp_93__p --> S_3_45_Oxodecanoyl_45__91_acp_93__p + S_Acyl_45_carrier_32_protein_p_b + S_CO2_p S_Malonyl_45__91_acyl_45_carrier_32_protein_93__p + S_Octanoyl_45__91_acp_93__p --> S_3_45_Oxodecanoyl_45__91_acp_93__p + S_Acyl_45_carrier_32_protein_p_b + S_CO2_p\n",
      "R04952_p: S_Butyryl_45__91_acp_93__p + S_Malonyl_45__91_acyl_45_carrier_32_protein_93__p --> S_3_45_Oxohexanoyl_45__91_acp_93__p + S_Acyl_45_carrier_32_protein_p_b + S_CO2_p S_Butyryl_45__91_acp_93__p + S_Malonyl_45__91_acyl_45_carrier_32_protein_93__p --> S_3_45_Oxohexanoyl_45__91_acp_93__p + S_Acyl_45_carrier_32_protein_p_b + S_CO2_p\n",
      "R00132N_p: S_CO2_p + S_H2O_p --> S_HCO3_45__p + S_H_43__p S_CO2_p + S_H2O_p --> S_HCO3_45__p + S_H_43__p\n",
      "R01528_p: S_6_45_Phospho_45_D_45_gluconate_p + S_NADP_43__p --> S_CO2_p + S_D_45_Ribulose_32_5_45_phosphate_p + S_H_43__p + S_NADPH_p S_6_45_Phospho_45_D_45_gluconate_p + S_NADP_43__p --> S_CO2_p + S_D_45_Ribulose_32_5_45_phosphate_p + S_H_43__p + S_NADPH_p\n",
      "R00216_p: S_NADP_43__p + S__40_S_41__45_Malate_p --> S_CO2_p + S_NADPH_p + S_Pyruvate_p S_NADP_43__p + S__40_S_41__45_Malate_p --> S_CO2_p + S_NADPH_p + S_Pyruvate_p\n",
      "TCP2: S_CO2_c <=> S_CO2_p S_CO2_c <=> S_CO2_p\n",
      "R04726_p: S_Dodecanoyl_45__91_acyl_45_carrier_32_protein_93__p + S_Malonyl_45__91_acyl_45_carrier_32_protein_93__p --> S_3_45_Oxotetradecanoyl_45__91_acp_93__p + S_Acyl_45_carrier_32_protein_p_b + S_CO2_p S_Dodecanoyl_45__91_acyl_45_carrier_32_protein_93__p + S_Malonyl_45__91_acyl_45_carrier_32_protein_93__p --> S_3_45_Oxotetradecanoyl_45__91_acp_93__p + S_Acyl_45_carrier_32_protein_p_b + S_CO2_p\n",
      "R04957_p: S_Hexanoyl_45__91_acp_93__p + S_Malonyl_45__91_acyl_45_carrier_32_protein_93__p --> S_3_45_Oxooctanoyl_45__91_acp_93__p + S_Acyl_45_carrier_32_protein_p_b + S_CO2_p S_Hexanoyl_45__91_acp_93__p + S_Malonyl_45__91_acyl_45_carrier_32_protein_93__p --> S_3_45_Oxooctanoyl_45__91_acp_93__p + S_Acyl_45_carrier_32_protein_p_b + S_CO2_p\n",
      "R04963_p: S_Decanoyl_45__91_acp_93__p + S_Malonyl_45__91_acyl_45_carrier_32_protein_93__p --> S_3_45_Oxododecanoyl_45__91_acp_93__p + S_Acyl_45_carrier_32_protein_p_b + S_CO2_p S_Decanoyl_45__91_acp_93__p + S_Malonyl_45__91_acyl_45_carrier_32_protein_93__p --> S_3_45_Oxododecanoyl_45__91_acp_93__p + S_Acyl_45_carrier_32_protein_p_b + S_CO2_p\n",
      "R04968_p: S_Malonyl_45__91_acyl_45_carrier_32_protein_93__p + S_Tetradecanoyl_45__91_acp_93__p --> S_3_45_Oxohexadecanoyl_45__91_acp_93__p + S_Acyl_45_carrier_32_protein_p_b + S_CO2_p S_Malonyl_45__91_acyl_45_carrier_32_protein_93__p + S_Tetradecanoyl_45__91_acp_93__p --> S_3_45_Oxohexadecanoyl_45__91_acp_93__p + S_Acyl_45_carrier_32_protein_p_b + S_CO2_p\n",
      "R04355_p: S_Acetyl_45__91_acyl_45_carrier_32_protein_93__p + S_Malonyl_45__91_acyl_45_carrier_32_protein_93__p --> S_Acetoacetyl_45__91_acp_93__p + S_Acyl_45_carrier_32_protein_p_b + S_CO2_p S_Acetyl_45__91_acyl_45_carrier_32_protein_93__p + S_Malonyl_45__91_acyl_45_carrier_32_protein_93__p --> S_Acetoacetyl_45__91_acp_93__p + S_Acyl_45_carrier_32_protein_p_b + S_CO2_p\n",
      "R00209_p: S_CoA_p + S_NAD_43__p + S_Pyruvate_p --> S_Acetyl_45_CoA_p + S_CO2_p + S_NADH_p S_CoA_p + S_NAD_43__p + S_Pyruvate_p --> S_Acetyl_45_CoA_p + S_CO2_p + S_NADH_p\n",
      "R00149_p: 2.0 S_ATP_p + S_CO2_p + S_H2O_p + S_NH3_p --> 2.0 S_ADP_p + S_Carbamoyl_32_phosphate_p + S_Orthophosphate_p 2.0 S_ATP_p + S_CO2_p + S_H2O_p + S_NH3_p --> 2.0 S_ADP_p + S_Carbamoyl_32_phosphate_p + S_Orthophosphate_p\n",
      "R00024_p: S_CO2_p + S_D_45_Ribulose_32_1_44_5_45_bisphosphate_p + S_H2O_p --> 2.0 S_3_45_Phospho_45_D_45_glycerate_p S_CO2_p + S_D_45_Ribulose_32_1_44_5_45_bisphosphate_p + S_H2O_p --> 2.0 S_3_45_Phospho_45_D_45_glycerate_p\n",
      "R00519_x: S_Formate_x + S_NAD_43__x <=> S_CO2_x + S_H_43__x + S_NADH_x S_Formate_x + S_NAD_43__x <=> S_CO2_x + S_H_43__x + S_NADH_x\n"
     ]
    }
   ],
   "source": [
    "for i in araModel.metabolites:\n",
    "    if \"S_CO2\" in i.id:\n",
    "        for j in i.reactions:\n",
    "            print(j,j.reaction)\n",
    "    "
   ]
  },
  {
   "cell_type": "code",
   "execution_count": 11,
   "metadata": {},
   "outputs": [
    {
     "data": {
      "text/html": [
       "\n",
       "        <table>\n",
       "            <tr>\n",
       "                <td><strong>Reaction identifier</strong></td><td>EX_S_CO2_ext_b</td>\n",
       "            </tr><tr>\n",
       "                <td><strong>Name</strong></td><td>EX_S_CO2_ext_b</td>\n",
       "            </tr><tr>\n",
       "                <td><strong>Memory address</strong></td>\n",
       "                <td>0x1e145ac8580</td>\n",
       "            </tr><tr>\n",
       "                <td><strong>Stoichiometry</strong></td>\n",
       "                <td>\n",
       "                    <p style='text-align:right'>S_CO2_ext_b <=></p>\n",
       "                    <p style='text-align:right'>CO2_ext <=></p>\n",
       "                </td>\n",
       "            </tr><tr>\n",
       "                <td><strong>GPR</strong></td><td></td>\n",
       "            </tr><tr>\n",
       "                <td><strong>Lower bound</strong></td><td>-1000.0</td>\n",
       "            </tr><tr>\n",
       "                <td><strong>Upper bound</strong></td><td>1000.0</td>\n",
       "            </tr>\n",
       "        </table>\n",
       "        "
      ],
      "text/plain": [
       "<Reaction EX_S_CO2_ext_b at 0x1e145ac8580>"
      ]
     },
     "execution_count": 11,
     "metadata": {},
     "output_type": "execute_result"
    }
   ],
   "source": [
    "araModel.reactions.get_by_id('EX_S_CO2_ext_b')"
   ]
  },
  {
   "cell_type": "code",
   "execution_count": 16,
   "metadata": {},
   "outputs": [
    {
     "data": {
      "text/plain": [
       "0.11"
      ]
     },
     "execution_count": 16,
     "metadata": {},
     "output_type": "execute_result"
    }
   ],
   "source": [
    "araModel.optimize().objective_value"
   ]
  },
  {
   "cell_type": "code",
   "execution_count": 7,
   "metadata": {},
   "outputs": [],
   "source": [
    "resultFVA=flux_variability_analysis(araModel)\n"
   ]
  },
  {
   "cell_type": "code",
   "execution_count": 8,
   "metadata": {},
   "outputs": [
    {
     "data": {
      "text/html": [
       "<div>\n",
       "<style scoped>\n",
       "    .dataframe tbody tr th:only-of-type {\n",
       "        vertical-align: middle;\n",
       "    }\n",
       "\n",
       "    .dataframe tbody tr th {\n",
       "        vertical-align: top;\n",
       "    }\n",
       "\n",
       "    .dataframe thead th {\n",
       "        text-align: right;\n",
       "    }\n",
       "</style>\n",
       "<table border=\"1\" class=\"dataframe\">\n",
       "  <thead>\n",
       "    <tr style=\"text-align: right;\">\n",
       "      <th></th>\n",
       "      <th>minimum</th>\n",
       "      <th>maximum</th>\n",
       "    </tr>\n",
       "  </thead>\n",
       "  <tbody>\n",
       "    <tr>\n",
       "      <th>EX_S_5_45_Amino_45_6_45__40_1_45_D_45_ribitylamino_41_uracil_c_b</th>\n",
       "      <td>-1.528622e+02</td>\n",
       "      <td>-7.409687e-17</td>\n",
       "    </tr>\n",
       "    <tr>\n",
       "      <th>EX_S_6_45_Carboxyhexanoate_c_b</th>\n",
       "      <td>0.000000e+00</td>\n",
       "      <td>0.000000e+00</td>\n",
       "    </tr>\n",
       "    <tr>\n",
       "      <th>EX_S_Acyl_45_carrier_32_protein_c_b</th>\n",
       "      <td>0.000000e+00</td>\n",
       "      <td>0.000000e+00</td>\n",
       "    </tr>\n",
       "    <tr>\n",
       "      <th>EX_S_Acyl_45_carrier_32_protein_p_b</th>\n",
       "      <td>1.727233e-14</td>\n",
       "      <td>1.054220e-18</td>\n",
       "    </tr>\n",
       "    <tr>\n",
       "      <th>EX_S_Biomass_biomass_b</th>\n",
       "      <td>1.100000e-01</td>\n",
       "      <td>1.100000e-01</td>\n",
       "    </tr>\n",
       "    <tr>\n",
       "      <th>...</th>\n",
       "      <td>...</td>\n",
       "      <td>...</td>\n",
       "    </tr>\n",
       "    <tr>\n",
       "      <th>R06601_c</th>\n",
       "      <td>0.000000e+00</td>\n",
       "      <td>0.000000e+00</td>\n",
       "    </tr>\n",
       "    <tr>\n",
       "      <th>R06605_c</th>\n",
       "      <td>0.000000e+00</td>\n",
       "      <td>0.000000e+00</td>\n",
       "    </tr>\n",
       "    <tr>\n",
       "      <th>R04457_c</th>\n",
       "      <td>-1.503977e-14</td>\n",
       "      <td>3.057243e+02</td>\n",
       "    </tr>\n",
       "    <tr>\n",
       "      <th>R03066_c</th>\n",
       "      <td>0.000000e+00</td>\n",
       "      <td>1.000000e+03</td>\n",
       "    </tr>\n",
       "    <tr>\n",
       "      <th>R03165_c</th>\n",
       "      <td>0.000000e+00</td>\n",
       "      <td>0.000000e+00</td>\n",
       "    </tr>\n",
       "  </tbody>\n",
       "</table>\n",
       "<p>1633 rows × 2 columns</p>\n",
       "</div>"
      ],
      "text/plain": [
       "                                                         minimum       maximum\n",
       "EX_S_5_45_Amino_45_6_45__40_1_45_D_45_ribitylam... -1.528622e+02 -7.409687e-17\n",
       "EX_S_6_45_Carboxyhexanoate_c_b                      0.000000e+00  0.000000e+00\n",
       "EX_S_Acyl_45_carrier_32_protein_c_b                 0.000000e+00  0.000000e+00\n",
       "EX_S_Acyl_45_carrier_32_protein_p_b                 1.727233e-14  1.054220e-18\n",
       "EX_S_Biomass_biomass_b                              1.100000e-01  1.100000e-01\n",
       "...                                                          ...           ...\n",
       "R06601_c                                            0.000000e+00  0.000000e+00\n",
       "R06605_c                                            0.000000e+00  0.000000e+00\n",
       "R04457_c                                           -1.503977e-14  3.057243e+02\n",
       "R03066_c                                            0.000000e+00  1.000000e+03\n",
       "R03165_c                                            0.000000e+00  0.000000e+00\n",
       "\n",
       "[1633 rows x 2 columns]"
      ]
     },
     "execution_count": 8,
     "metadata": {},
     "output_type": "execute_result"
    }
   ],
   "source": [
    "resultFVA"
   ]
  },
  {
   "cell_type": "code",
   "execution_count": 9,
   "metadata": {},
   "outputs": [],
   "source": [
    "from cobra.flux_analysis import single_reaction_deletion\n",
    "res=single_reaction_deletion(araModel)"
   ]
  },
  {
   "cell_type": "code",
   "execution_count": 10,
   "metadata": {},
   "outputs": [
    {
     "data": {
      "text/html": [
       "<div>\n",
       "<style scoped>\n",
       "    .dataframe tbody tr th:only-of-type {\n",
       "        vertical-align: middle;\n",
       "    }\n",
       "\n",
       "    .dataframe tbody tr th {\n",
       "        vertical-align: top;\n",
       "    }\n",
       "\n",
       "    .dataframe thead th {\n",
       "        text-align: right;\n",
       "    }\n",
       "</style>\n",
       "<table border=\"1\" class=\"dataframe\">\n",
       "  <thead>\n",
       "    <tr style=\"text-align: right;\">\n",
       "      <th></th>\n",
       "      <th>ids</th>\n",
       "      <th>growth</th>\n",
       "      <th>status</th>\n",
       "    </tr>\n",
       "  </thead>\n",
       "  <tbody>\n",
       "    <tr>\n",
       "      <th>0</th>\n",
       "      <td>{Bc37}</td>\n",
       "      <td>0.11</td>\n",
       "      <td>optimal</td>\n",
       "    </tr>\n",
       "    <tr>\n",
       "      <th>1</th>\n",
       "      <td>{Bc15}</td>\n",
       "      <td>NaN</td>\n",
       "      <td>infeasible</td>\n",
       "    </tr>\n",
       "    <tr>\n",
       "      <th>2</th>\n",
       "      <td>{R07034_c}</td>\n",
       "      <td>0.11</td>\n",
       "      <td>optimal</td>\n",
       "    </tr>\n",
       "    <tr>\n",
       "      <th>3</th>\n",
       "      <td>{R03990N_x}</td>\n",
       "      <td>0.11</td>\n",
       "      <td>optimal</td>\n",
       "    </tr>\n",
       "    <tr>\n",
       "      <th>4</th>\n",
       "      <td>{R00848_c}</td>\n",
       "      <td>0.11</td>\n",
       "      <td>optimal</td>\n",
       "    </tr>\n",
       "    <tr>\n",
       "      <th>...</th>\n",
       "      <td>...</td>\n",
       "      <td>...</td>\n",
       "      <td>...</td>\n",
       "    </tr>\n",
       "    <tr>\n",
       "      <th>1628</th>\n",
       "      <td>{R06295_c}</td>\n",
       "      <td>0.11</td>\n",
       "      <td>optimal</td>\n",
       "    </tr>\n",
       "    <tr>\n",
       "      <th>1629</th>\n",
       "      <td>{EX_S_Chlorophyll_32_a_biomass_b}</td>\n",
       "      <td>0.11</td>\n",
       "      <td>optimal</td>\n",
       "    </tr>\n",
       "    <tr>\n",
       "      <th>1630</th>\n",
       "      <td>{R05039_c}</td>\n",
       "      <td>0.11</td>\n",
       "      <td>optimal</td>\n",
       "    </tr>\n",
       "    <tr>\n",
       "      <th>1631</th>\n",
       "      <td>{R01221_c}</td>\n",
       "      <td>0.11</td>\n",
       "      <td>optimal</td>\n",
       "    </tr>\n",
       "    <tr>\n",
       "      <th>1632</th>\n",
       "      <td>{R07091_c}</td>\n",
       "      <td>0.11</td>\n",
       "      <td>optimal</td>\n",
       "    </tr>\n",
       "  </tbody>\n",
       "</table>\n",
       "<p>1633 rows × 3 columns</p>\n",
       "</div>"
      ],
      "text/plain": [
       "                                    ids  growth      status\n",
       "0                                {Bc37}    0.11     optimal\n",
       "1                                {Bc15}     NaN  infeasible\n",
       "2                            {R07034_c}    0.11     optimal\n",
       "3                           {R03990N_x}    0.11     optimal\n",
       "4                            {R00848_c}    0.11     optimal\n",
       "...                                 ...     ...         ...\n",
       "1628                         {R06295_c}    0.11     optimal\n",
       "1629  {EX_S_Chlorophyll_32_a_biomass_b}    0.11     optimal\n",
       "1630                         {R05039_c}    0.11     optimal\n",
       "1631                         {R01221_c}    0.11     optimal\n",
       "1632                         {R07091_c}    0.11     optimal\n",
       "\n",
       "[1633 rows x 3 columns]"
      ]
     },
     "execution_count": 10,
     "metadata": {},
     "output_type": "execute_result"
    }
   ],
   "source": [
    "res"
   ]
  },
  {
   "cell_type": "code",
   "execution_count": 12,
   "metadata": {},
   "outputs": [],
   "source": [
    "araModel.objective = \"BIO_L\""
   ]
  },
  {
   "cell_type": "code",
   "execution_count": 13,
   "metadata": {},
   "outputs": [
    {
     "data": {
      "text/html": [
       "<h3>Objective</h3><p>1.0 BIO_L = 0.11</p><h4>Uptake</h4><table border=\"1\" class=\"dataframe\">\n",
       "  <thead>\n",
       "    <tr style=\"text-align: right;\">\n",
       "      <th>Metabolite</th>\n",
       "      <th>Reaction</th>\n",
       "      <th>Flux</th>\n",
       "      <th>C-Number</th>\n",
       "      <th>C-Flux</th>\n",
       "    </tr>\n",
       "  </thead>\n",
       "  <tbody>\n",
       "    <tr>\n",
       "      <td>S_H2O_ext_b</td>\n",
       "      <td>EX_S_H2O_ext_b</td>\n",
       "      <td>0.6079</td>\n",
       "      <td>0</td>\n",
       "      <td>0.00%</td>\n",
       "    </tr>\n",
       "    <tr>\n",
       "      <td>S_Hydrogen_32_sulfide_ext_b</td>\n",
       "      <td>EX_S_Hydrogen_32_sulfide_ext_b</td>\n",
       "      <td>0.00286</td>\n",
       "      <td>0</td>\n",
       "      <td>0.00%</td>\n",
       "    </tr>\n",
       "    <tr>\n",
       "      <td>S_NH3_ext_b</td>\n",
       "      <td>EX_S_NH3_ext_b</td>\n",
       "      <td>0.2138</td>\n",
       "      <td>0</td>\n",
       "      <td>0.00%</td>\n",
       "    </tr>\n",
       "    <tr>\n",
       "      <td>S_Orthophosphate_ext_b</td>\n",
       "      <td>EX_S_Orthophosphate_ext_b</td>\n",
       "      <td>0.001639</td>\n",
       "      <td>0</td>\n",
       "      <td>0.00%</td>\n",
       "    </tr>\n",
       "    <tr>\n",
       "      <td>S_hv_ext_b</td>\n",
       "      <td>EX_S_hv_ext_b</td>\n",
       "      <td>4.381</td>\n",
       "      <td>0</td>\n",
       "      <td>0.00%</td>\n",
       "    </tr>\n",
       "  </tbody>\n",
       "</table><h4>Secretion</h4><table border=\"1\" class=\"dataframe\">\n",
       "  <thead>\n",
       "    <tr style=\"text-align: right;\">\n",
       "      <th>Metabolite</th>\n",
       "      <th>Reaction</th>\n",
       "      <th>Flux</th>\n",
       "      <th>C-Number</th>\n",
       "      <th>C-Flux</th>\n",
       "    </tr>\n",
       "  </thead>\n",
       "  <tbody>\n",
       "    <tr>\n",
       "      <td>S_Biomass_biomass_b</td>\n",
       "      <td>EX_S_Biomass_biomass_b</td>\n",
       "      <td>-0.11</td>\n",
       "      <td>0</td>\n",
       "      <td>0.00%</td>\n",
       "    </tr>\n",
       "  </tbody>\n",
       "</table>"
      ],
      "text/plain": [
       "<cobra.summary.model_summary.ModelSummary at 0x162ff0b50c0>"
      ]
     },
     "execution_count": 13,
     "metadata": {},
     "output_type": "execute_result"
    }
   ],
   "source": [
    "araModel.summary()"
   ]
  },
  {
   "cell_type": "code",
   "execution_count": null,
   "metadata": {},
   "outputs": [],
   "source": [
    "for i in araModel.metabolites:\n",
    "    print(i.id)"
   ]
  },
  {
   "cell_type": "code",
   "execution_count": null,
   "metadata": {},
   "outputs": [],
   "source": [
    "%cd C:\\Users\\duart\\OneDrive\\Documentos\\UNIANDES\\PHASEOLUS LUNATUS\\MODELS\\OTHER_SPECIES\\Arabidopsis thaliana\\ARAGEM\\AraFlux toolbox\\case 1_photosynthesis\n",
    "araModellight=read_sbml_model('AraGEM.xml')\n"
   ]
  },
  {
   "cell_type": "code",
   "execution_count": 31,
   "metadata": {},
   "outputs": [],
   "source": [
    "araModellight.reactions.get_by_id(\"Ex16\").lower_bound = 0\n",
    "araModellight.reactions.get_by_id(\"Ex16\").upper_bound = 0"
   ]
  },
  {
   "cell_type": "code",
   "execution_count": 38,
   "metadata": {},
   "outputs": [],
   "source": [
    "araModellight.reactions.get_by_id(\"EX_S_hv_ext\").lower_bound = 0\n",
    "araModellight.reactions.get_by_id(\"EX_S_hv_ext\").upper_bound = 0"
   ]
  },
  {
   "cell_type": "code",
   "execution_count": 19,
   "metadata": {},
   "outputs": [
    {
     "data": {
      "text/html": [
       "\n",
       "        <table>\n",
       "            <tr>\n",
       "                <td><strong>Reaction identifier</strong></td><td>EX_S_hv_ext_b</td>\n",
       "            </tr><tr>\n",
       "                <td><strong>Name</strong></td><td>EX_S_hv_ext_b</td>\n",
       "            </tr><tr>\n",
       "                <td><strong>Memory address</strong></td>\n",
       "                <td>0x195221f95d0</td>\n",
       "            </tr><tr>\n",
       "                <td><strong>Stoichiometry</strong></td>\n",
       "                <td>\n",
       "                    <p style='text-align:right'>S_hv_ext_b <=></p>\n",
       "                    <p style='text-align:right'>hv_ext <=></p>\n",
       "                </td>\n",
       "            </tr><tr>\n",
       "                <td><strong>GPR</strong></td><td></td>\n",
       "            </tr><tr>\n",
       "                <td><strong>Lower bound</strong></td><td>-1000.0</td>\n",
       "            </tr><tr>\n",
       "                <td><strong>Upper bound</strong></td><td>1000.0</td>\n",
       "            </tr>\n",
       "        </table>\n",
       "        "
      ],
      "text/plain": [
       "<Reaction EX_S_hv_ext_b at 0x195221f95d0>"
      ]
     },
     "execution_count": 19,
     "metadata": {},
     "output_type": "execute_result"
    }
   ],
   "source": [
    "araModel.reactions.get_by_id(\"EX_S_hv_ext_b\")\n"
   ]
  },
  {
   "cell_type": "code",
   "execution_count": 36,
   "metadata": {},
   "outputs": [
    {
     "data": {
      "text/html": [
       "\n",
       "        <table>\n",
       "            <tr>\n",
       "                <td><strong>Metabolite identifier</strong></td><td>S_hv_ext</td>\n",
       "            </tr><tr>\n",
       "                <td><strong>Name</strong></td><td>hv_ext</td>\n",
       "            </tr><tr>\n",
       "                <td><strong>Memory address</strong></td>\n",
       "                <td>0x162fe1fb430</td>\n",
       "            </tr><tr>\n",
       "                <td><strong>Formula</strong></td><td>None</td>\n",
       "            </tr><tr>\n",
       "                <td><strong>Compartment</strong></td><td>C_ext</td>\n",
       "            </tr><tr>\n",
       "                <td><strong>In 2 reaction(s)</strong></td><td>\n",
       "                    EX_S_hv_ext, Ex16\n",
       "                    </td>\n",
       "            </tr>\n",
       "        </table>"
      ],
      "text/plain": [
       "<Metabolite S_hv_ext at 0x162fe1fb430>"
      ]
     },
     "execution_count": 36,
     "metadata": {},
     "output_type": "execute_result"
    }
   ],
   "source": [
    "araModellight.metabolites.get_by_id(\"S_hv_ext\")\n"
   ]
  },
  {
   "cell_type": "code",
   "execution_count": 29,
   "metadata": {},
   "outputs": [],
   "source": [
    "araModellight.objective = \"BIO_L\""
   ]
  },
  {
   "attachments": {},
   "cell_type": "markdown",
   "metadata": {},
   "source": [
    "## CON FLUJO DE LUZ"
   ]
  },
  {
   "cell_type": "code",
   "execution_count": 40,
   "metadata": {},
   "outputs": [
    {
     "data": {
      "text/html": [
       "<h3>Objective</h3><p>1.0 BIO_L = 0.11</p><h4>Uptake</h4><table border=\"1\" class=\"dataframe\">\n",
       "  <thead>\n",
       "    <tr style=\"text-align: right;\">\n",
       "      <th>Metabolite</th>\n",
       "      <th>Reaction</th>\n",
       "      <th>Flux</th>\n",
       "      <th>C-Number</th>\n",
       "      <th>C-Flux</th>\n",
       "    </tr>\n",
       "  </thead>\n",
       "  <tbody>\n",
       "    <tr>\n",
       "      <td>S_H2O_ext_b</td>\n",
       "      <td>EX_S_H2O_ext_b</td>\n",
       "      <td>0.6079</td>\n",
       "      <td>0</td>\n",
       "      <td>0.00%</td>\n",
       "    </tr>\n",
       "    <tr>\n",
       "      <td>S_Hydrogen_32_sulfide_ext_b</td>\n",
       "      <td>EX_S_Hydrogen_32_sulfide_ext_b</td>\n",
       "      <td>0.00286</td>\n",
       "      <td>0</td>\n",
       "      <td>0.00%</td>\n",
       "    </tr>\n",
       "    <tr>\n",
       "      <td>S_NH3_ext_b</td>\n",
       "      <td>EX_S_NH3_ext_b</td>\n",
       "      <td>0.2138</td>\n",
       "      <td>0</td>\n",
       "      <td>0.00%</td>\n",
       "    </tr>\n",
       "    <tr>\n",
       "      <td>S_Orthophosphate_ext_b</td>\n",
       "      <td>EX_S_Orthophosphate_ext_b</td>\n",
       "      <td>0.001639</td>\n",
       "      <td>0</td>\n",
       "      <td>0.00%</td>\n",
       "    </tr>\n",
       "    <tr>\n",
       "      <td>S_hv_ext_b</td>\n",
       "      <td>EX_S_hv_ext_b</td>\n",
       "      <td>4.381</td>\n",
       "      <td>0</td>\n",
       "      <td>0.00%</td>\n",
       "    </tr>\n",
       "  </tbody>\n",
       "</table><h4>Secretion</h4><table border=\"1\" class=\"dataframe\">\n",
       "  <thead>\n",
       "    <tr style=\"text-align: right;\">\n",
       "      <th>Metabolite</th>\n",
       "      <th>Reaction</th>\n",
       "      <th>Flux</th>\n",
       "      <th>C-Number</th>\n",
       "      <th>C-Flux</th>\n",
       "    </tr>\n",
       "  </thead>\n",
       "  <tbody>\n",
       "    <tr>\n",
       "      <td>S_Biomass_biomass_b</td>\n",
       "      <td>EX_S_Biomass_biomass_b</td>\n",
       "      <td>-0.11</td>\n",
       "      <td>0</td>\n",
       "      <td>0.00%</td>\n",
       "    </tr>\n",
       "  </tbody>\n",
       "</table>"
      ],
      "text/plain": [
       "<cobra.summary.model_summary.ModelSummary at 0x162ff4a8be0>"
      ]
     },
     "execution_count": 40,
     "metadata": {},
     "output_type": "execute_result"
    }
   ],
   "source": [
    "araModel.summary()"
   ]
  },
  {
   "attachments": {},
   "cell_type": "markdown",
   "metadata": {},
   "source": [
    "## SIN FLUJO DE LUZ"
   ]
  },
  {
   "cell_type": "code",
   "execution_count": 39,
   "metadata": {},
   "outputs": [
    {
     "data": {
      "text/html": [
       "<h3>Objective</h3><p>1.0 BIO_L = 0.11</p><h4>Uptake</h4><table border=\"1\" class=\"dataframe\">\n",
       "  <thead>\n",
       "    <tr style=\"text-align: right;\">\n",
       "      <th>Metabolite</th>\n",
       "      <th>Reaction</th>\n",
       "      <th>Flux</th>\n",
       "      <th>C-Number</th>\n",
       "      <th>C-Flux</th>\n",
       "    </tr>\n",
       "  </thead>\n",
       "  <tbody>\n",
       "    <tr>\n",
       "      <td>S_H2O_ext_b</td>\n",
       "      <td>EX_S_H2O_ext_b</td>\n",
       "      <td>0.6079</td>\n",
       "      <td>0</td>\n",
       "      <td>0.00%</td>\n",
       "    </tr>\n",
       "    <tr>\n",
       "      <td>S_Hydrogen_32_sulfide_ext_b</td>\n",
       "      <td>EX_S_Hydrogen_32_sulfide_ext_b</td>\n",
       "      <td>0.00286</td>\n",
       "      <td>0</td>\n",
       "      <td>0.00%</td>\n",
       "    </tr>\n",
       "    <tr>\n",
       "      <td>S_NH3_ext_b</td>\n",
       "      <td>EX_S_NH3_ext_b</td>\n",
       "      <td>0.2138</td>\n",
       "      <td>0</td>\n",
       "      <td>0.00%</td>\n",
       "    </tr>\n",
       "    <tr>\n",
       "      <td>S_Orthophosphate_ext_b</td>\n",
       "      <td>EX_S_Orthophosphate_ext_b</td>\n",
       "      <td>0.001639</td>\n",
       "      <td>0</td>\n",
       "      <td>0.00%</td>\n",
       "    </tr>\n",
       "    <tr>\n",
       "      <td>S_hv_ext_b</td>\n",
       "      <td>EX_S_hv_ext_b</td>\n",
       "      <td>4.381</td>\n",
       "      <td>0</td>\n",
       "      <td>0.00%</td>\n",
       "    </tr>\n",
       "  </tbody>\n",
       "</table><h4>Secretion</h4><table border=\"1\" class=\"dataframe\">\n",
       "  <thead>\n",
       "    <tr style=\"text-align: right;\">\n",
       "      <th>Metabolite</th>\n",
       "      <th>Reaction</th>\n",
       "      <th>Flux</th>\n",
       "      <th>C-Number</th>\n",
       "      <th>C-Flux</th>\n",
       "    </tr>\n",
       "  </thead>\n",
       "  <tbody>\n",
       "    <tr>\n",
       "      <td>S_Biomass_biomass_b</td>\n",
       "      <td>EX_S_Biomass_biomass_b</td>\n",
       "      <td>-0.11</td>\n",
       "      <td>0</td>\n",
       "      <td>0.00%</td>\n",
       "    </tr>\n",
       "  </tbody>\n",
       "</table>"
      ],
      "text/plain": [
       "<cobra.summary.model_summary.ModelSummary at 0x162fe243850>"
      ]
     },
     "execution_count": 39,
     "metadata": {},
     "output_type": "execute_result"
    }
   ],
   "source": [
    "araModel.summary()"
   ]
  },
  {
   "cell_type": "code",
   "execution_count": 42,
   "metadata": {},
   "outputs": [
    {
     "data": {
      "text/plain": [
       "834"
      ]
     },
     "execution_count": 42,
     "metadata": {},
     "output_type": "execute_result"
    }
   ],
   "source": [
    "blocked=cobra.flux_analysis.find_blocked_reactions(araModellight)\n",
    "len(blocked)"
   ]
  }
 ],
 "metadata": {
  "kernelspec": {
   "display_name": "CobraPy",
   "language": "python",
   "name": "python3"
  },
  "language_info": {
   "codemirror_mode": {
    "name": "ipython",
    "version": 3
   },
   "file_extension": ".py",
   "mimetype": "text/x-python",
   "name": "python",
   "nbconvert_exporter": "python",
   "pygments_lexer": "ipython3",
   "version": "3.10.9"
  },
  "orig_nbformat": 4
 },
 "nbformat": 4,
 "nbformat_minor": 2
}
