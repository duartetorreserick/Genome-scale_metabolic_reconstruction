{
 "cells": [
  {
   "cell_type": "code",
   "execution_count": 4,
   "id": "0a2d00ad",
   "metadata": {},
   "outputs": [],
   "source": [
    "import requests\n",
    "from warnings import warn\n",
    "import re\n",
    "import logging\n",
    "\n",
    "from cobra import Model, Metabolite, Reaction, DictList"
   ]
  }
 ],
 "metadata": {
  "kernelspec": {
   "display_name": "Python 3 (ipykernel)",
   "language": "python",
   "name": "python3"
  },
  "language_info": {
   "codemirror_mode": {
    "name": "ipython",
    "version": 3
   },
   "file_extension": ".py",
   "mimetype": "text/x-python",
   "name": "python",
   "nbconvert_exporter": "python",
   "pygments_lexer": "ipython3",
   "version": "3.9.13"
  }
 },
 "nbformat": 4,
 "nbformat_minor": 5
}
