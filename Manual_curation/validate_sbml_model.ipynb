{
 "cells": [
  {
   "cell_type": "code",
   "execution_count": 3,
   "id": "1e52f7c1",
   "metadata": {},
   "outputs": [],
   "source": [
    "import cobra\n",
    "from cobra.io import load_model\n",
    "from pathlib import Path\n",
    "from cobra.io import load_json_model, save_json_model, load_matlab_model, save_matlab_model, read_sbml_model, write_sbml_model\n",
    "import logging\n",
    "import pandas as pd\n",
    "from cobra import Model, Reaction, Metabolite\n",
    "from cobra.io import write_sbml_model, validate_sbml_model"
   ]
  },
  {
   "cell_type": "code",
   "execution_count": 6,
   "id": "cca1886e",
   "metadata": {},
   "outputs": [
    {
     "name": "stdout",
     "output_type": "stream",
     "text": [
      "C:\\Users\\duart\\OneDrive\\Documentos\\UNIANDES\\PHASEOLUS LUNATUS\\MODELS\\OTHER_SPECIES\\Phaseolus vulgaris\n"
     ]
    },
    {
     "name": "stderr",
     "output_type": "stream",
     "text": [
      "No objective in listOfObjectives\n",
      "No objective coefficients in model. Unclear what should be optimized\n"
     ]
    }
   ],
   "source": [
    "%cd C:\\Users\\duart\\OneDrive\\Documentos\\UNIANDES\\PHASEOLUS LUNATUS\\MODELS\\OTHER_SPECIES\\Phaseolus vulgaris\n",
    "pvulModel=read_sbml_model('pvulModel_CheckError.xml')"
   ]
  },
  {
   "cell_type": "code",
   "execution_count": 9,
   "id": "a8d3c2cc",
   "metadata": {},
   "outputs": [
    {
     "name": "stderr",
     "output_type": "stream",
     "text": [
      "COBRA errors in validation, check error log for details.\n",
      "COBRA warnings in validation, check error log for details.\n"
     ]
    },
    {
     "data": {
      "text/plain": [
       "(<Model M_COMMONBEAN at 0x1fc892213d0>,\n",
       " {'SBML_FATAL': [],\n",
       "  'SBML_ERROR': [],\n",
       "  'SBML_SCHEMA_ERROR': [],\n",
       "  'SBML_WARNING': [],\n",
       "  'COBRA_FATAL': [],\n",
       "  'COBRA_ERROR': ['No objective coefficients in model. Unclear what should be optimized'],\n",
       "  'COBRA_WARNING': ['No objective in listOfObjectives'],\n",
       "  'COBRA_CHECK': []})"
      ]
     },
     "execution_count": 9,
     "metadata": {},
     "output_type": "execute_result"
    }
   ],
   "source": [
    "report=validate_sbml_model('pvulModel_CheckError2.txt')\n",
    "report"
   ]
  },
  {
   "cell_type": "code",
   "execution_count": 26,
   "id": "a2e00746",
   "metadata": {},
   "outputs": [
    {
     "name": "stdout",
     "output_type": "stream",
     "text": [
      "C:\\Users\\duart\\OneDrive\\Documentos\\UNIANDES\\PHASEOLUS LUNATUS\\MODELS\\OTHER_SPECIES\\Phaseolus vulgaris\\SUPPORT\n"
     ]
    },
    {
     "data": {
      "text/plain": [
       "['PYRIDOXALHOSPHATE\\n',\n",
       " 'FE+2\\n',\n",
       " 'BETA-D-FRUCTOSE\\n',\n",
       " 'CHOLINE\\n',\n",
       " 'THIAMINE-PYROPHOSPHATE\\n',\n",
       " 'MYO-INOSITOL\\n',\n",
       " 'MG+2\\n',\n",
       " 'CO+2\\n',\n",
       " 'OXALACETIC_ACID\\n',\n",
       " 'HCO3\\n',\n",
       " 'CPD-3\\n',\n",
       " 'ASN\\n',\n",
       " 'NITRATE\\n',\n",
       " 'CPD-8046\\n',\n",
       " 'WATER',\n",
       " 'ADENOSYL-HOMO-CYS\\n']"
      ]
     },
     "execution_count": 26,
     "metadata": {},
     "output_type": "execute_result"
    }
   ],
   "source": [
    "%cd C:\\Users\\duart\\OneDrive\\Documentos\\UNIANDES\\PHASEOLUS LUNATUS\\MODELS\\OTHER_SPECIES\\Phaseolus vulgaris\\SUPPORT\n",
    "with open ('Medicago_Biomass_mets.txt','r') as f:\n",
    "    listMedicago_exmets=f.readlines()\n",
    "with open ('Glycine_Biomass_mets.txt','r') as f:\n",
    "    listGlycine_exmets=f.readlines()\n",
    "\n",
    "#for i in listGlycine_exmets:\n",
    "    #print(i)\n",
    "common=list(set(listGlycine_exmets)&set(listMedicago_exmets))\n",
    "diff=list(set(listMedicago_exmets)-set(listGlycine_exmets))\n",
    "diff\n",
    "\n"
   ]
  },
  {
   "cell_type": "code",
   "execution_count": 8,
   "id": "5a592548",
   "metadata": {},
   "outputs": [
    {
     "data": {
      "text/html": [
       "\n",
       "        <table>\n",
       "            <tr>\n",
       "                <td><strong>Reaction identifier</strong></td><td>RXN-16463</td>\n",
       "            </tr><tr>\n",
       "                <td><strong>Name</strong></td><td>RXN-16463</td>\n",
       "            </tr><tr>\n",
       "                <td><strong>Memory address</strong></td>\n",
       "                <td>0x2b540283070</td>\n",
       "            </tr><tr>\n",
       "                <td><strong>Stoichiometry</strong></td>\n",
       "                <td>\n",
       "                    <p style='text-align:right'>ACP[c] + ATP[c] + CPD-17686[c] <=> AMP[c] + PPI[c] + _5-hexenoyl-ACPs[c]</p>\n",
       "                    <p style='text-align:right'>a soluble [acyl-carrier protein] + ATP + 5-hexenoate <=> AMP + diphosphate + a 5-hexenoyl-[acp]</p>\n",
       "                </td>\n",
       "            </tr><tr>\n",
       "                <td><strong>GPR</strong></td><td>PHVUL.009G058300 or PHVUL.011G056700</td>\n",
       "            </tr><tr>\n",
       "                <td><strong>Lower bound</strong></td><td>-1000.0</td>\n",
       "            </tr><tr>\n",
       "                <td><strong>Upper bound</strong></td><td>1000.0</td>\n",
       "            </tr>\n",
       "        </table>\n",
       "        "
      ],
      "text/plain": [
       "<Reaction RXN-16463 at 0x2b540283070>"
      ]
     },
     "execution_count": 8,
     "metadata": {},
     "output_type": "execute_result"
    }
   ],
   "source": [
    "pvulModel.reactions.get_by_id('RXN-16463')\n",
    "                              "
   ]
  }
 ],
 "metadata": {
  "kernelspec": {
   "display_name": "Python 3 (ipykernel)",
   "language": "python",
   "name": "python3"
  },
  "language_info": {
   "codemirror_mode": {
    "name": "ipython",
    "version": 3
   },
   "file_extension": ".py",
   "mimetype": "text/x-python",
   "name": "python",
   "nbconvert_exporter": "python",
   "pygments_lexer": "ipython3",
   "version": "3.9.16"
  }
 },
 "nbformat": 4,
 "nbformat_minor": 5
}
