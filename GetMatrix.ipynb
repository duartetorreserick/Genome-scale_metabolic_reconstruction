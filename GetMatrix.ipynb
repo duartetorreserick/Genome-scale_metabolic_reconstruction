{
 "cells": [
  {
   "cell_type": "code",
   "execution_count": 2,
   "id": "4c49cf37",
   "metadata": {},
   "outputs": [],
   "source": [
    "import cobra\n",
    "from cobra.io import load_model\n",
    "from pathlib import Path\n",
    "from cobra.io import load_json_model, save_json_model, load_matlab_model, save_matlab_model, read_sbml_model, write_sbml_model\n",
    "import logging"
   ]
  },
  {
   "cell_type": "code",
   "execution_count": 3,
   "id": "e097a2bc",
   "metadata": {},
   "outputs": [
    {
     "name": "stdout",
     "output_type": "stream",
     "text": [
      "C:\\Users\\duart\\OneDrive\\Documentos\\UNIANDES\\PHASEOLUS LUNATUS\\MODELS\\RAVEN\\MetaCyc\n"
     ]
    },
    {
     "ename": "CobraSBMLError",
     "evalue": "Something went wrong reading the SBML model. Most likely the SBML model is not valid. Please check that your model is valid using the `cobra.io.sbml.validate_sbml_model` function or via the online validator at http://sbml.org/validator .\n\t`(model, errors) = validate_sbml_model(filename)`\nIf the model is valid and cannot be read please open an issue at https://github.com/opencobra/cobrapy/issues .",
     "output_type": "error",
     "traceback": [
      "\u001b[1;31m---------------------------------------------------------------------------\u001b[0m",
      "\u001b[1;31mValueError\u001b[0m                                Traceback (most recent call last)",
      "\u001b[1;32m~\\Anaconda\\lib\\site-packages\\cobra\\io\\sbml.py\u001b[0m in \u001b[0;36mread_sbml_model\u001b[1;34m(filename, number, f_replace, **kwargs)\u001b[0m\n\u001b[0;32m    457\u001b[0m         \u001b[0mdoc\u001b[0m \u001b[1;33m=\u001b[0m \u001b[0m_get_doc_from_filename\u001b[0m\u001b[1;33m(\u001b[0m\u001b[0mfilename\u001b[0m\u001b[1;33m)\u001b[0m\u001b[1;33m\u001b[0m\u001b[1;33m\u001b[0m\u001b[0m\n\u001b[1;32m--> 458\u001b[1;33m         \u001b[1;32mreturn\u001b[0m \u001b[0m_sbml_to_model\u001b[0m\u001b[1;33m(\u001b[0m\u001b[0mdoc\u001b[0m\u001b[1;33m,\u001b[0m \u001b[0mnumber\u001b[0m\u001b[1;33m=\u001b[0m\u001b[0mnumber\u001b[0m\u001b[1;33m,\u001b[0m \u001b[0mf_replace\u001b[0m\u001b[1;33m=\u001b[0m\u001b[0mf_replace\u001b[0m\u001b[1;33m,\u001b[0m \u001b[1;33m**\u001b[0m\u001b[0mkwargs\u001b[0m\u001b[1;33m)\u001b[0m\u001b[1;33m\u001b[0m\u001b[1;33m\u001b[0m\u001b[0m\n\u001b[0m\u001b[0;32m    459\u001b[0m     \u001b[1;32mexcept\u001b[0m \u001b[0mIOError\u001b[0m \u001b[1;32mas\u001b[0m \u001b[0me\u001b[0m\u001b[1;33m:\u001b[0m\u001b[1;33m\u001b[0m\u001b[1;33m\u001b[0m\u001b[0m\n",
      "\u001b[1;32m~\\Anaconda\\lib\\site-packages\\cobra\\io\\sbml.py\u001b[0m in \u001b[0;36m_sbml_to_model\u001b[1;34m(doc, number, f_replace, set_missing_bounds, **kwargs)\u001b[0m\n\u001b[0;32m    720\u001b[0m \u001b[1;33m\u001b[0m\u001b[0m\n\u001b[1;32m--> 721\u001b[1;33m     \u001b[0mcobra_model\u001b[0m\u001b[1;33m.\u001b[0m\u001b[0madd_metabolites\u001b[0m\u001b[1;33m(\u001b[0m\u001b[0mmetabolites\u001b[0m\u001b[1;33m)\u001b[0m\u001b[1;33m\u001b[0m\u001b[1;33m\u001b[0m\u001b[0m\n\u001b[0m\u001b[0;32m    722\u001b[0m \u001b[1;33m\u001b[0m\u001b[0m\n",
      "\u001b[1;32m~\\Anaconda\\lib\\site-packages\\cobra\\core\\model.py\u001b[0m in \u001b[0;36madd_metabolites\u001b[1;34m(self, metabolite_list)\u001b[0m\n\u001b[0;32m    450\u001b[0m             \u001b[1;32mif\u001b[0m \u001b[0mmet\u001b[0m\u001b[1;33m.\u001b[0m\u001b[0mid\u001b[0m \u001b[1;32mnot\u001b[0m \u001b[1;32min\u001b[0m \u001b[0mself\u001b[0m\u001b[1;33m.\u001b[0m\u001b[0mconstraints\u001b[0m\u001b[1;33m:\u001b[0m\u001b[1;33m\u001b[0m\u001b[1;33m\u001b[0m\u001b[0m\n\u001b[1;32m--> 451\u001b[1;33m                 \u001b[0mconstraint\u001b[0m \u001b[1;33m=\u001b[0m \u001b[0mself\u001b[0m\u001b[1;33m.\u001b[0m\u001b[0mproblem\u001b[0m\u001b[1;33m.\u001b[0m\u001b[0mConstraint\u001b[0m\u001b[1;33m(\u001b[0m\u001b[0mZero\u001b[0m\u001b[1;33m,\u001b[0m \u001b[0mname\u001b[0m\u001b[1;33m=\u001b[0m\u001b[0mmet\u001b[0m\u001b[1;33m.\u001b[0m\u001b[0mid\u001b[0m\u001b[1;33m,\u001b[0m \u001b[0mlb\u001b[0m\u001b[1;33m=\u001b[0m\u001b[1;36m0\u001b[0m\u001b[1;33m,\u001b[0m \u001b[0mub\u001b[0m\u001b[1;33m=\u001b[0m\u001b[1;36m0\u001b[0m\u001b[1;33m)\u001b[0m\u001b[1;33m\u001b[0m\u001b[1;33m\u001b[0m\u001b[0m\n\u001b[0m\u001b[0;32m    452\u001b[0m                 \u001b[0mto_add\u001b[0m \u001b[1;33m+=\u001b[0m \u001b[1;33m[\u001b[0m\u001b[0mconstraint\u001b[0m\u001b[1;33m]\u001b[0m\u001b[1;33m\u001b[0m\u001b[1;33m\u001b[0m\u001b[0m\n",
      "\u001b[1;32m~\\Anaconda\\lib\\site-packages\\optlang\\glpk_interface.py\u001b[0m in \u001b[0;36m__init__\u001b[1;34m(self, expression, sloppy, *args, **kwargs)\u001b[0m\n\u001b[0;32m    158\u001b[0m         \u001b[0m_glpk_validate_id\u001b[0m\u001b[1;33m(\u001b[0m\u001b[0mkwargs\u001b[0m\u001b[1;33m.\u001b[0m\u001b[0mget\u001b[0m\u001b[1;33m(\u001b[0m\u001b[1;34m\"name\"\u001b[0m\u001b[1;33m,\u001b[0m \u001b[1;34m\"GoodName\"\u001b[0m\u001b[1;33m)\u001b[0m\u001b[1;33m)\u001b[0m\u001b[1;33m\u001b[0m\u001b[1;33m\u001b[0m\u001b[0m\n\u001b[1;32m--> 159\u001b[1;33m         \u001b[0msuper\u001b[0m\u001b[1;33m(\u001b[0m\u001b[0mConstraint\u001b[0m\u001b[1;33m,\u001b[0m \u001b[0mself\u001b[0m\u001b[1;33m)\u001b[0m\u001b[1;33m.\u001b[0m\u001b[0m__init__\u001b[0m\u001b[1;33m(\u001b[0m\u001b[0mexpression\u001b[0m\u001b[1;33m,\u001b[0m \u001b[0msloppy\u001b[0m\u001b[1;33m=\u001b[0m\u001b[0msloppy\u001b[0m\u001b[1;33m,\u001b[0m \u001b[1;33m*\u001b[0m\u001b[0margs\u001b[0m\u001b[1;33m,\u001b[0m \u001b[1;33m**\u001b[0m\u001b[0mkwargs\u001b[0m\u001b[1;33m)\u001b[0m\u001b[1;33m\u001b[0m\u001b[1;33m\u001b[0m\u001b[0m\n\u001b[0m\u001b[0;32m    160\u001b[0m         \u001b[1;32mif\u001b[0m \u001b[1;32mnot\u001b[0m \u001b[0msloppy\u001b[0m\u001b[1;33m:\u001b[0m\u001b[1;33m\u001b[0m\u001b[1;33m\u001b[0m\u001b[0m\n",
      "\u001b[1;32m~\\Anaconda\\lib\\site-packages\\optlang\\interface.py\u001b[0m in \u001b[0;36m__init__\u001b[1;34m(self, expression, lb, ub, indicator_variable, active_when, *args, **kwargs)\u001b[0m\n\u001b[0;32m    682\u001b[0m         \u001b[0mself\u001b[0m\u001b[1;33m.\u001b[0m\u001b[0mub\u001b[0m \u001b[1;33m=\u001b[0m \u001b[0mub\u001b[0m\u001b[1;33m\u001b[0m\u001b[1;33m\u001b[0m\u001b[0m\n\u001b[1;32m--> 683\u001b[1;33m         \u001b[0msuper\u001b[0m\u001b[1;33m(\u001b[0m\u001b[0mConstraint\u001b[0m\u001b[1;33m,\u001b[0m \u001b[0mself\u001b[0m\u001b[1;33m)\u001b[0m\u001b[1;33m.\u001b[0m\u001b[0m__init__\u001b[0m\u001b[1;33m(\u001b[0m\u001b[0mexpression\u001b[0m\u001b[1;33m,\u001b[0m \u001b[1;33m*\u001b[0m\u001b[0margs\u001b[0m\u001b[1;33m,\u001b[0m \u001b[1;33m**\u001b[0m\u001b[0mkwargs\u001b[0m\u001b[1;33m)\u001b[0m\u001b[1;33m\u001b[0m\u001b[1;33m\u001b[0m\u001b[0m\n\u001b[0m\u001b[0;32m    684\u001b[0m         \u001b[0mself\u001b[0m\u001b[1;33m.\u001b[0m\u001b[0m__check_valid_indicator_variable\u001b[0m\u001b[1;33m(\u001b[0m\u001b[0mindicator_variable\u001b[0m\u001b[1;33m)\u001b[0m\u001b[1;33m\u001b[0m\u001b[1;33m\u001b[0m\u001b[0m\n",
      "\u001b[1;32m~\\Anaconda\\lib\\site-packages\\optlang\\interface.py\u001b[0m in \u001b[0;36m__init__\u001b[1;34m(self, expression, name, problem, sloppy, *args, **kwargs)\u001b[0m\n\u001b[0;32m    421\u001b[0m \u001b[1;33m\u001b[0m\u001b[0m\n\u001b[1;32m--> 422\u001b[1;33m         \u001b[0mself\u001b[0m\u001b[1;33m.\u001b[0m\u001b[0m_validate_optimization_expression_name\u001b[0m\u001b[1;33m(\u001b[0m\u001b[0mname\u001b[0m\u001b[1;33m)\u001b[0m\u001b[1;33m\u001b[0m\u001b[1;33m\u001b[0m\u001b[0m\n\u001b[0m\u001b[0;32m    423\u001b[0m \u001b[1;33m\u001b[0m\u001b[0m\n",
      "\u001b[1;32m~\\Anaconda\\lib\\site-packages\\optlang\\interface.py\u001b[0m in \u001b[0;36m_validate_optimization_expression_name\u001b[1;34m(name)\u001b[0m\n\u001b[0;32m    390\u001b[0m             \u001b[1;32mif\u001b[0m \u001b[0mchar\u001b[0m\u001b[1;33m.\u001b[0m\u001b[0misspace\u001b[0m\u001b[1;33m(\u001b[0m\u001b[1;33m)\u001b[0m\u001b[1;33m:\u001b[0m\u001b[1;33m\u001b[0m\u001b[1;33m\u001b[0m\u001b[0m\n\u001b[1;32m--> 391\u001b[1;33m                 raise ValueError(\n\u001b[0m\u001b[0;32m    392\u001b[0m                     'Names cannot contain whitespace characters. \"%s\" contains whitespace character \"%s\".' % (\n",
      "\u001b[1;31mValueError\u001b[0m: Names cannot contain whitespace characters. \"(n+1) CO-A\" contains whitespace character \" \".",
      "\nThe above exception was the direct cause of the following exception:\n",
      "\u001b[1;31mCobraSBMLError\u001b[0m                            Traceback (most recent call last)",
      "\u001b[1;32m~\\AppData\\Local\\Temp\\ipykernel_13912\\1722687136.py\u001b[0m in \u001b[0;36m<module>\u001b[1;34m\u001b[0m\n\u001b[0;32m      1\u001b[0m \u001b[0mget_ipython\u001b[0m\u001b[1;33m(\u001b[0m\u001b[1;33m)\u001b[0m\u001b[1;33m.\u001b[0m\u001b[0mrun_line_magic\u001b[0m\u001b[1;33m(\u001b[0m\u001b[1;34m'cd'\u001b[0m\u001b[1;33m,\u001b[0m \u001b[1;34m'C:\\\\Users\\\\duart\\\\OneDrive\\\\Documentos\\\\UNIANDES\\\\PHASEOLUS LUNATUS\\\\MODELS\\\\RAVEN\\\\MetaCyc'\u001b[0m\u001b[1;33m)\u001b[0m\u001b[1;33m\u001b[0m\u001b[1;33m\u001b[0m\u001b[0m\n\u001b[1;32m----> 2\u001b[1;33m \u001b[0mMetacycPvul_model\u001b[0m \u001b[1;33m=\u001b[0m \u001b[0mread_sbml_model\u001b[0m\u001b[1;33m(\u001b[0m\u001b[0mstr\u001b[0m\u001b[1;33m(\u001b[0m\u001b[1;34m\"MetacycPvul_model.xml\"\u001b[0m\u001b[1;33m)\u001b[0m\u001b[1;33m)\u001b[0m\u001b[1;33m\u001b[0m\u001b[1;33m\u001b[0m\u001b[0m\n\u001b[0m",
      "\u001b[1;32m~\\Anaconda\\lib\\site-packages\\cobra\\io\\sbml.py\u001b[0m in \u001b[0;36mread_sbml_model\u001b[1;34m(filename, number, f_replace, **kwargs)\u001b[0m\n\u001b[0;32m    470\u001b[0m             \u001b[1;34m\"at https://github.com/opencobra/cobrapy/issues .\"\u001b[0m\u001b[1;33m\u001b[0m\u001b[1;33m\u001b[0m\u001b[0m\n\u001b[0;32m    471\u001b[0m         )\n\u001b[1;32m--> 472\u001b[1;33m         \u001b[1;32mraise\u001b[0m \u001b[0mcobra_error\u001b[0m \u001b[1;32mfrom\u001b[0m \u001b[0moriginal_error\u001b[0m\u001b[1;33m\u001b[0m\u001b[1;33m\u001b[0m\u001b[0m\n\u001b[0m\u001b[0;32m    473\u001b[0m \u001b[1;33m\u001b[0m\u001b[0m\n\u001b[0;32m    474\u001b[0m \u001b[1;33m\u001b[0m\u001b[0m\n",
      "\u001b[1;31mCobraSBMLError\u001b[0m: Something went wrong reading the SBML model. Most likely the SBML model is not valid. Please check that your model is valid using the `cobra.io.sbml.validate_sbml_model` function or via the online validator at http://sbml.org/validator .\n\t`(model, errors) = validate_sbml_model(filename)`\nIf the model is valid and cannot be read please open an issue at https://github.com/opencobra/cobrapy/issues ."
     ]
    }
   ],
   "source": [
    "%cd C:\\Users\\duart\\OneDrive\\Documentos\\UNIANDES\\PHASEOLUS LUNATUS\\MODELS\\RAVEN\\MetaCyc\n",
    "MetacycPvul_model = read_sbml_model(str(\"MetacycPvul_model.xml\"))"
   ]
  },
  {
   "cell_type": "code",
   "execution_count": 3,
   "id": "16343efb",
   "metadata": {},
   "outputs": [],
   "source": [
    "from typing import TYPE_CHECKING, NamedTuple, Optional, Union\n",
    "\n",
    "import numpy as np\n",
    "import pandas as pd\n",
    "\n",
    "\n",
    "# Used to avoid cyclic reference and enable third-party static type checkers to work\n",
    "if TYPE_CHECKING:\n",
    "    from cobra import Model\n",
    "\n",
    "\n",
    "try:\n",
    "    from scipy.sparse import dok_matrix, lil_matrix\n",
    "except ImportError:\n",
    "    dok_matrix, lil_matrix = None, None\n",
    "    \n",
    "import pandas\n",
    "def create_stoichiometric_matrix(\n",
    "    model: \"Model\", array_type: str = \"dense\", dtype: Optional[np.dtype] = None\n",
    ") -> Union[np.ndarray, dok_matrix, lil_matrix, pd.DataFrame]:\n",
    "    \"\"\"Return a stoichiometric array representation of the given model.\n",
    "\n",
    "    The the columns represent the reactions and rows represent\n",
    "    metabolites. S[i,j] therefore contains the quantity of metabolite `i`\n",
    "    produced (negative for consumed) by reaction `j`.\n",
    "\n",
    "    Parameters\n",
    "    ----------\n",
    "    model : cobra.Model\n",
    "        The cobra model to construct the matrix for.\n",
    "    array_type : {\"dense\", \"dok\", \"lil\", \"DataFrame\"}\n",
    "        The type of array to construct. \"dense\" will return a standard\n",
    "        numpy.ndarray. \"dok\", or \"lil\" will construct a sparse array using\n",
    "        scipy of the corresponding type. \"DataFrame\" will give a\n",
    "        pandas.DataFrame with metabolite as indices and reaction as\n",
    "        columns.\n",
    "    dtype : numpy.dtype, optional\n",
    "        The desired numpy data type for the array (default numpy.float64).\n",
    "\n",
    "    Returns\n",
    "    -------\n",
    "    matrix of class `dtype`\n",
    "        The stoichiometric matrix for the given model.\n",
    "\n",
    "    Raises\n",
    "    ------\n",
    "    ValueError\n",
    "        If sparse matrix is used and scipy is not installed.\n",
    "\n",
    "    .. deprecated:: 0.18.1\n",
    "              \"DataFrame\" option for `array_type` will be replaced with\n",
    "              \"frame\" in future versions.\n",
    "\n",
    "    \"\"\"\n",
    "    if array_type not in (\"DataFrame\", \"dense\") and not dok_matrix:\n",
    "        raise ValueError(\"Sparse matrices require scipy.\")\n",
    "\n",
    "    if dtype is None:\n",
    "        dtype = np.float64\n",
    "\n",
    "    array_constructor = {\n",
    "        \"dense\": np.zeros,\n",
    "        \"dok\": dok_matrix,\n",
    "        \"lil\": lil_matrix,\n",
    "        \"DataFrame\": np.zeros,\n",
    "    }\n",
    "\n",
    "    n_metabolites = len(model.metabolites)\n",
    "    n_reactions = len(model.reactions)\n",
    "    array = array_constructor[array_type]((n_metabolites, n_reactions), dtype=dtype)\n",
    "\n",
    "    m_ind = model.metabolites.index\n",
    "    r_ind = model.reactions.index\n",
    "\n",
    "    for reaction in model.reactions:\n",
    "        for metabolite, stoich in reaction.metabolites.items():\n",
    "            array[m_ind(metabolite), r_ind(reaction)] = stoich\n",
    "\n",
    "    if array_type == \"DataFrame\":\n",
    "        metabolite_ids = [met.id for met in model.metabolites]\n",
    "        reaction_ids = [rxn.id for rxn in model.reactions]\n",
    "        return pd.DataFrame(array, index=metabolite_ids, columns=reaction_ids)\n",
    "\n",
    "    else:\n",
    "        return array\n",
    "\n"
   ]
  },
  {
   "cell_type": "code",
   "execution_count": 11,
   "id": "43431088",
   "metadata": {},
   "outputs": [],
   "source": [
    "array=create_stoichiometric_matrix(Cyc)\n",
    "Matrix=pd.DataFrame(array)\n",
    "Matrix.to_csv(\"Raven-Metacyc_Matrix.csv\")\n"
   ]
  }
 ],
 "metadata": {
  "kernelspec": {
   "display_name": "Python 3 (ipykernel)",
   "language": "python",
   "name": "python3"
  },
  "language_info": {
   "codemirror_mode": {
    "name": "ipython",
    "version": 3
   },
   "file_extension": ".py",
   "mimetype": "text/x-python",
   "name": "python",
   "nbconvert_exporter": "python",
   "pygments_lexer": "ipython3",
   "version": "3.9.16"
  }
 },
 "nbformat": 4,
 "nbformat_minor": 5
}
