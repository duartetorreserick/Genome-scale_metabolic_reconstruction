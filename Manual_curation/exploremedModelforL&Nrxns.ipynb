{
 "cells": [
  {
   "cell_type": "code",
   "execution_count": 3,
   "metadata": {},
   "outputs": [],
   "source": [
    "import cobra\n",
    "from cobra.io import load_model\n",
    "from pathlib import Path\n",
    "from cobra.io import load_json_model, save_json_model, load_matlab_model, save_matlab_model, read_sbml_model, write_sbml_model\n",
    "import logging\n",
    "import pandas as pd\n",
    "from cobra import Model, Reaction, Metabolite\n",
    "from cobra.io import write_sbml_model, validate_sbml_model"
   ]
  },
  {
   "cell_type": "code",
   "execution_count": 4,
   "metadata": {},
   "outputs": [],
   "source": [
    "%%capture\n",
    "%cd C:\\Users\\duart\\OneDrive\\Documentos\\UNIANDES\\PHASEOLUS LUNATUS\\MODELS\\OTHER_SPECIES\\Medicago truncatula\n",
    "medModel=read_sbml_model('MedicagoTruncatula_Cobra_model.xml')"
   ]
  },
  {
   "cell_type": "code",
   "execution_count": 14,
   "metadata": {},
   "outputs": [
    {
     "name": "stdout",
     "output_type": "stream",
     "text": [
      "Light[H]\n"
     ]
    }
   ],
   "source": [
    "for i in medModel.metabolites:\n",
    "    if \"Light\" in i.id:\n",
    "        print(i.id) "
   ]
  },
  {
   "cell_type": "code",
   "execution_count": 60,
   "metadata": {},
   "outputs": [
    {
     "name": "stdout",
     "output_type": "stream",
     "text": [
      "CyclicElectronFlow_H\n",
      "PSII-RXN_H\n",
      "PLASTOQUINOL--PLASTOCYANIN-REDUCTASE-RXN_H\n"
     ]
    }
   ],
   "source": [
    "for i in medModel.metabolites.get_by_id(' Oxidized-Plastocyanins[L]').reactions:\n",
    "    print(i.id)"
   ]
  },
  {
   "cell_type": "code",
   "execution_count": 78,
   "metadata": {},
   "outputs": [
    {
     "data": {
      "text/html": [
       "\n",
       "        <table>\n",
       "            <tr>\n",
       "                <td><strong>Metabolite identifier</strong></td><td>Reduced-ferredoxins[H]</td>\n",
       "            </tr><tr>\n",
       "                <td><strong>Name</strong></td><td>Reduced-ferredoxins</td>\n",
       "            </tr><tr>\n",
       "                <td><strong>Memory address</strong></td>\n",
       "                <td>0x1ad747fec50</td>\n",
       "            </tr><tr>\n",
       "                <td><strong>Formula</strong></td><td>None</td>\n",
       "            </tr><tr>\n",
       "                <td><strong>Compartment</strong></td><td>H</td>\n",
       "            </tr><tr>\n",
       "                <td><strong>In 10 reaction(s)</strong></td><td>\n",
       "                    RXN1F-357_H, RXN0-882_H, SULFITE-REDUCTASE-FERREDOXIN-RXN_H, _1.18.1.2-RXN_H, GLUTAMATE-SYNTHASE-FERREDOXIN-RXN_H, LumenToStromaFerredox_H, RXN-9944_H, FERREDOXIN--NITRITE-REDUCTASE-RXN_H,...\n",
       "                    </td>\n",
       "            </tr>\n",
       "        </table>"
      ],
      "text/plain": [
       "<Metabolite Reduced-ferredoxins[H] at 0x1ad747fec50>"
      ]
     },
     "execution_count": 78,
     "metadata": {},
     "output_type": "execute_result"
    }
   ],
   "source": [
    "medModel.metabolites.get_by_id('Reduced-ferredoxins[H]')"
   ]
  },
  {
   "cell_type": "code",
   "execution_count": 77,
   "metadata": {},
   "outputs": [
    {
     "data": {
      "text/html": [
       "\n",
       "        <table>\n",
       "            <tr>\n",
       "                <td><strong>Reaction identifier</strong></td><td>_1.18.1.2-RXN_H</td>\n",
       "            </tr><tr>\n",
       "                <td><strong>Name</strong></td><td>ferredoxin&mdash;NADP<small><sup>+</sup></small> reductase</td>\n",
       "            </tr><tr>\n",
       "                <td><strong>Memory address</strong></td>\n",
       "                <td>0x1ad75d67dc0</td>\n",
       "            </tr><tr>\n",
       "                <td><strong>Stoichiometry</strong></td>\n",
       "                <td>\n",
       "                    <p style='text-align:right'>NADP[H] + PROTON[H] + 2.0 Reduced-ferredoxins[H] --> NADPH[H] + 2.0 Oxidized-ferredoxins[H]</p>\n",
       "                    <p style='text-align:right'>NADP<sup>+</sup> + H<SUP>+</SUP> + 2.0 Reduced-ferredoxins --> NADPH + 2.0 Oxidized-ferredoxins</p>\n",
       "                </td>\n",
       "            </tr><tr>\n",
       "                <td><strong>GPR</strong></td><td>Medtr2g030200.1 or Medtr5g022300.1</td>\n",
       "            </tr><tr>\n",
       "                <td><strong>Lower bound</strong></td><td>-0.0</td>\n",
       "            </tr><tr>\n",
       "                <td><strong>Upper bound</strong></td><td>1000.0</td>\n",
       "            </tr>\n",
       "        </table>\n",
       "        "
      ],
      "text/plain": [
       "<Reaction _1.18.1.2-RXN_H at 0x1ad75d67dc0>"
      ]
     },
     "execution_count": 77,
     "metadata": {},
     "output_type": "execute_result"
    }
   ],
   "source": [
    "medModel.reactions.get_by_id('_1.18.1.2-RXN_H')"
   ]
  },
  {
   "cell_type": "code",
   "execution_count": 36,
   "metadata": {},
   "outputs": [
    {
     "data": {
      "text/plain": [
       "1605"
      ]
     },
     "execution_count": 36,
     "metadata": {},
     "output_type": "execute_result"
    }
   ],
   "source": [
    "r=cobra.flux_analysis.find_blocked_reactions(medModel)\n",
    "len(r)"
   ]
  },
  {
   "cell_type": "code",
   "execution_count": 69,
   "metadata": {},
   "outputs": [],
   "source": [
    "for i in r :\n",
    "    if \"RXN-15479\" in i:\n",
    "        print(i)"
   ]
  },
  {
   "cell_type": "code",
   "execution_count": 76,
   "metadata": {},
   "outputs": [
    {
     "name": "stdout",
     "output_type": "stream",
     "text": [
      "_1.18.1.2-RXN_H\n",
      "_1.18.1.2-RXN_M\n"
     ]
    }
   ],
   "source": [
    "for i in medModel.reactions:\n",
    "    if \"1.18.1.2-RXN\" in i.id:\n",
    "        print(i.id)"
   ]
  }
 ],
 "metadata": {
  "kernelspec": {
   "display_name": "CobraPy",
   "language": "python",
   "name": "python3"
  },
  "language_info": {
   "codemirror_mode": {
    "name": "ipython",
    "version": 3
   },
   "file_extension": ".py",
   "mimetype": "text/x-python",
   "name": "python",
   "nbconvert_exporter": "python",
   "pygments_lexer": "ipython3",
   "version": "3.10.9"
  },
  "orig_nbformat": 4
 },
 "nbformat": 4,
 "nbformat_minor": 2
}
