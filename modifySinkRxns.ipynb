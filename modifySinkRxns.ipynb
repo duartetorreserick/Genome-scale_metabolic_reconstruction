{
 "cells": [
  {
   "cell_type": "code",
   "execution_count": 41,
   "metadata": {},
   "outputs": [
    {
     "name": "stdout",
     "output_type": "stream",
     "text": [
      "C:\\Users\\duart\\OneDrive\\Documentos\\UNIANDES\\PHASEOLUS LUNATUS\\MODELS\\OTHER_SPECIES\\Phaseolus vulgaris\n"
     ]
    }
   ],
   "source": [
    "import cobra\n",
    "from cobra.io import load_model\n",
    "from pathlib import Path\n",
    "from cobra.io import load_json_model, save_json_model, load_matlab_model, save_matlab_model, read_sbml_model, write_sbml_model\n",
    "import logging\n",
    "import pandas as pd\n",
    "from cobra import Model, Reaction, Metabolite\n",
    "from cobra.io import write_sbml_model, validate_sbml_model\n",
    "%cd C:\\Users\\duart\\OneDrive\\Documentos\\UNIANDES\\PHASEOLUS LUNATUS\\MODELS\\OTHER_SPECIES\\Phaseolus vulgaris\n",
    "pvulModel=read_sbml_model('pvulModel_lightCT.xml')"
   ]
  },
  {
   "cell_type": "code",
   "execution_count": 100,
   "metadata": {},
   "outputs": [
    {
     "name": "stdout",
     "output_type": "stream",
     "text": [
      "[]\n"
     ]
    }
   ],
   "source": [
    "r=cobra.flux_analysis.find_blocked_reactions(pvulModel)\n",
    "print(r)\n",
    "  "
   ]
  },
  {
   "cell_type": "code",
   "execution_count": 98,
   "metadata": {},
   "outputs": [
    {
     "data": {
      "text/html": [
       "\n",
       "        <table>\n",
       "            <tr>\n",
       "                <td><strong>Reaction identifier</strong></td><td>SK_CPD-19813[c]</td>\n",
       "            </tr><tr>\n",
       "                <td><strong>Name</strong></td><td>cis-12-hydroxyjasmonate 12-O-β-D-glucoside sink</td>\n",
       "            </tr><tr>\n",
       "                <td><strong>Memory address</strong></td>\n",
       "                <td>0x147ae04d8a0</td>\n",
       "            </tr><tr>\n",
       "                <td><strong>Stoichiometry</strong></td>\n",
       "                <td>\n",
       "                    <p style='text-align:right'>CPD-19813[c] <=></p>\n",
       "                    <p style='text-align:right'>cis-12-hydroxyjasmonate 12-O-β-D-glucoside <=></p>\n",
       "                </td>\n",
       "            </tr><tr>\n",
       "                <td><strong>GPR</strong></td><td></td>\n",
       "            </tr><tr>\n",
       "                <td><strong>Lower bound</strong></td><td>-1000.0</td>\n",
       "            </tr><tr>\n",
       "                <td><strong>Upper bound</strong></td><td>1000.0</td>\n",
       "            </tr>\n",
       "        </table>\n",
       "        "
      ],
      "text/plain": [
       "<Reaction SK_CPD-19813[c] at 0x147ae04d8a0>"
      ]
     },
     "execution_count": 98,
     "metadata": {},
     "output_type": "execute_result"
    }
   ],
   "source": [
    "pvulModel.reactions.get_by_id('SK_CPD-19813[c]')"
   ]
  },
  {
   "cell_type": "code",
   "execution_count": 99,
   "metadata": {},
   "outputs": [],
   "source": [
    "## REMPLAZAR LA RXN SK_CPD-19813[c]\n",
    "agregar_sink_rxn('sink_CPD-19813_e','sink_cis-12-hydroxyjasmonate 12-O-β-D-glucoside ','CPD-19813[c]')\n",
    "removerxn=pvulModel.reactions.get_by_id('SK_CPD-19813[c]')\n",
    "pvulModel.remove_reactions([removerxn])"
   ]
  },
  {
   "cell_type": "code",
   "execution_count": 96,
   "metadata": {},
   "outputs": [],
   "source": [
    "## REMPLAZAR LA RXN SK_CPD-19812[c]\n",
    "agregar_sink_rxn('sink_CPD-19812_e','sink_COOH-JA-Ile ','CPD-19812[c]')\n",
    "removerxn=pvulModel.reactions.get_by_id('SK_CPD-19812[c]')\n",
    "pvulModel.remove_reactions([removerxn])"
   ]
  },
  {
   "cell_type": "code",
   "execution_count": 93,
   "metadata": {},
   "outputs": [
    {
     "data": {
      "text/html": [
       "\n",
       "        <table>\n",
       "            <tr>\n",
       "                <td><strong>Reaction identifier</strong></td><td>SK_epi-jasmonoyl-L-isoleucine</td>\n",
       "            </tr><tr>\n",
       "                <td><strong>Name</strong></td><td>(+)-7-epi-jasmonoyl-L-isoleucine sink</td>\n",
       "            </tr><tr>\n",
       "                <td><strong>Memory address</strong></td>\n",
       "                <td>0x147a61a54b0</td>\n",
       "            </tr><tr>\n",
       "                <td><strong>Stoichiometry</strong></td>\n",
       "                <td>\n",
       "                    <p style='text-align:right'>CPD-11259[c] <=></p>\n",
       "                    <p style='text-align:right'>(+)-7-epi-jasmonoyl-L-isoleucine <=></p>\n",
       "                </td>\n",
       "            </tr><tr>\n",
       "                <td><strong>GPR</strong></td><td></td>\n",
       "            </tr><tr>\n",
       "                <td><strong>Lower bound</strong></td><td>-1000</td>\n",
       "            </tr><tr>\n",
       "                <td><strong>Upper bound</strong></td><td>1000</td>\n",
       "            </tr>\n",
       "        </table>\n",
       "        "
      ],
      "text/plain": [
       "<Reaction SK_epi-jasmonoyl-L-isoleucine at 0x147a61a54b0>"
      ]
     },
     "execution_count": 93,
     "metadata": {},
     "output_type": "execute_result"
    }
   ],
   "source": [
    "## REMPLAZAR LA RXN SK_CPD-11259[c]\n",
    "pvulModel.add_boundary(pvulModel.metabolites.get_by_id('CPD-11259[c]'), type='sink', reaction_id='SK_epi-jasmonoyl-L-isoleucine', lb=-1000, ub=1000)\n",
    "\n",
    "#agregar_sink_rxn('sink_CPD-11259_e','sink_epi-jasmonoyl-L-isoleucine','CPD-11259[c]')\n",
    "# removerxn=pvulModel.reactions.get_by_id('sink_CPD-11259_e')\n",
    "# pvulModel.remove_reactions([removerxn])"
   ]
  },
  {
   "cell_type": "code",
   "execution_count": 86,
   "metadata": {},
   "outputs": [],
   "source": [
    "## REMPLAZAR LA RXN SK-HYDROXY-BUTYRATE\n",
    "\n",
    "agregar_sink_rxn('sink_HYDROXY-BUTYRATE_e','sink_hydroxy_butyrate','_4-HYDROXY-BUTYRATE[c]')\n",
    "removerxn=pvulModel.reactions.get_by_id('SK-HYDROXY-BUTYRATE')\n",
    "pvulModel.remove_reactions([removerxn])"
   ]
  },
  {
   "cell_type": "code",
   "execution_count": 82,
   "metadata": {},
   "outputs": [
    {
     "data": {
      "text/html": [
       "\n",
       "        <table>\n",
       "            <tr>\n",
       "                <td><strong>Reaction identifier</strong></td><td>SK_Jasmonic-acids</td>\n",
       "            </tr><tr>\n",
       "                <td><strong>Name</strong></td><td>jasmonic acid sink</td>\n",
       "            </tr><tr>\n",
       "                <td><strong>Memory address</strong></td>\n",
       "                <td>0x147a61a4dc0</td>\n",
       "            </tr><tr>\n",
       "                <td><strong>Stoichiometry</strong></td>\n",
       "                <td>\n",
       "                    <p style='text-align:right'>Jasmonic-Acids[c] <=></p>\n",
       "                    <p style='text-align:right'>jasmonic acid <=></p>\n",
       "                </td>\n",
       "            </tr><tr>\n",
       "                <td><strong>GPR</strong></td><td></td>\n",
       "            </tr><tr>\n",
       "                <td><strong>Lower bound</strong></td><td>-1000</td>\n",
       "            </tr><tr>\n",
       "                <td><strong>Upper bound</strong></td><td>1000</td>\n",
       "            </tr>\n",
       "        </table>\n",
       "        "
      ],
      "text/plain": [
       "<Reaction SK_Jasmonic-acids at 0x147a61a4dc0>"
      ]
     },
     "execution_count": 82,
     "metadata": {},
     "output_type": "execute_result"
    }
   ],
   "source": [
    "## REMPLAZAR LA RXN SK_Jasmonic-Acids[c]\n",
    "\n",
    "pvulModel.add_boundary(pvulModel.metabolites.get_by_id('Jasmonic-Acids[c]'), type='sink', reaction_id='SK_Jasmonic-acids', lb=-1000, ub=1000)\n",
    "#agregar_demand_rxn('demand_Jasmonic-acids_e','demand_Jasmonic-acids','Jasmonic-Acids[c]')\n",
    "# removerxn=pvulModel.reactions.get_by_id('demand_Jasmonic-acids_e')\n",
    "# pvulModel.remove_reactions([removerxn])"
   ]
  },
  {
   "cell_type": "code",
   "execution_count": 64,
   "metadata": {},
   "outputs": [],
   "source": [
    "## REMPLAZAR LA RXN SK_Jasmonoyl-Valines[c]\n",
    "\n",
    "agregar_sink_rxn('sink_Jasmonoyl-Isoleucines_e','sink_Jasmonoyl-isoleuicines','Jasmonoyl-Isoleucines[c]')\n",
    "removerxn=pvulModel.reactions.get_by_id('SK_Jasmonoyl-Valines[c]')\n",
    "pvulModel.remove_reactions([removerxn])"
   ]
  },
  {
   "cell_type": "code",
   "execution_count": 65,
   "metadata": {},
   "outputs": [],
   "source": [
    "##  REMPLAZAR LA RXN SK_Jasmonoyl-Isoleucines[c]\n",
    "agregar_sink_rxn('sink_Jasmonoyl-Valines_e','sink_Jasmonoyl-Valines','Jasmonoyl-Valines[c]')\n",
    "removerxn=pvulModel.reactions.get_by_id('SK_Jasmonoyl-Isoleucines[c]')\n",
    "pvulModel.remove_reactions([removerxn])"
   ]
  },
  {
   "cell_type": "code",
   "execution_count": 48,
   "metadata": {},
   "outputs": [],
   "source": [
    "## REEMPLAZAR LA RXN SK_LINAMARIN[c]\n",
    "agregar_sink_rxn('sink_linamarin_e','sink_linamarin','LINAMARIN[c]')\n",
    "removerxn=pvulModel.reactions.get_by_id(\"SK_LINAMARIN[c]\")\n",
    "pvulModel.remove_reactions([removerxn])"
   ]
  },
  {
   "cell_type": "code",
   "execution_count": 49,
   "metadata": {},
   "outputs": [],
   "source": [
    "## REEMPLAZAR LA RXN SK_lotaustralin[c]\n",
    "\n",
    "agregar_sink_rxn('sink_lotaustralin_e','sink_lotaustralin','lotaustralin[c]')\n",
    "removerxn=pvulModel.reactions.get_by_id(\"SK_lotaustralin[c]\")\n",
    "pvulModel.remove_reactions([removerxn])"
   ]
  },
  {
   "cell_type": "code",
   "execution_count": 36,
   "metadata": {},
   "outputs": [],
   "source": [
    "## REEMPLAZAR LA RXN SK_Jasmonic-Acids[c]\"\n",
    "agregar_sink_rxn('sink_jasmonic-acids_e','sink_jasmonic-acids','Jasmonic-Acids[c]')\n",
    "removerxn=pvulModel.reactions.get_by_id(\"SK_Jasmonic-Acids[c]\")\n",
    "pvulModel.remove_reactions([removerxn])"
   ]
  },
  {
   "cell_type": "code",
   "execution_count": 118,
   "metadata": {},
   "outputs": [],
   "source": [
    "pvulModel.reactions.get_by_id('RXN-5082').upper_bound=1000"
   ]
  },
  {
   "cell_type": "code",
   "execution_count": 119,
   "metadata": {},
   "outputs": [
    {
     "data": {
      "text/html": [
       "<h3>Objective</h3><p>1.0 sink_linamarin_e = 333.3333333333334</p><h4>Uptake</h4><table border=\"1\" class=\"dataframe\">\n",
       "  <thead>\n",
       "    <tr style=\"text-align: right;\">\n",
       "      <th>Metabolite</th>\n",
       "      <th>Reaction</th>\n",
       "      <th>Flux</th>\n",
       "      <th>C-Number</th>\n",
       "      <th>C-Flux</th>\n",
       "    </tr>\n",
       "  </thead>\n",
       "  <tbody>\n",
       "    <tr>\n",
       "      <td>OXYGEN-MOLECULE[e]</td>\n",
       "      <td>EX_OXYGEN-MOLECULE[e]</td>\n",
       "      <td>1000</td>\n",
       "      <td>0</td>\n",
       "      <td>0.00%</td>\n",
       "    </tr>\n",
       "    <tr>\n",
       "      <td>PYRIDOXAL_PHOSPHATE[e]</td>\n",
       "      <td>EX_PYRIDOXAL_PHOSPHATE[e]</td>\n",
       "      <td>90.91</td>\n",
       "      <td>8</td>\n",
       "      <td>11.37%</td>\n",
       "    </tr>\n",
       "    <tr>\n",
       "      <td>SUCROSE[e]</td>\n",
       "      <td>EX_SUCROSE[e]</td>\n",
       "      <td>333.3</td>\n",
       "      <td>12</td>\n",
       "      <td>62.56%</td>\n",
       "    </tr>\n",
       "    <tr>\n",
       "      <td>VAL[e]</td>\n",
       "      <td>EX_VAL[e]</td>\n",
       "      <td>333.3</td>\n",
       "      <td>5</td>\n",
       "      <td>26.07%</td>\n",
       "    </tr>\n",
       "  </tbody>\n",
       "</table><h4>Secretion</h4><table border=\"1\" class=\"dataframe\">\n",
       "  <thead>\n",
       "    <tr style=\"text-align: right;\">\n",
       "      <th>Metabolite</th>\n",
       "      <th>Reaction</th>\n",
       "      <th>Flux</th>\n",
       "      <th>C-Number</th>\n",
       "      <th>C-Flux</th>\n",
       "    </tr>\n",
       "  </thead>\n",
       "  <tbody>\n",
       "    <tr>\n",
       "      <td>BETA-D-FRUCTOSE[e]</td>\n",
       "      <td>EX_BETA-D-FRUCTOSE[e]</td>\n",
       "      <td>-333.3</td>\n",
       "      <td>6</td>\n",
       "      <td>31.28%</td>\n",
       "    </tr>\n",
       "    <tr>\n",
       "      <td>CARBON-DIOXIDE[e]</td>\n",
       "      <td>EX_CARBON-DIOXIDE[e]</td>\n",
       "      <td>-787.9</td>\n",
       "      <td>1</td>\n",
       "      <td>12.32%</td>\n",
       "    </tr>\n",
       "    <tr>\n",
       "      <td>PROTON[e]</td>\n",
       "      <td>EX_PROTON[e]</td>\n",
       "      <td>-666.7</td>\n",
       "      <td>0</td>\n",
       "      <td>0.00%</td>\n",
       "    </tr>\n",
       "    <tr>\n",
       "      <td>Pi[e]</td>\n",
       "      <td>EX_Pi[e]</td>\n",
       "      <td>-90.91</td>\n",
       "      <td>0</td>\n",
       "      <td>0.00%</td>\n",
       "    </tr>\n",
       "    <tr>\n",
       "      <td>SER[e]</td>\n",
       "      <td>EX_SER[e]</td>\n",
       "      <td>-90.91</td>\n",
       "      <td>3</td>\n",
       "      <td>4.27%</td>\n",
       "    </tr>\n",
       "    <tr>\n",
       "      <td>WATER[e]</td>\n",
       "      <td>EX_WATER[e]</td>\n",
       "      <td>-666.7</td>\n",
       "      <td>0</td>\n",
       "      <td>0.00%</td>\n",
       "    </tr>\n",
       "    <tr>\n",
       "      <td>LINAMARIN[c]</td>\n",
       "      <td>sink_linamarin_e</td>\n",
       "      <td>-333.3</td>\n",
       "      <td>10</td>\n",
       "      <td>52.13%</td>\n",
       "    </tr>\n",
       "  </tbody>\n",
       "</table>"
      ],
      "text/plain": [
       "<cobra.summary.model_summary.ModelSummary at 0x147a554f520>"
      ]
     },
     "execution_count": 119,
     "metadata": {},
     "output_type": "execute_result"
    }
   ],
   "source": [
    "pvulModel.objective = 'sink_linamarin_e'\n",
    "pvulModel.summary()"
   ]
  },
  {
   "cell_type": "code",
   "execution_count": 58,
   "metadata": {},
   "outputs": [],
   "source": [
    "def agregar_demand_rxn(id,name,met):\n",
    "    id=Reaction(id)\n",
    "    id.name=name\n",
    "    id.lower_bound=-1000\n",
    "    id.upper_bound=1000\n",
    "    id.add_metabolites({pvulModel.metabolites.get_by_id(met):-1})\n",
    "    id.add_metabolites({pvulModel.metabolites.get_by_id(met):+1})\n",
    "    pvulModel.add_reactions([id])\n"
   ]
  },
  {
   "cell_type": "code",
   "execution_count": 28,
   "metadata": {},
   "outputs": [],
   "source": [
    "def agregar_sink_rxn(id,name,met):\n",
    "    id=Reaction(id)\n",
    "    id.name=name\n",
    "    id.lower_bound=0\n",
    "    id.upper_bound=1000\n",
    "    id.add_metabolites({pvulModel.metabolites.get_by_id(met):-1})\n",
    "    pvulModel.add_reactions([id])\n"
   ]
  },
  {
   "cell_type": "code",
   "execution_count": 104,
   "metadata": {},
   "outputs": [],
   "source": [
    "write_sbml_model(pvulModel,'pvulModel_light2.0.xml')"
   ]
  }
 ],
 "metadata": {
  "kernelspec": {
   "display_name": "CobraPy",
   "language": "python",
   "name": "python3"
  },
  "language_info": {
   "codemirror_mode": {
    "name": "ipython",
    "version": 3
   },
   "file_extension": ".py",
   "mimetype": "text/x-python",
   "name": "python",
   "nbconvert_exporter": "python",
   "pygments_lexer": "ipython3",
   "version": "3.10.9"
  },
  "orig_nbformat": 4
 },
 "nbformat": 4,
 "nbformat_minor": 2
}
