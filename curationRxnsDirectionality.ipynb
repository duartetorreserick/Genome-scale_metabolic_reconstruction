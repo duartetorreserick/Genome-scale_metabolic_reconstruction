{
 "cells": [
  {
   "attachments": {},
   "cell_type": "markdown",
   "metadata": {},
   "source": [
    "### Load SBML model"
   ]
  },
  {
   "cell_type": "code",
   "execution_count": null,
   "metadata": {},
   "outputs": [],
   "source": [
    "from libsbml import *\n",
    "reader = SBMLReader()"
   ]
  },
  {
   "cell_type": "code",
   "execution_count": null,
   "metadata": {},
   "outputs": [],
   "source": [
    "document = reader.readSBML(\"Model_Pvulgaris.sbml\")"
   ]
  },
  {
   "attachments": {},
   "cell_type": "markdown",
   "metadata": {},
   "source": [
    "### Write a txt file with Rxn directionality"
   ]
  },
  {
   "cell_type": "code",
   "execution_count": null,
   "metadata": {},
   "outputs": [],
   "source": [
    "import json\n",
    "dic={}\n",
    "model = document.getModel()\n",
    "for i in model.reactions:\n",
    "    dic[i.name]=i.reversible\n",
    "with open('rxns_directionality.txt', 'w') as convert_file:\n",
    "     convert_file.write(json.dumps(dic))"
   ]
  },
  {
   "attachments": {},
   "cell_type": "markdown",
   "metadata": {},
   "source": [
    "### Read the directionality file "
   ]
  },
  {
   "cell_type": "code",
   "execution_count": null,
   "metadata": {},
   "outputs": [],
   "source": [
    "import json\n",
    "  \n",
    "with open('rxns_directionality.txt') as f:\n",
    "    data = f.read()\n",
    "rxnsDirection = json.loads(data)"
   ]
  },
  {
   "attachments": {},
   "cell_type": "markdown",
   "metadata": {},
   "source": [
    "### Give an upper and lower bound according to reversible [-1000,1000] or irreversible [0,1000]"
   ]
  },
  {
   "cell_type": "code",
   "execution_count": null,
   "metadata": {},
   "outputs": [],
   "source": [
    "notfound={}\n",
    "for key in rxnsDirection:\n",
    "    try:\n",
    "        rxnreplacebnd=modelPvul.reactions.get_by_id(key)\n",
    "        if rxnsDirection[key]:\n",
    "            rxnreplacebnd.bounds=(-1000.0, 1000.0)\n",
    "        else:\n",
    "            rxnreplacebnd.bounds = (0 , 1000.0)\n",
    "    except:\n",
    "        notfound[key]=rxnsDirection[key]\n",
    "    print(rxnreplacebnd.bounds)\n",
    "\n",
    "### may ids are not equal so a not found dictionary was created to check the ids that were not found \n",
    "### Afert identifyng the difference, the ids were adjusted and the model was updated\n",
    "adjusted={}\n",
    "for key in notfound:\n",
    "    adjusted[(\"_\"+key)]=(notfound[key])\n",
    "print(adjusted)\n"
   ]
  },
  {
   "cell_type": "code",
   "execution_count": null,
   "metadata": {},
   "outputs": [],
   "source": [
    "nf={}\n",
    "for key in adjusted:\n",
    "    try:\n",
    "        rxnreplacebnd=modelPvul.reactions.get_by_id(key)\n",
    "        if adjusted[key]:\n",
    "            rxnreplacebnd.bounds=(-1000.0, 1000.0)\n",
    "        else:\n",
    "            rxnreplacebnd.bounds = (0 , 1000.0)\n",
    "    except:\n",
    "        nf[key]=adjusted[key]\n",
    "    print(rxnreplacebnd.bounds)\n"
   ]
  }
 ],
 "metadata": {
  "language_info": {
   "name": "python"
  },
  "orig_nbformat": 4
 },
 "nbformat": 4,
 "nbformat_minor": 2
}
