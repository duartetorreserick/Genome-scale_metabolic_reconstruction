{
 "cells": [
  {
   "attachments": {},
   "cell_type": "markdown",
   "metadata": {},
   "source": [
    "### Create the biomass compound"
   ]
  },
  {
   "cell_type": "code",
   "execution_count": null,
   "metadata": {},
   "outputs": [],
   "source": [
    "# the formula was taken from the biomass metabolite in medModel and araModel\n",
    "Biomass_c = Metabolite(\n",
    "    'Biomass_c',\n",
    "    formula='C39H66O24N3PSK',\n",
    "    name='Biomass_x',\n",
    "    compartment='c')"
   ]
  },
  {
   "attachments": {},
   "cell_type": "markdown",
   "metadata": {},
   "source": [
    "### Create the Biomass reaction"
   ]
  },
  {
   "cell_type": "code",
   "execution_count": null,
   "metadata": {},
   "outputs": [],
   "source": [
    "biomasaRXN=Reaction()\n",
    "biomasaRXN.id = 'BIORXN'\n",
    "biomasaRXN.name = 'Biomass_reaction'\n",
    "biomasaRXN.subsystem = 'c'\n",
    "biomasaRXN.lower_bound = 0.  # This is the default\n",
    "biomasaRXN.upper_bound = 1000.  # This is the default\n",
    "biomasaRXN.add_metabolites({\n",
    "    modelPvul.metabolites.get_by_id('metabolite_ID'): -30,\n",
    "})"
   ]
  }
 ],
 "metadata": {
  "kernelspec": {
   "display_name": "CobraPy",
   "language": "python",
   "name": "python3"
  },
  "language_info": {
   "name": "python",
   "version": "3.10.9"
  },
  "orig_nbformat": 4
 },
 "nbformat": 4,
 "nbformat_minor": 2
}
