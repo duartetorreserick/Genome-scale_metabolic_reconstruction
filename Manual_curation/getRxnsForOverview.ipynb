{
 "cells": [
  {
   "cell_type": "code",
   "execution_count": 1,
   "metadata": {},
   "outputs": [],
   "source": [
    "import cobra\n",
    "from cobra.io import load_model\n",
    "from pathlib import Path\n",
    "from cobra.io import load_json_model, save_json_model, load_matlab_model, save_matlab_model, read_sbml_model, write_sbml_model\n",
    "import logging\n",
    "import pandas as pd\n",
    "from cobra import Model, Reaction, Metabolite\n",
    "from cobra.io import write_sbml_model, validate_sbml_model"
   ]
  },
  {
   "cell_type": "code",
   "execution_count": 2,
   "metadata": {},
   "outputs": [
    {
     "name": "stdout",
     "output_type": "stream",
     "text": [
      "C:\\Users\\duart\\OneDrive\\Documentos\\UNIANDES\\PHASEOLUS LUNATUS\\MODELS\\OTHER_SPECIES\\Phaseolus vulgaris\n"
     ]
    }
   ],
   "source": [
    "%cd C:\\Users\\duart\\OneDrive\\Documentos\\UNIANDES\\PHASEOLUS LUNATUS\\MODELS\\OTHER_SPECIES\\Phaseolus vulgaris\n",
    "pvulModel=read_sbml_model('pvulModelAditionalPathsCT.xml')"
   ]
  },
  {
   "cell_type": "code",
   "execution_count": 4,
   "metadata": {},
   "outputs": [
    {
     "data": {
      "text/html": [
       "\n",
       "        <table>\n",
       "            <tr>\n",
       "                <td><strong>Metabolite identifier</strong></td><td>lotaustralin[c]</td>\n",
       "            </tr><tr>\n",
       "                <td><strong>Name</strong></td><td>lotaustralin</td>\n",
       "            </tr><tr>\n",
       "                <td><strong>Memory address</strong></td>\n",
       "                <td>0x1d6a6491ed0</td>\n",
       "            </tr><tr>\n",
       "                <td><strong>Formula</strong></td><td>C11H19NO6</td>\n",
       "            </tr><tr>\n",
       "                <td><strong>Compartment</strong></td><td>c</td>\n",
       "            </tr><tr>\n",
       "                <td><strong>In 2 reaction(s)</strong></td><td>\n",
       "                    SK_lotaustralin[c], RXN-9643\n",
       "                    </td>\n",
       "            </tr>\n",
       "        </table>"
      ],
      "text/plain": [
       "<Metabolite lotaustralin[c] at 0x1d6a6491ed0>"
      ]
     },
     "execution_count": 4,
     "metadata": {},
     "output_type": "execute_result"
    }
   ],
   "source": [
    "pvulModel.metabolites.get_by_id('lotaustralin[c]')"
   ]
  },
  {
   "cell_type": "code",
   "execution_count": 5,
   "metadata": {},
   "outputs": [],
   "source": [
    "pvulModel.objective = 'RXN-9643'"
   ]
  },
  {
   "cell_type": "code",
   "execution_count": 6,
   "metadata": {},
   "outputs": [],
   "source": [
    "# %%capture\n",
    "# %cd C:\\Users\\duart\\OneDrive\\Documentos\\UNIANDES\\PHASEOLUS LUNATUS\\MODELS\\OTHER_SPECIES\\Medicago truncatula\n",
    "# medModel=read_sbml_model('MedicagoTruncatula_Cobra_model.xml')"
   ]
  },
  {
   "cell_type": "code",
   "execution_count": null,
   "metadata": {},
   "outputs": [],
   "source": [
    "# for i in pvulModel.reactions:\n",
    "#     if len(i.id) > 10 and i.id.startswith('RXN'):\n",
    "#         print(i.id)"
   ]
  },
  {
   "cell_type": "code",
   "execution_count": null,
   "metadata": {},
   "outputs": [],
   "source": [
    "for i in pvulModel.reactions:\n",
    "    if len(i.id) > 10 and i.id.startswith('RXN'):\n",
    "        first=i.id.find('-')\n",
    "        second=i.id.find('-',first+1)\n",
    "        newID=i.id[:second]\n",
    "        print(newID)\n",
    "    elif '-RXN-' in i.id:\n",
    "        indexRXN=i.id.find('-RXN-')\n",
    "        newID=i.id[:indexRXN+4]\n",
    "        print(newID)\n",
    "    else:\n",
    "        print(i.id)"
   ]
  },
  {
   "cell_type": "code",
   "execution_count": 12,
   "metadata": {},
   "outputs": [],
   "source": [
    "lita=[\"EX_ILE[e]\",\n",
    "\"EX_CIT[e]\",\n",
    "\"GAPOXNPHOSPHN-RXN\",\n",
    "\"Trans_EX_GLT[e]\",\n",
    "\"EX_SUCROSE[e]\",\n",
    "\"FORMALDEHYDE-DEHYDROGENASE-RXN\",\n",
    "\"FRUCTOKINASE-RXN\",\n",
    "\"EX_GLN[e]\",\n",
    "\"EX_GLT[e]\",\n",
    "\"GLU6PDEHYDROG-RXN-ALPHA-GLC-6-P/NADP//D-6-P-GLUCONO-DELTA-LACTONE/NADPH/PROTON.61.\",\n",
    "\"_6PGLUCONOLACT-RXN\",\n",
    "\"ALANINE-AMINOTRANSFERASE-RXN\",\n",
    "\"ISOCITDEH-RXN\",\n",
    "\"RXN-14047\",\n",
    "\"RXN66-526-D-glucopyranose-6-phosphate/WATER//GLC/Pi.42.\",\n",
    "\"RXN-9636\",\n",
    "\"RXN-9641\",\n",
    "\"sink_lotaustralin_e\",\n",
    "\"RXN-9639\",\n",
    "\"EX_WATER[e]\",\n",
    "\"\",\n",
    "\"Trans_EX_WATER[e]\",\n",
    "\"ADENYL-KIN-RXN\",\n",
    "\"PGLUCISOM-RXN\",\n",
    "\"EX_L-ALPHA-ALANINE[e]\",\n",
    "\"PGLUCISOM-RXN-ALPHA-GLC-6-P//FRUCTOSE-6P.27.\",\n",
    "\"Trans_EX_GLN[e]\",\n",
    "\"_1TRANSKETO-RXN\",\n",
    "\"SUCROSE-SYNTHASE-RXN\",\n",
    "\"Trans_EX_SUCROSE[e]\",\n",
    "\"GLUTAMINESYN-RXN\",\n",
    "\"RXN-9952\",\n",
    "\"PEPSYNTH-RXN\",\n",
    "\"Trans_EX_L-ALPHA-ALANINE[e]\",\n",
    "\"Trans_EX_CIT[e]\",\n",
    "\"PYRNUTRANSHYDROGEN-RXN\",\n",
    "\"Trans_EX_ILE[e]\",\n",
    "\"RXN-9640\",\n",
    "\"RXN-9643\",\n",
    "\"RXN-9638\",\n",
    "\"RXN-9642\"\n",
    "]"
   ]
  },
  {
   "cell_type": "code",
   "execution_count": 13,
   "metadata": {},
   "outputs": [
    {
     "name": "stdout",
     "output_type": "stream",
     "text": [
      "EX_ILE[e]\n",
      "EX_CIT[e]\n",
      "GAPOXNPHOSPHN-RXN\n",
      "Trans_EX_GLT[e]\n",
      "EX_SUCROSE[e]\n",
      "FORMALDEHYDE-DEHYDROGENASE-RXN\n",
      "FRUCTOKINASE-RXN\n",
      "EX_GLN[e]\n",
      "EX_GLT[e]\n",
      "GLU6PDEHYDROG-RXN\n",
      "_6PGLUCONOLACT-RXN\n",
      "ALANINE-AMINOTRANSFERASE-RXN\n",
      "ISOCITDEH-RXN\n",
      "RXN-14047\n",
      "RXN66-526\n",
      "RXN-9636\n",
      "RXN-9641\n",
      "sink_lotaustralin_e\n",
      "RXN-9639\n",
      "EX_WATER[e]\n",
      "\n",
      "Trans_EX_WATER[e]\n",
      "ADENYL-KIN-RXN\n",
      "PGLUCISOM-RXN\n",
      "EX_L-ALPHA-ALANINE[e]\n",
      "PGLUCISOM-RXN\n",
      "Trans_EX_GLN[e]\n",
      "_1TRANSKETO-RXN\n",
      "SUCROSE-SYNTHASE-RXN\n",
      "Trans_EX_SUCROSE[e]\n",
      "GLUTAMINESYN-RXN\n",
      "RXN-9952\n",
      "PEPSYNTH-RXN\n",
      "Trans_EX_L-ALPHA-ALANINE[e]\n",
      "Trans_EX_CIT[e]\n",
      "PYRNUTRANSHYDROGEN-RXN\n",
      "Trans_EX_ILE[e]\n",
      "RXN-9640\n",
      "RXN-9643\n",
      "RXN-9638\n",
      "RXN-9642\n"
     ]
    }
   ],
   "source": [
    "for i in lita:\n",
    "    if len(i) > 10 and i.startswith('RXN'):\n",
    "        first=i.find('-')\n",
    "        second=i.find('-',first+1)\n",
    "        newID=i[:second]\n",
    "        print(newID)\n",
    "    elif '-RXN-' in i:\n",
    "        indexRXN=i.find('-RXN-')\n",
    "        newID=i[:indexRXN+4]\n",
    "        print(newID)\n",
    "    else:\n",
    "        print(i)"
   ]
  }
 ],
 "metadata": {
  "kernelspec": {
   "display_name": "Python 3",
   "language": "python",
   "name": "python3"
  },
  "language_info": {
   "codemirror_mode": {
    "name": "ipython",
    "version": 3
   },
   "file_extension": ".py",
   "mimetype": "text/x-python",
   "name": "python",
   "nbconvert_exporter": "python",
   "pygments_lexer": "ipython3",
   "version": "3.10.9"
  },
  "orig_nbformat": 4
 },
 "nbformat": 4,
 "nbformat_minor": 2
}
