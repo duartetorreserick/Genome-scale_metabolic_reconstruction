{
 "cells": [
  {
   "attachments": {},
   "cell_type": "markdown",
   "id": "63a931f2",
   "metadata": {},
   "source": [
    "### Import Libraries"
   ]
  },
  {
   "cell_type": "code",
   "execution_count": null,
   "id": "ddb2122a",
   "metadata": {},
   "outputs": [],
   "source": [
    "import cobra\n",
    "from cobra.io import load_model\n",
    "from pathlib import Path\n",
    "from cobra.io import load_json_model, save_json_model, load_matlab_model, save_matlab_model, read_sbml_model, write_sbml_model\n",
    "import loggingasadasdd"
   ]
  },
  {
   "attachments": {},
   "cell_type": "markdown",
   "id": "17f92b54",
   "metadata": {},
   "source": [
    "### Model load"
   ]
  },
  {
   "cell_type": "code",
   "execution_count": null,
   "id": "f78721bf",
   "metadata": {},
   "outputs": [],
   "source": [
    "modelPvul = read_sbml_model(str(\"Model_Pvulgaris_CYC.sbml\"))"
   ]
  },
  {
   "attachments": {},
   "cell_type": "markdown",
   "id": "a8ed5dff",
   "metadata": {},
   "source": [
    "### Print list of metabolites-no-formula"
   ]
  },
  {
   "cell_type": "code",
   "execution_count": null,
   "id": "f46cd504",
   "metadata": {},
   "outputs": [],
   "source": [
    "count=0\n",
    "metsNotFormula=[]\n",
    "for met in modelPvul.metabolites:\n",
    "    if met.formula == \"\":\n",
    "        count+=1\n",
    "        print(met.id)\n",
    "        metsNotFormula.append(met.id)\n",
    "        #print(modelPvul.metabolites.get_by_id(met.id).reactions)\n",
    "print(count)"
   ]
  },
  {
   "attachments": {},
   "cell_type": "markdown",
   "id": "dfe06c3d",
   "metadata": {},
   "source": [
    "### Chemical formula filling"
   ]
  },
  {
   "cell_type": "code",
   "execution_count": null,
   "id": "ebab6a3d",
   "metadata": {},
   "outputs": [],
   "source": [
    "### Example of chemical formula filling\n",
    "modelPvul.metabolites.get_by_id(\"_14-alpha-methylsteroids_c\").formula = \"C20H33X\"\n",
    "modelPvul.metabolites.get_by_id(\"Red-NADPH-Hemoprotein-Reductases_c\").formula = \"C12H11N4O2X\"\n",
    "modelPvul.metabolites.get_by_id(\"_14a-Hydroxymethylsteroids_c\").formula = \"C20H33OX\"\n",
    "modelPvul.metabolites.get_by_id(\"Ox-NADPH-Hemoprotein-Reductases_c\").formula = \"C12H9N4O2X\""
   ]
  },
  {
   "attachments": {},
   "cell_type": "markdown",
   "id": "bc258610",
   "metadata": {},
   "source": [
    "### Check number of atoms of compounds in reactions and mass balance"
   ]
  },
  {
   "cell_type": "code",
   "execution_count": null,
   "id": "9ac0c559",
   "metadata": {},
   "outputs": [],
   "source": [
    "for metabolite, coefficient in r._metabolites.items():\n",
    "    print(str(metabolite) + \": \" + str(metabolite.elements))\n",
    "    \n",
    "r.check_mass_balance()"
   ]
  },
  {
   "attachments": {},
   "cell_type": "markdown",
   "id": "4aeae680",
   "metadata": {},
   "source": [
    "### Chemical formula filling with a dictionary from MetaCyc service \n"
   ]
  },
  {
   "cell_type": "code",
   "execution_count": null,
   "id": "d68598a2",
   "metadata": {},
   "outputs": [],
   "source": [
    "# You must have a dataframe where shows the Metacyc ID and Kegg ID, along with chemical formula taken from another GEM obtained with kegg. With this table you\n",
    "# can proceed to substitute the chemical formula of the metabolites in the model with the ones in the table.\n",
    "translate=pd.read_csv('meta_kegg_formula')\n",
    "translate.drop(columns=translate.columns[0])\n",
    "\n"
   ]
  },
  {
   "cell_type": "code",
   "execution_count": null,
   "id": "735ae01d",
   "metadata": {},
   "outputs": [],
   "source": [
    "notrecog=[]\n",
    "for i in range(len(translate)):\n",
    "    for j in range(len(metsNotFormula)):\n",
    "        c=(translate.iloc[i]['Metacyc']+'_c')\n",
    "        if c == metsNotFormula[j]:\n",
    "            print(c)\n",
    "            formula=translate.iloc[i]['Formula']\n",
    "            formula=str(formula)\n",
    "            #print(c + '  '  + formula)\n",
    "            last=formula[-1]\n",
    "            sublast=formula[-2]\n",
    "            if last=='R':\n",
    "                forlen=len(formula)\n",
    "                formula = formula.replace(formula[forlen-1:],'X')\n",
    "                modelPvul.metabolites.get_by_id(c).formula = formula\n",
    "                #print(c + '  '  + formula)\n",
    "            elif sublast=='R':\n",
    "                forlen=len(formula)\n",
    "                formula = formula.replace(formula[forlen-2:],'X')\n",
    "                modelPvul.metabolites.get_by_id(c).formula = formula\n",
    "                #print(c + '  '  + formula)\n",
    "            else:\n",
    "                modelPvul.metabolites.get_by_id(c).formula = formula"
   ]
  },
  {
   "attachments": {},
   "cell_type": "markdown",
   "id": "1059fa7b",
   "metadata": {},
   "source": [
    "### Retrieve unbalanced reactions"
   ]
  },
  {
   "cell_type": "code",
   "execution_count": null,
   "id": "ba539e28",
   "metadata": {},
   "outputs": [],
   "source": [
    "count=0\n",
    "for i in modelPvul.reactions:\n",
    "    if i.check_mass_balance() !={}:\n",
    "        print(i.id)\n",
    "        count+=1\n",
    "print(count)"
   ]
  },
  {
   "attachments": {},
   "cell_type": "markdown",
   "id": "337fc5d0",
   "metadata": {},
   "source": [
    "### Check mass balance of reactions associated to a certain compound"
   ]
  },
  {
   "cell_type": "code",
   "execution_count": null,
   "id": "3a7606d1",
   "metadata": {},
   "outputs": [],
   "source": [
    "\n",
    "conteobln=0\n",
    "conteo=0\n",
    "for i in modelPvul.metabolites.get_by_id(\"ACP_c\").reactions:\n",
    "    conteo+=1\n",
    "    if i.check_mass_balance() !={}:\n",
    "        print('==============UNBALANCED RXNS============' + i.id + '\\n')\n",
    "        conteobln+=1\n",
    "        mb=i.check_mass_balance()\n",
    "        for metabolite, coefficient in i._metabolites.items():\n",
    "            print(str(metabolite) + \": \" + str(metabolite.elements))\n",
    "        print(\"___________________MASS BALANCE   \"+str(mb))\n",
    "\n",
    "print('DESBALANCEADO = ' +str(conteobln) )            \n",
    "print('BALANCEADO = '+ str(conteo-conteobln))"
   ]
  }
 ],
 "metadata": {
  "language_info": {
   "name": "python"
  }
 },
 "nbformat": 4,
 "nbformat_minor": 5
}
